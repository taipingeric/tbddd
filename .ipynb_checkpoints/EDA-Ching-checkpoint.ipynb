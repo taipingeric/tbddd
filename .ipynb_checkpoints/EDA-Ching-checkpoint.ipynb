{
 "cells": [
  {
   "cell_type": "code",
   "execution_count": 1,
   "metadata": {
    "collapsed": true
   },
   "outputs": [],
   "source": [
    "import pandas as pd\n",
    "import numpy as np\n",
    "import matplotlib\n",
    "import matplotlib.pyplot as plt\n",
    "import math\n",
    "import numpy as np\n",
    "import datetime\n",
    "%matplotlib inline\n",
    "plt.rcParams['font.family'] = ['SimHei'] #  set font for chinese in matplotlib figure"
   ]
  },
  {
   "cell_type": "code",
   "execution_count": 2,
   "metadata": {
    "collapsed": true
   },
   "outputs": [],
   "source": [
    "df_policy_raw = pd.read_csv('../Tbrain_Insurance/policy_claim/policy_0702.csv')\n",
    "df_claim_raw = pd.read_csv('../Tbrain_Insurance/policy_claim/claim_0702.csv')\n",
    "df_training_raw = pd.read_csv('../Tbrain_Insurance/training-set.csv')\n",
    "df_testing_raw = pd.read_csv('../Tbrain_Insurance/testing-set.csv')\n",
    "df_policy = df_policy_raw \n",
    "df_claim = df_claim_raw \n",
    "df_training = df_training_raw\n",
    "df_testing = df_testing_raw\n",
    "pd.set_option('display.max_columns', None)"
   ]
  },
  {
   "cell_type": "markdown",
   "metadata": {},
   "source": [
    "# Policy File\n",
    "shape  (1747942, 41)"
   ]
  },
  {
   "cell_type": "code",
   "execution_count": null,
   "metadata": {
    "collapsed": true
   },
   "outputs": [],
   "source": [
    "df_policy.shape"
   ]
  },
  {
   "cell_type": "code",
   "execution_count": null,
   "metadata": {
    "collapsed": true
   },
   "outputs": [],
   "source": [
    "# Policy_Number\t保單號碼 \n",
    "# Insured's_ID\t被保險人代號(替代值) \n",
    "# Prior_Policy_Number\t前保單號     almost == Cancellation =='Y'\n",
    "# Cancellation\t非繼承自前保單        almost match \"Prior_policy Number, only #12 w/o cancellation\n",
    "# Vehicle_identifier\t車牌號碼 \n",
    "# Vehicle_Make_and_Model1\t廠牌名稱一 \n",
    "# Vehicle_Make_and_Model2\t廠牌名稱二\n",
    "# Manafactured_Year_and_Month\t製造年份 \n",
    "# Engine_Displacement_(Cubic_Centimeter)\t排氣量 \n",
    "# Imported_or_Domestic_Car\t車系代號\n",
    "# Coding_of_Vehicle_Branding_&_Type\t廠牌車型代號\n",
    "# qpt\t乘載數量 \n",
    "# fpt\t乘載單位 \n",
    "# Main_Insurance_Coverage_Group\t險種分類 \n",
    "# Insurance_Coverage\t險種代碼\n",
    "# Insured_Amount1\t保額一 \n",
    "# Insured_Amount2\t保額二 \n",
    "# Insured_Amount3\t保額三\n",
    "# Coverage_Deductible_if_applied\t自負額 \n",
    "# Premium\t簽單保費 \n",
    "# Replacement_cost_of_insured_vehicle\t重置成本\n",
    "# Distribution_Channel\t主通路代號 \n",
    "# Multiple_Products_with_TmNewa_(Yes_or_No?)\t同一車主前一年度非車險保單件數\n",
    "# lia_class\t車責本期級數 \n",
    "# plia_acc\t車責賠款係數 \n",
    "# pdmg_acc\t車體賠款係數 \n",
    "# fassured\t被保險人性質\n",
    "# ibirth\t出生日期 \n",
    "# fsex\t性別 \n",
    "# fmarriage\t婚姻狀況 \n",
    "# aassured_zip\t郵遞區號\n",
    "# iply_area\t承保地區代號(分公司) \n",
    "# dbirth\t要保人出生日期 \n",
    "# fequipment1\t配備-音響註記 \n",
    "# fequipment2\t配備-車箱註記 \n",
    "# fequipment3\t配備-冷凍機組註記 \n",
    "# fequipment4\t配備-車框、車斗註記 \n",
    "# fequipment5\t配備-昇降系統註記 \n",
    "# fequipment6\t配備-電動車電池註記\n",
    "# fequipment9\t配備-其他 \n",
    "# nequipment9\t配備-其他說明"
   ]
  },
  {
   "cell_type": "markdown",
   "metadata": {},
   "source": [
    "# Policy NAN column"
   ]
  },
  {
   "cell_type": "code",
   "execution_count": null,
   "metadata": {
    "collapsed": true,
    "scrolled": false
   },
   "outputs": [],
   "source": [
    "# Prior_Policy_Number    328557\n",
    "# Vehicle_identifier           513\n",
    "# ibirth                              317765  (275,820 法人 + 41,945 nan) 合理判斷 fsex = nan -> 法人\n",
    "# fsex                               41945    -> fill ' '\n",
    "# fmarriage                          41945    -> fill ' '\n",
    "# dbirth                            258932\n",
    "nan_count = df_policy.isnull().sum()\n",
    "nan_count[nan_count > 0]/df_policy.shape[0]     "
   ]
  },
  {
   "cell_type": "code",
   "execution_count": null,
   "metadata": {
    "collapsed": true
   },
   "outputs": [],
   "source": [
    "cond1 = df_policy['fsex']==' '\n",
    "cond2 = df_policy['ibirth'].notnull()\n",
    "cond = cond1 & cond2 \n",
    "df_policy[cond].shape[0]   \n",
    "# 1:男 \n",
    "# 2:女 \n",
    "# 空白:法人 (275,832)      275,820 比沒有ibirth, 有12筆有 ibirth\n",
    "# 4. nan unknown (41,945) 都沒有ibirth\n",
    "df_policy[cond]"
   ]
  },
  {
   "cell_type": "markdown",
   "metadata": {
    "scrolled": true
   },
   "source": [
    "# Policy_Number 保單號碼"
   ]
  },
  {
   "cell_type": "code",
   "execution_count": null,
   "metadata": {
    "collapsed": true
   },
   "outputs": [],
   "source": [
    "df_policy['Policy_Number'].nunique() # 351273 unique value"
   ]
  },
  {
   "cell_type": "code",
   "execution_count": null,
   "metadata": {
    "collapsed": true,
    "scrolled": true
   },
   "outputs": [],
   "source": [
    "df_policy['Policy_Number'].value_counts().value_counts().sort_index().plot(kind='bar') # 保單號碼count 分佈"
   ]
  },
  {
   "cell_type": "markdown",
   "metadata": {},
   "source": [
    "# Insured's_ID 被保險人代號(替代值)"
   ]
  },
  {
   "cell_type": "code",
   "execution_count": null,
   "metadata": {
    "collapsed": true
   },
   "outputs": [],
   "source": [
    "insured_ID_count = df_policy['Insured\\'s_ID'].value_counts() #.value_counts()\n",
    "# insured_ID_count[insured_ID_count > 18].plot(kind='bar')\n",
    "print(insured_ID_count.describe()) # Insured's_ID\n",
    "insured_ID_count.head(10)"
   ]
  },
  {
   "cell_type": "code",
   "execution_count": null,
   "metadata": {
    "collapsed": true
   },
   "outputs": [],
   "source": [
    "insured_ID_count.value_counts()[insured_ID_count.value_counts() > 50].sort_index().plot(kind='bar') # insured_ID_count 次數分佈"
   ]
  },
  {
   "cell_type": "markdown",
   "metadata": {},
   "source": [
    "# Prior_Policy_Number 前保單號"
   ]
  },
  {
   "cell_type": "code",
   "execution_count": null,
   "metadata": {
    "collapsed": true
   },
   "outputs": [],
   "source": [
    "# is null: not null =  328557 : 1419385\n",
    "df_policy['Prior_Policy_Number'].isnull().value_counts()"
   ]
  },
  {
   "cell_type": "code",
   "execution_count": null,
   "metadata": {
    "collapsed": true
   },
   "outputs": [],
   "source": [
    "df_policy['Prior_Policy_Number'].value_counts().describe()"
   ]
  },
  {
   "cell_type": "code",
   "execution_count": null,
   "metadata": {
    "collapsed": true
   },
   "outputs": [],
   "source": [
    "df_policy['Prior_Policy_Number'].value_counts().value_counts().sort_index().plot(kind='bar')"
   ]
  },
  {
   "cell_type": "markdown",
   "metadata": {},
   "source": [
    "# Cancellation 非繼承自前保單\n",
    "Ｙ：是 空白：否"
   ]
  },
  {
   "cell_type": "code",
   "execution_count": null,
   "metadata": {
    "collapsed": true
   },
   "outputs": [],
   "source": [
    "df_policy['Cancellation'].value_counts().plot(kind='bar')"
   ]
  },
  {
   "cell_type": "code",
   "execution_count": null,
   "metadata": {
    "collapsed": true
   },
   "outputs": [],
   "source": [
    "df_policy['lia_class'].value_counts().plot(kind='bar')"
   ]
  },
  {
   "cell_type": "code",
   "execution_count": null,
   "metadata": {
    "collapsed": true
   },
   "outputs": [],
   "source": [
    "cond1 = df_policy['Cancellation']=='Y'\n",
    "cond2 = df_policy['Cancellation']==' '\n",
    "\n",
    "plt.figure(figsize=(15,3))\n",
    "plt.subplot(1,2,1)\n",
    "df_policy[cond1]['lia_class'].value_counts().sort_index().plot(kind='bar')\n",
    "plt.subplot(1,2,2)\n",
    "df_policy[cond2]['lia_class'].value_counts().sort_index().plot(kind='bar')"
   ]
  },
  {
   "cell_type": "markdown",
   "metadata": {},
   "source": [
    "# Vehicle_identifier 車牌號碼"
   ]
  },
  {
   "cell_type": "code",
   "execution_count": null,
   "metadata": {
    "collapsed": true
   },
   "outputs": [],
   "source": [
    "df_policy['Vehicle_identifier'].value_counts()"
   ]
  },
  {
   "cell_type": "code",
   "execution_count": null,
   "metadata": {
    "collapsed": true
   },
   "outputs": [],
   "source": [
    "df_policy[df_policy['Vehicle_identifier'] == 'd6889b6bc4c1ebacf94fef34aec655ab35186d80']"
   ]
  },
  {
   "cell_type": "code",
   "execution_count": null,
   "metadata": {
    "collapsed": true
   },
   "outputs": [],
   "source": [
    "df_policy['Vehicle_identifier'].value_counts().value_counts().sort_index().plot(kind='bar') # Vehicle_identifier count distribution"
   ]
  },
  {
   "cell_type": "markdown",
   "metadata": {},
   "source": [
    "# Vehicle_Make_and_Model1, Vehicle_Make_and_Model2 廠牌名稱"
   ]
  },
  {
   "cell_type": "code",
   "execution_count": null,
   "metadata": {
    "collapsed": true
   },
   "outputs": [],
   "source": [
    "# df_policy['Vehicle_Make_and_Model1'].value_counts() # length: 136\n",
    "# df_policy['Vehicle_Make_and_Model2'].value_counts() # length: 8112"
   ]
  },
  {
   "cell_type": "code",
   "execution_count": null,
   "metadata": {
    "collapsed": true
   },
   "outputs": [],
   "source": [
    "df_policy['Vehicle_Make_and_Model1'].value_counts().plot(kind='bar')"
   ]
  },
  {
   "cell_type": "code",
   "execution_count": null,
   "metadata": {
    "collapsed": true
   },
   "outputs": [],
   "source": [
    "df_policy['Vehicle_Make_and_Model1'].value_counts().value_counts().sort_index().plot(kind='hist')"
   ]
  },
  {
   "cell_type": "code",
   "execution_count": null,
   "metadata": {
    "collapsed": true
   },
   "outputs": [],
   "source": [
    "df_policy['Vehicle_Make_and_Model2'].value_counts().describe()\n",
    "# .value_counts().sort_index().plot(kind='bar')"
   ]
  },
  {
   "cell_type": "code",
   "execution_count": null,
   "metadata": {
    "collapsed": true
   },
   "outputs": [],
   "source": [
    "Vehicle_Make_and_Model2_count = df_policy['Vehicle_Make_and_Model2'].value_counts()\n",
    "Vehicle_Make_and_Model2_count[Vehicle_Make_and_Model2_count > 100].plot(kind='bar')"
   ]
  },
  {
   "cell_type": "markdown",
   "metadata": {},
   "source": [
    "# Manafactured_Year_and_Month 製造年份"
   ]
  },
  {
   "cell_type": "code",
   "execution_count": null,
   "metadata": {
    "collapsed": true
   },
   "outputs": [],
   "source": [
    "plt.figure(figsize=(20,1))\n",
    "df_policy['Manafactured_Year_and_Month'].value_counts().sort_index().plot(kind='bar')"
   ]
  },
  {
   "cell_type": "code",
   "execution_count": null,
   "metadata": {
    "collapsed": true
   },
   "outputs": [],
   "source": [
    "# df_policy[df_policy['Manafactured_Year_and_Month'] < 1960]"
   ]
  },
  {
   "cell_type": "markdown",
   "metadata": {},
   "source": [
    "# Engine_Displacement_(Cubic_Centimeter) 排氣量"
   ]
  },
  {
   "cell_type": "code",
   "execution_count": null,
   "metadata": {
    "collapsed": true,
    "scrolled": true
   },
   "outputs": [],
   "source": [
    "# 前50大排氣量\n",
    "plt.figure(figsize=(20,2))\n",
    "df_policy['Engine_Displacement_(Cubic_Centimeter)'].value_counts().head(50).sort_index().plot(kind='bar')"
   ]
  },
  {
   "cell_type": "markdown",
   "metadata": {},
   "source": [
    "## Imported_or_Domestic_Car : 車系代號"
   ]
  },
  {
   "cell_type": "code",
   "execution_count": null,
   "metadata": {
    "collapsed": true
   },
   "outputs": [],
   "source": [
    "# 10\t國產車 77%\n",
    "# 20\t美國車  1%\n",
    "# 21\t福特\n",
    "# 22\t通用\n",
    "# 23\t克萊斯勒\n",
    "# 24\t美規日車 1%\n",
    "# 30\t歐洲車 12.5%\n",
    "# 40\t日本車 7.7%\n",
    "# 50\t韓國車\n",
    "# 90\t其它\n",
    "\n",
    "# counts\n",
    "# df_car.groupby('Imported_or_Domestic_Car').count()\n",
    "# 10    1346381\n",
    "# 20      15375\n",
    "# 21        858\n",
    "# 22        207\n",
    "# 23         29\n",
    "# 24      14459\n",
    "# 30     218102\n",
    "# 40     134929\n",
    "# 50      12249\n",
    "# 90       5353\n",
    "\n",
    "# car_types = sorted(df_policy['Imported_or_Domestic_Car'].unique()) # [10, 20, 21, 22, 23, 24, 30, 40, 50, 90]\n",
    "\n",
    "# for b in sorted(set(df_policy['Imported_or_Domestic_Car'])):\n",
    "#     print(b, \"  \", df_policy[df_policy['Imported_or_Domestic_Car'] == b].shape[0] / df_policy.shape[0] * 100, \"%\")\n",
    "# plt.bar(car_types, df_car['Imported_or_Domestic_Car'].value_counts().sort_index().values)\n",
    "df_policy['Imported_or_Domestic_Car'].value_counts().sort_index().plot(kind='bar')"
   ]
  },
  {
   "cell_type": "code",
   "execution_count": null,
   "metadata": {
    "collapsed": true
   },
   "outputs": [],
   "source": [
    "#  Imported_or_Domestic_Car 十位數\n",
    "df_car = df_policy[['Imported_or_Domestic_Car']].copy()\n",
    "df_car['car_types'] = (df_car['Imported_or_Domestic_Car'] /10).apply(np.floor)\n",
    "df_car['car_types'].value_counts().sort_index().values\n",
    "plt.bar(sorted(df_car['car_types'].unique()), df_car['car_types'].value_counts().sort_index())"
   ]
  },
  {
   "cell_type": "markdown",
   "metadata": {},
   "source": [
    "# Coding_of_Vehicle_Branding_&_Type 廠牌車型代號"
   ]
  },
  {
   "cell_type": "code",
   "execution_count": null,
   "metadata": {
    "collapsed": true
   },
   "outputs": [],
   "source": [
    "# count: 7405\n",
    "car_types = df_policy['Coding_of_Vehicle_Branding_&_Type'].value_counts()\n",
    "print(car_types.describe())\n",
    "car_types[car_types > 1000].plot(kind='bar') # count: 409 car types"
   ]
  },
  {
   "cell_type": "code",
   "execution_count": null,
   "metadata": {
    "collapsed": true
   },
   "outputs": [],
   "source": [
    "# qpt 乘載數量"
   ]
  },
  {
   "cell_type": "code",
   "execution_count": null,
   "metadata": {
    "collapsed": true
   },
   "outputs": [],
   "source": [
    "print(df_policy['qpt'].value_counts().sort_index())\n",
    "df_policy['qpt'].value_counts().sort_index().plot(kind='bar')"
   ]
  },
  {
   "cell_type": "code",
   "execution_count": null,
   "metadata": {
    "collapsed": true
   },
   "outputs": [],
   "source": [
    "df_qpt = df_policy['qpt'].value_counts().sort_index()\n",
    "df_qpt[df_qpt.index > 10].sum()  # 2112"
   ]
  },
  {
   "cell_type": "markdown",
   "metadata": {},
   "source": [
    "# fqt 乘載單位"
   ]
  },
  {
   "cell_type": "code",
   "execution_count": null,
   "metadata": {
    "collapsed": true
   },
   "outputs": [],
   "source": [
    "df_policy['fpt'].value_counts()"
   ]
  },
  {
   "cell_type": "markdown",
   "metadata": {},
   "source": [
    "# Main_Insurance_Coverage_Group 險種分類"
   ]
  },
  {
   "cell_type": "code",
   "execution_count": null,
   "metadata": {
    "collapsed": true,
    "scrolled": true
   },
   "outputs": [],
   "source": [
    "df_policy['Main_Insurance_Coverage_Group'].value_counts().plot(kind='bar')\n",
    "df_policy['Main_Insurance_Coverage_Group'].value_counts()"
   ]
  },
  {
   "cell_type": "code",
   "execution_count": null,
   "metadata": {
    "collapsed": true
   },
   "outputs": [],
   "source": [
    "Main_Insurance_Coverage_Group_value_counts = df_policy['Main_Insurance_Coverage_Group'].value_counts()\n",
    "plt.bar(['車責', '車損', '竊盜'], df_policy['Main_Insurance_Coverage_Group'].value_counts().sort_values())\n",
    "df1 = df_policy[df_policy['Main_Insurance_Coverage_Group']=='車責']\n",
    "df2 = df_policy[df_policy['Main_Insurance_Coverage_Group']=='竊盜']\n",
    "df3 = df_policy[df_policy['Main_Insurance_Coverage_Group']=='車損']\n",
    "## 'lia_class'車責本期級數   分級1-19 新戶從4開始 出險（+3) 沒有出險 (-1)  \n",
    "## -1(55%) 0(7.6%) 要怎麼解釋？  \n",
    "\n",
    "# ----->\n",
    "# 解1: -1 0 都當作 1 解2: 當成調整項 +10% x lia_class\n",
    "\n",
    "col = 'lia_class'\n",
    "print('車責',df1[col].shape) #車責 (1253120,)\n",
    "print('竊盜',df2[col].shape) #竊盜 (176809,)\n",
    "print('車損',df3[col].shape) #車損 (318013,)\n",
    "# 車責本期級數\n",
    "print('車責', sorted(set(df1[col])))\n",
    "print('竊盜', sorted(set(df2[col])))\n",
    "print('車損', sorted(set(df3[col])))"
   ]
  },
  {
   "cell_type": "code",
   "execution_count": null,
   "metadata": {
    "collapsed": true,
    "scrolled": false
   },
   "outputs": [],
   "source": [
    "# 車責本期級數 in 險種分類\n",
    "lia_classes = ['車責', '車損', '竊盜']\n",
    "plt.figure(figsize=(10,5))\n",
    "for index, lia_class in enumerate(lia_classes):\n",
    "    lia_class_value_count = df_policy.loc[df_policy['Main_Insurance_Coverage_Group'] == lia_class, 'lia_class'].value_counts().sort_index()\n",
    "    plt.subplot(1,3,index+1)\n",
    "    plt.title(lia_class)\n",
    "    plt.bar(np.arange(len(lia_class_value_count)), lia_class_value_count)\n",
    "    \n",
    "#     for x in sorted(set(df1[col])):\n",
    "#         print(x, df1[df1['lia_class']== x].shape[0]/df1.shape[0]*100)  \n",
    "'''\n",
    "(%)\n",
    "-1  54.632198033707866 \n",
    "0   7.66486848825332 \n",
    "1   9.491189989785495 \n",
    "2   8.888294816138917\n",
    "3   7.6516215526046985\n",
    "4   8.230975485188969\n",
    "5   1.2548678498467825\n",
    "6   0.8911357252298264\n",
    "7   0.6505362614913177\n",
    "8   0.2353326098059244\n",
    "9   0.16678370786516852\n",
    "10  0.09847420837589378\n",
    "11  0.04365104698672114\n",
    "12  0.0400600102145046\n",
    "13  0.022902834525025534\n",
    "14  0.010852911133810011\n",
    "15  0.009576098059244127\n",
    "16  0.007581077630234934\n",
    "17  0.001995020429009193\n",
    "18  0.0040698416751787534\n",
    "19  0.0030324310520939736\n",
    "'''"
   ]
  },
  {
   "cell_type": "markdown",
   "metadata": {},
   "source": [
    "# Insurance_Coverage 險種代碼"
   ]
  },
  {
   "cell_type": "code",
   "execution_count": null,
   "metadata": {
    "collapsed": true,
    "scrolled": true
   },
   "outputs": [],
   "source": [
    "# 險種代碼對應自負額\n",
    "for c in sorted(set(df_policy['Insurance_Coverage'])):\n",
    "    print(c,\" \", set(df_policy[df_policy['Insurance_Coverage'] == c]['Coverage_Deductible_if_applied']) )"
   ]
  },
  {
   "cell_type": "code",
   "execution_count": null,
   "metadata": {
    "collapsed": true
   },
   "outputs": [],
   "source": [
    "plt.figure(figsize=(15,3))\n",
    "plt.subplot(1,3,1)\n",
    "df_policy[df_policy['Main_Insurance_Coverage_Group'] == '車責']['Insurance_Coverage'].value_counts().plot(kind='bar')\n",
    "plt.subplot(1,3,2)\n",
    "df_policy[df_policy['Main_Insurance_Coverage_Group'] == '車損']['Insurance_Coverage'].value_counts().plot(kind='bar')\n",
    "plt.subplot(1,3,3)\n",
    "df_policy[df_policy['Main_Insurance_Coverage_Group'] == '竊盜']['Insurance_Coverage'].value_counts().plot(kind='bar')"
   ]
  },
  {
   "cell_type": "markdown",
   "metadata": {},
   "source": [
    "# Insured_Amount1 Insured_Amount2 Insured_Amount3 保額ㄧ 二 三"
   ]
  },
  {
   "cell_type": "code",
   "execution_count": null,
   "metadata": {
    "collapsed": true
   },
   "outputs": [],
   "source": [
    "plt.figure(figsize=(15,3))\n",
    "plt.subplot(1,3,1)\n",
    "df_policy['Insured_Amount1'].value_counts().sort_index().plot(kind='bar')\n",
    "plt.subplot(1,3,2)\n",
    "df_policy['Insured_Amount2'].value_counts().sort_index().plot(kind='bar')\n",
    "plt.subplot(1,3,3)\n",
    "df_policy['Insured_Amount3'].value_counts().sort_index().plot(kind='bar')"
   ]
  },
  {
   "cell_type": "code",
   "execution_count": null,
   "metadata": {
    "collapsed": true
   },
   "outputs": [],
   "source": [
    "df_policy[['Insured_Amount1', 'Insured_Amount2', 'Insured_Amount3']].sample(20).plot.barh(stacked=True)"
   ]
  },
  {
   "cell_type": "code",
   "execution_count": null,
   "metadata": {
    "collapsed": true,
    "scrolled": true
   },
   "outputs": [],
   "source": [
    "df_policy[['Insured_Amount1', 'Insured_Amount2', 'Insured_Amount3']].hist(bins=20)"
   ]
  },
  {
   "cell_type": "code",
   "execution_count": null,
   "metadata": {
    "collapsed": true
   },
   "outputs": [],
   "source": [
    "df_policy['Insured_Amount1'].describe(), df_policy['Insured_Amount2'].describe(), df_policy['Insured_Amount3'].describe()"
   ]
  },
  {
   "cell_type": "markdown",
   "metadata": {},
   "source": [
    "## Coverage_Deductible_if_applied (自負額) 類別參照:險種分類及自負額說明Sheet"
   ]
  },
  {
   "cell_type": "code",
   "execution_count": null,
   "metadata": {
    "collapsed": true
   },
   "outputs": [],
   "source": [
    "# Coverage_Deductible_if_applied(自負額) value counts\n",
    "\n",
    "# 0   : 90.25%\n",
    "# 10  : 6.4%\n",
    "# 100 : 1.77%\n",
    "# ...\n",
    "# ==\n",
    "# -100000          2\n",
    "# -50000           2\n",
    "# -35000           1\n",
    "# -30000           5\n",
    "# -22455          19\n",
    "# -20000          22\n",
    "# -15000           6\n",
    "# -12455          30\n",
    "# -10000          14\n",
    "# -8000            3\n",
    "# -5000           12\n",
    "# -3000            9\n",
    "# -255            26\n",
    "# -224             1\n",
    "# -155           136\n",
    "# -124             7\n",
    "# -100          1321\n",
    "# -70              4\n",
    "# -50              4\n",
    "# -40             18\n",
    "# -24              1\n",
    "# -20             45\n",
    "# -10           3760\n",
    "# -3               1\n",
    "# -2              98\n",
    "# -1             596\n",
    "#  0         1577591  90.25%\n",
    "#  1           12463\n",
    "#  2            1554\n",
    "#  3              13\n",
    "#  10         112069\n",
    "#  20           1115\n",
    "#  24             25\n",
    "#  40            233\n",
    "#  48              9\n",
    "#  50             81\n",
    "#  70             67\n",
    "#  100         30873\n",
    "#  124           232\n",
    "#  155          2487\n",
    "#  255           192\n",
    "#  3000          276\n",
    "#  5000          318\n",
    "#  7510            7\n",
    "#  8000           54\n",
    "#  10000         384\n",
    "#  12455         939\n",
    "#  15000         304\n",
    "#  20000         204\n",
    "#  22455          78\n",
    "#  30000         216\n",
    "#  50000          12\n",
    "#  100000          3\n",
    "Coverage_Deductible_if_applied_value_counts = df_policy['Coverage_Deductible_if_applied'].value_counts().sort_index()\n",
    "# plt.bar(np.arange(len(Coverage_Deductible_if_applied_value_counts)), Coverage_Deductible_if_applied_value_counts.values)\n",
    "# Coverage_Deductible_if_applied_value_counts.plot.bar()\n",
    "\n",
    "# df_policy['Coverage_Deductible_if_applied'].value_counts().sort_index().plot.bar()\n",
    "plt.figure(figsize=(15,5))\n",
    "plt.subplot(121)\n",
    "Coverage_Deductible_if_applied_value_counts[Coverage_Deductible_if_applied_value_counts < 30000].plot.bar()\n",
    "plt.subplot(122)\n",
    "Coverage_Deductible_if_applied_value_counts[Coverage_Deductible_if_applied_value_counts > 30000].plot.bar()"
   ]
  },
  {
   "cell_type": "code",
   "execution_count": 3,
   "metadata": {},
   "outputs": [
    {
     "name": "stdout",
     "output_type": "stream",
     "text": [
      "5118\n",
      "0.35144186706423897 %\n"
     ]
    },
    {
     "data": {
      "text/html": [
       "<div>\n",
       "<style>\n",
       "    .dataframe thead tr:only-child th {\n",
       "        text-align: right;\n",
       "    }\n",
       "\n",
       "    .dataframe thead th {\n",
       "        text-align: left;\n",
       "    }\n",
       "\n",
       "    .dataframe tbody tr th {\n",
       "        vertical-align: top;\n",
       "    }\n",
       "</style>\n",
       "<table border=\"1\" class=\"dataframe\">\n",
       "  <thead>\n",
       "    <tr style=\"text-align: right;\">\n",
       "      <th></th>\n",
       "      <th>Policy_Number</th>\n",
       "      <th>Insured's_ID</th>\n",
       "      <th>Prior_Policy_Number</th>\n",
       "      <th>Cancellation</th>\n",
       "      <th>Vehicle_identifier</th>\n",
       "      <th>Vehicle_Make_and_Model1</th>\n",
       "      <th>Vehicle_Make_and_Model2</th>\n",
       "      <th>Manafactured_Year_and_Month</th>\n",
       "      <th>Engine_Displacement_(Cubic_Centimeter)</th>\n",
       "      <th>Imported_or_Domestic_Car</th>\n",
       "      <th>Coding_of_Vehicle_Branding_&amp;_Type</th>\n",
       "      <th>qpt</th>\n",
       "      <th>fpt</th>\n",
       "      <th>Main_Insurance_Coverage_Group</th>\n",
       "      <th>Insurance_Coverage</th>\n",
       "      <th>Insured_Amount1</th>\n",
       "      <th>Insured_Amount2</th>\n",
       "      <th>Insured_Amount3</th>\n",
       "      <th>Coverage_Deductible_if_applied</th>\n",
       "      <th>Premium</th>\n",
       "      <th>Replacement_cost_of_insured_vehicle</th>\n",
       "      <th>Distribution_Channel</th>\n",
       "      <th>Multiple_Products_with_TmNewa_(Yes_or_No?)</th>\n",
       "      <th>lia_class</th>\n",
       "      <th>plia_acc</th>\n",
       "      <th>pdmg_acc</th>\n",
       "      <th>fassured</th>\n",
       "      <th>ibirth</th>\n",
       "      <th>fsex</th>\n",
       "      <th>fmarriage</th>\n",
       "      <th>aassured_zip</th>\n",
       "      <th>iply_area</th>\n",
       "      <th>dbirth</th>\n",
       "      <th>fequipment1</th>\n",
       "      <th>fequipment2</th>\n",
       "      <th>fequipment3</th>\n",
       "      <th>fequipment4</th>\n",
       "      <th>fequipment5</th>\n",
       "      <th>fequipment6</th>\n",
       "      <th>fequipment9</th>\n",
       "      <th>nequipment9</th>\n",
       "    </tr>\n",
       "  </thead>\n",
       "  <tbody>\n",
       "    <tr>\n",
       "      <th>9</th>\n",
       "      <td>15a5e6b7c385d23c01bf4eaa49f310d638d7d3d9</td>\n",
       "      <td>27a85951576aa3af5b9ed77f0015a2af9853488fe</td>\n",
       "      <td>9429254b6bc54ec448c6f7d664b00d04749034d6</td>\n",
       "      <td></td>\n",
       "      <td>8a57375aeaee76be15a11544079e9b6c768a1d1a</td>\n",
       "      <td>7f913cfdeb239c0caed5fb6e4c8a6199ecb339fc</td>\n",
       "      <td>a2237ec5b04868622e576ed20bd7357a452a93d2</td>\n",
       "      <td>2001</td>\n",
       "      <td>2164</td>\n",
       "      <td>24</td>\n",
       "      <td>30050d7802d8098e658166d21bd80dc27422bf20</td>\n",
       "      <td>5.0</td>\n",
       "      <td>P</td>\n",
       "      <td>竊盜</td>\n",
       "      <td>05N</td>\n",
       "      <td>0</td>\n",
       "      <td>0</td>\n",
       "      <td>0</td>\n",
       "      <td>-10</td>\n",
       "      <td>70</td>\n",
       "      <td>93.3</td>\n",
       "      <td>d848c10f78f75a4e2d5828bbba71686f225ce31f</td>\n",
       "      <td>0.0</td>\n",
       "      <td>0</td>\n",
       "      <td>-0.35</td>\n",
       "      <td>0.0</td>\n",
       "      <td>2</td>\n",
       "      <td>NaN</td>\n",
       "      <td>NaN</td>\n",
       "      <td>NaN</td>\n",
       "      <td>78a8efcbaaa1a9a30f9f327aa89d0b6acaaffb03</td>\n",
       "      <td>356a192b7913b04c54574d18c28d46e6395428ab</td>\n",
       "      <td>NaN</td>\n",
       "      <td>0</td>\n",
       "      <td>0</td>\n",
       "      <td>0</td>\n",
       "      <td>0</td>\n",
       "      <td>0</td>\n",
       "      <td>0</td>\n",
       "      <td>0</td>\n",
       "      <td></td>\n",
       "    </tr>\n",
       "    <tr>\n",
       "      <th>11</th>\n",
       "      <td>15a5e6b7c385d23c01bf4eaa49f310d638d7d3d9</td>\n",
       "      <td>27a85951576aa3af5b9ed77f0015a2af9853488fe</td>\n",
       "      <td>9429254b6bc54ec448c6f7d664b00d04749034d6</td>\n",
       "      <td></td>\n",
       "      <td>8a57375aeaee76be15a11544079e9b6c768a1d1a</td>\n",
       "      <td>7f913cfdeb239c0caed5fb6e4c8a6199ecb339fc</td>\n",
       "      <td>a2237ec5b04868622e576ed20bd7357a452a93d2</td>\n",
       "      <td>2001</td>\n",
       "      <td>2164</td>\n",
       "      <td>24</td>\n",
       "      <td>30050d7802d8098e658166d21bd80dc27422bf20</td>\n",
       "      <td>5.0</td>\n",
       "      <td>P</td>\n",
       "      <td>車責</td>\n",
       "      <td>15O</td>\n",
       "      <td>0</td>\n",
       "      <td>0</td>\n",
       "      <td>0</td>\n",
       "      <td>-12455</td>\n",
       "      <td>1879</td>\n",
       "      <td>93.3</td>\n",
       "      <td>d848c10f78f75a4e2d5828bbba71686f225ce31f</td>\n",
       "      <td>0.0</td>\n",
       "      <td>0</td>\n",
       "      <td>-0.35</td>\n",
       "      <td>0.0</td>\n",
       "      <td>2</td>\n",
       "      <td>NaN</td>\n",
       "      <td>NaN</td>\n",
       "      <td>NaN</td>\n",
       "      <td>78a8efcbaaa1a9a30f9f327aa89d0b6acaaffb03</td>\n",
       "      <td>356a192b7913b04c54574d18c28d46e6395428ab</td>\n",
       "      <td>NaN</td>\n",
       "      <td>0</td>\n",
       "      <td>0</td>\n",
       "      <td>0</td>\n",
       "      <td>0</td>\n",
       "      <td>0</td>\n",
       "      <td>0</td>\n",
       "      <td>0</td>\n",
       "      <td></td>\n",
       "    </tr>\n",
       "    <tr>\n",
       "      <th>17</th>\n",
       "      <td>15a5e6b7c385d23c01bf4eaa49f310d638d7d3d9</td>\n",
       "      <td>27a85951576aa3af5b9ed77f0015a2af9853488fe</td>\n",
       "      <td>9429254b6bc54ec448c6f7d664b00d04749034d6</td>\n",
       "      <td></td>\n",
       "      <td>8a57375aeaee76be15a11544079e9b6c768a1d1a</td>\n",
       "      <td>7f913cfdeb239c0caed5fb6e4c8a6199ecb339fc</td>\n",
       "      <td>a2237ec5b04868622e576ed20bd7357a452a93d2</td>\n",
       "      <td>2001</td>\n",
       "      <td>2164</td>\n",
       "      <td>24</td>\n",
       "      <td>30050d7802d8098e658166d21bd80dc27422bf20</td>\n",
       "      <td>5.0</td>\n",
       "      <td>P</td>\n",
       "      <td>車損</td>\n",
       "      <td>51O</td>\n",
       "      <td>0</td>\n",
       "      <td>0</td>\n",
       "      <td>0</td>\n",
       "      <td>-2</td>\n",
       "      <td>3406</td>\n",
       "      <td>93.3</td>\n",
       "      <td>d848c10f78f75a4e2d5828bbba71686f225ce31f</td>\n",
       "      <td>0.0</td>\n",
       "      <td>0</td>\n",
       "      <td>-0.35</td>\n",
       "      <td>0.0</td>\n",
       "      <td>2</td>\n",
       "      <td>NaN</td>\n",
       "      <td>NaN</td>\n",
       "      <td>NaN</td>\n",
       "      <td>78a8efcbaaa1a9a30f9f327aa89d0b6acaaffb03</td>\n",
       "      <td>356a192b7913b04c54574d18c28d46e6395428ab</td>\n",
       "      <td>NaN</td>\n",
       "      <td>0</td>\n",
       "      <td>0</td>\n",
       "      <td>0</td>\n",
       "      <td>0</td>\n",
       "      <td>0</td>\n",
       "      <td>0</td>\n",
       "      <td>0</td>\n",
       "      <td></td>\n",
       "    </tr>\n",
       "    <tr>\n",
       "      <th>124</th>\n",
       "      <td>1f2e0fb256c289fc27d728f44a8367c63f46db83</td>\n",
       "      <td>2d9d39a8b4b8555859c3b6f2da7b33996f97e1360</td>\n",
       "      <td>NaN</td>\n",
       "      <td>Y</td>\n",
       "      <td>44513beae481ead247c16a1675c80bbab5036d62</td>\n",
       "      <td>aac0214eaa64ecb117ed7bc2bd04d927fda895b9</td>\n",
       "      <td>a2a2e1ef90a9842f6ad41a240f7d9e6713607158</td>\n",
       "      <td>2002</td>\n",
       "      <td>2461</td>\n",
       "      <td>10</td>\n",
       "      <td>0bfcc29450de153568f3634b41ab3d11591f7ce9</td>\n",
       "      <td>8.0</td>\n",
       "      <td>P</td>\n",
       "      <td>車損</td>\n",
       "      <td>51O</td>\n",
       "      <td>0</td>\n",
       "      <td>0</td>\n",
       "      <td>0</td>\n",
       "      <td>-1</td>\n",
       "      <td>1504</td>\n",
       "      <td>75.7</td>\n",
       "      <td>39005d92752d56310b3a357f42b57f304621689a</td>\n",
       "      <td>0.0</td>\n",
       "      <td>-1</td>\n",
       "      <td>-0.38</td>\n",
       "      <td>0.0</td>\n",
       "      <td>2</td>\n",
       "      <td>NaN</td>\n",
       "      <td>NaN</td>\n",
       "      <td>NaN</td>\n",
       "      <td>425ac6a281919b17c4d550ebeb2a5a130e579c7f</td>\n",
       "      <td>c66c65175fecc3103b3b587be9b5b230889c8628</td>\n",
       "      <td>NaN</td>\n",
       "      <td>0</td>\n",
       "      <td>0</td>\n",
       "      <td>0</td>\n",
       "      <td>0</td>\n",
       "      <td>0</td>\n",
       "      <td>0</td>\n",
       "      <td>0</td>\n",
       "      <td></td>\n",
       "    </tr>\n",
       "    <tr>\n",
       "      <th>771</th>\n",
       "      <td>db86e3707ba7fd9fc1d48f3f888fe66f65d9783c</td>\n",
       "      <td>2705f5fdc2ba60cbb866e7ae9f08779016d87cadf</td>\n",
       "      <td>73eef86f9b0c9e42109de042cc0db3601c21e566</td>\n",
       "      <td></td>\n",
       "      <td>cce3f0c393499108b26a97d238576aa0ff435382</td>\n",
       "      <td>960d139497003852038c328303d92f423e6854c4</td>\n",
       "      <td>896fbf7df2e603ac23885ba7721513575651b9df</td>\n",
       "      <td>2006</td>\n",
       "      <td>1198</td>\n",
       "      <td>10</td>\n",
       "      <td>7deac73b0e0fc6ad01045192a2cf7c321d743270</td>\n",
       "      <td>2.0</td>\n",
       "      <td>P</td>\n",
       "      <td>竊盜</td>\n",
       "      <td>05N</td>\n",
       "      <td>0</td>\n",
       "      <td>0</td>\n",
       "      <td>0</td>\n",
       "      <td>-10</td>\n",
       "      <td>124</td>\n",
       "      <td>39.2</td>\n",
       "      <td>52ee862de32ba73e341b7c6be241b00d4a5c23ee</td>\n",
       "      <td>15.0</td>\n",
       "      <td>0</td>\n",
       "      <td>-0.35</td>\n",
       "      <td>-0.6</td>\n",
       "      <td>2</td>\n",
       "      <td>NaN</td>\n",
       "      <td>NaN</td>\n",
       "      <td>NaN</td>\n",
       "      <td>ecb7937db58ec9dea0c47db88463d85e81143032</td>\n",
       "      <td>356a192b7913b04c54574d18c28d46e6395428ab</td>\n",
       "      <td>NaN</td>\n",
       "      <td>0</td>\n",
       "      <td>0</td>\n",
       "      <td>0</td>\n",
       "      <td>0</td>\n",
       "      <td>0</td>\n",
       "      <td>0</td>\n",
       "      <td>0</td>\n",
       "      <td></td>\n",
       "    </tr>\n",
       "  </tbody>\n",
       "</table>\n",
       "</div>"
      ],
      "text/plain": [
       "                                Policy_Number  \\\n",
       "9    15a5e6b7c385d23c01bf4eaa49f310d638d7d3d9   \n",
       "11   15a5e6b7c385d23c01bf4eaa49f310d638d7d3d9   \n",
       "17   15a5e6b7c385d23c01bf4eaa49f310d638d7d3d9   \n",
       "124  1f2e0fb256c289fc27d728f44a8367c63f46db83   \n",
       "771  db86e3707ba7fd9fc1d48f3f888fe66f65d9783c   \n",
       "\n",
       "                                  Insured's_ID  \\\n",
       "9    27a85951576aa3af5b9ed77f0015a2af9853488fe   \n",
       "11   27a85951576aa3af5b9ed77f0015a2af9853488fe   \n",
       "17   27a85951576aa3af5b9ed77f0015a2af9853488fe   \n",
       "124  2d9d39a8b4b8555859c3b6f2da7b33996f97e1360   \n",
       "771  2705f5fdc2ba60cbb866e7ae9f08779016d87cadf   \n",
       "\n",
       "                          Prior_Policy_Number Cancellation  \\\n",
       "9    9429254b6bc54ec448c6f7d664b00d04749034d6                \n",
       "11   9429254b6bc54ec448c6f7d664b00d04749034d6                \n",
       "17   9429254b6bc54ec448c6f7d664b00d04749034d6                \n",
       "124                                       NaN            Y   \n",
       "771  73eef86f9b0c9e42109de042cc0db3601c21e566                \n",
       "\n",
       "                           Vehicle_identifier  \\\n",
       "9    8a57375aeaee76be15a11544079e9b6c768a1d1a   \n",
       "11   8a57375aeaee76be15a11544079e9b6c768a1d1a   \n",
       "17   8a57375aeaee76be15a11544079e9b6c768a1d1a   \n",
       "124  44513beae481ead247c16a1675c80bbab5036d62   \n",
       "771  cce3f0c393499108b26a97d238576aa0ff435382   \n",
       "\n",
       "                      Vehicle_Make_and_Model1  \\\n",
       "9    7f913cfdeb239c0caed5fb6e4c8a6199ecb339fc   \n",
       "11   7f913cfdeb239c0caed5fb6e4c8a6199ecb339fc   \n",
       "17   7f913cfdeb239c0caed5fb6e4c8a6199ecb339fc   \n",
       "124  aac0214eaa64ecb117ed7bc2bd04d927fda895b9   \n",
       "771  960d139497003852038c328303d92f423e6854c4   \n",
       "\n",
       "                      Vehicle_Make_and_Model2  Manafactured_Year_and_Month  \\\n",
       "9    a2237ec5b04868622e576ed20bd7357a452a93d2                         2001   \n",
       "11   a2237ec5b04868622e576ed20bd7357a452a93d2                         2001   \n",
       "17   a2237ec5b04868622e576ed20bd7357a452a93d2                         2001   \n",
       "124  a2a2e1ef90a9842f6ad41a240f7d9e6713607158                         2002   \n",
       "771  896fbf7df2e603ac23885ba7721513575651b9df                         2006   \n",
       "\n",
       "     Engine_Displacement_(Cubic_Centimeter)  Imported_or_Domestic_Car  \\\n",
       "9                                      2164                        24   \n",
       "11                                     2164                        24   \n",
       "17                                     2164                        24   \n",
       "124                                    2461                        10   \n",
       "771                                    1198                        10   \n",
       "\n",
       "            Coding_of_Vehicle_Branding_&_Type  qpt fpt  \\\n",
       "9    30050d7802d8098e658166d21bd80dc27422bf20  5.0   P   \n",
       "11   30050d7802d8098e658166d21bd80dc27422bf20  5.0   P   \n",
       "17   30050d7802d8098e658166d21bd80dc27422bf20  5.0   P   \n",
       "124  0bfcc29450de153568f3634b41ab3d11591f7ce9  8.0   P   \n",
       "771  7deac73b0e0fc6ad01045192a2cf7c321d743270  2.0   P   \n",
       "\n",
       "    Main_Insurance_Coverage_Group Insurance_Coverage  Insured_Amount1  \\\n",
       "9                              竊盜                05N                0   \n",
       "11                             車責                15O                0   \n",
       "17                             車損                51O                0   \n",
       "124                            車損                51O                0   \n",
       "771                            竊盜                05N                0   \n",
       "\n",
       "     Insured_Amount2  Insured_Amount3  Coverage_Deductible_if_applied  \\\n",
       "9                  0                0                             -10   \n",
       "11                 0                0                          -12455   \n",
       "17                 0                0                              -2   \n",
       "124                0                0                              -1   \n",
       "771                0                0                             -10   \n",
       "\n",
       "     Premium  Replacement_cost_of_insured_vehicle  \\\n",
       "9         70                                 93.3   \n",
       "11      1879                                 93.3   \n",
       "17      3406                                 93.3   \n",
       "124     1504                                 75.7   \n",
       "771      124                                 39.2   \n",
       "\n",
       "                         Distribution_Channel  \\\n",
       "9    d848c10f78f75a4e2d5828bbba71686f225ce31f   \n",
       "11   d848c10f78f75a4e2d5828bbba71686f225ce31f   \n",
       "17   d848c10f78f75a4e2d5828bbba71686f225ce31f   \n",
       "124  39005d92752d56310b3a357f42b57f304621689a   \n",
       "771  52ee862de32ba73e341b7c6be241b00d4a5c23ee   \n",
       "\n",
       "     Multiple_Products_with_TmNewa_(Yes_or_No?)  lia_class  plia_acc  \\\n",
       "9                                           0.0          0     -0.35   \n",
       "11                                          0.0          0     -0.35   \n",
       "17                                          0.0          0     -0.35   \n",
       "124                                         0.0         -1     -0.38   \n",
       "771                                        15.0          0     -0.35   \n",
       "\n",
       "     pdmg_acc  fassured ibirth fsex fmarriage  \\\n",
       "9         0.0         2    NaN  NaN       NaN   \n",
       "11        0.0         2    NaN  NaN       NaN   \n",
       "17        0.0         2    NaN  NaN       NaN   \n",
       "124       0.0         2    NaN  NaN       NaN   \n",
       "771      -0.6         2    NaN  NaN       NaN   \n",
       "\n",
       "                                 aassured_zip  \\\n",
       "9    78a8efcbaaa1a9a30f9f327aa89d0b6acaaffb03   \n",
       "11   78a8efcbaaa1a9a30f9f327aa89d0b6acaaffb03   \n",
       "17   78a8efcbaaa1a9a30f9f327aa89d0b6acaaffb03   \n",
       "124  425ac6a281919b17c4d550ebeb2a5a130e579c7f   \n",
       "771  ecb7937db58ec9dea0c47db88463d85e81143032   \n",
       "\n",
       "                                    iply_area dbirth  fequipment1  \\\n",
       "9    356a192b7913b04c54574d18c28d46e6395428ab    NaN            0   \n",
       "11   356a192b7913b04c54574d18c28d46e6395428ab    NaN            0   \n",
       "17   356a192b7913b04c54574d18c28d46e6395428ab    NaN            0   \n",
       "124  c66c65175fecc3103b3b587be9b5b230889c8628    NaN            0   \n",
       "771  356a192b7913b04c54574d18c28d46e6395428ab    NaN            0   \n",
       "\n",
       "     fequipment2  fequipment3  fequipment4  fequipment5  fequipment6  \\\n",
       "9              0            0            0            0            0   \n",
       "11             0            0            0            0            0   \n",
       "17             0            0            0            0            0   \n",
       "124            0            0            0            0            0   \n",
       "771            0            0            0            0            0   \n",
       "\n",
       "     fequipment9 nequipment9  \n",
       "9              0              \n",
       "11             0              \n",
       "17             0              \n",
       "124            0              \n",
       "771            0              "
      ]
     },
     "execution_count": 3,
     "metadata": {},
     "output_type": "execute_result"
    }
   ],
   "source": [
    "## filter 'Coverage_Deductible_if_applied'<0 -> look for policy number \n",
    "df_ncd = df_policy[df_policy['Coverage_Deductible_if_applied']<0]\n",
    "print(df_ncd['Policy_Number'].nunique())\n",
    "print(df_ncd.shape[0]/df_policy.shape[0]*100, \"%\")\n",
    "df_ncd.head()"
   ]
  },
  {
   "cell_type": "code",
   "execution_count": 4,
   "metadata": {},
   "outputs": [
    {
     "name": "stdout",
     "output_type": "stream",
     "text": [
      "(35570, 41)\n",
      "5118\n"
     ]
    }
   ],
   "source": [
    "## filter 'Coverage_Deductible_if_applied'<0  -> on origianl policy files\n",
    "df_ncd_policy = df_policy.loc[df_policy['Policy_Number'].isin(df_ncd['Policy_Number'])]\n",
    "print(df_ncd_policy.shape)\n",
    "print(df_ncd_policy['Policy_Number'].nunique())"
   ]
  },
  {
   "cell_type": "code",
   "execution_count": 5,
   "metadata": {},
   "outputs": [
    {
     "name": "stdout",
     "output_type": "stream",
     "text": [
      "(5118, 23)\n"
     ]
    },
    {
     "data": {
      "text/html": [
       "<div>\n",
       "<style>\n",
       "    .dataframe thead tr:only-child th {\n",
       "        text-align: right;\n",
       "    }\n",
       "\n",
       "    .dataframe thead th {\n",
       "        text-align: left;\n",
       "    }\n",
       "\n",
       "    .dataframe tbody tr th {\n",
       "        vertical-align: top;\n",
       "    }\n",
       "</style>\n",
       "<table border=\"1\" class=\"dataframe\">\n",
       "  <thead>\n",
       "    <tr style=\"text-align: right;\">\n",
       "      <th></th>\n",
       "      <th>Policy_Number</th>\n",
       "      <th>Premium</th>\n",
       "    </tr>\n",
       "  </thead>\n",
       "  <tbody>\n",
       "    <tr>\n",
       "      <th>0</th>\n",
       "      <td>0013524d5453496a76e4df49515973a78d2f1574</td>\n",
       "      <td>58988</td>\n",
       "    </tr>\n",
       "    <tr>\n",
       "      <th>1</th>\n",
       "      <td>00180ed92ef25140e7099a18c1b04e155435c3da</td>\n",
       "      <td>6577</td>\n",
       "    </tr>\n",
       "    <tr>\n",
       "      <th>2</th>\n",
       "      <td>001c9745715f24e4aea4acbd89c10f13bc633288</td>\n",
       "      <td>11335</td>\n",
       "    </tr>\n",
       "    <tr>\n",
       "      <th>3</th>\n",
       "      <td>002edd52446b93faaab33ae28582895814059c0b</td>\n",
       "      <td>6253</td>\n",
       "    </tr>\n",
       "    <tr>\n",
       "      <th>4</th>\n",
       "      <td>0032a332b813f373910f6931833ac8adcebb46ac</td>\n",
       "      <td>2687</td>\n",
       "    </tr>\n",
       "  </tbody>\n",
       "</table>\n",
       "</div>"
      ],
      "text/plain": [
       "                              Policy_Number  Premium\n",
       "0  0013524d5453496a76e4df49515973a78d2f1574    58988\n",
       "1  00180ed92ef25140e7099a18c1b04e155435c3da     6577\n",
       "2  001c9745715f24e4aea4acbd89c10f13bc633288    11335\n",
       "3  002edd52446b93faaab33ae28582895814059c0b     6253\n",
       "4  0032a332b813f373910f6931833ac8adcebb46ac     2687"
      ]
     },
     "execution_count": 5,
     "metadata": {},
     "output_type": "execute_result"
    }
   ],
   "source": [
    "# sum Premium for these policy_number\n",
    "df_ncd_policy_grouped = df_ncd_policy.groupby('Policy_Number').sum().reset_index()\n",
    "print(df_ncd_policy_grouped.shape)\n",
    "df_ncd_policy_grouped[['Policy_Number', 'Premium']].head()"
   ]
  },
  {
   "cell_type": "code",
   "execution_count": 6,
   "metadata": {},
   "outputs": [
    {
     "name": "stdout",
     "output_type": "stream",
     "text": [
      "(5118, 3)\n"
     ]
    },
    {
     "data": {
      "text/html": [
       "<div>\n",
       "<style>\n",
       "    .dataframe thead tr:only-child th {\n",
       "        text-align: right;\n",
       "    }\n",
       "\n",
       "    .dataframe thead th {\n",
       "        text-align: left;\n",
       "    }\n",
       "\n",
       "    .dataframe tbody tr th {\n",
       "        vertical-align: top;\n",
       "    }\n",
       "</style>\n",
       "<table border=\"1\" class=\"dataframe\">\n",
       "  <thead>\n",
       "    <tr style=\"text-align: right;\">\n",
       "      <th></th>\n",
       "      <th>Policy_Number</th>\n",
       "      <th>Premium</th>\n",
       "      <th>Next_Premium</th>\n",
       "    </tr>\n",
       "  </thead>\n",
       "  <tbody>\n",
       "    <tr>\n",
       "      <th>3102</th>\n",
       "      <td>99e4bd4fed74130f98ee275049b6fbe84602dc59</td>\n",
       "      <td>7218</td>\n",
       "      <td>0.0</td>\n",
       "    </tr>\n",
       "    <tr>\n",
       "      <th>2711</th>\n",
       "      <td>879644273069360323a9f253ba10421f2ee4968c</td>\n",
       "      <td>2159</td>\n",
       "      <td>NaN</td>\n",
       "    </tr>\n",
       "    <tr>\n",
       "      <th>1186</th>\n",
       "      <td>3b92e2da3ded3d2d8a8bfa3b976118271c32054c</td>\n",
       "      <td>10079</td>\n",
       "      <td>0.0</td>\n",
       "    </tr>\n",
       "    <tr>\n",
       "      <th>4791</th>\n",
       "      <td>efa54f72660a642da26cbe3fb9b51ae69b427b1e</td>\n",
       "      <td>10456</td>\n",
       "      <td>NaN</td>\n",
       "    </tr>\n",
       "    <tr>\n",
       "      <th>3306</th>\n",
       "      <td>a37418a5ee525b52d6acc147c626d8531e95081b</td>\n",
       "      <td>2116</td>\n",
       "      <td>0.0</td>\n",
       "    </tr>\n",
       "    <tr>\n",
       "      <th>1906</th>\n",
       "      <td>5fd7b81141574d59781d5c1306b903ad6a234454</td>\n",
       "      <td>4145</td>\n",
       "      <td>NaN</td>\n",
       "    </tr>\n",
       "    <tr>\n",
       "      <th>3849</th>\n",
       "      <td>beed8d0b0f23e21b9bbf67ff36e030f15c22f4b9</td>\n",
       "      <td>15056</td>\n",
       "      <td>0.0</td>\n",
       "    </tr>\n",
       "    <tr>\n",
       "      <th>2703</th>\n",
       "      <td>86e1a8942e10c1343c86320b84117cc82aea3a1a</td>\n",
       "      <td>3165</td>\n",
       "      <td>0.0</td>\n",
       "    </tr>\n",
       "    <tr>\n",
       "      <th>613</th>\n",
       "      <td>1f9c825c47dddc818a2a38617be3d5d508b0d5be</td>\n",
       "      <td>1244</td>\n",
       "      <td>0.0</td>\n",
       "    </tr>\n",
       "    <tr>\n",
       "      <th>4778</th>\n",
       "      <td>ef21f32e5a32dde9e7e340daaa3b72ad6e00c673</td>\n",
       "      <td>1765</td>\n",
       "      <td>NaN</td>\n",
       "    </tr>\n",
       "  </tbody>\n",
       "</table>\n",
       "</div>"
      ],
      "text/plain": [
       "                                 Policy_Number  Premium  Next_Premium\n",
       "3102  99e4bd4fed74130f98ee275049b6fbe84602dc59     7218           0.0\n",
       "2711  879644273069360323a9f253ba10421f2ee4968c     2159           NaN\n",
       "1186  3b92e2da3ded3d2d8a8bfa3b976118271c32054c    10079           0.0\n",
       "4791  efa54f72660a642da26cbe3fb9b51ae69b427b1e    10456           NaN\n",
       "3306  a37418a5ee525b52d6acc147c626d8531e95081b     2116           0.0\n",
       "1906  5fd7b81141574d59781d5c1306b903ad6a234454     4145           NaN\n",
       "3849  beed8d0b0f23e21b9bbf67ff36e030f15c22f4b9    15056           0.0\n",
       "2703  86e1a8942e10c1343c86320b84117cc82aea3a1a     3165           0.0\n",
       "613   1f9c825c47dddc818a2a38617be3d5d508b0d5be     1244           0.0\n",
       "4778  ef21f32e5a32dde9e7e340daaa3b72ad6e00c673     1765           NaN"
      ]
     },
     "execution_count": 6,
     "metadata": {},
     "output_type": "execute_result"
    }
   ],
   "source": [
    "df_ncd_policy_compare = df_ncd_policy_grouped[['Policy_Number','Premium']].merge(df_training, on = ['Policy_Number'], how = 'left')\n",
    "print(df_ncd_policy_compare.shape)\n",
    "df_ncd_policy_compare.sample(10)"
   ]
  },
  {
   "cell_type": "code",
   "execution_count": 7,
   "metadata": {},
   "outputs": [
    {
     "data": {
      "text/html": [
       "<div>\n",
       "<style>\n",
       "    .dataframe thead tr:only-child th {\n",
       "        text-align: right;\n",
       "    }\n",
       "\n",
       "    .dataframe thead th {\n",
       "        text-align: left;\n",
       "    }\n",
       "\n",
       "    .dataframe tbody tr th {\n",
       "        vertical-align: top;\n",
       "    }\n",
       "</style>\n",
       "<table border=\"1\" class=\"dataframe\">\n",
       "  <thead>\n",
       "    <tr style=\"text-align: right;\">\n",
       "      <th></th>\n",
       "      <th>Policy_Number</th>\n",
       "      <th>Premium</th>\n",
       "      <th>Next_Premium</th>\n",
       "      <th>Ratio</th>\n",
       "    </tr>\n",
       "  </thead>\n",
       "  <tbody>\n",
       "    <tr>\n",
       "      <th>4340</th>\n",
       "      <td>d7e286ee3f18337bd4d1022837d463671f9a195c</td>\n",
       "      <td>57431</td>\n",
       "      <td>NaN</td>\n",
       "      <td>NaN</td>\n",
       "    </tr>\n",
       "    <tr>\n",
       "      <th>1438</th>\n",
       "      <td>483d17300681652f2ac6ac8ad22a51ea6ee1f208</td>\n",
       "      <td>7302</td>\n",
       "      <td>NaN</td>\n",
       "      <td>NaN</td>\n",
       "    </tr>\n",
       "    <tr>\n",
       "      <th>2392</th>\n",
       "      <td>77199e3a2ffb585ce6c8175d74a90405775ce61e</td>\n",
       "      <td>4939</td>\n",
       "      <td>0.0</td>\n",
       "      <td>0.000000</td>\n",
       "    </tr>\n",
       "    <tr>\n",
       "      <th>4</th>\n",
       "      <td>0032a332b813f373910f6931833ac8adcebb46ac</td>\n",
       "      <td>2687</td>\n",
       "      <td>0.0</td>\n",
       "      <td>0.000000</td>\n",
       "    </tr>\n",
       "    <tr>\n",
       "      <th>977</th>\n",
       "      <td>30aa1dc9b075929f2e608451b677bb6a20c33788</td>\n",
       "      <td>72853</td>\n",
       "      <td>63892.0</td>\n",
       "      <td>0.876999</td>\n",
       "    </tr>\n",
       "    <tr>\n",
       "      <th>3156</th>\n",
       "      <td>9caff0edd90e5f04bd0b8440b6420f14a2b5e25d</td>\n",
       "      <td>7541</td>\n",
       "      <td>0.0</td>\n",
       "      <td>0.000000</td>\n",
       "    </tr>\n",
       "    <tr>\n",
       "      <th>4509</th>\n",
       "      <td>e0a6697bda23ee9612ecaca881d463e6c04671ad</td>\n",
       "      <td>1962</td>\n",
       "      <td>NaN</td>\n",
       "      <td>NaN</td>\n",
       "    </tr>\n",
       "    <tr>\n",
       "      <th>3893</th>\n",
       "      <td>c17f3f258fb6d480ff15bca2ed6078d412962f1e</td>\n",
       "      <td>12881</td>\n",
       "      <td>0.0</td>\n",
       "      <td>0.000000</td>\n",
       "    </tr>\n",
       "    <tr>\n",
       "      <th>4564</th>\n",
       "      <td>e336104eef9683253e5f9d3c121d596bfd4946b0</td>\n",
       "      <td>16988</td>\n",
       "      <td>0.0</td>\n",
       "      <td>0.000000</td>\n",
       "    </tr>\n",
       "    <tr>\n",
       "      <th>3007</th>\n",
       "      <td>958b19c014425ff588afe0e14bbed5787e749ef7</td>\n",
       "      <td>1152</td>\n",
       "      <td>0.0</td>\n",
       "      <td>0.000000</td>\n",
       "    </tr>\n",
       "  </tbody>\n",
       "</table>\n",
       "</div>"
      ],
      "text/plain": [
       "                                 Policy_Number  Premium  Next_Premium  \\\n",
       "4340  d7e286ee3f18337bd4d1022837d463671f9a195c    57431           NaN   \n",
       "1438  483d17300681652f2ac6ac8ad22a51ea6ee1f208     7302           NaN   \n",
       "2392  77199e3a2ffb585ce6c8175d74a90405775ce61e     4939           0.0   \n",
       "4     0032a332b813f373910f6931833ac8adcebb46ac     2687           0.0   \n",
       "977   30aa1dc9b075929f2e608451b677bb6a20c33788    72853       63892.0   \n",
       "3156  9caff0edd90e5f04bd0b8440b6420f14a2b5e25d     7541           0.0   \n",
       "4509  e0a6697bda23ee9612ecaca881d463e6c04671ad     1962           NaN   \n",
       "3893  c17f3f258fb6d480ff15bca2ed6078d412962f1e    12881           0.0   \n",
       "4564  e336104eef9683253e5f9d3c121d596bfd4946b0    16988           0.0   \n",
       "3007  958b19c014425ff588afe0e14bbed5787e749ef7     1152           0.0   \n",
       "\n",
       "         Ratio  \n",
       "4340       NaN  \n",
       "1438       NaN  \n",
       "2392  0.000000  \n",
       "4     0.000000  \n",
       "977   0.876999  \n",
       "3156  0.000000  \n",
       "4509       NaN  \n",
       "3893  0.000000  \n",
       "4564  0.000000  \n",
       "3007  0.000000  "
      ]
     },
     "execution_count": 7,
     "metadata": {},
     "output_type": "execute_result"
    }
   ],
   "source": [
    "df_ncd_policy_compare['Ratio'] = df_ncd_policy_compare['Next_Premium']/df_ncd_policy_compare['Premium']\n",
    "df_ncd_policy_compare.sample(10)"
   ]
  },
  {
   "cell_type": "code",
   "execution_count": 8,
   "metadata": {},
   "outputs": [
    {
     "name": "stdout",
     "output_type": "stream",
     "text": [
      "not zero: 82\n",
      "zero: 3478\n",
      "nan, not in training: 1558\n",
      "Overall: 5118\n",
      "cancelled in testing % 30.441578741695974\n",
      "not zero in training % : 2.303370786516854\n"
     ]
    }
   ],
   "source": [
    "df_cancel = df_ncd_policy_compare\n",
    "print('not zero:', df_cancel[df_cancel['Next_Premium']>0].shape[0])\n",
    "print('zero:', df_cancel[df_cancel['Next_Premium']==0].shape[0])\n",
    "print('nan, not in training:', df_cancel[df_cancel['Next_Premium'].isnull()].shape[0])\n",
    "print('Overall:',df_cancel['Next_Premium'].shape[0])\n",
    "print('cancelled in testing %', df_cancel[df_cancel['Next_Premium'].isnull()].shape[0]/df_cancel['Next_Premium'].shape[0]*100)\n",
    "print('not zero in training % :', df_cancel[df_cancel['Next_Premium']>0].shape[0]/df_cancel[df_cancel['Next_Premium'].notnull()].shape[0]*100)"
   ]
  },
  {
   "cell_type": "code",
   "execution_count": 9,
   "metadata": {},
   "outputs": [
    {
     "data": {
      "text/html": [
       "<div>\n",
       "<style>\n",
       "    .dataframe thead tr:only-child th {\n",
       "        text-align: right;\n",
       "    }\n",
       "\n",
       "    .dataframe thead th {\n",
       "        text-align: left;\n",
       "    }\n",
       "\n",
       "    .dataframe tbody tr th {\n",
       "        vertical-align: top;\n",
       "    }\n",
       "</style>\n",
       "<table border=\"1\" class=\"dataframe\">\n",
       "  <thead>\n",
       "    <tr style=\"text-align: right;\">\n",
       "      <th></th>\n",
       "      <th>Policy_Number</th>\n",
       "      <th>Premium</th>\n",
       "      <th>Next_Premium</th>\n",
       "      <th>Ratio</th>\n",
       "    </tr>\n",
       "  </thead>\n",
       "  <tbody>\n",
       "    <tr>\n",
       "      <th>3406</th>\n",
       "      <td>a8274c0b66db6dfa573ccdb0b1c0f82d692e2b35</td>\n",
       "      <td>7356</td>\n",
       "      <td>7356.0</td>\n",
       "      <td>1.000000</td>\n",
       "    </tr>\n",
       "    <tr>\n",
       "      <th>1407</th>\n",
       "      <td>471ca0b6d6c1f93603bdc4432fa0862b62c3c91c</td>\n",
       "      <td>11369</td>\n",
       "      <td>10614.0</td>\n",
       "      <td>0.933591</td>\n",
       "    </tr>\n",
       "    <tr>\n",
       "      <th>503</th>\n",
       "      <td>1946070884b7d0de2776fafc956e24f1e7478c62</td>\n",
       "      <td>3405</td>\n",
       "      <td>3405.0</td>\n",
       "      <td>1.000000</td>\n",
       "    </tr>\n",
       "    <tr>\n",
       "      <th>2441</th>\n",
       "      <td>79fa4e49de3b8cb96c4884762428125c0557a0ef</td>\n",
       "      <td>21114</td>\n",
       "      <td>15381.0</td>\n",
       "      <td>0.728474</td>\n",
       "    </tr>\n",
       "    <tr>\n",
       "      <th>5100</th>\n",
       "      <td>ff60d31d91c6a3375f64bd7847451f561219021c</td>\n",
       "      <td>5982</td>\n",
       "      <td>3928.0</td>\n",
       "      <td>0.656637</td>\n",
       "    </tr>\n",
       "    <tr>\n",
       "      <th>1969</th>\n",
       "      <td>62690d0486b4f18782dda33898e3bdb72904f8f0</td>\n",
       "      <td>10799</td>\n",
       "      <td>13862.0</td>\n",
       "      <td>1.283637</td>\n",
       "    </tr>\n",
       "    <tr>\n",
       "      <th>1132</th>\n",
       "      <td>38892d1bb1ad818aedfe438eb6e0480315b33a16</td>\n",
       "      <td>10907</td>\n",
       "      <td>24407.0</td>\n",
       "      <td>2.237737</td>\n",
       "    </tr>\n",
       "    <tr>\n",
       "      <th>3552</th>\n",
       "      <td>af6427f0a9f4df8c8793428be1b9d55e109337e1</td>\n",
       "      <td>3562</td>\n",
       "      <td>3562.0</td>\n",
       "      <td>1.000000</td>\n",
       "    </tr>\n",
       "    <tr>\n",
       "      <th>1206</th>\n",
       "      <td>3cbc0c04442b155d249c13eeb66977b29526642a</td>\n",
       "      <td>2514</td>\n",
       "      <td>2235.0</td>\n",
       "      <td>0.889021</td>\n",
       "    </tr>\n",
       "    <tr>\n",
       "      <th>4147</th>\n",
       "      <td>ce4a55041461fba0d344cc59c232e5b8518c723d</td>\n",
       "      <td>10903</td>\n",
       "      <td>7222.0</td>\n",
       "      <td>0.662386</td>\n",
       "    </tr>\n",
       "  </tbody>\n",
       "</table>\n",
       "</div>"
      ],
      "text/plain": [
       "                                 Policy_Number  Premium  Next_Premium  \\\n",
       "3406  a8274c0b66db6dfa573ccdb0b1c0f82d692e2b35     7356        7356.0   \n",
       "1407  471ca0b6d6c1f93603bdc4432fa0862b62c3c91c    11369       10614.0   \n",
       "503   1946070884b7d0de2776fafc956e24f1e7478c62     3405        3405.0   \n",
       "2441  79fa4e49de3b8cb96c4884762428125c0557a0ef    21114       15381.0   \n",
       "5100  ff60d31d91c6a3375f64bd7847451f561219021c     5982        3928.0   \n",
       "1969  62690d0486b4f18782dda33898e3bdb72904f8f0    10799       13862.0   \n",
       "1132  38892d1bb1ad818aedfe438eb6e0480315b33a16    10907       24407.0   \n",
       "3552  af6427f0a9f4df8c8793428be1b9d55e109337e1     3562        3562.0   \n",
       "1206  3cbc0c04442b155d249c13eeb66977b29526642a     2514        2235.0   \n",
       "4147  ce4a55041461fba0d344cc59c232e5b8518c723d    10903        7222.0   \n",
       "\n",
       "         Ratio  \n",
       "3406  1.000000  \n",
       "1407  0.933591  \n",
       "503   1.000000  \n",
       "2441  0.728474  \n",
       "5100  0.656637  \n",
       "1969  1.283637  \n",
       "1132  2.237737  \n",
       "3552  1.000000  \n",
       "1206  0.889021  \n",
       "4147  0.662386  "
      ]
     },
     "execution_count": 9,
     "metadata": {},
     "output_type": "execute_result"
    }
   ],
   "source": [
    "df_ncd_policy_compare[df_ncd_policy_compare['Ratio']>0].sample(10)"
   ]
  },
  {
   "cell_type": "code",
   "execution_count": 10,
   "metadata": {},
   "outputs": [
    {
     "data": {
      "text/plain": [
       "<matplotlib.axes._subplots.AxesSubplot at 0x103e3dfd0>"
      ]
     },
     "execution_count": 10,
     "metadata": {},
     "output_type": "execute_result"
    },
    {
     "name": "stderr",
     "output_type": "stream",
     "text": [
      "/Users/ching/anaconda3/lib/python3.6/site-packages/matplotlib/font_manager.py:1316: UserWarning: findfont: Font family ['SimHei'] not found. Falling back to DejaVu Sans\n",
      "  (prop.get_family(), self.defaultFamily[fontext]))\n"
     ]
    },
    {
     "data": {
      "image/png": "[encoded data removed]",
      "text/plain": [
       "<matplotlib.figure.Figure at 0x10d14c358>"
      ]
     },
     "metadata": {},
     "output_type": "display_data"
    }
   ],
   "source": [
    "plt.figure(figsize=(15,5))\n",
    "plt.subplot(121)\n",
    "df_ncd_policy_compare[df_ncd_policy_compare['Ratio']>0]['Ratio'].hist(bins = 30)\n",
    "plt.subplot(122)\n",
    "df_ncd_policy_compare[df_ncd_policy_compare['Ratio']>0]['Ratio'].plot.bar()"
   ]
  },
  {
   "cell_type": "code",
   "execution_count": 11,
   "metadata": {},
   "outputs": [
    {
     "name": "stdout",
     "output_type": "stream",
     "text": [
      "(351273, 23)\n",
      "(351273, 3)\n"
     ]
    },
    {
     "data": {
      "text/html": [
       "<div>\n",
       "<style>\n",
       "    .dataframe thead tr:only-child th {\n",
       "        text-align: right;\n",
       "    }\n",
       "\n",
       "    .dataframe thead th {\n",
       "        text-align: left;\n",
       "    }\n",
       "\n",
       "    .dataframe tbody tr th {\n",
       "        vertical-align: top;\n",
       "    }\n",
       "</style>\n",
       "<table border=\"1\" class=\"dataframe\">\n",
       "  <thead>\n",
       "    <tr style=\"text-align: right;\">\n",
       "      <th></th>\n",
       "      <th>Policy_Number</th>\n",
       "      <th>Premium</th>\n",
       "      <th>Next_Premium</th>\n",
       "      <th>Ratio</th>\n",
       "    </tr>\n",
       "  </thead>\n",
       "  <tbody>\n",
       "    <tr>\n",
       "      <th>104629</th>\n",
       "      <td>4c35c554541ece4ab05f0bbede1547147bb7019d</td>\n",
       "      <td>7869</td>\n",
       "      <td>7289.0</td>\n",
       "      <td>0.926293</td>\n",
       "    </tr>\n",
       "    <tr>\n",
       "      <th>150251</th>\n",
       "      <td>6d436c0bbdb38aea4eb3d55362e226139b7a60de</td>\n",
       "      <td>40905</td>\n",
       "      <td>0.0</td>\n",
       "      <td>0.000000</td>\n",
       "    </tr>\n",
       "    <tr>\n",
       "      <th>145362</th>\n",
       "      <td>69baf84fc9d52d24eb26f80e83691a758dc2d738</td>\n",
       "      <td>4117</td>\n",
       "      <td>4170.0</td>\n",
       "      <td>1.012873</td>\n",
       "    </tr>\n",
       "    <tr>\n",
       "      <th>265567</th>\n",
       "      <td>c16f21ea8893cd6ecb2c62af4428186ec57173e2</td>\n",
       "      <td>2807</td>\n",
       "      <td>3093.0</td>\n",
       "      <td>1.101888</td>\n",
       "    </tr>\n",
       "    <tr>\n",
       "      <th>178158</th>\n",
       "      <td>81ade6fa812ca5a0feafe06886cca1bbc960433c</td>\n",
       "      <td>13196</td>\n",
       "      <td>10432.0</td>\n",
       "      <td>0.790543</td>\n",
       "    </tr>\n",
       "    <tr>\n",
       "      <th>170547</th>\n",
       "      <td>7c17ed31323d08b40be534e0104b599c874dc8a2</td>\n",
       "      <td>4870</td>\n",
       "      <td>9472.0</td>\n",
       "      <td>1.944969</td>\n",
       "    </tr>\n",
       "    <tr>\n",
       "      <th>3565</th>\n",
       "      <td>028c04a5a22f28ca9a0a9f2853f78015e65abe5f</td>\n",
       "      <td>7829</td>\n",
       "      <td>0.0</td>\n",
       "      <td>0.000000</td>\n",
       "    </tr>\n",
       "    <tr>\n",
       "      <th>57259</th>\n",
       "      <td>29afb82e910e20ca3e32ba4090dcc2031aff490b</td>\n",
       "      <td>1417</td>\n",
       "      <td>0.0</td>\n",
       "      <td>0.000000</td>\n",
       "    </tr>\n",
       "    <tr>\n",
       "      <th>164016</th>\n",
       "      <td>773e16375c1227ec3c95d366d7015e7746e87d4f</td>\n",
       "      <td>3342</td>\n",
       "      <td>NaN</td>\n",
       "      <td>NaN</td>\n",
       "    </tr>\n",
       "    <tr>\n",
       "      <th>29719</th>\n",
       "      <td>1592690672bc2b7d26e3c71e992aa6a1b30c669b</td>\n",
       "      <td>5882</td>\n",
       "      <td>NaN</td>\n",
       "      <td>NaN</td>\n",
       "    </tr>\n",
       "  </tbody>\n",
       "</table>\n",
       "</div>"
      ],
      "text/plain": [
       "                                   Policy_Number  Premium  Next_Premium  \\\n",
       "104629  4c35c554541ece4ab05f0bbede1547147bb7019d     7869        7289.0   \n",
       "150251  6d436c0bbdb38aea4eb3d55362e226139b7a60de    40905           0.0   \n",
       "145362  69baf84fc9d52d24eb26f80e83691a758dc2d738     4117        4170.0   \n",
       "265567  c16f21ea8893cd6ecb2c62af4428186ec57173e2     2807        3093.0   \n",
       "178158  81ade6fa812ca5a0feafe06886cca1bbc960433c    13196       10432.0   \n",
       "170547  7c17ed31323d08b40be534e0104b599c874dc8a2     4870        9472.0   \n",
       "3565    028c04a5a22f28ca9a0a9f2853f78015e65abe5f     7829           0.0   \n",
       "57259   29afb82e910e20ca3e32ba4090dcc2031aff490b     1417           0.0   \n",
       "164016  773e16375c1227ec3c95d366d7015e7746e87d4f     3342           NaN   \n",
       "29719   1592690672bc2b7d26e3c71e992aa6a1b30c669b     5882           NaN   \n",
       "\n",
       "           Ratio  \n",
       "104629  0.926293  \n",
       "150251  0.000000  \n",
       "145362  1.012873  \n",
       "265567  1.101888  \n",
       "178158  0.790543  \n",
       "170547  1.944969  \n",
       "3565    0.000000  \n",
       "57259   0.000000  \n",
       "164016       NaN  \n",
       "29719        NaN  "
      ]
     },
     "execution_count": 11,
     "metadata": {},
     "output_type": "execute_result"
    }
   ],
   "source": [
    "# sum Premium for these policy_number\n",
    "df_policy_grouped = df_policy.groupby('Policy_Number').sum().reset_index()\n",
    "print(df_policy_grouped.shape)\n",
    "# df_policy_grouped[['Policy_Number', 'Premium']].head()\n",
    "# merge premium and next \n",
    "df_policy_compare = df_policy_grouped[['Policy_Number','Premium']].merge(df_training, on = ['Policy_Number'], how = 'left')\n",
    "print(df_policy_compare.shape)\n",
    "# calc ratio\n",
    "df_policy_compare['Ratio'] = df_policy_compare['Next_Premium']/df_policy_compare['Premium']\n",
    "df_policy_compare.sample(10)"
   ]
  },
  {
   "cell_type": "code",
   "execution_count": 26,
   "metadata": {},
   "outputs": [
    {
     "data": {
      "text/plain": [
       "<matplotlib.axes._subplots.AxesSubplot at 0x118c89828>"
      ]
     },
     "execution_count": 26,
     "metadata": {},
     "output_type": "execute_result"
    },
    {
     "name": "stderr",
     "output_type": "stream",
     "text": [
      "/Users/ching/anaconda3/lib/python3.6/site-packages/matplotlib/font_manager.py:1316: UserWarning: findfont: Font family ['SimHei'] not found. Falling back to DejaVu Sans\n",
      "  (prop.get_family(), self.defaultFamily[fontext]))\n"
     ]
    },
    {
     "data": {
      "image/png": "[encoded data removed]",
      "text/plain": [
       "<matplotlib.figure.Figure at 0x118ea48d0>"
      ]
     },
     "metadata": {},
     "output_type": "display_data"
    }
   ],
   "source": [
    "# plot ratio \n",
    "#plt.figure(figsize=(15,5))plot.subplot(121)\n",
    "# df_policy_compare[['Ratio']].hist(bins = 1000)\n",
    "df_policy_compare[df_policy_compare.Ratio < 2].Ratio.hist(bins = 50)\n",
    "# df_policy_compare[df_policy_compare.Ratio < 2].Ratio.value_counts().sort_index()\n",
    "#plt.subplot(122)\n",
    "#df_policy_compare[['Ratio']].plot.bar()"
   ]
  },
  {
   "cell_type": "code",
   "execution_count": 49,
   "metadata": {
    "collapsed": true
   },
   "outputs": [],
   "source": [
    "df_claim_grouped = df_claim.groupby(['Policy_Number']).sum().reset_index()\n",
    "cond1 = df_claim_grouped['Paid_Loss_Amount']==0\n",
    "cond2 = df_claim_grouped['paid_Expenses_Amount']==0\n",
    "cond3 = df_claim_grouped['Salvage_or_Subrogation?']==0\n",
    "cond = cond1 & cond2 & cond3\n",
    "df_temp = df_claim_grouped[cond][['Policy_Number','Paid_Loss_Amount','paid_Expenses_Amount', 'Salvage_or_Subrogation?', 'Nature_of_the_claim', 'At_Fault?', 'Driver\\'s_Relationship_with_Insured']]"
   ]
  },
  {
   "cell_type": "code",
   "execution_count": 50,
   "metadata": {},
   "outputs": [
    {
     "data": {
      "text/html": [
       "<div>\n",
       "<style>\n",
       "    .dataframe thead tr:only-child th {\n",
       "        text-align: right;\n",
       "    }\n",
       "\n",
       "    .dataframe thead th {\n",
       "        text-align: left;\n",
       "    }\n",
       "\n",
       "    .dataframe tbody tr th {\n",
       "        vertical-align: top;\n",
       "    }\n",
       "</style>\n",
       "<table border=\"1\" class=\"dataframe\">\n",
       "  <thead>\n",
       "    <tr style=\"text-align: right;\">\n",
       "      <th></th>\n",
       "      <th>Policy_Number</th>\n",
       "      <th>Paid_Loss_Amount</th>\n",
       "      <th>paid_Expenses_Amount</th>\n",
       "      <th>Salvage_or_Subrogation?</th>\n",
       "      <th>Nature_of_the_claim</th>\n",
       "      <th>At_Fault?</th>\n",
       "      <th>Driver's_Relationship_with_Insured</th>\n",
       "    </tr>\n",
       "  </thead>\n",
       "  <tbody>\n",
       "    <tr>\n",
       "      <th>21571</th>\n",
       "      <td>9a813e0dbab9d7a43eb1ee036d6ee82cbd68274b</td>\n",
       "      <td>0</td>\n",
       "      <td>0</td>\n",
       "      <td>0</td>\n",
       "      <td>1</td>\n",
       "      <td>0.0</td>\n",
       "      <td>3</td>\n",
       "    </tr>\n",
       "    <tr>\n",
       "      <th>5737</th>\n",
       "      <td>288f5823396d4d2478180dcb518139587a4aac24</td>\n",
       "      <td>0</td>\n",
       "      <td>0</td>\n",
       "      <td>0</td>\n",
       "      <td>1</td>\n",
       "      <td>0.0</td>\n",
       "      <td>1</td>\n",
       "    </tr>\n",
       "    <tr>\n",
       "      <th>338</th>\n",
       "      <td>0294b4179bd68e36701acead4ef1a0521bc4ce1a</td>\n",
       "      <td>0</td>\n",
       "      <td>0</td>\n",
       "      <td>0</td>\n",
       "      <td>2</td>\n",
       "      <td>140.0</td>\n",
       "      <td>10</td>\n",
       "    </tr>\n",
       "    <tr>\n",
       "      <th>20236</th>\n",
       "      <td>91526b259c1c0cc782b129c8d9d1921723cf0c66</td>\n",
       "      <td>0</td>\n",
       "      <td>0</td>\n",
       "      <td>0</td>\n",
       "      <td>1</td>\n",
       "      <td>0.0</td>\n",
       "      <td>2</td>\n",
       "    </tr>\n",
       "    <tr>\n",
       "      <th>20078</th>\n",
       "      <td>90142ca57154d1900614751ee08f90a8bd076d14</td>\n",
       "      <td>0</td>\n",
       "      <td>0</td>\n",
       "      <td>0</td>\n",
       "      <td>1</td>\n",
       "      <td>100.0</td>\n",
       "      <td>2</td>\n",
       "    </tr>\n",
       "    <tr>\n",
       "      <th>9126</th>\n",
       "      <td>4142fc8251a7ac336e7177092a238981c830675b</td>\n",
       "      <td>0</td>\n",
       "      <td>0</td>\n",
       "      <td>0</td>\n",
       "      <td>2</td>\n",
       "      <td>100.0</td>\n",
       "      <td>2</td>\n",
       "    </tr>\n",
       "    <tr>\n",
       "      <th>28653</th>\n",
       "      <td>cc1c301ad684ec3752423e5cc7cfb9daa0167656</td>\n",
       "      <td>0</td>\n",
       "      <td>0</td>\n",
       "      <td>0</td>\n",
       "      <td>1</td>\n",
       "      <td>0.0</td>\n",
       "      <td>1</td>\n",
       "    </tr>\n",
       "    <tr>\n",
       "      <th>8734</th>\n",
       "      <td>3e6960891ca35d256d41ab73d17a7456bd50b4cb</td>\n",
       "      <td>0</td>\n",
       "      <td>0</td>\n",
       "      <td>0</td>\n",
       "      <td>1</td>\n",
       "      <td>0.0</td>\n",
       "      <td>1</td>\n",
       "    </tr>\n",
       "    <tr>\n",
       "      <th>23174</th>\n",
       "      <td>a5b5653af6c283470ffbd5ccabdf48d7aa34decd</td>\n",
       "      <td>0</td>\n",
       "      <td>0</td>\n",
       "      <td>0</td>\n",
       "      <td>2</td>\n",
       "      <td>60.0</td>\n",
       "      <td>6</td>\n",
       "    </tr>\n",
       "    <tr>\n",
       "      <th>1409</th>\n",
       "      <td>0a242362f571e24096f9a427a36492a555c7fc98</td>\n",
       "      <td>0</td>\n",
       "      <td>0</td>\n",
       "      <td>0</td>\n",
       "      <td>1</td>\n",
       "      <td>30.0</td>\n",
       "      <td>1</td>\n",
       "    </tr>\n",
       "  </tbody>\n",
       "</table>\n",
       "</div>"
      ],
      "text/plain": [
       "                                  Policy_Number  Paid_Loss_Amount  \\\n",
       "21571  9a813e0dbab9d7a43eb1ee036d6ee82cbd68274b                 0   \n",
       "5737   288f5823396d4d2478180dcb518139587a4aac24                 0   \n",
       "338    0294b4179bd68e36701acead4ef1a0521bc4ce1a                 0   \n",
       "20236  91526b259c1c0cc782b129c8d9d1921723cf0c66                 0   \n",
       "20078  90142ca57154d1900614751ee08f90a8bd076d14                 0   \n",
       "9126   4142fc8251a7ac336e7177092a238981c830675b                 0   \n",
       "28653  cc1c301ad684ec3752423e5cc7cfb9daa0167656                 0   \n",
       "8734   3e6960891ca35d256d41ab73d17a7456bd50b4cb                 0   \n",
       "23174  a5b5653af6c283470ffbd5ccabdf48d7aa34decd                 0   \n",
       "1409   0a242362f571e24096f9a427a36492a555c7fc98                 0   \n",
       "\n",
       "       paid_Expenses_Amount  Salvage_or_Subrogation?  Nature_of_the_claim  \\\n",
       "21571                     0                        0                    1   \n",
       "5737                      0                        0                    1   \n",
       "338                       0                        0                    2   \n",
       "20236                     0                        0                    1   \n",
       "20078                     0                        0                    1   \n",
       "9126                      0                        0                    2   \n",
       "28653                     0                        0                    1   \n",
       "8734                      0                        0                    1   \n",
       "23174                     0                        0                    2   \n",
       "1409                      0                        0                    1   \n",
       "\n",
       "       At_Fault?  Driver's_Relationship_with_Insured  \n",
       "21571        0.0                                   3  \n",
       "5737         0.0                                   1  \n",
       "338        140.0                                  10  \n",
       "20236        0.0                                   2  \n",
       "20078      100.0                                   2  \n",
       "9126       100.0                                   2  \n",
       "28653        0.0                                   1  \n",
       "8734         0.0                                   1  \n",
       "23174       60.0                                   6  \n",
       "1409        30.0                                   1  "
      ]
     },
     "execution_count": 50,
     "metadata": {},
     "output_type": "execute_result"
    }
   ],
   "source": [
    "df_temp.sample(10)"
   ]
  },
  {
   "cell_type": "code",
   "execution_count": 51,
   "metadata": {},
   "outputs": [
    {
     "data": {
      "text/plain": [
       "0.23178807947019867"
      ]
     },
     "execution_count": 51,
     "metadata": {},
     "output_type": "execute_result"
    }
   ],
   "source": [
    "df_temp = df_temp.merge(df_training, on = 'Policy_Number', how = 'left')\n",
    "df_temp[df_temp['Next_Premium']==0].shape[0]/df_temp[df_temp['Next_Premium'].notnull()].shape[0]"
   ]
  },
  {
   "cell_type": "markdown",
   "metadata": {},
   "source": [
    "# Premium 簽單保費"
   ]
  },
  {
   "cell_type": "code",
   "execution_count": null,
   "metadata": {
    "collapsed": true
   },
   "outputs": [],
   "source": [
    "df_premium = df_policy['Premium']\n",
    "plt.figure(figsize=(30,10))\n",
    "plt.subplot(121)\n",
    "df_premium[df_premium < 20000].hist(bins=1000)\n",
    "plt.subplot(122)\n",
    "df_premium[df_premium > 20000].hist(bins=1000)"
   ]
  },
  {
   "cell_type": "code",
   "execution_count": null,
   "metadata": {
    "collapsed": true
   },
   "outputs": [],
   "source": [
    "df_premium[df_premium < 2500].hist(bins=20)"
   ]
  },
  {
   "cell_type": "code",
   "execution_count": null,
   "metadata": {
    "collapsed": true
   },
   "outputs": [],
   "source": [
    "df_premium.describe()"
   ]
  },
  {
   "cell_type": "markdown",
   "metadata": {},
   "source": [
    "# Replacement_cost_of_insured_vehicle 重置成本"
   ]
  },
  {
   "cell_type": "code",
   "execution_count": null,
   "metadata": {
    "collapsed": true
   },
   "outputs": [],
   "source": [
    "plt.figure(figsize=(15,5))\n",
    "plt.subplot(121)\n",
    "df_policy[df_policy.Replacement_cost_of_insured_vehicle < 750].Replacement_cost_of_insured_vehicle.hist(bins=1000)\n",
    "plt.subplot(122)\n",
    "df_policy[df_policy.Replacement_cost_of_insured_vehicle >= 750].Replacement_cost_of_insured_vehicle.hist(bins=1000)"
   ]
  },
  {
   "cell_type": "code",
   "execution_count": null,
   "metadata": {
    "collapsed": true
   },
   "outputs": [],
   "source": [
    "df_policy[df_policy.Replacement_cost_of_insured_vehicle <= 100].Replacement_cost_of_insured_vehicle.hist(bins=100)"
   ]
  },
  {
   "cell_type": "code",
   "execution_count": null,
   "metadata": {
    "collapsed": true
   },
   "outputs": [],
   "source": [
    "df_policy.Replacement_cost_of_insured_vehicle.describe()"
   ]
  },
  {
   "cell_type": "markdown",
   "metadata": {},
   "source": [
    "# Distribution_Channel 主通路代號"
   ]
  },
  {
   "cell_type": "code",
   "execution_count": null,
   "metadata": {
    "collapsed": true
   },
   "outputs": [],
   "source": [
    "df_Distribution_Channel = df_policy.Distribution_Channel.value_counts()\n",
    "df_Distribution_Channel"
   ]
  },
  {
   "cell_type": "code",
   "execution_count": null,
   "metadata": {
    "collapsed": true,
    "scrolled": false
   },
   "outputs": [],
   "source": [
    "df_Distribution_Channel[df_Distribution_Channel > 2000].plot.bar()"
   ]
  },
  {
   "cell_type": "code",
   "execution_count": null,
   "metadata": {
    "collapsed": true
   },
   "outputs": [],
   "source": [
    "df_Distribution_Channel[df_Distribution_Channel < 2000]"
   ]
  },
  {
   "cell_type": "markdown",
   "metadata": {},
   "source": [
    "# Multiple_Products_with_TmNewa_(Yes_or_No?) 同一車主前一年度非車險保單件數"
   ]
  },
  {
   "cell_type": "code",
   "execution_count": null,
   "metadata": {
    "collapsed": true
   },
   "outputs": [],
   "source": [
    "df_Multiple_Products_with_TmNewa = df_policy['Multiple_Products_with_TmNewa_(Yes_or_No?)']\n",
    "df_Multiple_Products_with_TmNewa[(df_Multiple_Products_with_TmNewa >= 0) & (df_Multiple_Products_with_TmNewa < 5)].hist(bins=10)\n",
    "df_Multiple_Products_with_TmNewa.describe()"
   ]
  },
  {
   "cell_type": "code",
   "execution_count": null,
   "metadata": {
    "collapsed": true
   },
   "outputs": [],
   "source": [
    "# proportions: (0, 0~5, 5~) = 0.89: 0.08: 0.02\n",
    "df_Multiple_Products_with_TmNewa[df_Multiple_Products_with_TmNewa == 0].count() / df_Multiple_Products_with_TmNewa.count() # 0.89\n",
    "df_Multiple_Products_with_TmNewa[(df_Multiple_Products_with_TmNewa > 0) & (df_Multiple_Products_with_TmNewa < 5)].count() / df_Multiple_Products_with_TmNewa.count() # 0.08\n",
    "df_Multiple_Products_with_TmNewa[df_Multiple_Products_with_TmNewa >= 5].count() / df_Multiple_Products_with_TmNewa.count() # 0.02"
   ]
  },
  {
   "cell_type": "markdown",
   "metadata": {},
   "source": [
    "# lia_class 車責本期級數"
   ]
  },
  {
   "cell_type": "code",
   "execution_count": null,
   "metadata": {
    "collapsed": true
   },
   "outputs": [],
   "source": [
    "df_policy['lia_class'].value_counts().sort_index().plot.bar()"
   ]
  },
  {
   "cell_type": "markdown",
   "metadata": {},
   "source": [
    "# plia_acc 車責賠款係數"
   ]
  },
  {
   "cell_type": "code",
   "execution_count": null,
   "metadata": {
    "collapsed": true
   },
   "outputs": [],
   "source": [
    "df_policy['plia_acc'].value_counts().sort_index().plot.bar()"
   ]
  },
  {
   "cell_type": "markdown",
   "metadata": {},
   "source": [
    "# pdmg_acc 車體賠款係數"
   ]
  },
  {
   "cell_type": "code",
   "execution_count": null,
   "metadata": {
    "collapsed": true
   },
   "outputs": [],
   "source": [
    "col = 'pdmg_acc'\n",
    "# print('車責', sorted(set(df1[col])))\n",
    "# print('竊盜', sorted(set(df2[col])))\n",
    "# print('車損', sorted(set(df3[col])))\n",
    "# 車責 [-0.6, -0.4, -0.2, 0.0, 0.2, 0.4, 0.6, 0.8, 1.0, 1.2, 1.6, 2.0, 4.0]\n",
    "# 竊盜 [-0.6, -0.4, -0.2, 0.0, 0.2, 0.4, 0.6, 0.8, 1.0, 1.2, 2.0, 4.0]\n",
    "# 車損 [-0.6, -0.4, -0.2, 0.0, 0.2, 0.4, 0.6, 0.8, 1.0, 1.2, 1.6, 2.0, 4.0]\n",
    "# 竊盜 無 1.6\n",
    "df_policy['pdmg_acc'].value_counts().sort_index().plot.bar()"
   ]
  },
  {
   "cell_type": "markdown",
   "metadata": {},
   "source": [
    "## fassured 被保險人性質\n",
    "1:國內自然人     1427579\n",
    "\n",
    "2:國內法人        317771\n",
    "\n",
    "3:國外自然人     2586\n",
    "\n",
    "4:國外法人\n",
    "\n",
    "5:自然人ID有誤 \n",
    "\n",
    "6:法人ID有誤       6"
   ]
  },
  {
   "cell_type": "code",
   "execution_count": null,
   "metadata": {
    "collapsed": true,
    "scrolled": false
   },
   "outputs": [],
   "source": [
    "df_policy['fassured'].value_counts().plot(kind='bar')"
   ]
  },
  {
   "cell_type": "markdown",
   "metadata": {},
   "source": [
    "## ibirth 出生日期,  dbirth 要保人出生日期"
   ]
  },
  {
   "cell_type": "code",
   "execution_count": null,
   "metadata": {
    "collapsed": true
   },
   "outputs": [],
   "source": [
    "# null count\n",
    "# ibirth                              317765\n",
    "# dbirth                            258932\n",
    "driver = df_policy[['ibirth' , 'dbirth']]\n",
    "condition1 = driver['ibirth'].isnull()    # 18.2 %\n",
    "condition2 = driver['dbirth'].isnull()    # 14.8 %\n",
    "\n",
    "condition3 = driver['ibirth'].notnull()   \n",
    "condition4 = driver['dbirth'].notnull()   \n",
    "\n",
    "\n",
    "driver_0N= driver[condition3&condition4]  # both have values  (81.5%)\n",
    "driver_1N= driver[condition1^condition2]  # missing one (3.9%)\n",
    "driver_2N= driver[condition1|condition2]  # missing both (18.4%)\n",
    "\n",
    "# print(driver_0N.shape[0]/driver.shape[0])\n",
    "# print(driver_1N.shape[0]/driver.shape[0]) \n",
    "# print(driver_2N.shape[0]/driver.shape[0])"
   ]
  },
  {
   "cell_type": "code",
   "execution_count": null,
   "metadata": {
    "collapsed": true
   },
   "outputs": [],
   "source": [
    "plt.figure(figsize=(15,5))\n",
    "(2016 - driver_2N['ibirth'].apply(lambda x: datetime.datetime.strptime(x, '%m/%Y')).dt.year).value_counts().sort_index().plot(kind='bar')"
   ]
  },
  {
   "cell_type": "code",
   "execution_count": null,
   "metadata": {
    "collapsed": true,
    "scrolled": true
   },
   "outputs": [],
   "source": [
    "# ibirth != dbirth\n",
    "indiff = driver_0N[driver_0N['ibirth'] != driver_0N['dbirth']]\n",
    "print(indiff.count()) #75794"
   ]
  },
  {
   "cell_type": "code",
   "execution_count": null,
   "metadata": {
    "collapsed": true
   },
   "outputs": [],
   "source": [
    "# weired dates\n",
    "# 可參考 Accident_Date：出險日期\n",
    "# https://tbrain.trendmicro.com.tw/Discussion/Forum/4\n",
    "### dbirth has some weird date\n",
    "### check non-null data & sort\n",
    "\n",
    "# print(driver['dbirth'].notnull().sum()) # 1489010\n",
    "\n",
    "# a = df_policy[driver['dbirth'].notnull()]['dbirth']\n",
    "# b = sorted(a, key=lambda x: datetime.datetime.strptime(x, '%m/%Y'), reverse = True)\n",
    "# driver_0N.loc[:,'ibirth_date'] = driver_0N.loc[:,'ibirth'].apply(lambda x: datetime.datetime.strptime(x, '%m/%Y'))\n",
    "# driver_0N.loc[:,'dbirth_date'] = driver_0N.loc[:,'dbirth'].apply(lambda x: datetime.datetime.strptime(x, '%m/%Y'))"
   ]
  },
  {
   "cell_type": "code",
   "execution_count": null,
   "metadata": {
    "collapsed": true
   },
   "outputs": [],
   "source": [
    "# len(driver_0N.loc[driver_0N['ibirth_date'] > datetime.datetime.now()]) # 0\n",
    "# len(driver_0N.loc[driver_0N['dbirth_date'] > datetime.datetime.now()]) # 60"
   ]
  },
  {
   "cell_type": "code",
   "execution_count": null,
   "metadata": {
    "collapsed": true
   },
   "outputs": [],
   "source": [
    "driver_0N['dbirth_date'].max(), driver_0N['dbirth_date'].min()  # max: 2658/9/1, min: 1912/2/1"
   ]
  },
  {
   "cell_type": "code",
   "execution_count": null,
   "metadata": {
    "collapsed": true,
    "scrolled": true
   },
   "outputs": [],
   "source": [
    "# (2016 - df_policy['dbirth'].apply(lambda x: datetime.datetime.strptime(x, '%m/%Y')).dt.year).value_counts().sort_index().plot(kind='bar')\n",
    "df_policy['ibirth']"
   ]
  },
  {
   "cell_type": "markdown",
   "metadata": {},
   "source": [
    "# fsex 性別"
   ]
  },
  {
   "cell_type": "code",
   "execution_count": null,
   "metadata": {
    "collapsed": true
   },
   "outputs": [],
   "source": [
    "# 1:男 774390\n",
    "# 2:女 655775\n",
    "# 空白:法人 275832\n",
    "# 空白＋ nan = 317777 ~= (ibirth == NAN)\n",
    "# 4: NAN 41945\n",
    "df_policy['fsex'] = df_policy['fsex'].fillna(4)\n",
    "df_policy['fsex'].value_counts().plot.bar()\n",
    "df_policy['fsex'].value_counts()"
   ]
  },
  {
   "cell_type": "markdown",
   "metadata": {},
   "source": [
    "# fmarriage 婚姻狀況"
   ]
  },
  {
   "cell_type": "code",
   "execution_count": null,
   "metadata": {
    "collapsed": true
   },
   "outputs": [],
   "source": [
    "#1已婚 919849\n",
    "#2未婚 510328\n",
    "#空白: ? 275820 和性別＝法人 數目不完全對上！？\n",
    "# \n",
    "#4:NAN 41945\n",
    "df_policy['fmarriage'] = df_policy['fmarriage'].fillna(4)\n",
    "df_policy['fmarriage'].value_counts().plot.bar()"
   ]
  },
  {
   "cell_type": "markdown",
   "metadata": {},
   "source": [
    "# aassured_zip 郵遞區號"
   ]
  },
  {
   "cell_type": "code",
   "execution_count": null,
   "metadata": {
    "collapsed": true
   },
   "outputs": [],
   "source": [
    "df_aassured_zip = df_policy['aassured_zip'].value_counts()\n",
    "print(df_aassured_zip.describe())\n",
    "threshold = 1000\n",
    "# zip code count > threshold\n",
    "# (郵遞區號iindex數目比例, 筆數佔總比數比例)\n",
    "df_aassured_zip[df_aassured_zip > threshold].count() / df_aassured_zip.count(), df_aassured_zip[df_aassured_zip > threshold].sum() / df_aassured_zip.sum() "
   ]
  },
  {
   "cell_type": "code",
   "execution_count": null,
   "metadata": {
    "collapsed": true
   },
   "outputs": [],
   "source": [
    "df_aassured_zip[df_aassured_zip > 1000].plot.bar()"
   ]
  },
  {
   "cell_type": "markdown",
   "metadata": {},
   "source": [
    "# iply_area 承保地區代號(分公司)"
   ]
  },
  {
   "cell_type": "code",
   "execution_count": null,
   "metadata": {
    "collapsed": true
   },
   "outputs": [],
   "source": [
    "df_policy['iply_area'].value_counts().plot.bar()"
   ]
  },
  {
   "cell_type": "code",
   "execution_count": null,
   "metadata": {
    "collapsed": true
   },
   "outputs": [],
   "source": [
    "# fequipment1 ~ fequipment9, nequipment9\n",
    "# 配備-音響註記\n",
    "# 配備-車箱註記\n",
    "# 配備-冷凍機組註記\n",
    "# 配備-車框、車斗註記\n",
    "# 配備-昇降系統註記\n",
    "# 配備-電動車電池註記\n",
    "# 配備-其他\n",
    "# 配備-其他說明: ['', '', '大包', '5合1影音', '伸尾', '原裝車含配備']\n",
    "plt.figure(figsize=(15,5))\n",
    "columns = [f'fequipment{i}' for i in range(1,7)] + ['fequipment9', 'nequipment9']\n",
    "for i, column in enumerate(columns):\n",
    "    plt.subplot(2,4,i+1)\n",
    "    print(df_policy[column].value_counts())\n",
    "    df_policy[column].value_counts().plot.bar()\n",
    "# [i.replace(' ', '') for i in df_policy['nequipment9'].value_counts().index.values]"
   ]
  },
  {
   "cell_type": "code",
   "execution_count": null,
   "metadata": {
    "collapsed": true
   },
   "outputs": [],
   "source": [
    "## Summary: \n",
    "# '''\n",
    "# 'Insured_Amount1'                             : all postive - >negative\n",
    "# 'Insured_Amount2'                             : all postive - >negative\n",
    "# 'Insured_Amount3'                             : all postive - >negative\n",
    "# 'Coverage_Deductible_if_applied'              : -100000 ~ 10000 -> take abs(Positive)\n",
    "# 'Premium'                                     : all postive - > remain\n",
    "# 'Replacement_cost_of_insured_vehicle'         : 1 ~ 8915  -> negative\n",
    "# 'lia_class'                                   : set {-1, 0, 1, 2, 3, 4, 5, 6, 7, 8, 9, 10, \n",
    "#                                                 11, 12, 13, 14, 15, 16, 17, 18, 19} >10 only 0.16%\n",
    "#                                                 convert to 1+ (x * 10%)\n",
    "\n",
    "# 'plia_acc'                                   : set [-0.38, -0.35, -0.3, -0.2, -0.1, 0.0, 0.1, 0.3, 0.5, 0.7, 0.9, \n",
    "#                                                     1.2, 1.5, 1.8, 2.1, 2.4, 2.8, 3.2, 3.7, 4.2, 4.7]\n",
    "#                                                convert to (1+x)%\n",
    "                                               \n",
    "# 'pdmg_acc'                                   : set {-0.6, -0.4, -0.2, 0, 0.2, 0.4, 0.6, 0.8, 1.0, 1.2, 1.6, 2.0, 4.0}\n",
    "#                                                  convert to (1+x)%                                            \n",
    "                                                \n",
    "# '''"
   ]
  },
  {
   "cell_type": "markdown",
   "metadata": {},
   "source": [
    "# Claim File\n",
    "\n",
    "(69613, 20)\n",
    "\n",
    "Claim_Number\t賠案號碼\n",
    "\n",
    "Nature_of_the_claim\t賠案性質\n",
    "\n",
    "Policy_Number\t保單號碼\n",
    "\n",
    "Driver's_Gender\t肇事駕駛性別\n",
    "\n",
    "Driver's_Relationship_with_Insured\t與被保險人關係\n",
    "\n",
    "DOB_of_Driver\t肇事駕駛出生日\n",
    "\n",
    "Marital_Status_of_Driver\t肇事駕駛婚姻\n",
    "\n",
    "Accident_Date\t出險日期\n",
    "\n",
    "Cause_of_Loss\t出險原因\n",
    "\n",
    "Paid_Loss_Amount\t已決賠款\n",
    "\n",
    "paid_Expenses_Amount\t已決費用\n",
    "\n",
    "Salvage_or_Subrogation?\t追償金額\n",
    "\n",
    "Coverage\t險種代號\n",
    "\n",
    "Vehicle_identifier\t車牌\n",
    "\n",
    "At_Fault?\t肇責比例\n",
    "\n",
    "Claim_Status_(close,_open,_reopen_etc)\t單一險種CLOSE\n",
    "\n",
    "Deductible\t自負額\n",
    "\n",
    "Accident_area\t出險地區\n",
    "\n",
    "number_of_claimants\t事故關係人人數\n",
    "\n",
    "Accident_Time\t出險時間"
   ]
  },
  {
   "cell_type": "markdown",
   "metadata": {},
   "source": [
    "# check Claim NAN"
   ]
  },
  {
   "cell_type": "code",
   "execution_count": null,
   "metadata": {
    "collapsed": true
   },
   "outputs": [],
   "source": [
    "df_claim.isnull().sum()\n",
    "# Vehicle_identifier: 298\n",
    "# At_Fault?: 39"
   ]
  },
  {
   "cell_type": "markdown",
   "metadata": {},
   "source": [
    "## Nature_of_the_claim 賠案性質"
   ]
  },
  {
   "cell_type": "code",
   "execution_count": null,
   "metadata": {
    "collapsed": true
   },
   "outputs": [],
   "source": [
    "# 1: 賠償 63389\n",
    "# 2: 追償 6224\n",
    "df_claim['Nature_of_the_claim'].value_counts().plot(kind='bar')"
   ]
  },
  {
   "cell_type": "markdown",
   "metadata": {},
   "source": [
    "## Driver's_Gender 肇事駕駛性別"
   ]
  },
  {
   "cell_type": "code",
   "execution_count": null,
   "metadata": {
    "collapsed": true
   },
   "outputs": [],
   "source": [
    "# 1: 男 49698\n",
    "# 2: 女 19915\n",
    "df_claim['Driver\\'s_Gender'].value_counts().plot(kind='bar')"
   ]
  },
  {
   "cell_type": "markdown",
   "metadata": {},
   "source": [
    "# Driver's_Relationship_with_Insured 與被保險人關係\n",
    "1:被保險人本人  30134\n",
    "2:被保險人親友 15074\n",
    "3:被保險人員工  8231\n",
    "4:租用被保險車輛  78\n",
    "5:其他,  10130\n",
    "6:配偶, 4654\n",
    "7:子女 1312"
   ]
  },
  {
   "cell_type": "code",
   "execution_count": null,
   "metadata": {
    "collapsed": true
   },
   "outputs": [],
   "source": [
    "df_claim['Driver\\'s_Relationship_with_Insured'].value_counts().plot(kind='bar')"
   ]
  },
  {
   "cell_type": "markdown",
   "metadata": {},
   "source": [
    "# DOB_of_Driver 肇事駕駛生日"
   ]
  },
  {
   "cell_type": "code",
   "execution_count": null,
   "metadata": {
    "collapsed": true,
    "scrolled": true
   },
   "outputs": [],
   "source": [
    "# 年紀分佈\n",
    "plt.figure(figsize=(15,5))\n",
    "(2016 - df_claim['DOB_of_Driver'].apply(lambda x: datetime.datetime.strptime(x, '%m/%Y')).dt.year).value_counts().sort_index().plot(kind='bar')"
   ]
  },
  {
   "cell_type": "markdown",
   "metadata": {},
   "source": [
    "# Marital_Status_of_Driver 肇事駕駛婚姻\n",
    "1: 已婚 52481\n",
    "2: 未婚 17132"
   ]
  },
  {
   "cell_type": "code",
   "execution_count": null,
   "metadata": {
    "collapsed": true
   },
   "outputs": [],
   "source": [
    "df_claim['Marital_Status_of_Driver'].value_counts().plot(kind='bar')"
   ]
  },
  {
   "cell_type": "markdown",
   "metadata": {},
   "source": [
    "##  Accident_Date 出險日期"
   ]
  },
  {
   "cell_type": "code",
   "execution_count": null,
   "metadata": {
    "collapsed": true
   },
   "outputs": [],
   "source": [
    "# 出險日期分佈 近<->遠\n",
    "((datetime.datetime.now() - df_claim['Accident_Date'].apply(lambda x: datetime.datetime.strptime(x, '%Y/%m'))) / np.timedelta64(1, 'M')).value_counts().sort_index().plot(kind='bar')"
   ]
  },
  {
   "cell_type": "code",
   "execution_count": null,
   "metadata": {
    "collapsed": true
   },
   "outputs": [],
   "source": [
    "df_claim['Accident_Date'].apply(lambda x: datetime.datetime.strptime(x, '%Y/%m'))"
   ]
  },
  {
   "cell_type": "markdown",
   "metadata": {},
   "source": [
    "## Cause_of_Loss 出險原因\n",
    "17 kinds"
   ]
  },
  {
   "cell_type": "code",
   "execution_count": null,
   "metadata": {
    "collapsed": true
   },
   "outputs": [],
   "source": [
    "df_claim['Cause_of_Loss'].value_counts().plot(kind='bar')"
   ]
  },
  {
   "cell_type": "markdown",
   "metadata": {},
   "source": [
    "# Paid_Loss_Amount 已決賠款"
   ]
  },
  {
   "cell_type": "code",
   "execution_count": null,
   "metadata": {
    "collapsed": true
   },
   "outputs": [],
   "source": [
    "plt.subplot(1,2,1)\n",
    "# df_claim['Paid_Loss_Amount'].hist()\n",
    "df_claim[df_claim['Paid_Loss_Amount'] < 10000]['Paid_Loss_Amount'].hist(bins=100)\n",
    "plt.subplot(1,2,2)\n",
    "df_claim[df_claim['Paid_Loss_Amount'] >= 1000000]['Paid_Loss_Amount'].hist()"
   ]
  },
  {
   "cell_type": "code",
   "execution_count": null,
   "metadata": {
    "collapsed": true
   },
   "outputs": [],
   "source": [
    "# log(x+1)\n",
    "np.log(df_claim['Paid_Loss_Amount'] + 1).hist()"
   ]
  },
  {
   "cell_type": "markdown",
   "metadata": {},
   "source": [
    "# paid_Expenses_Amount 已決費用"
   ]
  },
  {
   "cell_type": "code",
   "execution_count": null,
   "metadata": {
    "collapsed": true
   },
   "outputs": [],
   "source": [
    "df_claim['paid_Expenses_Amount'].describe()"
   ]
  },
  {
   "cell_type": "code",
   "execution_count": null,
   "metadata": {
    "collapsed": true
   },
   "outputs": [],
   "source": [
    "plt.subplot(121)\n",
    "df_claim['paid_Expenses_Amount'].hist()\n",
    "plt.subplot(122)\n",
    "np.log(df_claim['paid_Expenses_Amount'] +1).hist() # log(x+1)"
   ]
  },
  {
   "cell_type": "code",
   "execution_count": null,
   "metadata": {
    "collapsed": true
   },
   "outputs": [],
   "source": [
    "# Salvage_or_Subrogation? 追償金額\n",
    "plt.subplot(121)\n",
    "df_claim['Salvage_or_Subrogation?'].hist()\n",
    "plt.subplot(122)\n",
    "np.log(df_claim['Salvage_or_Subrogation?'] +1).hist() # log(x+1)"
   ]
  },
  {
   "cell_type": "code",
   "execution_count": null,
   "metadata": {
    "collapsed": true
   },
   "outputs": [],
   "source": [
    "#已決賠款 已決費用 追償金額 \n",
    "#關係？\n",
    "df_claim[['Paid_Loss_Amount','paid_Expenses_Amount', 'Salvage_or_Subrogation?']].head()"
   ]
  },
  {
   "cell_type": "markdown",
   "metadata": {},
   "source": [
    "# Coverage 險種代號"
   ]
  },
  {
   "cell_type": "code",
   "execution_count": null,
   "metadata": {
    "collapsed": true
   },
   "outputs": [],
   "source": [
    "df_claim['Coverage'].value_counts().plot(kind='bar')"
   ]
  },
  {
   "cell_type": "markdown",
   "metadata": {},
   "source": [
    "# Vehicle_identifier 車牌"
   ]
  },
  {
   "cell_type": "code",
   "execution_count": null,
   "metadata": {
    "collapsed": true
   },
   "outputs": [],
   "source": [
    "# 車牌事故數 次數分佈\n",
    "df_claim['Vehicle_identifier'].value_counts().value_counts().plot(kind='bar')"
   ]
  },
  {
   "cell_type": "markdown",
   "metadata": {},
   "source": [
    "# At_Fault? 肇責比例"
   ]
  },
  {
   "cell_type": "code",
   "execution_count": null,
   "metadata": {
    "collapsed": true
   },
   "outputs": [],
   "source": [
    "# 肇事比例分佈\n",
    "df_claim['At_Fault?'].value_counts().sort_index().plot(kind='bar')"
   ]
  },
  {
   "cell_type": "markdown",
   "metadata": {},
   "source": [
    "# Claim_Status_(close,_open,_reopen_etc) 單一險種CLOSE\n",
    "1.已經全部結案: 69604\n",
    "\n",
    "0.尚未全部結案: 9"
   ]
  },
  {
   "cell_type": "code",
   "execution_count": null,
   "metadata": {
    "collapsed": true
   },
   "outputs": [],
   "source": [
    "df_claim['Claim_Status_(close,_open,_reopen_etc)'].value_counts()"
   ]
  },
  {
   "cell_type": "markdown",
   "metadata": {},
   "source": [
    "# Deductible 自負額\n",
    "0: 69163筆"
   ]
  },
  {
   "cell_type": "code",
   "execution_count": null,
   "metadata": {
    "collapsed": true
   },
   "outputs": [],
   "source": [
    "plt.subplot(1,3,1)\n",
    "df_claim['Deductible'].hist(bins=100)\n",
    "plt.subplot(1,3,2)\n",
    "df_claim[df_claim['Deductible'] > 0]['Deductible'].hist(bins=100)\n",
    "plt.subplot(1,3,3)\n",
    "np.log(df_claim[df_claim['Deductible'] > 0]['Deductible']).hist(bins=100)"
   ]
  },
  {
   "cell_type": "code",
   "execution_count": null,
   "metadata": {
    "collapsed": true
   },
   "outputs": [],
   "source": [
    "df_claim[df_claim['Deductible'] < 100]['Deductible'].hist(bins=100)"
   ]
  },
  {
   "cell_type": "code",
   "execution_count": null,
   "metadata": {
    "collapsed": true
   },
   "outputs": [],
   "source": [
    "df_claim['Deductible'].describe()"
   ]
  },
  {
   "cell_type": "markdown",
   "metadata": {},
   "source": [
    "# Accident_area 出險地區 分公司"
   ]
  },
  {
   "cell_type": "code",
   "execution_count": null,
   "metadata": {
    "collapsed": true
   },
   "outputs": [],
   "source": [
    "df_claim['Accident_area'].value_counts().plot(kind='bar')"
   ]
  },
  {
   "cell_type": "markdown",
   "metadata": {},
   "source": [
    "# number_of_claimants 事故關係人人數"
   ]
  },
  {
   "cell_type": "code",
   "execution_count": null,
   "metadata": {
    "collapsed": true
   },
   "outputs": [],
   "source": [
    "plt.subplot(121)\n",
    "df_claim['number_of_claimants'].value_counts().sort_index().plot(kind='bar') # value distribution\n",
    "plt.subplot(122)\n",
    "plt.plot(df_claim['number_of_claimants'].value_counts().sort_index().index.values) # y: raw number of claimants"
   ]
  },
  {
   "cell_type": "markdown",
   "metadata": {},
   "source": [
    "# Accident_Time 出險時間"
   ]
  },
  {
   "cell_type": "code",
   "execution_count": null,
   "metadata": {
    "collapsed": true
   },
   "outputs": [],
   "source": [
    "plt.figure(figsize=(15,1))\n",
    "df_claim['Accident_Time'].value_counts().sort_index().plot(kind='bar')"
   ]
  },
  {
   "cell_type": "code",
   "execution_count": null,
   "metadata": {
    "collapsed": true
   },
   "outputs": [],
   "source": []
  }
 ],
 "metadata": {
  "kernelspec": {
   "display_name": "Python 3",
   "language": "python",
   "name": "python3"
  },
  "language_info": {
   "codemirror_mode": {
    "name": "ipython",
    "version": 3
   },
   "file_extension": ".py",
   "mimetype": "text/x-python",
   "name": "python",
   "nbconvert_exporter": "python",
   "pygments_lexer": "ipython3",
   "version": "3.6.3"
  }
 },
 "nbformat": 4,
 "nbformat_minor": 2
}
