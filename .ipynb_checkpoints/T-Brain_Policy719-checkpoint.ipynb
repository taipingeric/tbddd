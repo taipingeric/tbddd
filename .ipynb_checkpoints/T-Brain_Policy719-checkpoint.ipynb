{
 "cells": [
  {
   "cell_type": "code",
   "execution_count": null,
   "metadata": {
    "collapsed": true
   },
   "outputs": [],
   "source": [
    "import pandas as pd\n",
    "import numpy as np\n",
    "df_policy_raw = pd.read_csv('../Tbrain_Insurance/policy_claim/policy_0702.csv')\n",
    "df_claim_raw = pd.read_csv('../Tbrain_Insurance/policy_claim/claim_0702.csv')\n",
    "df_training_raw = pd.read_csv('../Tbrain_Insurance/training-set.csv')\n",
    "df_testing_raw = pd.read_csv('../Tbrain_Insurance/testing-set.csv')"
   ]
  },
  {
   "cell_type": "code",
   "execution_count": null,
   "metadata": {
    "collapsed": true
   },
   "outputs": [],
   "source": [
    "df_policy = df_policy_raw \n",
    "df_claim = df_claim_raw \n",
    "df_training = df_training_raw\n",
    "df_testing = df_testing_raw"
   ]
  },
  {
   "cell_type": "markdown",
   "metadata": {},
   "source": [
    "## 0. Read Files"
   ]
  },
  {
   "cell_type": "markdown",
   "metadata": {},
   "source": [
    "### policy"
   ]
  },
  {
   "cell_type": "code",
   "execution_count": 2,
   "metadata": {
    "collapsed": true
   },
   "outputs": [],
   "source": [
    "# df_policy = pd.read_csv('../Tbrain_Insurance/policy_claim/policy_0702.csv')"
   ]
  },
  {
   "cell_type": "code",
   "execution_count": 3,
   "metadata": {},
   "outputs": [
    {
     "name": "stdout",
     "output_type": "stream",
     "text": [
      "(1747942, 41)\n",
      "unique: 351273\n"
     ]
    },
    {
     "data": {
      "text/html": [
       "<div>\n",
       "<style>\n",
       "    .dataframe thead tr:only-child th {\n",
       "        text-align: right;\n",
       "    }\n",
       "\n",
       "    .dataframe thead th {\n",
       "        text-align: left;\n",
       "    }\n",
       "\n",
       "    .dataframe tbody tr th {\n",
       "        vertical-align: top;\n",
       "    }\n",
       "</style>\n",
       "<table border=\"1\" class=\"dataframe\">\n",
       "  <thead>\n",
       "    <tr style=\"text-align: right;\">\n",
       "      <th></th>\n",
       "      <th>Policy_Number</th>\n",
       "      <th>Insured's_ID</th>\n",
       "      <th>Prior_Policy_Number</th>\n",
       "      <th>Cancellation</th>\n",
       "      <th>Vehicle_identifier</th>\n",
       "      <th>Vehicle_Make_and_Model1</th>\n",
       "      <th>Vehicle_Make_and_Model2</th>\n",
       "      <th>Manafactured_Year_and_Month</th>\n",
       "      <th>Engine_Displacement_(Cubic_Centimeter)</th>\n",
       "      <th>Imported_or_Domestic_Car</th>\n",
       "      <th>Coding_of_Vehicle_Branding_&amp;_Type</th>\n",
       "      <th>qpt</th>\n",
       "      <th>fpt</th>\n",
       "      <th>Main_Insurance_Coverage_Group</th>\n",
       "      <th>Insurance_Coverage</th>\n",
       "      <th>Insured_Amount1</th>\n",
       "      <th>Insured_Amount2</th>\n",
       "      <th>Insured_Amount3</th>\n",
       "      <th>Coverage_Deductible_if_applied</th>\n",
       "      <th>Premium</th>\n",
       "      <th>Replacement_cost_of_insured_vehicle</th>\n",
       "      <th>Distribution_Channel</th>\n",
       "      <th>Multiple_Products_with_TmNewa_(Yes_or_No?)</th>\n",
       "      <th>lia_class</th>\n",
       "      <th>plia_acc</th>\n",
       "      <th>pdmg_acc</th>\n",
       "      <th>fassured</th>\n",
       "      <th>ibirth</th>\n",
       "      <th>fsex</th>\n",
       "      <th>fmarriage</th>\n",
       "      <th>aassured_zip</th>\n",
       "      <th>iply_area</th>\n",
       "      <th>dbirth</th>\n",
       "      <th>fequipment1</th>\n",
       "      <th>fequipment2</th>\n",
       "      <th>fequipment3</th>\n",
       "      <th>fequipment4</th>\n",
       "      <th>fequipment5</th>\n",
       "      <th>fequipment6</th>\n",
       "      <th>fequipment9</th>\n",
       "      <th>nequipment9</th>\n",
       "    </tr>\n",
       "  </thead>\n",
       "  <tbody>\n",
       "    <tr>\n",
       "      <th>1245072</th>\n",
       "      <td>e3d814ce8d02819df762fe1810161bef08e00c1d</td>\n",
       "      <td>N52378b33f7c0f3fad53657b9b6f68b243ebbed4a</td>\n",
       "      <td>61a81fa5e752e1fadd402a4e2e340d10dea4a9fe</td>\n",
       "      <td></td>\n",
       "      <td>db5056a0675cd24aac4465089d17bdc03fa855ee</td>\n",
       "      <td>9e1816a8c2a63b7f96a82ce6487b2d43222750db</td>\n",
       "      <td>b8647bcf29b86ea090daee0492269888c96a61b5</td>\n",
       "      <td>2010</td>\n",
       "      <td>2000</td>\n",
       "      <td>10</td>\n",
       "      <td>cde89c7444ed8e6ed260732be6e78ba9eb3312c6</td>\n",
       "      <td>7.0</td>\n",
       "      <td>P</td>\n",
       "      <td>車損</td>\n",
       "      <td>08H</td>\n",
       "      <td>2500</td>\n",
       "      <td>0</td>\n",
       "      <td>75000</td>\n",
       "      <td>0</td>\n",
       "      <td>472</td>\n",
       "      <td>85.9</td>\n",
       "      <td>39005d92752d56310b3a357f42b57f304621689a</td>\n",
       "      <td>0.0</td>\n",
       "      <td>3</td>\n",
       "      <td>-0.10</td>\n",
       "      <td>-0.6</td>\n",
       "      <td>1</td>\n",
       "      <td>07/1975</td>\n",
       "      <td>2</td>\n",
       "      <td>1</td>\n",
       "      <td>22ef9733f34012fee57a30e23cfeaf3810f47298</td>\n",
       "      <td>98fbc42faedc02492397cb5962ea3a3ffc0a9243</td>\n",
       "      <td>07/1975</td>\n",
       "      <td>0</td>\n",
       "      <td>0</td>\n",
       "      <td>0</td>\n",
       "      <td>0</td>\n",
       "      <td>0</td>\n",
       "      <td>0</td>\n",
       "      <td>0</td>\n",
       "      <td></td>\n",
       "    </tr>\n",
       "    <tr>\n",
       "      <th>842841</th>\n",
       "      <td>eff238811b250473ddf97007c5fcff874a8adc73</td>\n",
       "      <td>Bdc393f9faf7689132d2a51c56d011f5adcc00986</td>\n",
       "      <td>7bbecfd960fe4bc8149fd9f16011fd94733b37d7</td>\n",
       "      <td></td>\n",
       "      <td>0a09efafe87a4706e89ff01b306a549550ea0ba9</td>\n",
       "      <td>a3fbc730b84d765d9618832bca787fe5e0dc3f39</td>\n",
       "      <td>594304f73c79570870a23575fb87201827f7c2f0</td>\n",
       "      <td>2014</td>\n",
       "      <td>2199</td>\n",
       "      <td>10</td>\n",
       "      <td>b9918cc0a88a6b6eeed40ee4ed0e0a29083fd501</td>\n",
       "      <td>5.0</td>\n",
       "      <td>P</td>\n",
       "      <td>竊盜</td>\n",
       "      <td>05N</td>\n",
       "      <td>0</td>\n",
       "      <td>0</td>\n",
       "      <td>976000</td>\n",
       "      <td>10</td>\n",
       "      <td>3241</td>\n",
       "      <td>122.0</td>\n",
       "      <td>39005d92752d56310b3a357f42b57f304621689a</td>\n",
       "      <td>0.0</td>\n",
       "      <td>3</td>\n",
       "      <td>-0.10</td>\n",
       "      <td>-0.2</td>\n",
       "      <td>1</td>\n",
       "      <td>03/1982</td>\n",
       "      <td>2</td>\n",
       "      <td>2</td>\n",
       "      <td>63b4f91cf8f3dcf5b300797302b9953cc8333368</td>\n",
       "      <td>761f22b2c1593d0bb87e0b606f990ba4974706de</td>\n",
       "      <td>03/1982</td>\n",
       "      <td>0</td>\n",
       "      <td>0</td>\n",
       "      <td>0</td>\n",
       "      <td>0</td>\n",
       "      <td>0</td>\n",
       "      <td>0</td>\n",
       "      <td>0</td>\n",
       "      <td></td>\n",
       "    </tr>\n",
       "    <tr>\n",
       "      <th>1226705</th>\n",
       "      <td>31163a5623b1050818f1e44c826c8b38b7b12725</td>\n",
       "      <td>B5bcfdf7148d8ab570622a5531adb0c9f58770c59</td>\n",
       "      <td>7653dc2668b0e43c77bf19425734259831fe497d</td>\n",
       "      <td></td>\n",
       "      <td>fc9af5409e73eb0b6146ba8c02709836e2413969</td>\n",
       "      <td>dfa36897d0d79626c26c3a60bbf710ce93f678ec</td>\n",
       "      <td>6d3aca9020fa7c33f55ca4c79fb1a5b1a1e60ace</td>\n",
       "      <td>2012</td>\n",
       "      <td>2000</td>\n",
       "      <td>30</td>\n",
       "      <td>91f3d5db9c148ff5ad6d5b61cd5f7724c84b5932</td>\n",
       "      <td>5.0</td>\n",
       "      <td>P</td>\n",
       "      <td>車責</td>\n",
       "      <td>29K</td>\n",
       "      <td>0</td>\n",
       "      <td>0</td>\n",
       "      <td>2000000</td>\n",
       "      <td>0</td>\n",
       "      <td>391</td>\n",
       "      <td>237.0</td>\n",
       "      <td>39005d92752d56310b3a357f42b57f304621689a</td>\n",
       "      <td>0.0</td>\n",
       "      <td>-1</td>\n",
       "      <td>-0.38</td>\n",
       "      <td>-0.6</td>\n",
       "      <td>1</td>\n",
       "      <td>12/1965</td>\n",
       "      <td>1</td>\n",
       "      <td>1</td>\n",
       "      <td>8980dc86c1e9ea324ec99f8b15a2e9a92d0a4d1e</td>\n",
       "      <td>761f22b2c1593d0bb87e0b606f990ba4974706de</td>\n",
       "      <td>12/1965</td>\n",
       "      <td>0</td>\n",
       "      <td>0</td>\n",
       "      <td>0</td>\n",
       "      <td>0</td>\n",
       "      <td>0</td>\n",
       "      <td>0</td>\n",
       "      <td>0</td>\n",
       "      <td></td>\n",
       "    </tr>\n",
       "    <tr>\n",
       "      <th>335935</th>\n",
       "      <td>94dcc592ba04d48d5b7fd0118fc7824e8f3a4d10</td>\n",
       "      <td>Hc8af6af7dcba8b4899d7206bd2095f9657bc08e5</td>\n",
       "      <td>4694b0e44ddfe09e229a2b4b187937e03a1976c3</td>\n",
       "      <td></td>\n",
       "      <td>33e4b43b689f9e0508167f29596b61dff70a1979</td>\n",
       "      <td>b8e02307bd669b391c5c5b62d5df78e724402062</td>\n",
       "      <td>73d201f7428dfd48412f460b2e951f5fd324209c</td>\n",
       "      <td>2014</td>\n",
       "      <td>1600</td>\n",
       "      <td>30</td>\n",
       "      <td>123661a2768f418053fe5d471135570cf0377c0e</td>\n",
       "      <td>5.0</td>\n",
       "      <td>P</td>\n",
       "      <td>竊盜</td>\n",
       "      <td>09@</td>\n",
       "      <td>0</td>\n",
       "      <td>0</td>\n",
       "      <td>692000</td>\n",
       "      <td>0</td>\n",
       "      <td>446</td>\n",
       "      <td>86.5</td>\n",
       "      <td>39005d92752d56310b3a357f42b57f304621689a</td>\n",
       "      <td>0.0</td>\n",
       "      <td>-1</td>\n",
       "      <td>-0.38</td>\n",
       "      <td>-0.2</td>\n",
       "      <td>1</td>\n",
       "      <td>03/1978</td>\n",
       "      <td>2</td>\n",
       "      <td>2</td>\n",
       "      <td>a609bb8ab05a0d13db9eb1d0d3b1383d1703c17d</td>\n",
       "      <td>bd307a3ec329e10a2cff8fb87480823da114f8f4</td>\n",
       "      <td>03/1978</td>\n",
       "      <td>0</td>\n",
       "      <td>0</td>\n",
       "      <td>0</td>\n",
       "      <td>0</td>\n",
       "      <td>0</td>\n",
       "      <td>0</td>\n",
       "      <td>0</td>\n",
       "      <td></td>\n",
       "    </tr>\n",
       "    <tr>\n",
       "      <th>1001564</th>\n",
       "      <td>01edab55386e922616e321d6582d1e8d5568826f</td>\n",
       "      <td>L0c9f85b1721e81f6f397d59f26c11b1c965304ea</td>\n",
       "      <td>9862f55fa8ecdd962488859f7a33f5c3713f996a</td>\n",
       "      <td></td>\n",
       "      <td>4c6024039378664ae91d4e22951fe1d6d96f023f</td>\n",
       "      <td>ad74db6c9586c8cd85b8150c119f157bf493e187</td>\n",
       "      <td>5dcaf19e7fe8982ebb6fffdd0dc1dbd2b4c598fb</td>\n",
       "      <td>2003</td>\n",
       "      <td>2000</td>\n",
       "      <td>30</td>\n",
       "      <td>57d8536b88284c3641eb86e6982eadd5627d592b</td>\n",
       "      <td>5.0</td>\n",
       "      <td>P</td>\n",
       "      <td>車責</td>\n",
       "      <td>14E</td>\n",
       "      <td>0</td>\n",
       "      <td>0</td>\n",
       "      <td>50000</td>\n",
       "      <td>0</td>\n",
       "      <td>304</td>\n",
       "      <td>223.0</td>\n",
       "      <td>39005d92752d56310b3a357f42b57f304621689a</td>\n",
       "      <td>0.0</td>\n",
       "      <td>4</td>\n",
       "      <td>0.00</td>\n",
       "      <td>0.0</td>\n",
       "      <td>1</td>\n",
       "      <td>01/1949</td>\n",
       "      <td>1</td>\n",
       "      <td>1</td>\n",
       "      <td>beba4d5d3ffb8fac7fe5ce87ac1eb2f75c4cd1a2</td>\n",
       "      <td>761f22b2c1593d0bb87e0b606f990ba4974706de</td>\n",
       "      <td>01/1949</td>\n",
       "      <td>0</td>\n",
       "      <td>0</td>\n",
       "      <td>0</td>\n",
       "      <td>0</td>\n",
       "      <td>0</td>\n",
       "      <td>0</td>\n",
       "      <td>0</td>\n",
       "      <td></td>\n",
       "    </tr>\n",
       "    <tr>\n",
       "      <th>555924</th>\n",
       "      <td>785f86496e77680c103c0d3123a99b618682ecc9</td>\n",
       "      <td>20eeb0014fba8ccc7ed94bbe6018acc92e349f790</td>\n",
       "      <td>9f340f62655a47c095e684011841b696026d1864</td>\n",
       "      <td></td>\n",
       "      <td>3465dbd443619f0527a1d6b0381629571574d498</td>\n",
       "      <td>e4ed10d7da92e47ea7e39542c929e0c10fb69c83</td>\n",
       "      <td>73544989fe4032bacd952e5f230c4acdf1a36ad8</td>\n",
       "      <td>2014</td>\n",
       "      <td>2500</td>\n",
       "      <td>50</td>\n",
       "      <td>8328a215bbadd01e4c36c81540ece82184d4f064</td>\n",
       "      <td>3.0</td>\n",
       "      <td>P</td>\n",
       "      <td>車責</td>\n",
       "      <td>29B</td>\n",
       "      <td>0</td>\n",
       "      <td>3000000</td>\n",
       "      <td>6000000</td>\n",
       "      <td>0</td>\n",
       "      <td>443</td>\n",
       "      <td>76.3</td>\n",
       "      <td>39005d92752d56310b3a357f42b57f304621689a</td>\n",
       "      <td>0.0</td>\n",
       "      <td>3</td>\n",
       "      <td>-0.10</td>\n",
       "      <td>-0.2</td>\n",
       "      <td>2</td>\n",
       "      <td>NaN</td>\n",
       "      <td></td>\n",
       "      <td></td>\n",
       "      <td>cd0613ba91fbab0c5af2827e308e487e267d28a0</td>\n",
       "      <td>fa35e192121eabf3dabf9f5ea6abdbcbc107ac3b</td>\n",
       "      <td>01/1983</td>\n",
       "      <td>0</td>\n",
       "      <td>0</td>\n",
       "      <td>0</td>\n",
       "      <td>0</td>\n",
       "      <td>0</td>\n",
       "      <td>0</td>\n",
       "      <td>0</td>\n",
       "      <td></td>\n",
       "    </tr>\n",
       "    <tr>\n",
       "      <th>1664678</th>\n",
       "      <td>56803363027390e98bdfdbb9367fd5fb2a353951</td>\n",
       "      <td>Tb01d26fdd8808c3586829e42e61ad36c72181f37</td>\n",
       "      <td>5c475c655f065ca1e8522b25bed0cadba307f5b6</td>\n",
       "      <td></td>\n",
       "      <td>92d16893d7835b447b297295091a548a38286b12</td>\n",
       "      <td>960d139497003852038c328303d92f423e6854c4</td>\n",
       "      <td>4f8c2eae034814544350455c393c5873ac6bf75c</td>\n",
       "      <td>2012</td>\n",
       "      <td>1198</td>\n",
       "      <td>10</td>\n",
       "      <td>e8c5c2a7eaed20b0756e23bdb907066ac55801fe</td>\n",
       "      <td>2.0</td>\n",
       "      <td>P</td>\n",
       "      <td>車責</td>\n",
       "      <td>12L</td>\n",
       "      <td>2000000</td>\n",
       "      <td>2000000</td>\n",
       "      <td>10500000</td>\n",
       "      <td>0</td>\n",
       "      <td>180</td>\n",
       "      <td>51.6</td>\n",
       "      <td>cc7533150432c2d0fe3dbb2b31308d4774bf63e0</td>\n",
       "      <td>0.0</td>\n",
       "      <td>-1</td>\n",
       "      <td>-0.38</td>\n",
       "      <td>-0.6</td>\n",
       "      <td>1</td>\n",
       "      <td>08/1957</td>\n",
       "      <td>1</td>\n",
       "      <td>1</td>\n",
       "      <td>2019219149608a3f188cafaabd3808aace3e3309</td>\n",
       "      <td>c66c65175fecc3103b3b587be9b5b230889c8628</td>\n",
       "      <td>08/1957</td>\n",
       "      <td>0</td>\n",
       "      <td>0</td>\n",
       "      <td>0</td>\n",
       "      <td>0</td>\n",
       "      <td>0</td>\n",
       "      <td>0</td>\n",
       "      <td>0</td>\n",
       "      <td></td>\n",
       "    </tr>\n",
       "    <tr>\n",
       "      <th>1725531</th>\n",
       "      <td>4c54d9a020c4517b9723f74ebe5ff6da3910f79d</td>\n",
       "      <td>E88ab03ef2031826dd4b428e6fd6940a223b8f206</td>\n",
       "      <td>NaN</td>\n",
       "      <td>Y</td>\n",
       "      <td>066acc7ee4e96659c41663f7c13f209e11d0896c</td>\n",
       "      <td>38bcc8c221a9275d52db6d211e57d104b92fdf61</td>\n",
       "      <td>7fe3aec31f3668689219c6280d4ad66de186b3e5</td>\n",
       "      <td>2011</td>\n",
       "      <td>2400</td>\n",
       "      <td>30</td>\n",
       "      <td>d2994b7f0a816f716d30ddbcfa685e5ceaf1d439</td>\n",
       "      <td>5.0</td>\n",
       "      <td>P</td>\n",
       "      <td>車責</td>\n",
       "      <td>15O</td>\n",
       "      <td>0</td>\n",
       "      <td>0</td>\n",
       "      <td>2000000</td>\n",
       "      <td>1</td>\n",
       "      <td>945</td>\n",
       "      <td>222.0</td>\n",
       "      <td>39005d92752d56310b3a357f42b57f304621689a</td>\n",
       "      <td>0.0</td>\n",
       "      <td>-1</td>\n",
       "      <td>-0.38</td>\n",
       "      <td>-0.6</td>\n",
       "      <td>1</td>\n",
       "      <td>06/1966</td>\n",
       "      <td>1</td>\n",
       "      <td>1</td>\n",
       "      <td>425ac6a281919b17c4d550ebeb2a5a130e579c7f</td>\n",
       "      <td>c66c65175fecc3103b3b587be9b5b230889c8628</td>\n",
       "      <td>06/1966</td>\n",
       "      <td>0</td>\n",
       "      <td>0</td>\n",
       "      <td>0</td>\n",
       "      <td>0</td>\n",
       "      <td>0</td>\n",
       "      <td>0</td>\n",
       "      <td>0</td>\n",
       "      <td></td>\n",
       "    </tr>\n",
       "    <tr>\n",
       "      <th>688601</th>\n",
       "      <td>4ec9adf0af52ffef6d41ab694f8a5729384fdf27</td>\n",
       "      <td>Xf7f210f976d3557a83b491d679377b233f620918</td>\n",
       "      <td>a59b4f5a5fbf8732e5226ef832fecc6413768fa3</td>\n",
       "      <td></td>\n",
       "      <td>bdc8499828060887e92ffd89248f8ab6ab0a7832</td>\n",
       "      <td>3a5e741326cb42b7283e6865856d6faae3543d2f</td>\n",
       "      <td>23769658f19d2c035ec47fb2cf0dc59c72a7a438</td>\n",
       "      <td>2013</td>\n",
       "      <td>2600</td>\n",
       "      <td>30</td>\n",
       "      <td>b540ae98f2ebbf4e9d78bf7a9e0182d1431a6643</td>\n",
       "      <td>5.0</td>\n",
       "      <td>P</td>\n",
       "      <td>車責</td>\n",
       "      <td>29B</td>\n",
       "      <td>0</td>\n",
       "      <td>0</td>\n",
       "      <td>0</td>\n",
       "      <td>0</td>\n",
       "      <td>261</td>\n",
       "      <td>204.0</td>\n",
       "      <td>39005d92752d56310b3a357f42b57f304621689a</td>\n",
       "      <td>0.0</td>\n",
       "      <td>-1</td>\n",
       "      <td>-0.38</td>\n",
       "      <td>0.0</td>\n",
       "      <td>1</td>\n",
       "      <td>08/1977</td>\n",
       "      <td>2</td>\n",
       "      <td>1</td>\n",
       "      <td>914127d1002e9938e2e1ee54cd92fd8195a248b0</td>\n",
       "      <td>bd307a3ec329e10a2cff8fb87480823da114f8f4</td>\n",
       "      <td>08/1977</td>\n",
       "      <td>0</td>\n",
       "      <td>0</td>\n",
       "      <td>0</td>\n",
       "      <td>0</td>\n",
       "      <td>0</td>\n",
       "      <td>0</td>\n",
       "      <td>0</td>\n",
       "      <td></td>\n",
       "    </tr>\n",
       "    <tr>\n",
       "      <th>29916</th>\n",
       "      <td>b1c6c5dcf092f383e8ed493c2884cb77f160810f</td>\n",
       "      <td>H7fd915d58eac7d347d549403923c7583ded15de0</td>\n",
       "      <td>76961be8c06630f3a4d648943c3694803ae1b35e</td>\n",
       "      <td></td>\n",
       "      <td>e839cf793132f5cb5efb0fb069abd5a2aedba915</td>\n",
       "      <td>dda1b15cf567d2402a0d1249ee12e9e072bb3120</td>\n",
       "      <td>a6c53c999ed439cb1038c23dbb8d42010868f70b</td>\n",
       "      <td>2004</td>\n",
       "      <td>1998</td>\n",
       "      <td>10</td>\n",
       "      <td>8840f33c3d3e3b3e70305e4a7bbc856ecfabf96b</td>\n",
       "      <td>5.0</td>\n",
       "      <td>P</td>\n",
       "      <td>車責</td>\n",
       "      <td>16P</td>\n",
       "      <td>0</td>\n",
       "      <td>0</td>\n",
       "      <td>200000</td>\n",
       "      <td>0</td>\n",
       "      <td>687</td>\n",
       "      <td>74.9</td>\n",
       "      <td>39005d92752d56310b3a357f42b57f304621689a</td>\n",
       "      <td>1.0</td>\n",
       "      <td>-1</td>\n",
       "      <td>-0.38</td>\n",
       "      <td>-0.6</td>\n",
       "      <td>1</td>\n",
       "      <td>10/1966</td>\n",
       "      <td>2</td>\n",
       "      <td>2</td>\n",
       "      <td>851cd04fbcac9538616f1d147d7930db87b8750d</td>\n",
       "      <td>c1dfd96eea8cc2b62785275bca38ac261256e278</td>\n",
       "      <td>10/1966</td>\n",
       "      <td>0</td>\n",
       "      <td>0</td>\n",
       "      <td>0</td>\n",
       "      <td>0</td>\n",
       "      <td>0</td>\n",
       "      <td>0</td>\n",
       "      <td>0</td>\n",
       "      <td></td>\n",
       "    </tr>\n",
       "  </tbody>\n",
       "</table>\n",
       "</div>"
      ],
      "text/plain": [
       "                                    Policy_Number  \\\n",
       "1245072  e3d814ce8d02819df762fe1810161bef08e00c1d   \n",
       "842841   eff238811b250473ddf97007c5fcff874a8adc73   \n",
       "1226705  31163a5623b1050818f1e44c826c8b38b7b12725   \n",
       "335935   94dcc592ba04d48d5b7fd0118fc7824e8f3a4d10   \n",
       "1001564  01edab55386e922616e321d6582d1e8d5568826f   \n",
       "555924   785f86496e77680c103c0d3123a99b618682ecc9   \n",
       "1664678  56803363027390e98bdfdbb9367fd5fb2a353951   \n",
       "1725531  4c54d9a020c4517b9723f74ebe5ff6da3910f79d   \n",
       "688601   4ec9adf0af52ffef6d41ab694f8a5729384fdf27   \n",
       "29916    b1c6c5dcf092f383e8ed493c2884cb77f160810f   \n",
       "\n",
       "                                      Insured's_ID  \\\n",
       "1245072  N52378b33f7c0f3fad53657b9b6f68b243ebbed4a   \n",
       "842841   Bdc393f9faf7689132d2a51c56d011f5adcc00986   \n",
       "1226705  B5bcfdf7148d8ab570622a5531adb0c9f58770c59   \n",
       "335935   Hc8af6af7dcba8b4899d7206bd2095f9657bc08e5   \n",
       "1001564  L0c9f85b1721e81f6f397d59f26c11b1c965304ea   \n",
       "555924   20eeb0014fba8ccc7ed94bbe6018acc92e349f790   \n",
       "1664678  Tb01d26fdd8808c3586829e42e61ad36c72181f37   \n",
       "1725531  E88ab03ef2031826dd4b428e6fd6940a223b8f206   \n",
       "688601   Xf7f210f976d3557a83b491d679377b233f620918   \n",
       "29916    H7fd915d58eac7d347d549403923c7583ded15de0   \n",
       "\n",
       "                              Prior_Policy_Number Cancellation  \\\n",
       "1245072  61a81fa5e752e1fadd402a4e2e340d10dea4a9fe                \n",
       "842841   7bbecfd960fe4bc8149fd9f16011fd94733b37d7                \n",
       "1226705  7653dc2668b0e43c77bf19425734259831fe497d                \n",
       "335935   4694b0e44ddfe09e229a2b4b187937e03a1976c3                \n",
       "1001564  9862f55fa8ecdd962488859f7a33f5c3713f996a                \n",
       "555924   9f340f62655a47c095e684011841b696026d1864                \n",
       "1664678  5c475c655f065ca1e8522b25bed0cadba307f5b6                \n",
       "1725531                                       NaN            Y   \n",
       "688601   a59b4f5a5fbf8732e5226ef832fecc6413768fa3                \n",
       "29916    76961be8c06630f3a4d648943c3694803ae1b35e                \n",
       "\n",
       "                               Vehicle_identifier  \\\n",
       "1245072  db5056a0675cd24aac4465089d17bdc03fa855ee   \n",
       "842841   0a09efafe87a4706e89ff01b306a549550ea0ba9   \n",
       "1226705  fc9af5409e73eb0b6146ba8c02709836e2413969   \n",
       "335935   33e4b43b689f9e0508167f29596b61dff70a1979   \n",
       "1001564  4c6024039378664ae91d4e22951fe1d6d96f023f   \n",
       "555924   3465dbd443619f0527a1d6b0381629571574d498   \n",
       "1664678  92d16893d7835b447b297295091a548a38286b12   \n",
       "1725531  066acc7ee4e96659c41663f7c13f209e11d0896c   \n",
       "688601   bdc8499828060887e92ffd89248f8ab6ab0a7832   \n",
       "29916    e839cf793132f5cb5efb0fb069abd5a2aedba915   \n",
       "\n",
       "                          Vehicle_Make_and_Model1  \\\n",
       "1245072  9e1816a8c2a63b7f96a82ce6487b2d43222750db   \n",
       "842841   a3fbc730b84d765d9618832bca787fe5e0dc3f39   \n",
       "1226705  dfa36897d0d79626c26c3a60bbf710ce93f678ec   \n",
       "335935   b8e02307bd669b391c5c5b62d5df78e724402062   \n",
       "1001564  ad74db6c9586c8cd85b8150c119f157bf493e187   \n",
       "555924   e4ed10d7da92e47ea7e39542c929e0c10fb69c83   \n",
       "1664678  960d139497003852038c328303d92f423e6854c4   \n",
       "1725531  38bcc8c221a9275d52db6d211e57d104b92fdf61   \n",
       "688601   3a5e741326cb42b7283e6865856d6faae3543d2f   \n",
       "29916    dda1b15cf567d2402a0d1249ee12e9e072bb3120   \n",
       "\n",
       "                          Vehicle_Make_and_Model2  \\\n",
       "1245072  b8647bcf29b86ea090daee0492269888c96a61b5   \n",
       "842841   594304f73c79570870a23575fb87201827f7c2f0   \n",
       "1226705  6d3aca9020fa7c33f55ca4c79fb1a5b1a1e60ace   \n",
       "335935   73d201f7428dfd48412f460b2e951f5fd324209c   \n",
       "1001564  5dcaf19e7fe8982ebb6fffdd0dc1dbd2b4c598fb   \n",
       "555924   73544989fe4032bacd952e5f230c4acdf1a36ad8   \n",
       "1664678  4f8c2eae034814544350455c393c5873ac6bf75c   \n",
       "1725531  7fe3aec31f3668689219c6280d4ad66de186b3e5   \n",
       "688601   23769658f19d2c035ec47fb2cf0dc59c72a7a438   \n",
       "29916    a6c53c999ed439cb1038c23dbb8d42010868f70b   \n",
       "\n",
       "         Manafactured_Year_and_Month  Engine_Displacement_(Cubic_Centimeter)  \\\n",
       "1245072                         2010                                    2000   \n",
       "842841                          2014                                    2199   \n",
       "1226705                         2012                                    2000   \n",
       "335935                          2014                                    1600   \n",
       "1001564                         2003                                    2000   \n",
       "555924                          2014                                    2500   \n",
       "1664678                         2012                                    1198   \n",
       "1725531                         2011                                    2400   \n",
       "688601                          2013                                    2600   \n",
       "29916                           2004                                    1998   \n",
       "\n",
       "         Imported_or_Domestic_Car         Coding_of_Vehicle_Branding_&_Type  \\\n",
       "1245072                        10  cde89c7444ed8e6ed260732be6e78ba9eb3312c6   \n",
       "842841                         10  b9918cc0a88a6b6eeed40ee4ed0e0a29083fd501   \n",
       "1226705                        30  91f3d5db9c148ff5ad6d5b61cd5f7724c84b5932   \n",
       "335935                         30  123661a2768f418053fe5d471135570cf0377c0e   \n",
       "1001564                        30  57d8536b88284c3641eb86e6982eadd5627d592b   \n",
       "555924                         50  8328a215bbadd01e4c36c81540ece82184d4f064   \n",
       "1664678                        10  e8c5c2a7eaed20b0756e23bdb907066ac55801fe   \n",
       "1725531                        30  d2994b7f0a816f716d30ddbcfa685e5ceaf1d439   \n",
       "688601                         30  b540ae98f2ebbf4e9d78bf7a9e0182d1431a6643   \n",
       "29916                          10  8840f33c3d3e3b3e70305e4a7bbc856ecfabf96b   \n",
       "\n",
       "         qpt fpt Main_Insurance_Coverage_Group Insurance_Coverage  \\\n",
       "1245072  7.0   P                            車損                08H   \n",
       "842841   5.0   P                            竊盜                05N   \n",
       "1226705  5.0   P                            車責                29K   \n",
       "335935   5.0   P                            竊盜                09@   \n",
       "1001564  5.0   P                            車責                14E   \n",
       "555924   3.0   P                            車責                29B   \n",
       "1664678  2.0   P                            車責                12L   \n",
       "1725531  5.0   P                            車責                15O   \n",
       "688601   5.0   P                            車責                29B   \n",
       "29916    5.0   P                            車責                16P   \n",
       "\n",
       "         Insured_Amount1  Insured_Amount2  Insured_Amount3  \\\n",
       "1245072             2500                0            75000   \n",
       "842841                 0                0           976000   \n",
       "1226705                0                0          2000000   \n",
       "335935                 0                0           692000   \n",
       "1001564                0                0            50000   \n",
       "555924                 0          3000000          6000000   \n",
       "1664678          2000000          2000000         10500000   \n",
       "1725531                0                0          2000000   \n",
       "688601                 0                0                0   \n",
       "29916                  0                0           200000   \n",
       "\n",
       "         Coverage_Deductible_if_applied  Premium  \\\n",
       "1245072                               0      472   \n",
       "842841                               10     3241   \n",
       "1226705                               0      391   \n",
       "335935                                0      446   \n",
       "1001564                               0      304   \n",
       "555924                                0      443   \n",
       "1664678                               0      180   \n",
       "1725531                               1      945   \n",
       "688601                                0      261   \n",
       "29916                                 0      687   \n",
       "\n",
       "         Replacement_cost_of_insured_vehicle  \\\n",
       "1245072                                 85.9   \n",
       "842841                                 122.0   \n",
       "1226705                                237.0   \n",
       "335935                                  86.5   \n",
       "1001564                                223.0   \n",
       "555924                                  76.3   \n",
       "1664678                                 51.6   \n",
       "1725531                                222.0   \n",
       "688601                                 204.0   \n",
       "29916                                   74.9   \n",
       "\n",
       "                             Distribution_Channel  \\\n",
       "1245072  39005d92752d56310b3a357f42b57f304621689a   \n",
       "842841   39005d92752d56310b3a357f42b57f304621689a   \n",
       "1226705  39005d92752d56310b3a357f42b57f304621689a   \n",
       "335935   39005d92752d56310b3a357f42b57f304621689a   \n",
       "1001564  39005d92752d56310b3a357f42b57f304621689a   \n",
       "555924   39005d92752d56310b3a357f42b57f304621689a   \n",
       "1664678  cc7533150432c2d0fe3dbb2b31308d4774bf63e0   \n",
       "1725531  39005d92752d56310b3a357f42b57f304621689a   \n",
       "688601   39005d92752d56310b3a357f42b57f304621689a   \n",
       "29916    39005d92752d56310b3a357f42b57f304621689a   \n",
       "\n",
       "         Multiple_Products_with_TmNewa_(Yes_or_No?)  lia_class  plia_acc  \\\n",
       "1245072                                         0.0          3     -0.10   \n",
       "842841                                          0.0          3     -0.10   \n",
       "1226705                                         0.0         -1     -0.38   \n",
       "335935                                          0.0         -1     -0.38   \n",
       "1001564                                         0.0          4      0.00   \n",
       "555924                                          0.0          3     -0.10   \n",
       "1664678                                         0.0         -1     -0.38   \n",
       "1725531                                         0.0         -1     -0.38   \n",
       "688601                                          0.0         -1     -0.38   \n",
       "29916                                           1.0         -1     -0.38   \n",
       "\n",
       "         pdmg_acc  fassured   ibirth fsex fmarriage  \\\n",
       "1245072      -0.6         1  07/1975    2         1   \n",
       "842841       -0.2         1  03/1982    2         2   \n",
       "1226705      -0.6         1  12/1965    1         1   \n",
       "335935       -0.2         1  03/1978    2         2   \n",
       "1001564       0.0         1  01/1949    1         1   \n",
       "555924       -0.2         2      NaN                  \n",
       "1664678      -0.6         1  08/1957    1         1   \n",
       "1725531      -0.6         1  06/1966    1         1   \n",
       "688601        0.0         1  08/1977    2         1   \n",
       "29916        -0.6         1  10/1966    2         2   \n",
       "\n",
       "                                     aassured_zip  \\\n",
       "1245072  22ef9733f34012fee57a30e23cfeaf3810f47298   \n",
       "842841   63b4f91cf8f3dcf5b300797302b9953cc8333368   \n",
       "1226705  8980dc86c1e9ea324ec99f8b15a2e9a92d0a4d1e   \n",
       "335935   a609bb8ab05a0d13db9eb1d0d3b1383d1703c17d   \n",
       "1001564  beba4d5d3ffb8fac7fe5ce87ac1eb2f75c4cd1a2   \n",
       "555924   cd0613ba91fbab0c5af2827e308e487e267d28a0   \n",
       "1664678  2019219149608a3f188cafaabd3808aace3e3309   \n",
       "1725531  425ac6a281919b17c4d550ebeb2a5a130e579c7f   \n",
       "688601   914127d1002e9938e2e1ee54cd92fd8195a248b0   \n",
       "29916    851cd04fbcac9538616f1d147d7930db87b8750d   \n",
       "\n",
       "                                        iply_area   dbirth  fequipment1  \\\n",
       "1245072  98fbc42faedc02492397cb5962ea3a3ffc0a9243  07/1975            0   \n",
       "842841   761f22b2c1593d0bb87e0b606f990ba4974706de  03/1982            0   \n",
       "1226705  761f22b2c1593d0bb87e0b606f990ba4974706de  12/1965            0   \n",
       "335935   bd307a3ec329e10a2cff8fb87480823da114f8f4  03/1978            0   \n",
       "1001564  761f22b2c1593d0bb87e0b606f990ba4974706de  01/1949            0   \n",
       "555924   fa35e192121eabf3dabf9f5ea6abdbcbc107ac3b  01/1983            0   \n",
       "1664678  c66c65175fecc3103b3b587be9b5b230889c8628  08/1957            0   \n",
       "1725531  c66c65175fecc3103b3b587be9b5b230889c8628  06/1966            0   \n",
       "688601   bd307a3ec329e10a2cff8fb87480823da114f8f4  08/1977            0   \n",
       "29916    c1dfd96eea8cc2b62785275bca38ac261256e278  10/1966            0   \n",
       "\n",
       "         fequipment2  fequipment3  fequipment4  fequipment5  fequipment6  \\\n",
       "1245072            0            0            0            0            0   \n",
       "842841             0            0            0            0            0   \n",
       "1226705            0            0            0            0            0   \n",
       "335935             0            0            0            0            0   \n",
       "1001564            0            0            0            0            0   \n",
       "555924             0            0            0            0            0   \n",
       "1664678            0            0            0            0            0   \n",
       "1725531            0            0            0            0            0   \n",
       "688601             0            0            0            0            0   \n",
       "29916              0            0            0            0            0   \n",
       "\n",
       "         fequipment9 nequipment9  \n",
       "1245072            0              \n",
       "842841             0              \n",
       "1226705            0              \n",
       "335935             0              \n",
       "1001564            0              \n",
       "555924             0              \n",
       "1664678            0              \n",
       "1725531            0              \n",
       "688601             0              \n",
       "29916              0              "
      ]
     },
     "execution_count": 3,
     "metadata": {},
     "output_type": "execute_result"
    }
   ],
   "source": [
    "print(df_policy.shape) # 41 items  (1,747,942, 41)\n",
    "print('unique:',df_policy['Policy_Number'].nunique()) #351,273 unique Policy Number\n",
    "pd.set_option('display.max_columns', None)\n",
    "df_policy.sample(10)   "
   ]
  },
  {
   "cell_type": "code",
   "execution_count": 4,
   "metadata": {},
   "outputs": [
    {
     "name": "stdout",
     "output_type": "stream",
     "text": [
      "Index(['Policy_Number', 'Insured's_ID', 'Prior_Policy_Number', 'Cancellation',\n",
      "       'Vehicle_identifier', 'Vehicle_Make_and_Model1',\n",
      "       'Vehicle_Make_and_Model2', 'Manafactured_Year_and_Month',\n",
      "       'Engine_Displacement_(Cubic_Centimeter)', 'Imported_or_Domestic_Car',\n",
      "       'Coding_of_Vehicle_Branding_&_Type', 'qpt', 'fpt',\n",
      "       'Main_Insurance_Coverage_Group', 'Insurance_Coverage',\n",
      "       'Insured_Amount1', 'Insured_Amount2', 'Insured_Amount3',\n",
      "       'Coverage_Deductible_if_applied', 'Premium',\n",
      "       'Replacement_cost_of_insured_vehicle', 'Distribution_Channel',\n",
      "       'Multiple_Products_with_TmNewa_(Yes_or_No?)', 'lia_class', 'plia_acc',\n",
      "       'pdmg_acc', 'fassured', 'ibirth', 'fsex', 'fmarriage', 'aassured_zip',\n",
      "       'iply_area', 'dbirth', 'fequipment1', 'fequipment2', 'fequipment3',\n",
      "       'fequipment4', 'fequipment5', 'fequipment6', 'fequipment9',\n",
      "       'nequipment9'],\n",
      "      dtype='object')\n"
     ]
    }
   ],
   "source": [
    "'''Policy_Number\t保單號碼 Insured's_ID\t被保險人代號(替代值) Prior_Policy_Number\t前保單號 Cancellation\t非繼承自前保單 \n",
    "Vehicle_identifier\t車牌號碼 Vehicle_Make_and_Model1\t廠牌名稱一 Vehicle_Make_and_Model2\t廠牌名稱二\n",
    "Manafactured_Year_and_Month\t製造年份 Engine_Displacement_(Cubic_Centimeter)\t排氣量 Imported_or_Domestic_Car\t車系代號\n",
    "Coding_of_Vehicle_Branding_&_Type\t廠牌車型代號\n",
    "qpt\t乘載數量 fpt\t乘載單位 Main_Insurance_Coverage_Group\t險種分類 Insurance_Coverage\t險種代碼\n",
    "Insured_Amount1\t保額一 Insured_Amount2\t保額二 Insured_Amount3\t保額三\n",
    "Coverage_Deductible_if_applied\t自負額 Premium\t簽單保費 Replacement_cost_of_insured_vehicle\t重置成本\n",
    "Distribution_Channel\t主通路代號 Multiple_Products_with_TmNewa_(Yes_or_No?)\t同一車主前一年度非車險保單件數\n",
    "lia_class\t車責本期級數 plia_acc\t車責賠款係數 pdmg_acc\t車體賠款係數 fassured\t被保險人性質\n",
    "ibirth\t出生日期 fsex\t性別 fmarriage\t婚姻狀況 aassured_zip\t郵遞區號\n",
    "iply_area\t承保地區代號(分公司) dbirth\t要保人出生日期 fequipment1\t配備-音響註記 fequipment2\t配備-車箱註記 \n",
    "fequipment3\t配備-冷凍機組註記 fequipment4\t配備-車框、車斗註記 fequipment5\t配備-昇降系統註記 fequipment6\t配備-電動車電池註記\n",
    "fequipment9\t配備-其他 nequipment9\t配備-其他說明\n",
    "'''\n",
    "print(df_policy.columns)"
   ]
  },
  {
   "cell_type": "markdown",
   "metadata": {},
   "source": [
    "### fix number from company's view (positive, customer's expense; negative, company's cost)\n"
   ]
  },
  {
   "cell_type": "code",
   "execution_count": 5,
   "metadata": {},
   "outputs": [
    {
     "data": {
      "text/html": [
       "<div>\n",
       "<style>\n",
       "    .dataframe thead tr:only-child th {\n",
       "        text-align: right;\n",
       "    }\n",
       "\n",
       "    .dataframe thead th {\n",
       "        text-align: left;\n",
       "    }\n",
       "\n",
       "    .dataframe tbody tr th {\n",
       "        vertical-align: top;\n",
       "    }\n",
       "</style>\n",
       "<table border=\"1\" class=\"dataframe\">\n",
       "  <thead>\n",
       "    <tr style=\"text-align: right;\">\n",
       "      <th></th>\n",
       "      <th>Insured_Amount1</th>\n",
       "      <th>Insured_Amount2</th>\n",
       "      <th>Insured_Amount3</th>\n",
       "      <th>Coverage_Deductible_if_applied</th>\n",
       "      <th>Premium</th>\n",
       "      <th>Replacement_cost_of_insured_vehicle</th>\n",
       "      <th>lia_class</th>\n",
       "      <th>plia_acc</th>\n",
       "      <th>pdmg_acc</th>\n",
       "    </tr>\n",
       "  </thead>\n",
       "  <tbody>\n",
       "    <tr>\n",
       "      <th>count</th>\n",
       "      <td>1.747942e+06</td>\n",
       "      <td>1.747942e+06</td>\n",
       "      <td>1.747942e+06</td>\n",
       "      <td>1.747942e+06</td>\n",
       "      <td>1.747942e+06</td>\n",
       "      <td>1.747942e+06</td>\n",
       "      <td>1.747942e+06</td>\n",
       "      <td>1.747942e+06</td>\n",
       "      <td>1.747942e+06</td>\n",
       "    </tr>\n",
       "    <tr>\n",
       "      <th>mean</th>\n",
       "      <td>4.986729e+05</td>\n",
       "      <td>3.508711e+05</td>\n",
       "      <td>5.308998e+06</td>\n",
       "      <td>2.212304e+01</td>\n",
       "      <td>1.326461e+03</td>\n",
       "      <td>9.417846e+01</td>\n",
       "      <td>5.528931e-01</td>\n",
       "      <td>-2.702499e-01</td>\n",
       "      <td>-1.523599e-01</td>\n",
       "    </tr>\n",
       "    <tr>\n",
       "      <th>std</th>\n",
       "      <td>1.186382e+06</td>\n",
       "      <td>1.288439e+06</td>\n",
       "      <td>1.083447e+07</td>\n",
       "      <td>6.322497e+02</td>\n",
       "      <td>3.240886e+03</td>\n",
       "      <td>8.223623e+01</td>\n",
       "      <td>2.101007e+00</td>\n",
       "      <td>2.043537e-01</td>\n",
       "      <td>2.401665e-01</td>\n",
       "    </tr>\n",
       "    <tr>\n",
       "      <th>min</th>\n",
       "      <td>0.000000e+00</td>\n",
       "      <td>0.000000e+00</td>\n",
       "      <td>0.000000e+00</td>\n",
       "      <td>-1.000000e+05</td>\n",
       "      <td>0.000000e+00</td>\n",
       "      <td>1.000000e+00</td>\n",
       "      <td>-1.000000e+00</td>\n",
       "      <td>-3.800000e-01</td>\n",
       "      <td>-6.000000e-01</td>\n",
       "    </tr>\n",
       "    <tr>\n",
       "      <th>25%</th>\n",
       "      <td>0.000000e+00</td>\n",
       "      <td>0.000000e+00</td>\n",
       "      <td>2.000000e+05</td>\n",
       "      <td>0.000000e+00</td>\n",
       "      <td>2.020000e+02</td>\n",
       "      <td>5.790000e+01</td>\n",
       "      <td>-1.000000e+00</td>\n",
       "      <td>-3.800000e-01</td>\n",
       "      <td>-4.000000e-01</td>\n",
       "    </tr>\n",
       "    <tr>\n",
       "      <th>50%</th>\n",
       "      <td>0.000000e+00</td>\n",
       "      <td>0.000000e+00</td>\n",
       "      <td>6.110000e+05</td>\n",
       "      <td>0.000000e+00</td>\n",
       "      <td>8.370000e+02</td>\n",
       "      <td>7.090000e+01</td>\n",
       "      <td>-1.000000e+00</td>\n",
       "      <td>-3.800000e-01</td>\n",
       "      <td>0.000000e+00</td>\n",
       "    </tr>\n",
       "    <tr>\n",
       "      <th>75%</th>\n",
       "      <td>1.000000e+04</td>\n",
       "      <td>0.000000e+00</td>\n",
       "      <td>4.000000e+06</td>\n",
       "      <td>0.000000e+00</td>\n",
       "      <td>1.339000e+03</td>\n",
       "      <td>9.350000e+01</td>\n",
       "      <td>2.000000e+00</td>\n",
       "      <td>-2.000000e-01</td>\n",
       "      <td>0.000000e+00</td>\n",
       "    </tr>\n",
       "    <tr>\n",
       "      <th>max</th>\n",
       "      <td>2.000000e+07</td>\n",
       "      <td>2.400000e+08</td>\n",
       "      <td>2.050000e+08</td>\n",
       "      <td>1.000000e+05</td>\n",
       "      <td>5.049320e+05</td>\n",
       "      <td>8.915000e+03</td>\n",
       "      <td>1.900000e+01</td>\n",
       "      <td>4.700000e+00</td>\n",
       "      <td>4.000000e+00</td>\n",
       "    </tr>\n",
       "  </tbody>\n",
       "</table>\n",
       "</div>"
      ],
      "text/plain": [
       "       Insured_Amount1  Insured_Amount2  Insured_Amount3  \\\n",
       "count     1.747942e+06     1.747942e+06     1.747942e+06   \n",
       "mean      4.986729e+05     3.508711e+05     5.308998e+06   \n",
       "std       1.186382e+06     1.288439e+06     1.083447e+07   \n",
       "min       0.000000e+00     0.000000e+00     0.000000e+00   \n",
       "25%       0.000000e+00     0.000000e+00     2.000000e+05   \n",
       "50%       0.000000e+00     0.000000e+00     6.110000e+05   \n",
       "75%       1.000000e+04     0.000000e+00     4.000000e+06   \n",
       "max       2.000000e+07     2.400000e+08     2.050000e+08   \n",
       "\n",
       "       Coverage_Deductible_if_applied       Premium  \\\n",
       "count                    1.747942e+06  1.747942e+06   \n",
       "mean                     2.212304e+01  1.326461e+03   \n",
       "std                      6.322497e+02  3.240886e+03   \n",
       "min                     -1.000000e+05  0.000000e+00   \n",
       "25%                      0.000000e+00  2.020000e+02   \n",
       "50%                      0.000000e+00  8.370000e+02   \n",
       "75%                      0.000000e+00  1.339000e+03   \n",
       "max                      1.000000e+05  5.049320e+05   \n",
       "\n",
       "       Replacement_cost_of_insured_vehicle     lia_class      plia_acc  \\\n",
       "count                         1.747942e+06  1.747942e+06  1.747942e+06   \n",
       "mean                          9.417846e+01  5.528931e-01 -2.702499e-01   \n",
       "std                           8.223623e+01  2.101007e+00  2.043537e-01   \n",
       "min                           1.000000e+00 -1.000000e+00 -3.800000e-01   \n",
       "25%                           5.790000e+01 -1.000000e+00 -3.800000e-01   \n",
       "50%                           7.090000e+01 -1.000000e+00 -3.800000e-01   \n",
       "75%                           9.350000e+01  2.000000e+00 -2.000000e-01   \n",
       "max                           8.915000e+03  1.900000e+01  4.700000e+00   \n",
       "\n",
       "           pdmg_acc  \n",
       "count  1.747942e+06  \n",
       "mean  -1.523599e-01  \n",
       "std    2.401665e-01  \n",
       "min   -6.000000e-01  \n",
       "25%   -4.000000e-01  \n",
       "50%    0.000000e+00  \n",
       "75%    0.000000e+00  \n",
       "max    4.000000e+00  "
      ]
     },
     "execution_count": 5,
     "metadata": {},
     "output_type": "execute_result"
    }
   ],
   "source": [
    "df_policy[['Insured_Amount1','Insured_Amount2','Insured_Amount3','Coverage_Deductible_if_applied','Premium','Replacement_cost_of_insured_vehicle','lia_class','plia_acc','pdmg_acc']].describe()"
   ]
  },
  {
   "cell_type": "code",
   "execution_count": 6,
   "metadata": {
    "collapsed": true
   },
   "outputs": [],
   "source": [
    "df1 = df_policy[df_policy['Main_Insurance_Coverage_Group']=='車責']\n",
    "df2 = df_policy[df_policy['Main_Insurance_Coverage_Group']=='竊盜']\n",
    "df3 = df_policy[df_policy['Main_Insurance_Coverage_Group']=='車損']"
   ]
  },
  {
   "cell_type": "code",
   "execution_count": 7,
   "metadata": {},
   "outputs": [
    {
     "name": "stdout",
     "output_type": "stream",
     "text": [
      "車責 (1253120,)\n",
      "竊盜 (176809,)\n",
      "車損 (318013,)\n",
      "車責 [-1, 0, 1, 2, 3, 4, 5, 6, 7, 8, 9, 10, 11, 12, 13, 14, 15, 16, 17, 18, 19]\n",
      "竊盜 [-1, 0, 1, 2, 3, 4, 5, 6, 7, 8, 9, 10, 11, 12, 13, 14, 15, 16, 17, 18, 19]\n",
      "車損 [-1, 0, 1, 2, 3, 4, 5, 6, 7, 8, 9, 10, 11, 12, 13, 14, 15, 16, 17, 18, 19]\n"
     ]
    }
   ],
   "source": [
    "## 'lia_class'車責本期級數   分級1-19 新戶從4開始 出險（+3) 沒有出險 (-1)  \n",
    "## -1(55%) 0(7.6%) 要怎麼解釋？  \n",
    "\n",
    "# ----->\n",
    "# 解1: -1 0 都當作 1 解2: 當成調整項 +10% x lia_class\n",
    "\n",
    "col = 'lia_class'\n",
    "print('車責',df1[col].shape) #車責 (1253120,)\n",
    "print('竊盜',df2[col].shape) #竊盜 (176809,)\n",
    "print('車損',df3[col].shape) #車損 (318013,)\n",
    "print('車責', sorted(set(df1[col])))\n",
    "print('竊盜', sorted(set(df2[col])))\n",
    "print('車損', sorted(set(df3[col])))"
   ]
  },
  {
   "cell_type": "code",
   "execution_count": 8,
   "metadata": {
    "collapsed": true
   },
   "outputs": [],
   "source": [
    "# for x in sorted(set(df1[col]):\n",
    "#     print(x, df1[df1['lia_class']== x].shape[0]/df1.shape[0]*100)  \n",
    "# '''\n",
    "# (%)\n",
    "# -1  54.632198033707866 \n",
    "# 0   7.66486848825332 \n",
    "# 1   9.491189989785495 \n",
    "# 2   8.888294816138917\n",
    "# 3   7.6516215526046985\n",
    "# 4   8.230975485188969\n",
    "# 5   1.2548678498467825\n",
    "# 6   0.8911357252298264\n",
    "# 7   0.6505362614913177\n",
    "# 8   0.2353326098059244\n",
    "# 9   0.16678370786516852\n",
    "# 10  0.09847420837589378\n",
    "# 11  0.04365104698672114\n",
    "# 12  0.0400600102145046\n",
    "# 13  0.022902834525025534\n",
    "# 14  0.010852911133810011\n",
    "# 15  0.009576098059244127\n",
    "# 16  0.007581077630234934\n",
    "# 17  0.001995020429009193\n",
    "# 18  0.0040698416751787534\n",
    "# 19  0.0030324310520939736\n",
    "# '''"
   ]
  },
  {
   "cell_type": "code",
   "execution_count": 9,
   "metadata": {},
   "outputs": [
    {
     "name": "stdout",
     "output_type": "stream",
     "text": [
      "車責 (1253120,)\n",
      "竊盜 (176809,)\n",
      "車損 (318013,)\n",
      "車責 [-0.38, -0.34999999999999998, -0.29999999999999999, -0.20000000000000001, -0.10000000000000001, 0.0, 0.10000000000000001, 0.29999999999999999, 0.5, 0.69999999999999996, 0.90000000000000002, 1.2, 1.5, 1.8, 2.1000000000000001, 2.3999999999999999, 2.7999999999999998, 3.2000000000000002, 3.7000000000000002, 4.2000000000000002, 4.7000000000000002]\n",
      "竊盜 [-0.38, -0.34999999999999998, -0.29999999999999999, -0.20000000000000001, -0.10000000000000001, 0.0, 0.10000000000000001, 0.29999999999999999, 0.5, 0.69999999999999996, 0.90000000000000002, 1.2, 1.5, 1.8, 2.1000000000000001, 2.3999999999999999, 2.7999999999999998, 3.2000000000000002, 3.7000000000000002, 4.2000000000000002, 4.7000000000000002]\n",
      "車損 [-0.38, -0.34999999999999998, -0.29999999999999999, -0.20000000000000001, -0.10000000000000001, 0.0, 0.10000000000000001, 0.29999999999999999, 0.5, 0.69999999999999996, 0.90000000000000002, 1.2, 1.5, 1.8, 2.1000000000000001, 2.3999999999999999, 2.7999999999999998, 3.2000000000000002, 3.7000000000000002, 4.2000000000000002, 4.7000000000000002]\n"
     ]
    }
   ],
   "source": [
    "## 'plia_acc' 車責賠款係數（竊盜）    1+%\n",
    "col = 'plia_acc'\n",
    "print('車責',df1[col].shape) #車責 (1253120,)\n",
    "print('竊盜',df2[col].shape) #竊盜 (176809,)\n",
    "print('車損',df3[col].shape) #車損 (318013,)\n",
    "print('車責', sorted(set(df1[col])))\n",
    "print('竊盜', sorted(set(df2[col])))\n",
    "print('車損', sorted(set(df3[col])))"
   ]
  },
  {
   "cell_type": "code",
   "execution_count": 10,
   "metadata": {
    "collapsed": true
   },
   "outputs": [],
   "source": [
    "# for x in sorted(set(df2[col])):\n",
    "#     print(x, df2[df2[col]== x].shape[0]/df2.shape[0]*100)  \n",
    "# '''\n",
    "# (%)\n",
    "# -0.38 50.20785141027889\n",
    "# -0.35 8.604765594511592\n",
    "# -0.3 10.203666102969871\n",
    "# -0.2 10.056049183016702\n",
    "# -0.1 9.028386564032374\n",
    "# 0.0 7.749605506507022\n",
    "# 0.1 1.4970957360767834\n",
    "# 0.3 1.0463268272542687\n",
    "# 0.5 0.8099135225016827\n",
    "# 0.7 0.2952338399063396\n",
    "# 0.9 0.1809862620115492\n",
    "# 1.2 0.12612480133929832\n",
    "# 1.5 0.061648445497683946\n",
    "# 1.8 0.062214027566470036\n",
    "# 2.1 0.019229790338727102\n",
    "# 2.4 0.01470513378843837\n",
    "# 2.8 0.015270715857224464\n",
    "# 3.2 0.00848373103179137\n",
    "# 3.7 0.0033934924127165473\n",
    "# 4.2 0.0033934924127165473\n",
    "# 4.7 0.005655820687860912\n",
    "# '''"
   ]
  },
  {
   "cell_type": "code",
   "execution_count": 11,
   "metadata": {},
   "outputs": [
    {
     "name": "stdout",
     "output_type": "stream",
     "text": [
      "車責 (1253120,)\n",
      "竊盜 (176809,)\n",
      "車損 (318013,)\n",
      "車責 [-0.59999999999999998, -0.40000000000000002, -0.20000000000000001, 0.0, 0.20000000000000001, 0.40000000000000002, 0.59999999999999998, 0.80000000000000004, 1.0, 1.2, 1.6000000000000001, 2.0, 4.0]\n",
      "竊盜 [-0.59999999999999998, -0.40000000000000002, -0.20000000000000001, 0.0, 0.20000000000000001, 0.40000000000000002, 0.59999999999999998, 0.80000000000000004, 1.0, 1.2, 2.0, 4.0]\n",
      "車損 [-0.59999999999999998, -0.40000000000000002, -0.20000000000000001, 0.0, 0.20000000000000001, 0.40000000000000002, 0.59999999999999998, 0.80000000000000004, 1.0, 1.2, 1.6000000000000001, 2.0, 4.0]\n"
     ]
    }
   ],
   "source": [
    "## 'pdmg_acc' 車體賠款係數   1+%\n",
    "col = 'pdmg_acc'\n",
    "df1 = df_policy[df_policy['Main_Insurance_Coverage_Group']=='車責']\n",
    "df2 = df_policy[df_policy['Main_Insurance_Coverage_Group']=='竊盜']\n",
    "df3 = df_policy[df_policy['Main_Insurance_Coverage_Group']=='車損']\n",
    "print('車責',df1[col].shape) #車責 (1253120,)\n",
    "print('竊盜',df2[col].shape) #竊盜 (176809,)\n",
    "print('車損',df3[col].shape) #車損 (318013,)\n",
    "print('車責', sorted(set(df1[col])))\n",
    "print('竊盜', sorted(set(df2[col])))\n",
    "print('車損', sorted(set(df3[col])))"
   ]
  },
  {
   "cell_type": "code",
   "execution_count": 12,
   "metadata": {
    "collapsed": true
   },
   "outputs": [],
   "source": [
    "# for x in sorted(set(df3[col])):\n",
    "#     print(x, df3[df3[col]== x].shape[0]/df3.shape[0]*100)  \n",
    "# '''\n",
    "# (%)\n",
    "# -0.6 27.781568678010014\n",
    "# -0.4 14.449409300877637\n",
    "# -0.2 10.640759968932088\n",
    "# 0.0 46.17578526664004\n",
    "# 0.2 0.6241883193454356\n",
    "# 0.4 0.2392983934619025\n",
    "# 0.6 0.05219912393518504\n",
    "# 0.8 0.01918160578341137\n",
    "# 1.0 0.010062481722445308\n",
    "# 1.2 0.00534569341504907\n",
    "# 1.6 0.0006289051076528318\n",
    "# 2.0 0.0003144525538264159\n",
    "# 4.0 0.0012578102153056635\n",
    "# '''"
   ]
  },
  {
   "cell_type": "code",
   "execution_count": 13,
   "metadata": {
    "collapsed": true
   },
   "outputs": [],
   "source": [
    "## Summary: \n",
    "# '''\n",
    "# 'Insured_Amount1'                             : all postive - >negative\n",
    "# 'Insured_Amount2'                             : all postive - >negative\n",
    "# 'Insured_Amount3'                             : all postive - >negative\n",
    "# 'Coverage_Deductible_if_applied'              : -100000 ~ 10000 -> take abs(Positive)\n",
    "# 'Premium'                                     : all postive - > remain\n",
    "# 'Replacement_cost_of_insured_vehicle'         : 1 ~ 8915  -> negative\n",
    "# 'lia_class'                                   : set {-1, 0, 1, 2, 3, 4, 5, 6, 7, 8, 9, 10, \n",
    "#                                                 11, 12, 13, 14, 15, 16, 17, 18, 19} >10 only 0.16%\n",
    "#                                                 convert to 1+ (x * 10%)\n",
    "\n",
    "# 'plia_acc'                                   : set [-0.38, -0.35, -0.3, -0.2, -0.1, 0.0, 0.1, 0.3, 0.5, 0.7, 0.9, \n",
    "#                                                     1.2, 1.5, 1.8, 2.1, 2.4, 2.8, 3.2, 3.7, 4.2, 4.7]\n",
    "#                                                convert to (1+x)%\n",
    "                                               \n",
    "# 'pdmg_acc'                                   : set {-0.6, -0.4, -0.2, 0, 0.2, 0.4, 0.6, 0.8, 1.0, 1.2, 1.6, 2.0, 4.0}\n",
    "#                                                  convert to (1+x)%                                            \n",
    "                                                \n",
    "# '''"
   ]
  },
  {
   "cell_type": "code",
   "execution_count": 14,
   "metadata": {},
   "outputs": [
    {
     "data": {
      "text/html": [
       "<div>\n",
       "<style>\n",
       "    .dataframe thead tr:only-child th {\n",
       "        text-align: right;\n",
       "    }\n",
       "\n",
       "    .dataframe thead th {\n",
       "        text-align: left;\n",
       "    }\n",
       "\n",
       "    .dataframe tbody tr th {\n",
       "        vertical-align: top;\n",
       "    }\n",
       "</style>\n",
       "<table border=\"1\" class=\"dataframe\">\n",
       "  <thead>\n",
       "    <tr style=\"text-align: right;\">\n",
       "      <th></th>\n",
       "      <th>Insured_Amount1</th>\n",
       "      <th>Insured_Amount2</th>\n",
       "      <th>Insured_Amount3</th>\n",
       "      <th>Replacement_cost_of_insured_vehicle</th>\n",
       "    </tr>\n",
       "  </thead>\n",
       "  <tbody>\n",
       "    <tr>\n",
       "      <th>0</th>\n",
       "      <td>-2000000.0</td>\n",
       "      <td>-0.0</td>\n",
       "      <td>-10000000.0</td>\n",
       "      <td>-45.4</td>\n",
       "    </tr>\n",
       "    <tr>\n",
       "      <th>1</th>\n",
       "      <td>-0.0</td>\n",
       "      <td>-0.0</td>\n",
       "      <td>-300000.0</td>\n",
       "      <td>-45.4</td>\n",
       "    </tr>\n",
       "    <tr>\n",
       "      <th>2</th>\n",
       "      <td>-5000000.0</td>\n",
       "      <td>-0.0</td>\n",
       "      <td>-60000000.0</td>\n",
       "      <td>-59.9</td>\n",
       "    </tr>\n",
       "    <tr>\n",
       "      <th>3</th>\n",
       "      <td>-0.0</td>\n",
       "      <td>-0.0</td>\n",
       "      <td>-500000.0</td>\n",
       "      <td>-59.9</td>\n",
       "    </tr>\n",
       "    <tr>\n",
       "      <th>4</th>\n",
       "      <td>-0.0</td>\n",
       "      <td>-0.0</td>\n",
       "      <td>-65000.0</td>\n",
       "      <td>-39.9</td>\n",
       "    </tr>\n",
       "  </tbody>\n",
       "</table>\n",
       "</div>"
      ],
      "text/plain": [
       "   Insured_Amount1  Insured_Amount2  Insured_Amount3  \\\n",
       "0       -2000000.0             -0.0      -10000000.0   \n",
       "1             -0.0             -0.0        -300000.0   \n",
       "2       -5000000.0             -0.0      -60000000.0   \n",
       "3             -0.0             -0.0        -500000.0   \n",
       "4             -0.0             -0.0         -65000.0   \n",
       "\n",
       "   Replacement_cost_of_insured_vehicle  \n",
       "0                                -45.4  \n",
       "1                                -45.4  \n",
       "2                                -59.9  \n",
       "3                                -59.9  \n",
       "4                                -39.9  "
      ]
     },
     "execution_count": 14,
     "metadata": {},
     "output_type": "execute_result"
    }
   ],
   "source": [
    "neg_col = ['Insured_Amount1','Insured_Amount2','Insured_Amount3','Replacement_cost_of_insured_vehicle']\n",
    "df_policy[neg_col] = - df_policy[neg_col]\n",
    "df_policy[neg_col].head()"
   ]
  },
  {
   "cell_type": "code",
   "execution_count": 15,
   "metadata": {},
   "outputs": [
    {
     "data": {
      "text/plain": [
       "0   -12000000.0\n",
       "1     -300000.0\n",
       "2   -65000000.0\n",
       "3     -500000.0\n",
       "4      -65000.0\n",
       "Name: Insured_Amount_overall, dtype: float64"
      ]
     },
     "execution_count": 15,
     "metadata": {},
     "output_type": "execute_result"
    }
   ],
   "source": [
    "# add Insured_Amount_overall\n",
    "df_policy['Insured_Amount_overall'] = df_policy['Insured_Amount1'] + df_policy['Insured_Amount2'] + df_policy['Insured_Amount3']\n",
    "df_policy['Insured_Amount_overall'].head()"
   ]
  },
  {
   "cell_type": "code",
   "execution_count": 16,
   "metadata": {},
   "outputs": [
    {
     "data": {
      "text/plain": [
       "0    0\n",
       "1    0\n",
       "2    0\n",
       "3    0\n",
       "4    0\n",
       "Name: Cancelled, dtype: int64"
      ]
     },
     "execution_count": 16,
     "metadata": {},
     "output_type": "execute_result"
    }
   ],
   "source": [
    "df_policy['Cancelled'] = df_policy.apply(lambda row: 1 if row['Coverage_Deductible_if_applied']<0 else 0, axis = 1)\n",
    "df_policy['Cancelled'].head()"
   ]
  },
  {
   "cell_type": "code",
   "execution_count": 17,
   "metadata": {},
   "outputs": [
    {
     "data": {
      "text/plain": [
       "0.35144186706423897"
      ]
     },
     "execution_count": 17,
     "metadata": {},
     "output_type": "execute_result"
    }
   ],
   "source": [
    "df_policy[df_policy['Coverage_Deductible_if_applied']<0].shape[0]/df_policy.shape[0] * 100 ## 6143 negative -> take abs"
   ]
  },
  {
   "cell_type": "code",
   "execution_count": 18,
   "metadata": {},
   "outputs": [
    {
     "data": {
      "text/plain": [
       "0.0"
      ]
     },
     "execution_count": 18,
     "metadata": {},
     "output_type": "execute_result"
    }
   ],
   "source": [
    "## abs 'Coverage_Deductible_if_applied'\n",
    "df_policy['Coverage_Deductible_if_applied']= [abs(x) for x in df_policy['Coverage_Deductible_if_applied']]\n",
    "df_policy[df_policy['Coverage_Deductible_if_applied']<0].shape[0]/df_policy.shape[0] * 100"
   ]
  },
  {
   "cell_type": "code",
   "execution_count": 19,
   "metadata": {},
   "outputs": [
    {
     "data": {
      "text/html": [
       "<div>\n",
       "<style>\n",
       "    .dataframe thead tr:only-child th {\n",
       "        text-align: right;\n",
       "    }\n",
       "\n",
       "    .dataframe thead th {\n",
       "        text-align: left;\n",
       "    }\n",
       "\n",
       "    .dataframe tbody tr th {\n",
       "        vertical-align: top;\n",
       "    }\n",
       "</style>\n",
       "<table border=\"1\" class=\"dataframe\">\n",
       "  <thead>\n",
       "    <tr style=\"text-align: right;\">\n",
       "      <th></th>\n",
       "      <th>lia_class</th>\n",
       "      <th>l_weight</th>\n",
       "    </tr>\n",
       "  </thead>\n",
       "  <tbody>\n",
       "    <tr>\n",
       "      <th>0</th>\n",
       "      <td>3</td>\n",
       "      <td>1.3</td>\n",
       "    </tr>\n",
       "    <tr>\n",
       "      <th>1</th>\n",
       "      <td>3</td>\n",
       "      <td>1.3</td>\n",
       "    </tr>\n",
       "    <tr>\n",
       "      <th>2</th>\n",
       "      <td>1</td>\n",
       "      <td>1.1</td>\n",
       "    </tr>\n",
       "    <tr>\n",
       "      <th>3</th>\n",
       "      <td>1</td>\n",
       "      <td>1.1</td>\n",
       "    </tr>\n",
       "    <tr>\n",
       "      <th>4</th>\n",
       "      <td>6</td>\n",
       "      <td>1.6</td>\n",
       "    </tr>\n",
       "  </tbody>\n",
       "</table>\n",
       "</div>"
      ],
      "text/plain": [
       "   lia_class  l_weight\n",
       "0          3       1.3\n",
       "1          3       1.3\n",
       "2          1       1.1\n",
       "3          1       1.1\n",
       "4          6       1.6"
      ]
     },
     "execution_count": 19,
     "metadata": {},
     "output_type": "execute_result"
    }
   ],
   "source": [
    "## lia_class -> l_weight  (convert to 1+ (x * 10%))\n",
    "df_policy['l_weight'] = 1+ df_policy['lia_class'] * 0.1\n",
    "df_policy[['lia_class','l_weight']].head()"
   ]
  },
  {
   "cell_type": "code",
   "execution_count": 20,
   "metadata": {},
   "outputs": [
    {
     "data": {
      "text/html": [
       "<div>\n",
       "<style>\n",
       "    .dataframe thead tr:only-child th {\n",
       "        text-align: right;\n",
       "    }\n",
       "\n",
       "    .dataframe thead th {\n",
       "        text-align: left;\n",
       "    }\n",
       "\n",
       "    .dataframe tbody tr th {\n",
       "        vertical-align: top;\n",
       "    }\n",
       "</style>\n",
       "<table border=\"1\" class=\"dataframe\">\n",
       "  <thead>\n",
       "    <tr style=\"text-align: right;\">\n",
       "      <th></th>\n",
       "      <th>plia_acc</th>\n",
       "      <th>p_weight</th>\n",
       "    </tr>\n",
       "  </thead>\n",
       "  <tbody>\n",
       "    <tr>\n",
       "      <th>0</th>\n",
       "      <td>-0.1</td>\n",
       "      <td>0.9</td>\n",
       "    </tr>\n",
       "    <tr>\n",
       "      <th>1</th>\n",
       "      <td>-0.1</td>\n",
       "      <td>0.9</td>\n",
       "    </tr>\n",
       "    <tr>\n",
       "      <th>2</th>\n",
       "      <td>-0.3</td>\n",
       "      <td>0.7</td>\n",
       "    </tr>\n",
       "    <tr>\n",
       "      <th>3</th>\n",
       "      <td>-0.3</td>\n",
       "      <td>0.7</td>\n",
       "    </tr>\n",
       "    <tr>\n",
       "      <th>4</th>\n",
       "      <td>0.3</td>\n",
       "      <td>1.3</td>\n",
       "    </tr>\n",
       "  </tbody>\n",
       "</table>\n",
       "</div>"
      ],
      "text/plain": [
       "   plia_acc  p_weight\n",
       "0      -0.1       0.9\n",
       "1      -0.1       0.9\n",
       "2      -0.3       0.7\n",
       "3      -0.3       0.7\n",
       "4       0.3       1.3"
      ]
     },
     "execution_count": 20,
     "metadata": {},
     "output_type": "execute_result"
    }
   ],
   "source": [
    "## plia_acc -> p_weight  (convert to 1+ x))\n",
    "df_policy['p_weight'] = 1+ df_policy['plia_acc'] \n",
    "df_policy[['plia_acc','p_weight']].head()"
   ]
  },
  {
   "cell_type": "code",
   "execution_count": 21,
   "metadata": {},
   "outputs": [
    {
     "data": {
      "text/html": [
       "<div>\n",
       "<style>\n",
       "    .dataframe thead tr:only-child th {\n",
       "        text-align: right;\n",
       "    }\n",
       "\n",
       "    .dataframe thead th {\n",
       "        text-align: left;\n",
       "    }\n",
       "\n",
       "    .dataframe tbody tr th {\n",
       "        vertical-align: top;\n",
       "    }\n",
       "</style>\n",
       "<table border=\"1\" class=\"dataframe\">\n",
       "  <thead>\n",
       "    <tr style=\"text-align: right;\">\n",
       "      <th></th>\n",
       "      <th>pdmg_acc</th>\n",
       "      <th>pdmg_weight</th>\n",
       "    </tr>\n",
       "  </thead>\n",
       "  <tbody>\n",
       "    <tr>\n",
       "      <th>0</th>\n",
       "      <td>0.0</td>\n",
       "      <td>1.0</td>\n",
       "    </tr>\n",
       "    <tr>\n",
       "      <th>1</th>\n",
       "      <td>0.0</td>\n",
       "      <td>1.0</td>\n",
       "    </tr>\n",
       "    <tr>\n",
       "      <th>2</th>\n",
       "      <td>0.0</td>\n",
       "      <td>1.0</td>\n",
       "    </tr>\n",
       "    <tr>\n",
       "      <th>3</th>\n",
       "      <td>0.0</td>\n",
       "      <td>1.0</td>\n",
       "    </tr>\n",
       "    <tr>\n",
       "      <th>4</th>\n",
       "      <td>0.0</td>\n",
       "      <td>1.0</td>\n",
       "    </tr>\n",
       "  </tbody>\n",
       "</table>\n",
       "</div>"
      ],
      "text/plain": [
       "   pdmg_acc  pdmg_weight\n",
       "0       0.0          1.0\n",
       "1       0.0          1.0\n",
       "2       0.0          1.0\n",
       "3       0.0          1.0\n",
       "4       0.0          1.0"
      ]
     },
     "execution_count": 21,
     "metadata": {},
     "output_type": "execute_result"
    }
   ],
   "source": [
    "## pdmg_acc -> pdmg_weight  (convert to 1+ x))\n",
    "df_policy['pdmg_weight'] = 1+ df_policy['pdmg_acc'] \n",
    "df_policy[['pdmg_acc','pdmg_weight']].head()"
   ]
  },
  {
   "cell_type": "code",
   "execution_count": 22,
   "metadata": {
    "collapsed": true
   },
   "outputs": [],
   "source": [
    "# Replace Coverage_Deductible to actual amount \n",
    "# check :\n",
    "# 00I\n",
    "# 02K\n",
    "# 04M\n",
    "\n",
    "# temp = df_policy[df_policy['Insurance_Coverage']=='04M']\n",
    "# temp_set = sorted(set(temp['Coverage_Deductible_if_applied']))\n",
    "# for x in temp_set:\n",
    "#     print (x, temp[temp['Coverage_Deductible_if_applied']== x].shape[0]/temp.shape[0]*100)  \n",
    "                "
   ]
  },
  {
   "cell_type": "code",
   "execution_count": 23,
   "metadata": {},
   "outputs": [
    {
     "name": "stdout",
     "output_type": "stream",
     "text": [
      "09I {0}\n",
      "10A {0}\n",
      "12L {0}\n",
      "14E {0}\n",
      "14N {0}\n",
      "15F {0}\n",
      "15O {0}\n",
      "16G {0}\n",
      "16P {0}\n",
      "18@ {0}\n",
      "18I {0}\n",
      "20B {0}\n",
      "20K {0}\n",
      "25G {0}\n",
      "26H {0}\n",
      "27I {0}\n",
      "29B {0}\n",
      "29K {0}\n",
      "32N {0}\n",
      "33F {0}\n",
      "33O {0}\n",
      "56K {0}\n"
     ]
    }
   ],
   "source": [
    "replace_code = ['09I','10A','12L','14E','14N','15F','15O','16G','16P','18@','18I','20B','20K','25G','26H','27I',\n",
    "                '29B','29K','32N','33F','33O', '56K']\n",
    "\n",
    "\n",
    "df_policy['Coverage_Deductible_if_applied']=df_policy.apply(lambda row: 0 if row['Insurance_Coverage'] in replace_code \n",
    "                                                      else row['Coverage_Deductible_if_applied'], axis = 1)\n",
    "for x in replace_code:\n",
    "    print(x, set(df_policy[df_policy['Insurance_Coverage'] == x]['Coverage_Deductible_if_applied']))\n"
   ]
  },
  {
   "cell_type": "code",
   "execution_count": null,
   "metadata": {},
   "outputs": [
    {
     "name": "stdout",
     "output_type": "stream",
     "text": [
      "00I 0.09250879033743682\n",
      "02K 0.33302020318751996\n",
      "04M 3.772608015597772\n",
      "51O 0.5011607936647783\n",
      "68E 0.0002288405450524102\n",
      "05N 6.624304467768381\n",
      "14N 0.09067806597701755\n"
     ]
    }
   ],
   "source": [
    "exam =['00I','02K','04M','51O', '68E','05N','14N']\n",
    "for e in exam:\n",
    "    print(e, df_policy[df_policy['Insurance_Coverage']==e].shape[0]/df_policy.shape[0] * 100)"
   ]
  },
  {
   "cell_type": "code",
   "execution_count": null,
   "metadata": {},
   "outputs": [],
   "source": [
    "percentage_code = ['05N','68E','14N']\n",
    "df_policy['Coverage_Deductible_if_applied'] = df_policy.apply(\n",
    "    lambda row: row['Coverage_Deductible_if_applied']* 0.01 if row['Insurance_Coverage'] in percentage_code \n",
    "                                                      else row['Coverage_Deductible_if_applied'], axis = 1)\n",
    "for x in percentage_code:\n",
    "    print(x, set(df_policy[df_policy['Insurance_Coverage'] == x]['Coverage_Deductible_if_applied']))"
   ]
  },
  {
   "cell_type": "code",
   "execution_count": null,
   "metadata": {},
   "outputs": [],
   "source": [
    "cond1 = df_policy['Insurance_Coverage'] =='00I'\n",
    "cond2 = df_policy['Insurance_Coverage'] =='02K'\n",
    "cond3 = df_policy['Insurance_Coverage'] =='51O'\n",
    "cond4 = cond1| cond2 | cond3\n",
    "\n",
    "input1 = 1.0      #1;2;3;8000... (1表示3000/5000/7000;  2表示5000/8000;  3表示5000/8000/10000;  \n",
    "                                #6表示15000; 7表示20000; 8:依條款約定; 其他金額表示每次自負額)\n",
    "replace1 = 5001\n",
    "df_policy.loc[cond4,'Coverage_Deductible_if_applied'] = df_policy.loc[cond4,'Coverage_Deductible_if_applied'].replace(input1, replace1) \n",
    "df_policy[cond4]['Coverage_Deductible_if_applied'].head()"
   ]
  },
  {
   "cell_type": "code",
   "execution_count": null,
   "metadata": {},
   "outputs": [],
   "source": [
    "cond1 = df_policy['Insurance_Coverage'] =='00I'\n",
    "cond2 = df_policy['Insurance_Coverage'] =='02K'\n",
    "cond3 = df_policy['Insurance_Coverage'] =='51O'\n",
    "cond4 = cond1| cond2 | cond3\n",
    "\n",
    "input1 = 2.0     #1;2;3;8000... (1表示3000/5000/7000;  2表示5000/8000;  3表示5000/8000/10000;  \n",
    "                                #6表示15000; 7表示20000; 8:依條款約定; 其他金額表示每次自負額)\n",
    "replace1 = 6501\n",
    "df_policy.loc[cond4,'Coverage_Deductible_if_applied'] = df_policy.loc[cond4,'Coverage_Deductible_if_applied'].replace(input1, replace1) \n",
    "df_policy[cond4]['Coverage_Deductible_if_applied'].head()"
   ]
  },
  {
   "cell_type": "code",
   "execution_count": null,
   "metadata": {},
   "outputs": [],
   "source": [
    "cond1 = df_policy['Insurance_Coverage'] =='00I'\n",
    "cond2 = df_policy['Insurance_Coverage'] =='02K'\n",
    "cond3 = df_policy['Insurance_Coverage'] =='51O'\n",
    "cond4 = cond1| cond2 | cond3\n",
    "\n",
    "input1 = 3.0     #1;2;3;8000... (1表示3000/5000/7000;  2表示5000/8000;  3表示5000/8000/10000;  \n",
    "                                #6表示15000; 7表示20000; 8:依條款約定; 其他金額表示每次自負額)\n",
    "replace1 = 7667\n",
    "df_policy.loc[cond4,'Coverage_Deductible_if_applied'] = df_policy.loc[cond4,'Coverage_Deductible_if_applied'].replace(input1, replace1) \n",
    "df_policy[cond4]['Coverage_Deductible_if_applied'].sample(5)"
   ]
  },
  {
   "cell_type": "code",
   "execution_count": null,
   "metadata": {},
   "outputs": [],
   "source": [
    "set(df_policy['Coverage_Deductible_if_applied'] )"
   ]
  },
  {
   "cell_type": "markdown",
   "metadata": {},
   "source": [
    "### deal with weird dbirth"
   ]
  },
  {
   "cell_type": "code",
   "execution_count": null,
   "metadata": {},
   "outputs": [],
   "source": [
    "### examine Drivers\n",
    "driver = df_policy[['ibirth' , 'dbirth']]\n",
    "print(driver.shape[0])\n",
    "driver.head()"
   ]
  },
  {
   "cell_type": "code",
   "execution_count": null,
   "metadata": {},
   "outputs": [],
   "source": [
    "condition1 = driver['ibirth'].isnull()    # 18.2 %\n",
    "condition2 = driver['dbirth'].isnull()    # 14.8 %\n",
    "\n",
    "condition3 = driver['ibirth'].notnull()   \n",
    "condition4 = driver['dbirth'].notnull()   \n",
    "\n",
    "\n",
    "driver_0N= driver[condition3&condition4]  # both have values  (81.5%)\n",
    "driver_1N= driver[condition1^condition2]  # missing one (3.9%)\n",
    "driver_2N= driver[condition1|condition2]  # missing both (18.4%)\n",
    "\n",
    "print(driver_0N.shape[0]/driver.shape[0])\n",
    "print(driver_1N.shape[0]/driver.shape[0]) \n",
    "print(driver_2N.shape[0]/driver.shape[0])"
   ]
  },
  {
   "cell_type": "code",
   "execution_count": null,
   "metadata": {},
   "outputs": [],
   "source": [
    "# check indiff. in 0N\n",
    "\n",
    "indiff = driver_0N[driver_0N['ibirth']!=driver_0N['dbirth']]\n",
    "print(indiff.shape[0])\n",
    "indiff.sample(10)"
   ]
  },
  {
   "cell_type": "code",
   "execution_count": null,
   "metadata": {},
   "outputs": [],
   "source": [
    "### dbirth has some weird date\n",
    "### check non-null data & sort\n",
    "print(driver['dbirth'].notnull().sum())\n",
    "import datetime\n",
    "a = df_policy[driver['dbirth'].notnull()]['dbirth']\n",
    "b = sorted(a, key=lambda x: datetime.datetime.strptime(x, '%m/%Y'), reverse = True)"
   ]
  },
  {
   "cell_type": "code",
   "execution_count": null,
   "metadata": {},
   "outputs": [],
   "source": [
    "replace_date = {\n",
    "    '09/2658',\n",
    " '09/2658',\n",
    " '09/2658',\n",
    " '09/2658',\n",
    " '10/2622',\n",
    " '10/2622',\n",
    " '10/2622',\n",
    " '10/2622',\n",
    " '02/2611',\n",
    " '02/2611',\n",
    " '02/2611',\n",
    " '02/2611',\n",
    " '02/2611',\n",
    " '02/2611',\n",
    " '11/2602',\n",
    " '11/2602',\n",
    " '11/2602',\n",
    " '11/2602',\n",
    " '11/2602',\n",
    " '11/2602',\n",
    " '11/2602',\n",
    " '11/2602',\n",
    " '10/2582',\n",
    " '10/2582',\n",
    " '10/2582',\n",
    " '10/2582',\n",
    " '10/2581',\n",
    " '10/2581',\n",
    " '04/2579',\n",
    " '04/2579',\n",
    " '04/2579',\n",
    " '04/2579',\n",
    " '04/2579',\n",
    " '04/2579',\n",
    " '04/2579',\n",
    " '04/2579',\n",
    " '04/2579',\n",
    " '08/2569',\n",
    " '08/2569',\n",
    " '08/2569',\n",
    " '08/2569',\n",
    " '08/2569',\n",
    " '10/2521',\n",
    " '11/2512',\n",
    " '11/2512',\n",
    " '11/2512',\n",
    " '11/2512',\n",
    " '11/2512',\n",
    " '01/2512',\n",
    " '01/2512',\n",
    " '01/2512',\n",
    " '01/2512',\n",
    " '01/2512',\n",
    " '10/2472',\n",
    " '10/2472',\n",
    " '08/2471',\n",
    " '08/2471',\n",
    " '08/2471',\n",
    " '08/2471',\n",
    " '08/2471',\n",
    " '11/2464',\n",
    " '11/2464',\n",
    " '11/2464',\n",
    " '03/2464',\n",
    " '03/2464',\n",
    " '12/2453',\n",
    " '12/2453',\n",
    " '12/2453',\n",
    " '12/2453',\n",
    " '01/2442',\n",
    " '01/2442',\n",
    " '01/2442',\n",
    " '01/2442',\n",
    " '01/2442',\n",
    " '01/2442',\n",
    " '07/2280',\n",
    " '07/2280',\n",
    " '07/2280',\n",
    " '07/2280',\n",
    " '07/2280',\n",
    " '07/2280',\n",
    " '07/2280',\n",
    " '07/2280',\n",
    " '02/2152',\n",
    " '02/2152',\n",
    " '02/2152',\n",
    " '02/2152',\n",
    " '02/2152',\n",
    " '02/2152',\n",
    " '02/2152',\n",
    " '02/2152',\n",
    " '02/2152'}\n",
    "len(replace_date)"
   ]
  },
  {
   "cell_type": "code",
   "execution_count": null,
   "metadata": {},
   "outputs": [],
   "source": [
    "replace_date_set = set(replace_date)\n",
    "len(replace_date_set)"
   ]
  },
  {
   "cell_type": "code",
   "execution_count": null,
   "metadata": {},
   "outputs": [],
   "source": [
    "date_switch = df_policy.apply(lambda row: True if row['dbirth'] in replace_date_set else False, axis = 1)\n",
    "df_policy_selected = df_policy[date_switch]\n",
    "print(df_policy_selected.shape[0])\n",
    "df_policy_selected.head()"
   ]
  },
  {
   "cell_type": "code",
   "execution_count": null,
   "metadata": {},
   "outputs": [],
   "source": [
    "selected_idx = df_policy_selected.index.values\n",
    "selected_idx"
   ]
  },
  {
   "cell_type": "code",
   "execution_count": null,
   "metadata": {},
   "outputs": [],
   "source": [
    "df_policy_selected_date = df_policy[['ibirth', 'dbirth','fassured']].loc[df_policy_selected.index]\n",
    "# \"1:國內自然人 2:國內法人 3:國外自然人 4:國外法人 5:自然人ID有誤 6:法人ID有誤\"\n",
    "df1 = df_policy_selected_date[df_policy_selected_date['fassured']==1]\n",
    "df2 = df_policy_selected_date[df_policy_selected_date['fassured']==2]\n",
    "print(df1.shape[0])\n",
    "print(df2.shape[0])"
   ]
  },
  {
   "cell_type": "code",
   "execution_count": null,
   "metadata": {},
   "outputs": [],
   "source": [
    "df2.head() ## replace as NaN  (as ibirth)"
   ]
  },
  {
   "cell_type": "code",
   "execution_count": null,
   "metadata": {},
   "outputs": [],
   "source": [
    "df1.head() ## replace as ibirth"
   ]
  },
  {
   "cell_type": "code",
   "execution_count": null,
   "metadata": {},
   "outputs": [],
   "source": [
    "df_policy['ID']=df_policy.index   # create ID column for ref.\n",
    "df_policy.head()"
   ]
  },
  {
   "cell_type": "code",
   "execution_count": null,
   "metadata": {
    "collapsed": true
   },
   "outputs": [],
   "source": [
    "### replace weird date as ibirth\n",
    "df_policy['dbirth_new'] = df_policy.apply(lambda row: row['ibirth'] if row['ID'] in selected_idx \n",
    "                                          else row['dbirth'], axis = 1)"
   ]
  },
  {
   "cell_type": "code",
   "execution_count": null,
   "metadata": {},
   "outputs": [],
   "source": [
    "df_policy[['ibirth', 'dbirth', 'fassured','dbirth_new']].loc[selected_idx].sample(10)"
   ]
  },
  {
   "cell_type": "code",
   "execution_count": null,
   "metadata": {},
   "outputs": [],
   "source": [
    "df_policy['dbirth'] = df_policy['dbirth_new']\n",
    "df_policy = df_policy.drop(['dbirth_new','ID'], axis =1)\n",
    "df_policy.head()"
   ]
  },
  {
   "cell_type": "code",
   "execution_count": null,
   "metadata": {},
   "outputs": [],
   "source": [
    "print(df_policy.shape)"
   ]
  },
  {
   "cell_type": "code",
   "execution_count": null,
   "metadata": {
    "collapsed": true
   },
   "outputs": [],
   "source": [
    "## create features from these datetime columns later...."
   ]
  },
  {
   "cell_type": "markdown",
   "metadata": {},
   "source": [
    "### claim"
   ]
  },
  {
   "cell_type": "code",
   "execution_count": null,
   "metadata": {},
   "outputs": [],
   "source": [
    "#df_claim = pd.read_csv('../Tbrain_Insurance/policy_claim/claim_0702.csv')\n",
    "print(df_claim.shape)  # 20 items\n",
    "print('unique:',df_claim['Policy_Number'].nunique()) #35895 unique Policy Number\n",
    "pd.set_option('display.max_columns', None)  ## show all columns\n",
    "print(df_claim.columns)\n",
    "df_claim.head()"
   ]
  },
  {
   "cell_type": "code",
   "execution_count": null,
   "metadata": {},
   "outputs": [],
   "source": [
    "df_claim.nunique()              \n",
    "# shape(69613, 20)\n",
    "# unique Policy_Number: 35895 "
   ]
  },
  {
   "cell_type": "code",
   "execution_count": null,
   "metadata": {},
   "outputs": [],
   "source": [
    "df_policy_claim = df_policy.merge(df_claim, left_on=['Policy_Number', 'Insurance_Coverage'], \n",
    "                                  right_on=['Policy_Number', 'Coverage'], how = 'left').reset_index()\n",
    "df_policy_claim = df_policy_claim.drop(['index'], axis = 1\n",
    "                                      )\n",
    "print('df_policy: ', df_policy.shape)\n",
    "print('df_claim: ', df_claim.shape)\n",
    "print('df_policy_claim: ', df_policy_claim.shape)\n"
   ]
  },
  {
   "cell_type": "code",
   "execution_count": null,
   "metadata": {},
   "outputs": [],
   "source": [
    "## check date format\n",
    "date_cols = ['ibirth','dbirth','Manafactured_Year_and_Month']\n",
    "# date_cols = ['DOB_of_Driver','Accident_Date','Accident_Time']\n",
    "\n",
    "### fill NaN as ('10:01')\n",
    "df= df_policy_claim\n",
    "\n",
    "cols = ['Accident_Time']\n",
    "for col in cols:\n",
    "    print(df[col].isnull().sum())\n",
    "    df[col]=df[col].fillna(str('10:01'))\n",
    "    print(col, df[col].isnull().sum())\n",
    "\n",
    "### fill NaN as ('09/2018' / '2018/09')\n",
    "cols = ['ibirth','dbirth','DOB_of_Driver']\n",
    "for col in cols:\n",
    "    print(df[col].isnull().sum())\n",
    "    df[col]=df[col].fillna('09/2018')\n",
    "    print(col, df[col].isnull().sum())\n",
    "\n",
    "cols = ['Accident_Date']\n",
    "for col in cols:\n",
    "    print(df[col].isnull().sum())\n",
    "    df[col]=df[col].fillna('2018/09')\n",
    "    print(col, df[col].isnull().sum())\n",
    "\n",
    "df.isnull().sum().sum()    \n",
    "\n",
    "## convert datetime columns to timestamp \n",
    "date_col={'ibirth','dbirth','DOB_of_Driver'}\n",
    "for col in date_col:\n",
    "    df[col] =  pd.to_datetime(df[col], format='%m/%Y', errors='ignore')  #'%Y-%m-%d %H:%M:%S'   #errors='coerce'\n",
    "\n",
    "date_col={'Accident_Date'}\n",
    "for col in date_col:\n",
    "    df[col] =  pd.to_datetime(df[col], format='%Y/%m',errors='ignore')  #'%Y-%m-%d %H:%M:%S'\n",
    "\n",
    "date_col={'Accident_Time'}\n",
    "for col in date_col:\n",
    "    df[col] =  pd.to_datetime(df[col], format='%H:%M',errors='ignore') #'%Y-%m-%d %H:%M:%S'\n",
    "\n",
    "date_col={'Manafactured_Year_and_Month'}\n",
    "for col in date_col:\n",
    "    df[col] =  pd.to_datetime(df[col], format='%Y', errors='ignore')  #'%Y-%m-%d %H:%M:%S'   #errors='coerce'\n",
    "\n",
    "df[date_cols].info(verbose= True)"
   ]
  },
  {
   "cell_type": "markdown",
   "metadata": {},
   "source": [
    "### Extract Features from datetime data then drop datetime64 columns"
   ]
  },
  {
   "cell_type": "code",
   "execution_count": null,
   "metadata": {
    "collapsed": true
   },
   "outputs": [],
   "source": [
    "df_policy_claim = df"
   ]
  },
  {
   "cell_type": "code",
   "execution_count": null,
   "metadata": {},
   "outputs": [],
   "source": [
    "df.columns"
   ]
  },
  {
   "cell_type": "code",
   "execution_count": null,
   "metadata": {
    "collapsed": true
   },
   "outputs": [],
   "source": [
    "### vehicles\n",
    "Cal_year = pd.to_datetime('01/2017', format ='%m/%Y')\n",
    "daysdiff = Cal_year - df['Manafactured_Year_and_Month']\n",
    "components = daysdiff.dt.components #  https://stackoverflow.com/questions/18215317/extracting-days-from-a-numpy-timedelta64-value\n",
    "years = components.days/365\n",
    "df['V_age'] = years\n",
    "df['V_age'].head()\n",
    "\n",
    "## applicant\n",
    "daysdiff = Cal_year-df['ibirth']\n",
    "components = daysdiff.dt.components #  https://stackoverflow.com/questions/18215317/extracting-days-from-a-numpy-timedelta64-value\n",
    "years = components.days/365\n",
    "df['i_age'] = years\n",
    "df['i_age'].head()\n",
    "\n",
    "import math\n",
    "df['i_age_up'] = df.apply(lambda row: math.ceil(row['i_age']), axis = 1)\n",
    "df['i_age_mode5'] = df.apply(lambda row: (row['i_age_up']%5), axis = 1)\n",
    "df['i_age_mode5'].head()\n",
    "\n",
    "condm= df['fsex'] == 1\n",
    "condf= df['fsex'] == 2\n",
    "cond_c1 = df['Main_Insurance_Coverage_Group'] == '竊盜'\n",
    "cond_c2 = df['Main_Insurance_Coverage_Group'] == '車損'\n",
    "cond_c3 = df['Main_Insurance_Coverage_Group'] == '車責'\n",
    "cond_c23 = cond_c2 | cond_c3\n",
    "\n",
    "## predict premium\n",
    "# cat 1 sex 1 age 21 26 31 61 -> premium * (92, 63.91304348, 68.02721088, 105)%\n",
    "# cat 1 sex 2 age 21 26 31 61 -> premium * (92.1686747, 69.28104575,86.79245283,85.86956522)%\n",
    "# cat 2,3 sex 1 age 21 26 31 61 -> premium * (92.06349206, 66.09195402 ,86.95652174 ,107)%\n",
    "# cat 2,3 sex 2 age 21 26 31 61 -> premium * (92.35294118, 66.24203822, 86.53846154, 106.6666667)%"
   ]
  },
  {
   "cell_type": "code",
   "execution_count": null,
   "metadata": {
    "collapsed": true
   },
   "outputs": [],
   "source": [
    "df['Premium_Pred'] = df['Premium']"
   ]
  },
  {
   "cell_type": "code",
   "execution_count": null,
   "metadata": {
    "collapsed": true
   },
   "outputs": [],
   "source": [
    "## calculate next premium_pred based on sex and ages \n",
    "# group 1 sex M all age\n",
    "\n",
    "age_list = [21,26,31,61]\n",
    "weight_list = [0.92, 0.6391304348, 0.6802721088, 1.05]\n",
    "\n",
    "for a in age_list:\n",
    "    cond_age = df['i_age_up']==a\n",
    "    cond = cond_c1 & condm & cond_age \n",
    "    weight = weight_list[age_list.index(a)]\n",
    "    df.loc[cond,'Premium_Pred'] = df.loc[cond, 'Premium'] * weight\n"
   ]
  },
  {
   "cell_type": "code",
   "execution_count": null,
   "metadata": {
    "collapsed": true
   },
   "outputs": [],
   "source": [
    "## calculate next premium_pred based on sex and ages \n",
    "# group 1 sex F all age\n",
    "\n",
    "age_list = [21,26,31,61]\n",
    "weight_list = [0.921686747, 0.6928104575, 0.8679245283, 0.8586956522]\n",
    "\n",
    "for a in age_list:\n",
    "    cond_age = df['i_age_up']==a\n",
    "    cond = cond_c1 & condf & cond_age \n",
    "    weight = weight_list[age_list.index(a)]\n",
    "    df.loc[cond,'Premium_Pred'] = df.loc[cond, 'Premium'] * weight"
   ]
  },
  {
   "cell_type": "code",
   "execution_count": null,
   "metadata": {
    "collapsed": true
   },
   "outputs": [],
   "source": [
    "## calculate next premium_pred based on sex and ages \n",
    "# group 23 sex M all age\n",
    "\n",
    "age_list = [21,26,31,61]\n",
    "weight_list = [0.9206349206, 0.6609195402 ,0.8695652174 ,1.07]\n",
    "\n",
    "for a in age_list:\n",
    "    cond_age = df['i_age_up']==a\n",
    "    cond = cond_c23 & condm & cond_age \n",
    "    weight = weight_list[age_list.index(a)]\n",
    "    df.loc[cond,'Premium_Pred'] = df.loc[cond, 'Premium'] * weight\n",
    "\n",
    "\n",
    "## calculate next premium_pred based on sex and ages \n",
    "# group 23 sex F all age\n",
    "\n",
    "age_list = [21,26,31,61]\n",
    "weight_list = [0.9235294118, 0.6624203822, 0.8653846154, 1.066666667]\n",
    "\n",
    "for a in age_list:\n",
    "    cond_age = df['i_age_up']==a\n",
    "    cond = cond_c23 & condf & cond_age \n",
    "    weight = weight_list[age_list.index(a)]\n",
    "    df.loc[cond,'Premium_Pred'] = df.loc[cond, 'Premium'] * weight"
   ]
  },
  {
   "cell_type": "code",
   "execution_count": null,
   "metadata": {},
   "outputs": [],
   "source": [
    "## driver\n",
    "daysdiff = Cal_year-df['dbirth']\n",
    "components = daysdiff.dt.components #  https://stackoverflow.com/questions/18215317/extracting-days-from-a-numpy-timedelta64-value\n",
    "years = components.days/365\n",
    "df['d_age'] = years\n",
    "df['d_age'].head()\n",
    "\n",
    "### driver\n",
    "daysdiff = Cal_year-df['DOB_of_Driver']\n",
    "components = daysdiff.dt.components #  https://stackoverflow.com/questions/18215317/extracting-days-from-a-numpy-timedelta64-value\n",
    "years = components.days/365\n",
    "df['Dr_age'] = years\n",
    "df['Dr_age'].head()\n",
    "\n",
    "# set(df_claim['Accident_Date'])  # between 2015/01 -> 2016/12    24months\n",
    "\n",
    "daysdiff = Cal_year-df['Accident_Date']\n",
    "components = daysdiff.dt.components #  https://stackoverflow.com/questions/18215317/extracting-days-from-a-numpy-timedelta64-value\n",
    "months = components.days/30\n",
    "df['Accident_Month_ago'] = months\n",
    "df['Accident_Month_ago'].sample(10)\n",
    "\n",
    "from datetime import datetime, date\n",
    "df['Acc_DayOfWeek'] = df.apply(lambda row: row['Accident_Date'].weekday(), axis =1)\n",
    "df['Acc_DayOfWeek'][:5]  \n",
    "\n",
    "daysdiff = Cal_year-df['Accident_Time']\n",
    "components = daysdiff.dt.components #  https://stackoverflow.com/questions/18215317/extracting-days-from-a-numpy-timedelta64-value\n",
    "hours = components.hours\n",
    "df['Accident_Hour'] = hours\n",
    "df['Accident_Hour'].sample(10)\n",
    "\n",
    "drop_date_cols = ['ibirth', 'dbirth', 'DOB_of_Driver','Accident_Date', \n",
    "                  'Accident_Time','Manafactured_Year_and_Month']\n",
    "df = df.drop (drop_date_cols, axis = 1)\n",
    "\n",
    "print(df.shape)"
   ]
  },
  {
   "cell_type": "code",
   "execution_count": null,
   "metadata": {},
   "outputs": [],
   "source": [
    "df_policy_claim = df\n",
    "df_policy_claim.sample(5)"
   ]
  },
  {
   "cell_type": "code",
   "execution_count": null,
   "metadata": {},
   "outputs": [],
   "source": [
    "df_policy_claim.nunique()  "
   ]
  },
  {
   "cell_type": "code",
   "execution_count": null,
   "metadata": {},
   "outputs": [],
   "source": [
    "# check missing percentage:\n",
    "df_policy_claim.isnull().sum()/df_policy_claim.shape[0] * 100  # prior_Policy_Number  18.8 cancelled"
   ]
  },
  {
   "cell_type": "code",
   "execution_count": null,
   "metadata": {
    "collapsed": true
   },
   "outputs": [],
   "source": [
    "# same_cols=[\"Insured's_ID\", 'Prior_Policy_Number', 'Cancellation',\n",
    "#        'Vehicle_identifier', 'Vehicle_Make_and_Model1',\n",
    "#        'Vehicle_Make_and_Model2', 'Manafactured_Year_and_Month',\n",
    "#        'Engine_Displacement_(Cubic_Centimeter)', 'Imported_or_Domestic_Car',\n",
    "#        'Coding_of_Vehicle_Branding_&_Type', 'qpt', 'fpt',\n",
    "#        'Replacement_cost_of_insured_vehicle', 'Distribution_Channel',\n",
    "#        'Multiple_Products_with_TmNewa_(Yes_or_No?)', 'lia_class', 'plia_acc',\n",
    "#        'pdmg_acc', 'fassured', 'ibirth', 'fsex', 'fmarriage', 'aassured_zip',\n",
    "#        'iply_area', 'dbirth', 'fequipment1', 'fequipment2', 'fequipment3',\n",
    "#        'fequipment4', 'fequipment5', 'fequipment6', 'fequipment9',\n",
    "#        'nequipment9']\n",
    "\n",
    "# diff_cols=['Main_Insurance_Coverage_Group', 'Insurance_Coverage',\n",
    "#        'Insured_Amount1', 'Insured_Amount2', 'Insured_Amount3','Coverage_Deductible_if_applied', 'Premium']"
   ]
  },
  {
   "cell_type": "code",
   "execution_count": null,
   "metadata": {
    "collapsed": true
   },
   "outputs": [],
   "source": [
    "# Nature_of_the_claim\t1.賠付 2.追償\n",
    "# Salvage_or_Subrogation? 追償金額 (Nature_of_the_claim 才有值)\n",
    "# Driver's_Replationship_with_Insured \"1:被保險人本人 2:被保險人親友 3:被保險人員工 4:租用被保險車輛 5:其他, 6:配偶, 7:子女\""
   ]
  },
  {
   "cell_type": "markdown",
   "metadata": {},
   "source": [
    "## Create Features from diff_cols"
   ]
  },
  {
   "cell_type": "code",
   "execution_count": null,
   "metadata": {
    "collapsed": true
   },
   "outputs": [],
   "source": [
    "# Main_Insurance_Coverage_Group\t險種分類 Insurance_Coverage\t險種代碼 Insured_Amount1\t保額一 Insured_Amount2\t保額二 \n",
    "# Insured_Amount3\t保額三 Coverage_Deductible_if_applied\t自負額 Premium\t簽單保費"
   ]
  },
  {
   "cell_type": "code",
   "execution_count": null,
   "metadata": {},
   "outputs": [],
   "source": [
    "# Segment these: so we can create features for this\n",
    "segment=['Cancellation','Imported_or_Domestic_Car','qpt','Main_Insurance_Coverage_Group',\n",
    "         'Insurance_Coverage','fassured','fsex','fmarriage','iply_area',   ##policy-claim\n",
    "         'Nature_of_the_claim',\"Driver's_Gender\",\"Driver's_Relationship_with_Insured\",'Marital_Status_of_Driver',\n",
    "         'Cause_of_Loss','Claim_Status_(close,_open,_reopen_etc)','Coverage']\n",
    "\n",
    "df = df_policy_claim\n",
    "# get dummy on these columns (for those annon id columns, convert to label first (one-hot))\n",
    "print('Shape of data before one-hot : {}'.format(df.shape))\n",
    "# 1. one-hot encode:\n",
    "\n",
    "cols = ['iply_area','Cause_of_Loss']\n",
    "# process columns, apply LabelEncoder to categorical features\n",
    "from sklearn.preprocessing import LabelEncoder\n",
    "for c in cols:\n",
    "    lbl = LabelEncoder() \n",
    "    lbl.fit(list(df[c].values)) \n",
    "    df[c] = lbl.transform(list(df[c].values))    \n",
    "print('Shape of data after one-hot : {}'.format(df.shape))\n",
    "\n",
    "# 2. get dummy :\n",
    "df = df\n",
    "df_dummy = pd.get_dummies(df, columns=segment)\n",
    "print('Shape of data after get dummy : {}'.format(df_dummy.shape))\n",
    "df_dummy.head()"
   ]
  },
  {
   "cell_type": "code",
   "execution_count": null,
   "metadata": {
    "collapsed": true
   },
   "outputs": [],
   "source": [
    "# print(df_dummy.columns[:60])\n",
    "# print(df_dummy.columns[60:120])\n",
    "# print(df_dummy.columns[120:180])\n",
    "# print(df_dummy.columns[180:240])\n",
    "# print(df_dummy.columns[240:])"
   ]
  },
  {
   "cell_type": "code",
   "execution_count": null,
   "metadata": {
    "collapsed": true
   },
   "outputs": [],
   "source": [
    "## columns\n",
    "index_col = ['Policy_Number']\n",
    "\n",
    "first_cols=['Cancellation_ ', 'Cancellation_Y','Imported_or_Domestic_Car_10',\n",
    "       'Imported_or_Domestic_Car_20', 'Imported_or_Domestic_Car_21','Imported_or_Domestic_Car_22', \n",
    "            'Imported_or_Domestic_Car_23','Imported_or_Domestic_Car_24', 'Imported_or_Domestic_Car_30',\n",
    "       'Imported_or_Domestic_Car_40', 'Imported_or_Domestic_Car_50','Imported_or_Domestic_Car_90',\n",
    "            'qpt_2.0', 'qpt_3.0', 'qpt_4.0', 'qpt_5.0', 'qpt_6.0', 'qpt_7.0', 'qpt_8.0', 'qpt_9.0', \n",
    "            'qpt_11.0','qpt_12.0', 'qpt_13.0', 'qpt_17.0', 'qpt_18.0', 'qpt_19.0', 'qpt_20.0',\n",
    "       'qpt_21.0','qpt_22.0', 'qpt_23.0', 'qpt_24.0','fassured_1',\n",
    "       'fassured_2', 'fassured_3', 'fassured_6', 'fsex_ ', 'fsex_1', 'fsex_2',\n",
    "       'fmarriage_ ', 'fmarriage_1', 'fmarriage_2', 'iply_area_0',\n",
    "       'iply_area_1', 'iply_area_2', 'iply_area_3', 'iply_area_4',\n",
    "       'iply_area_5', 'iply_area_6', 'iply_area_7', 'iply_area_8',\n",
    "       'iply_area_9', 'iply_area_10', 'iply_area_11', 'iply_area_12',\n",
    "       'iply_area_13', 'iply_area_14', 'iply_area_15', 'iply_area_16',\n",
    "       'iply_area_17', 'iply_area_18', 'iply_area_19', 'iply_area_20',\n",
    "       'iply_area_21','fequipment1','fequipment2','fequipment3','fequipment4','fequipment5',\n",
    "            'fequipment6','fequipment9','nequipment9','Engine_Displacement_(Cubic_Centimeter)',\n",
    "            'Replacement_cost_of_insured_vehicle','Distribution_Channel',\n",
    "            'Multiple_Products_with_TmNewa_(Yes_or_No?)','lia_class','plia_acc','pdmg_acc',\n",
    "            'aassured_zip','l_weight', 'p_weight', 'pdmg_weight', \n",
    "           'At_Fault?','Marital_Status_of_Driver_1.0','Marital_Status_of_Driver_2.0',\n",
    "              \"Driver\\'s_Gender_1.0\",\"Driver\\'s_Gender_2.0\", \"Driver\\'s_Relationship_with_Insured_1.0\",\n",
    "            \"Driver\\'s_Relationship_with_Insured_2.0\", \"Driver\\'s_Relationship_with_Insured_3.0\",\n",
    "            \"Driver\\'s_Relationship_with_Insured_4.0\",\"Driver\\'s_Relationship_with_Insured_5.0\", \n",
    "            \"Driver\\'s_Relationship_with_Insured_6.0\", \"Driver\\'s_Relationship_with_Insured_7.0\"]\n",
    "\n",
    "\n",
    "sum_cols = ['Insured_Amount1','Insured_Amount2', 'Insured_Amount3','Insured_Amount_overall', 'Main_Insurance_Coverage_Group_竊盜',\n",
    "       'Main_Insurance_Coverage_Group_車損', 'Main_Insurance_Coverage_Group_車責',\n",
    "       'Insurance_Coverage_00I', 'Insurance_Coverage_01A',\n",
    "       'Insurance_Coverage_01J', 'Insurance_Coverage_02K',\n",
    "       'Insurance_Coverage_03L', 'Insurance_Coverage_04M',\n",
    "       'Insurance_Coverage_05E', 'Insurance_Coverage_05N',\n",
    "       'Insurance_Coverage_06F', 'Insurance_Coverage_07P',\n",
    "       'Insurance_Coverage_08H', 'Insurance_Coverage_09@',\n",
    "       'Insurance_Coverage_09I', 'Insurance_Coverage_10A',\n",
    "       'Insurance_Coverage_12L', 'Insurance_Coverage_14E',\n",
    "       'Insurance_Coverage_14N', 'Insurance_Coverage_15F',\n",
    "       'Insurance_Coverage_15O', 'Insurance_Coverage_16G',\n",
    "       'Insurance_Coverage_16P', 'Insurance_Coverage_18@',\n",
    "       'Insurance_Coverage_18I', 'Insurance_Coverage_20B',\n",
    "       'Insurance_Coverage_20K', 'Insurance_Coverage_25G',\n",
    "       'Insurance_Coverage_26H', 'Insurance_Coverage_27I',\n",
    "       'Insurance_Coverage_29B', 'Insurance_Coverage_29K',\n",
    "       'Insurance_Coverage_32N', 'Insurance_Coverage_33F',\n",
    "       'Insurance_Coverage_33O', 'Insurance_Coverage_34P',\n",
    "       'Insurance_Coverage_35H', 'Insurance_Coverage_36I',\n",
    "       'Insurance_Coverage_37J', 'Insurance_Coverage_40M',\n",
    "       'Insurance_Coverage_41E', 'Insurance_Coverage_41N',\n",
    "       'Insurance_Coverage_42F', 'Insurance_Coverage_45@',\n",
    "       'Insurance_Coverage_46A', 'Insurance_Coverage_47B',\n",
    "       'Insurance_Coverage_51O', 'Insurance_Coverage_55J',\n",
    "       'Insurance_Coverage_56B', 'Insurance_Coverage_56K',\n",
    "       'Insurance_Coverage_57C', 'Insurance_Coverage_57L',\n",
    "       'Insurance_Coverage_65K', 'Insurance_Coverage_66C',\n",
    "       'Insurance_Coverage_66L', 'Insurance_Coverage_67D',\n",
    "       'Insurance_Coverage_68E', 'Insurance_Coverage_68N',\n",
    "       'Insurance_Coverage_70G', 'Insurance_Coverage_70P',\n",
    "       'Insurance_Coverage_71H', 'Insurance_Coverage_72@','Premium', 'Premium_Pred',  # policy_claim\n",
    "           'Paid_Loss_Amount','paid_Expenses_Amount','Salvage_or_Subrogation?', \n",
    "           'Deductible', 'number_of_claimants', 'Coverage_00I',\n",
    "            'Coverage_01A', 'Coverage_02K', 'Coverage_03L', 'Coverage_04M',\n",
    "            'Coverage_05E', 'Coverage_05N', 'Coverage_06F', 'Coverage_07P',\n",
    "       'Coverage_08H', 'Coverage_09@', 'Coverage_10A', 'Coverage_12L',\n",
    "       'Coverage_14E', 'Coverage_14N', 'Coverage_15F', 'Coverage_15O',\n",
    "       'Coverage_16G', 'Coverage_16P', 'Coverage_18@', 'Coverage_18I',\n",
    "       'Coverage_20B', 'Coverage_20K', 'Coverage_25G', 'Coverage_26H',\n",
    "       'Coverage_29B', 'Coverage_29K', 'Coverage_32N', 'Coverage_33F',\n",
    "       'Coverage_33O', 'Coverage_34P', 'Coverage_35H', 'Coverage_36I',\n",
    "       'Coverage_40M', 'Coverage_41E', 'Coverage_41N', 'Coverage_42F',\n",
    "       'Coverage_45@', 'Coverage_46A', 'Coverage_51O', 'Coverage_55J',\n",
    "       'Coverage_56B', 'Coverage_56K', 'Coverage_57C', 'Coverage_57L',\n",
    "       'Coverage_66L', 'Coverage_70G', 'Coverage_70P',\n",
    "             'Cause_of_Loss_0', 'Cause_of_Loss_1',\n",
    "       'Cause_of_Loss_2', 'Cause_of_Loss_3', 'Cause_of_Loss_4',\n",
    "       'Cause_of_Loss_5', 'Cause_of_Loss_6', 'Cause_of_Loss_7',\n",
    "       'Cause_of_Loss_8', 'Cause_of_Loss_9', 'Cause_of_Loss_10',\n",
    "       'Cause_of_Loss_11', 'Cause_of_Loss_12', 'Cause_of_Loss_13',\n",
    "       'Cause_of_Loss_14', 'Cause_of_Loss_15', 'Cause_of_Loss_16','Nature_of_the_claim_1.0',\n",
    "       'Nature_of_the_claim_2.0','Claim_Status_(close,_open,_reopen_etc)_0.0',\n",
    "            'Claim_Status_(close,_open,_reopen_etc)_1.0']\n",
    "\n",
    "\n",
    "\n",
    "count_cols = ['Prior_Policy_Number','Claim_Number']\n",
    "\n",
    "mean_cols =['Insured_Amount1','Insured_Amount2', 'Insured_Amount3','Insured_Amount_overall',  \n",
    "            'Cancelled', 'Coverage_Deductible_if_applied','Premium',  ## policy_claim\n",
    "           'Paid_Loss_Amount','paid_Expenses_Amount','Salvage_or_Subrogation?', \n",
    "           'Deductible','number_of_claimants']\n",
    "            "
   ]
  },
  {
   "cell_type": "code",
   "execution_count": null,
   "metadata": {},
   "outputs": [],
   "source": [
    "print('Shape of data after get dummy : {}'.format(df_dummy.shape))"
   ]
  },
  {
   "cell_type": "code",
   "execution_count": null,
   "metadata": {},
   "outputs": [],
   "source": [
    "#first\n",
    "df_policy_claim_grouped_first = df_dummy.groupby(index_col)[first_cols].first().reset_index()\n",
    "print('unique:',df_policy_claim[index_col].nunique()) \n",
    "print(df_policy_claim_grouped_first.shape)  # == 351,273 unique Policy Number\n",
    "df_policy_claim_grouped_first.head()   "
   ]
  },
  {
   "cell_type": "code",
   "execution_count": null,
   "metadata": {},
   "outputs": [],
   "source": [
    "# sum\n",
    "df_policy_claim_grouped_sum = df_dummy.groupby(index_col)[sum_cols].sum().reset_index()\n",
    "print('unique:',df_policy_claim[index_col].nunique()) \n",
    "print(df_policy_claim_grouped_sum.shape)  # == 351,273 unique Policy Number\n",
    "df_policy_claim_grouped_sum.head()   "
   ]
  },
  {
   "cell_type": "code",
   "execution_count": null,
   "metadata": {},
   "outputs": [],
   "source": [
    "# count\n",
    "df_policy_claim_grouped_count = df_dummy.groupby(index_col)[count_cols].count().reset_index()\n",
    "print('unique:',df_policy_claim[index_col].nunique()) \n",
    "print(df_policy_claim_grouped_count.shape)  # == 351,273 unique Policy Number\n",
    "df_policy_claim_grouped_count.head()\n"
   ]
  },
  {
   "cell_type": "code",
   "execution_count": null,
   "metadata": {},
   "outputs": [],
   "source": [
    "# mean\n",
    "df_policy_claim_grouped_mean = df_dummy.groupby(index_col)[mean_cols].mean().reset_index()\n",
    "print('unique:',df_policy_claim[index_col].nunique()) \n",
    "print(df_policy_claim_grouped_mean.shape)  # == 351,273 unique Policy Number\n",
    "df_policy_claim_grouped_mean.head()"
   ]
  },
  {
   "cell_type": "markdown",
   "metadata": {},
   "source": [
    "### training & testing"
   ]
  },
  {
   "cell_type": "code",
   "execution_count": null,
   "metadata": {},
   "outputs": [],
   "source": [
    "print(df_training.shape)\n",
    "print('unique:',df_training['Policy_Number'].nunique()) #210763 unique Policy Number\n",
    "df_training.head()"
   ]
  },
  {
   "cell_type": "code",
   "execution_count": null,
   "metadata": {},
   "outputs": [],
   "source": [
    "df_training[df_training['Next_Premium']==100]  # if Next_Premium = 100 -> testing_set"
   ]
  },
  {
   "cell_type": "code",
   "execution_count": null,
   "metadata": {},
   "outputs": [],
   "source": [
    "print(df_testing.shape)\n",
    "print('unique:',df_testing['Policy_Number'].nunique()) #140510 unique Policy Number\n",
    "df_testing.head()"
   ]
  },
  {
   "cell_type": "code",
   "execution_count": null,
   "metadata": {},
   "outputs": [],
   "source": [
    "a=df_training['Policy_Number'].nunique()/df_policy['Policy_Number'].nunique()*100\n",
    "b=df_testing['Policy_Number'].nunique()/df_policy['Policy_Number'].nunique()*100\n",
    "print('training set (pct)  %f '%a)\n",
    "print('testing set (pct)  %f '%b)"
   ]
  },
  {
   "cell_type": "markdown",
   "metadata": {},
   "source": [
    "## 1. Combine policy & claim & training & testing"
   ]
  },
  {
   "cell_type": "code",
   "execution_count": null,
   "metadata": {},
   "outputs": [],
   "source": [
    "df_all= pd.concat([df_training, df_testing])\n",
    "print('unique:',df_policy['Policy_Number'].nunique()) \n",
    "print('all data columns', df_all.columns)\n",
    "print('all data shape', df_all.shape)   #351,273 unique Policy Number"
   ]
  },
  {
   "cell_type": "markdown",
   "metadata": {},
   "source": [
    "### Map features (on Policy Number )"
   ]
  },
  {
   "cell_type": "code",
   "execution_count": null,
   "metadata": {},
   "outputs": [],
   "source": [
    "df_policy_claim_grouped_first.head()"
   ]
  },
  {
   "cell_type": "code",
   "execution_count": null,
   "metadata": {},
   "outputs": [],
   "source": [
    "## all = all+ first\n",
    "print(df_all.shape)\n",
    "\n",
    "df=df_policy_claim_grouped_first #\n",
    "print(df.shape)\n",
    "df_all= df_all.merge(df, how='left', on ='Policy_Number', suffixes=('', '_first'))#\n",
    "print(df_all.shape)\n",
    "df_all.head()  "
   ]
  },
  {
   "cell_type": "code",
   "execution_count": null,
   "metadata": {},
   "outputs": [],
   "source": [
    "## all = all+ count \n",
    "print(df_all.shape)\n",
    "\n",
    "df=df_policy_claim_grouped_count #\n",
    "print(df.shape)\n",
    "df_all= df_all.merge(df, how='left', on ='Policy_Number', suffixes=('', '_count'))#\n",
    "print(df_all.shape)\n",
    "df_all.head()"
   ]
  },
  {
   "cell_type": "code",
   "execution_count": null,
   "metadata": {},
   "outputs": [],
   "source": [
    "## all = all+ sum\n",
    "print(df_all.shape)\n",
    "\n",
    "df=df_policy_claim_grouped_sum #\n",
    "print(df.shape)\n",
    "df_all= df_all.merge(df, how='left', on ='Policy_Number', suffixes=('', '_sum'))#\n",
    "print(df_all.shape)\n",
    "df_all.head()"
   ]
  },
  {
   "cell_type": "code",
   "execution_count": null,
   "metadata": {},
   "outputs": [],
   "source": [
    "## all = all+ mean\n",
    "print(df_all.shape)\n",
    "\n",
    "df=df_policy_claim_grouped_mean #\n",
    "print(df.shape)\n",
    "df_all= df_all.merge(df, how='left', on ='Policy_Number', suffixes=('', '_mean'))#\n",
    "print(df_all.shape)\n",
    "df_all.head()"
   ]
  },
  {
   "cell_type": "code",
   "execution_count": null,
   "metadata": {
    "collapsed": true
   },
   "outputs": [],
   "source": [
    "# print(df_all.columns[:60])\n",
    "# print(df_all.columns[60:120])\n",
    "# print(df_all.columns[120:180])\n",
    "# print(df_all.columns[180:240])\n",
    "# print(df_all.columns[240:])"
   ]
  },
  {
   "cell_type": "code",
   "execution_count": null,
   "metadata": {},
   "outputs": [],
   "source": [
    "condition1= df_all['Claim_Number']==0\n",
    "condition2= df_all['Claim_Number']!=0\n",
    "print(condition1.sum())\n",
    "print(condition2.sum())"
   ]
  },
  {
   "cell_type": "code",
   "execution_count": null,
   "metadata": {},
   "outputs": [],
   "source": [
    "### add claim (0 False,1 True)\n",
    "df_all['claim']=df_all['Claim_Number']\n",
    "df_all['claim'].loc[condition1]=0\n",
    "df_all['claim'].loc[condition2]=1\n",
    "print(df_all[df_all['claim']==0].shape)\n",
    "df_all['claim'].head()"
   ]
  },
  {
   "cell_type": "markdown",
   "metadata": {},
   "source": [
    "### 1.1 check missing data"
   ]
  },
  {
   "cell_type": "code",
   "execution_count": null,
   "metadata": {},
   "outputs": [],
   "source": [
    "# missing % percentage\n",
    "cond = df_all.isnull().sum()!=0\n",
    "print((df_all.isnull().sum()[cond]/df_all.shape[0]*100))"
   ]
  },
  {
   "cell_type": "code",
   "execution_count": null,
   "metadata": {},
   "outputs": [],
   "source": [
    "# fillna as ???\n",
    "df= df_all\n",
    "\n",
    "\n",
    "## fill na as -1 ( becasue 0 means something else)\n",
    "fill_special_cols =['At_Fault?', 'Paid_Loss_Amount','Paid_Loss_Amount_mean', \n",
    "                    'paid_Expenses_Amount', 'paid_Expenses_Amount_mean',\n",
    "       'Salvage_or_Subrogation?','Salvage_or_Subrogation?_mean',\n",
    "       'Deductible', 'Deductible_mean']\n",
    "\n",
    "\n",
    "cols = fill_special_cols\n",
    "for col in cols:\n",
    "    df[col]=df[col].fillna(-1)\n",
    "    print(col, df[col].isnull().sum())\n",
    "\n",
    "# fill na as 0 (Check explaination document, those 0 doesn't mean anything)\n",
    "fill_0_cols =['number_of_claimants','number_of_claimants_mean']\n",
    "\n",
    "cols = fill_0_cols\n",
    "for col in cols:\n",
    "    df[col]=df[col].fillna(0)\n",
    "    print(col, df[col].isnull().sum())\n",
    "    \n",
    "\n",
    "# check \n",
    "cond = df_all.isnull().sum()!=0\n",
    "print((df_all.isnull().sum()[cond]/df_all.shape[0]*100))"
   ]
  },
  {
   "cell_type": "code",
   "execution_count": null,
   "metadata": {
    "collapsed": true
   },
   "outputs": [],
   "source": [
    "### fill NaN as (today)\n",
    "\n",
    "# df= df_all\n",
    "# cols = ['ibirth','dbirth','DOB_of_Driver','Accident_Date','Accident_Time']\n",
    "# for col in cols:\n",
    "#     df[col]=df[col].fillna(0)\n",
    "#     print(col, df[col].isnull().sum())"
   ]
  },
  {
   "cell_type": "code",
   "execution_count": null,
   "metadata": {},
   "outputs": [],
   "source": [
    "# check \n",
    "cond = df_all.isnull().sum()!=0\n",
    "print((df_all.isnull().sum()[cond]/df_all.shape[0]*100))"
   ]
  },
  {
   "cell_type": "code",
   "execution_count": null,
   "metadata": {
    "collapsed": true
   },
   "outputs": [],
   "source": [
    "df_all = df"
   ]
  },
  {
   "cell_type": "markdown",
   "metadata": {},
   "source": [
    "### 1.2 Label Encoder: convert anon id to No."
   ]
  },
  {
   "cell_type": "code",
   "execution_count": null,
   "metadata": {},
   "outputs": [],
   "source": [
    "pd.set_option('display.max_columns', None)  ## show all columns\n",
    "print(df_all.shape)\n",
    "df_all[df_all['claim']==1].info() "
   ]
  },
  {
   "cell_type": "code",
   "execution_count": null,
   "metadata": {
    "collapsed": true
   },
   "outputs": [],
   "source": [
    "# Policy_Number                                 object   # keep\n",
    "\n",
    "# nequipment9                                   object   # why?  (weird text input - replace)\n",
    "\n",
    "# Distribution_Channel                          object   # one-hot\n",
    "\n",
    "# ibirth                                        object   # datetime\n",
    "# dbirth                                        object   # datetime\n",
    "# aassured_zip                                  object   # one-hot\n",
    "\n",
    "# Accident_Date                                 object   # datetime\n",
    "# DOB_of_Driver                                 object   # datetime\n",
    "# Accident_Time                                 object   # datetime\n",
    "\n",
    "# dtypes: object(9)"
   ]
  },
  {
   "cell_type": "code",
   "execution_count": null,
   "metadata": {},
   "outputs": [],
   "source": [
    "df = df_all\n",
    "\n",
    "## do not include:  Vehicle_identifier_Claim\t車牌  (map to Vehicle_identifier)\n",
    "cols = ['Distribution_Channel','aassured_zip']\n",
    "\n",
    "\n",
    "# process columns, apply LabelEncoder to categorical features\n",
    "from sklearn.preprocessing import LabelEncoder\n",
    "for c in cols:\n",
    "    lbl = LabelEncoder() \n",
    "    lbl.fit(list(df[c].values)) \n",
    "    df[c] = lbl.transform(list(df[c].values))\n",
    "\n",
    "# shape        \n",
    "print('Shape of data: {}'.format(df.shape))\n",
    "df.head()"
   ]
  },
  {
   "cell_type": "code",
   "execution_count": null,
   "metadata": {},
   "outputs": [],
   "source": [
    "df_all =df\n",
    "print('Before replacemet:', set(df_all['nequipment9']))\n",
    "\n",
    "#replace weird input to specific Answer \n",
    "input1 = ' '\n",
    "replace1 = 0\n",
    "df_all['nequipment9']=df_all['nequipment9'].replace(input1, replace1) \n",
    "input1 = '                                                                                                    '\n",
    "replace1 = 0\n",
    "df_all['nequipment9']=df_all['nequipment9'].replace(input1, replace1) \n",
    "input1 = '5合1影音'\n",
    "replace1 = 1\n",
    "df_all['nequipment9']=df_all['nequipment9'].replace(input1, replace1) \n",
    "input1 = '伸尾                                                                                                '\n",
    "replace1 = 1\n",
    "df_all['nequipment9']=df_all['nequipment9'].replace(input1, replace1)\n",
    "input1 = '原裝車含配備'\n",
    "replace1 = 1\n",
    "df_all['nequipment9']=df_all['nequipment9'].replace(input1, replace1)\n",
    "input1 = '大包'\n",
    "replace1 = 1\n",
    "df_all['nequipment9']=df_all['nequipment9'].replace(input1, replace1)\n",
    "\n",
    "print('Aftere replacemet:', set(df_all['nequipment9']))"
   ]
  },
  {
   "cell_type": "code",
   "execution_count": null,
   "metadata": {
    "collapsed": true
   },
   "outputs": [],
   "source": [
    "### Already dropped\n",
    "### encode 'Vehicle_identifier_Claim' (NaN: NaN, not NaN: 'Vehicle_identifier' )\n",
    "# df = df_all\n",
    "# condition1 = df['Vehicle_identifier_Claim'].isnull()\n",
    "# condition2 = df['Vehicle_identifier_Claim'].notnull()\n",
    "\n",
    "# df['Vehicle_identifier_Claim'][condition1]=df['Vehicle_identifier_Claim']\n",
    "# df['Vehicle_identifier_Claim'][condition2]=df['Vehicle_identifier']\n",
    "\n",
    "#df[['Policy_Number','Vehicle_identifier','Vehicle_identifier_Claim']].sample(5)"
   ]
  },
  {
   "cell_type": "code",
   "execution_count": null,
   "metadata": {
    "collapsed": true
   },
   "outputs": [],
   "source": [
    "df_all = df"
   ]
  },
  {
   "cell_type": "markdown",
   "metadata": {},
   "source": [
    "### 1.3 Get dummy"
   ]
  },
  {
   "cell_type": "code",
   "execution_count": null,
   "metadata": {
    "collapsed": true,
    "scrolled": true
   },
   "outputs": [],
   "source": [
    "# ### Getting dummy categorical features:\n",
    "# df = df_all\n",
    "# segment=['Cancellation','Imported_or_Domestic_Car','qpt','fpt','Main_Insurance_Coverage_Group','Insurance_Coverage',\n",
    "#          'fassured', 'fsex','fmarriage','iply_area', 'fequipment1','fequipment2','fequipment3','fequipment4',\n",
    "#          'fequipment5','fequipment6','fequipment9','nequipment9','Nature_of_the_claim',\"Driver's_Gender\",\n",
    "#          \"Driver's_Relationship_with_Insured\", 'Marital_Status_of_Driver', 'Cause_of_Loss']\n",
    "# df_dummy = pd.get_dummies(df, columns=segment)\n",
    "# print(df_dummy.shape)\n",
    "# df_dummy.head()"
   ]
  },
  {
   "cell_type": "markdown",
   "metadata": {},
   "source": [
    "### 1.4 convert object (date) to datetime format"
   ]
  },
  {
   "cell_type": "markdown",
   "metadata": {},
   "source": [
    "### 1.5 convert object (string) to numeric"
   ]
  },
  {
   "cell_type": "code",
   "execution_count": null,
   "metadata": {},
   "outputs": [],
   "source": [
    "df_all.info()"
   ]
  },
  {
   "cell_type": "markdown",
   "metadata": {},
   "source": [
    "## 2. Define Train, Test, Y"
   ]
  },
  {
   "cell_type": "code",
   "execution_count": null,
   "metadata": {},
   "outputs": [],
   "source": [
    "df_all.isnull().sum().sum()"
   ]
  },
  {
   "cell_type": "code",
   "execution_count": null,
   "metadata": {},
   "outputs": [],
   "source": [
    "df = df_all\n",
    "\n",
    "df_train = df[df['Next_Premium']!=100]\n",
    "print(df_train.shape)\n",
    "df_test = df[df['Next_Premium']==100]\n",
    "print(df_test.shape)\n",
    "print(df_train.shape[0]+df_test.shape[0])\n",
    "print(df.shape[0])"
   ]
  },
  {
   "cell_type": "code",
   "execution_count": null,
   "metadata": {},
   "outputs": [],
   "source": [
    "df.isnull().sum().sum()"
   ]
  },
  {
   "cell_type": "code",
   "execution_count": null,
   "metadata": {},
   "outputs": [],
   "source": [
    "y=df_train['Next_Premium']\n",
    "y.head()"
   ]
  },
  {
   "cell_type": "code",
   "execution_count": null,
   "metadata": {},
   "outputs": [],
   "source": [
    "df_train=df_train.drop(['Next_Premium'], axis=1)\n",
    "print(df_train.shape)"
   ]
  },
  {
   "cell_type": "code",
   "execution_count": null,
   "metadata": {},
   "outputs": [],
   "source": [
    "train_ID = df_train['Policy_Number']\n",
    "df_train=df_train.drop(['Policy_Number'], axis=1)\n",
    "print(df_train.shape)\n",
    "print(train_ID.shape)"
   ]
  },
  {
   "cell_type": "code",
   "execution_count": null,
   "metadata": {},
   "outputs": [],
   "source": [
    "df_test=df_test.drop(['Next_Premium'], axis=1)\n",
    "print(df_test.shape)"
   ]
  },
  {
   "cell_type": "code",
   "execution_count": null,
   "metadata": {},
   "outputs": [],
   "source": [
    "test_ID=df_test['Policy_Number']\n",
    "df_test=df_test.drop(['Policy_Number'], axis=1)\n",
    "print(df_test.shape)\n",
    "print(test_ID.shape)"
   ]
  },
  {
   "cell_type": "markdown",
   "metadata": {},
   "source": [
    "## Reduce Dimension "
   ]
  },
  {
   "cell_type": "code",
   "execution_count": null,
   "metadata": {
    "collapsed": true
   },
   "outputs": [],
   "source": [
    "# sklearn.discriminant_analysis.LinearDiscriminantAnalysis\n",
    "from sklearn.decomposition import PCA \n",
    "# ......\n"
   ]
  },
  {
   "cell_type": "markdown",
   "metadata": {
    "collapsed": true
   },
   "source": [
    "### Modelling"
   ]
  },
  {
   "cell_type": "code",
   "execution_count": null,
   "metadata": {
    "collapsed": true
   },
   "outputs": [],
   "source": [
    "from sklearn.linear_model import ElasticNet, Lasso,  BayesianRidge, LassoLarsIC\n",
    "from sklearn.ensemble import RandomForestRegressor,  GradientBoostingRegressor\n",
    "from sklearn.kernel_ridge import KernelRidge\n",
    "from sklearn.pipeline import make_pipeline\n",
    "from sklearn.preprocessing import RobustScaler\n",
    "from sklearn.base import BaseEstimator, TransformerMixin, RegressorMixin, clone\n",
    "from sklearn.model_selection import KFold, cross_val_score, train_test_split\n",
    "from sklearn.metrics import mean_squared_error\n",
    "import xgboost as xgb\n",
    "import lightgbm as lgb"
   ]
  },
  {
   "cell_type": "code",
   "execution_count": null,
   "metadata": {
    "collapsed": true
   },
   "outputs": [],
   "source": [
    "train = df_train\n",
    "test = df_test\n",
    "y_train = y"
   ]
  },
  {
   "cell_type": "code",
   "execution_count": null,
   "metadata": {
    "collapsed": true
   },
   "outputs": [],
   "source": [
    "drop_cols =['Premium']\n",
    "train = train.drop(drop_cols, axis = 1)\n",
    "test = test.drop(drop_cols, axis = 1)"
   ]
  },
  {
   "cell_type": "code",
   "execution_count": null,
   "metadata": {},
   "outputs": [],
   "source": []
  },
  {
   "cell_type": "code",
   "execution_count": null,
   "metadata": {
    "collapsed": true
   },
   "outputs": [],
   "source": [
    "# ## downsampling for testing:\n",
    "# train = df_train.head(50000) # 1,212,659\n",
    "# y_train = y.head(50000)\n",
    "# ## downsampling for testing:\n",
    "# test=df_test.head(3000)   #776,268"
   ]
  },
  {
   "cell_type": "code",
   "execution_count": null,
   "metadata": {
    "collapsed": true
   },
   "outputs": [],
   "source": [
    "# train.to_csv('train.csv')\n",
    "# test.to_csv('test.csv')\n",
    "# y.to_csv('y.csv')"
   ]
  },
  {
   "cell_type": "code",
   "execution_count": null,
   "metadata": {
    "collapsed": true
   },
   "outputs": [],
   "source": [
    "#Validation function\n",
    "n_folds = 5\n",
    "\n",
    "def mae_cv(model):\n",
    "    kf = KFold(n_folds, shuffle=True, random_state=42).get_n_splits(train.values)\n",
    "    mae= (-cross_val_score(model, train.values, y_train.values, scoring=\"neg_mean_absolute_error\", cv = kf))\n",
    "    return(mae)"
   ]
  },
  {
   "cell_type": "code",
   "execution_count": null,
   "metadata": {
    "collapsed": true
   },
   "outputs": [],
   "source": [
    "# Base models"
   ]
  },
  {
   "cell_type": "code",
   "execution_count": null,
   "metadata": {},
   "outputs": [],
   "source": [
    "# LGBM :\n",
    "model_lgb = lgb.LGBMRegressor(objective='regression')\n",
    "mae = mae_cv(model_lgb)\n",
    "print(\"lgb mae: \\n\", mae)\n",
    "print(\"lgb score: {:.4f} ({:.4f})\\n\".format(mae.mean(), mae.std()))"
   ]
  },
  {
   "cell_type": "code",
   "execution_count": null,
   "metadata": {},
   "outputs": [],
   "source": [
    "'''lgb mae: \n",
    " [ 1593.77929988  2850.00509668  2537.47476871  2521.03881446  2103.63560134]\n",
    "lgb score: 2321.1867 (434.2396)'''"
   ]
  },
  {
   "cell_type": "code",
   "execution_count": null,
   "metadata": {
    "collapsed": true
   },
   "outputs": [],
   "source": [
    "# '''\n",
    "# lgb mae: \n",
    "#  [ 1501.23043208  2595.38487591  2334.24177316  2318.40761041  1971.9493555 ]\n",
    "# lgb score: 2144.2428 (377.6538)\n",
    "# '''"
   ]
  },
  {
   "cell_type": "code",
   "execution_count": null,
   "metadata": {},
   "outputs": [],
   "source": [
    "# XGBoost :\n",
    "model_xgb = xgb.XGBRegressor() #n_estimators=200\n",
    "mae = mae_cv(model_xgb)\n",
    "print(\"Xgboost mae: \\n\", mae)\n",
    "print(\"Xgboost score: {:.4f} ({:.4f})\\n\".format(mae.mean(), mae.std()))"
   ]
  },
  {
   "cell_type": "code",
   "execution_count": null,
   "metadata": {
    "collapsed": true
   },
   "outputs": [],
   "source": [
    "# '''\n",
    "# Xgboost mae: \n",
    "#  [ 1553.09530469  2401.15759272  2177.35396934  2174.6915555   1881.35674227]\n",
    "# Xgboost score: 2037.5310 (293.1403)\n",
    "# '''"
   ]
  },
  {
   "cell_type": "code",
   "execution_count": null,
   "metadata": {},
   "outputs": [],
   "source": [
    "# RF :\n",
    "model_rf=RandomForestRegressor(n_estimators=20)\n",
    "mae = mae_cv(model_rf)\n",
    "print(\"RandomForest mae: \\n\", mae)\n",
    "print(\"\\nRandomForest score: {:.4f} ({:.4f})\\n\".format(mae.mean(), mae.std()))"
   ]
  },
  {
   "cell_type": "code",
   "execution_count": null,
   "metadata": {
    "collapsed": true
   },
   "outputs": [],
   "source": [
    "# '''\n",
    "# RandomForest mae: \n",
    "#  [ 1550.90146598  2462.00879027  2237.7326891   2258.35016851  1942.53006033]\n",
    "\n",
    "# RandomForest score: 2090.3046 (316.5222)\n",
    "# '''"
   ]
  },
  {
   "cell_type": "code",
   "execution_count": null,
   "metadata": {
    "collapsed": true
   },
   "outputs": [],
   "source": [
    "## fit model & predict"
   ]
  },
  {
   "cell_type": "code",
   "execution_count": null,
   "metadata": {},
   "outputs": [],
   "source": [
    "model_lgb.fit(train, y)\n",
    "y_pred_lgb = model_lgb.predict(test)\n",
    "y_pred_lgb[:10]"
   ]
  },
  {
   "cell_type": "code",
   "execution_count": null,
   "metadata": {
    "collapsed": true
   },
   "outputs": [],
   "source": [
    "model = model_lgb\n",
    "import matplotlib.pyplot as plt\n",
    "\n",
    "importances = model.feature_importances_\n",
    "std = np.std([tree.feature_importances_ for tree in model.estimators_],\n",
    "             axis=0)\n",
    "indices = np.argsort(importances)[::-1]\n",
    "\n",
    "# Print the feature ranking\n",
    "print(\"Feature ranking:\")\n",
    "\n",
    "for f in range(train.shape[1]):\n",
    "    print(\"%d. feature %d.: %str (%2f)\" % (f + 1, indices[f], train.columns[indices[f]], importances[indices[f]]*100))\n",
    "\n",
    "# Plot the feature importances of the forest\n",
    "plt.figure()\n",
    "plt.title(\"Feature importances\")\n",
    "plt.bar(range(train.shape[1]), importances[indices],\n",
    "       color=\"r\", yerr=std[indices], align=\"center\")\n",
    "plt.xticks(range(train.shape[1]), indices)\n",
    "plt.xlim([-1, train.shape[1]])\n",
    "plt.show()"
   ]
  },
  {
   "cell_type": "code",
   "execution_count": null,
   "metadata": {},
   "outputs": [],
   "source": [
    "model_xgb.fit(train, y)\n",
    "y_pred_xgb = model_xgb.predict(test)\n",
    "y_pred_xgb[:10]"
   ]
  },
  {
   "cell_type": "code",
   "execution_count": null,
   "metadata": {
    "collapsed": true
   },
   "outputs": [],
   "source": [
    "model = model_xgb\n",
    "import matplotlib.pyplot as plt\n",
    "\n",
    "importances = model.feature_importances_\n",
    "std = np.std([tree.feature_importances_ for tree in model.estimators_],\n",
    "             axis=0)\n",
    "indices = np.argsort(importances)[::-1]\n",
    "\n",
    "# Print the feature ranking\n",
    "print(\"Feature ranking:\")\n",
    "\n",
    "for f in range(train.shape[1]):\n",
    "    print(\"%d. feature %d.: %str (%2f)\" % (f + 1, indices[f], train.columns[indices[f]], importances[indices[f]]*100))\n",
    "\n",
    "# Plot the feature importances of the forest\n",
    "plt.figure()\n",
    "plt.title(\"Feature importances\")\n",
    "plt.bar(range(train.shape[1]), importances[indices],\n",
    "       color=\"r\", yerr=std[indices], align=\"center\")\n",
    "plt.xticks(range(train.shape[1]), indices)\n",
    "plt.xlim([-1, train.shape[1]])\n",
    "plt.show()"
   ]
  },
  {
   "cell_type": "code",
   "execution_count": null,
   "metadata": {},
   "outputs": [],
   "source": [
    "model_rf.fit(train, y)\n",
    "y_pred_rf = model_rf.predict(test)\n",
    "y_pred_rf[:10]"
   ]
  },
  {
   "cell_type": "code",
   "execution_count": null,
   "metadata": {},
   "outputs": [],
   "source": [
    "import matplotlib.pyplot as plt\n",
    "\n",
    "importances = model_rf.feature_importances_\n",
    "std = np.std([tree.feature_importances_ for tree in model_rf.estimators_],\n",
    "             axis=0)\n",
    "indices = np.argsort(importances)[::-1]\n",
    "\n",
    "# Print the feature ranking\n",
    "print(\"Feature ranking:\")\n",
    "\n",
    "for f in range(train.shape[1]):\n",
    "    print(\"%d. feature %d.: %str (%2f)\" % (f + 1, indices[f], train.columns[indices[f]], importances[indices[f]]*100))\n",
    "\n",
    "# Plot the feature importances of the forest\n",
    "plt.figure()\n",
    "plt.title(\"Feature importances\")\n",
    "plt.bar(range(train.shape[1]), importances[indices],\n",
    "       color=\"r\", yerr=std[indices], align=\"center\")\n",
    "plt.xticks(range(train.shape[1]), indices)\n",
    "plt.xlim([-1, train.shape[1]])\n",
    "plt.show()"
   ]
  },
  {
   "cell_type": "code",
   "execution_count": null,
   "metadata": {
    "collapsed": true
   },
   "outputs": [],
   "source": [
    "## prep submission"
   ]
  },
  {
   "cell_type": "code",
   "execution_count": null,
   "metadata": {},
   "outputs": [],
   "source": [
    "lg = 0.1\n",
    "x = .8\n",
    "r = 1 - lg - x\n",
    "y_pred_lgb = pd.DataFrame(y_pred_lgb)\n",
    "y_pred_xgb = pd.DataFrame(y_pred_xgb)\n",
    "y_pred_rf = pd.DataFrame(y_pred_rf)\n",
    "y_pred = lg*y_pred_lgb + x*y_pred_xgb + r*y_pred_rf\n",
    "all_y = pd.concat([y_pred, y_pred_lgb, y_pred_xgb, y_pred_rf], axis=1)\n",
    "all_y.columns=['Final', 'lgb','xgb','rf']\n",
    "all_y.sample(10)"
   ]
  },
  {
   "cell_type": "code",
   "execution_count": null,
   "metadata": {},
   "outputs": [],
   "source": [
    "all_y.describe()"
   ]
  },
  {
   "cell_type": "code",
   "execution_count": null,
   "metadata": {},
   "outputs": [],
   "source": [
    "a = all_y[all_y['Final']<0].shape[0]/all_y.shape[0]*100\n",
    "print(\"negative prediction (Percent): %2f\"%a)"
   ]
  },
  {
   "cell_type": "code",
   "execution_count": null,
   "metadata": {},
   "outputs": [],
   "source": [
    "condition1 = all_y['Final']<0\n",
    "all_y['Final'].loc[condition1] = 0\n",
    "all_y[all_y['Final']<0]"
   ]
  },
  {
   "cell_type": "code",
   "execution_count": null,
   "metadata": {},
   "outputs": [],
   "source": [
    "all_y.describe()"
   ]
  },
  {
   "cell_type": "code",
   "execution_count": null,
   "metadata": {},
   "outputs": [],
   "source": [
    "print(df_testing.shape)\n",
    "print(test_ID.shape)\n",
    "print(y_pred.shape)"
   ]
  },
  {
   "cell_type": "code",
   "execution_count": null,
   "metadata": {},
   "outputs": [],
   "source": [
    "df = pd.DataFrame(test_ID).reset_index()\n",
    "df['Next_Premium'] = all_y['Final']\n",
    "df = df_testing.merge(df, how = 'left', on = 'Policy_Number', suffixes=('_x','_y'))\n",
    "df=df.drop(['index','Next_Premium_x'], axis = 1)\n",
    "df.columns = df_testing.columns\n",
    "df.head()"
   ]
  },
  {
   "cell_type": "code",
   "execution_count": null,
   "metadata": {
    "collapsed": true
   },
   "outputs": [],
   "source": [
    "#save to csv\n",
    "df.to_csv('testing-set.csv',index = False) "
   ]
  },
  {
   "cell_type": "code",
   "execution_count": null,
   "metadata": {
    "collapsed": true
   },
   "outputs": [],
   "source": []
  },
  {
   "cell_type": "code",
   "execution_count": null,
   "metadata": {
    "collapsed": true
   },
   "outputs": [],
   "source": []
  },
  {
   "cell_type": "code",
   "execution_count": null,
   "metadata": {
    "collapsed": true
   },
   "outputs": [],
   "source": []
  },
  {
   "cell_type": "code",
   "execution_count": null,
   "metadata": {
    "collapsed": true
   },
   "outputs": [],
   "source": []
  }
 ],
 "metadata": {
  "kernelspec": {
   "display_name": "Python 3",
   "language": "python",
   "name": "python3"
  },
  "language_info": {
   "codemirror_mode": {
    "name": "ipython",
    "version": 3
   },
   "file_extension": ".py",
   "mimetype": "text/x-python",
   "name": "python",
   "nbconvert_exporter": "python",
   "pygments_lexer": "ipython3",
   "version": "3.6.3"
  }
 },
 "nbformat": 4,
 "nbformat_minor": 2
}
