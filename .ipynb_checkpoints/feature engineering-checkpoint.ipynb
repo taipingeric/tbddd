{
 "cells": [
  {
   "cell_type": "code",
   "execution_count": null,
   "metadata": {},
   "outputs": [],
   "source": [
    "import pandas as pd\n",
    "import numpy as np\n",
    "import matplotlib\n",
    "import matplotlib.pyplot as plt\n",
    "import math\n",
    "import numpy as np\n",
    "import datetime\n",
    "%matplotlib inline\n",
    "plt.rcParams['font.family'] = ['SimHei'] #  set font for chinese in matplotlib figure\n",
    "pd.set_option('display.max_columns', None)"
   ]
  },
  {
   "cell_type": "code",
   "execution_count": null,
   "metadata": {},
   "outputs": [],
   "source": [
    "df_policy_raw = pd.read_csv('../Tbrain_Insurance/policy_claim/policy_0702.csv')\n",
    "df_claim_raw = pd.read_csv('../Tbrain_Insurance/policy_claim/claim_0702.csv')\n",
    "df_training_raw = pd.read_csv('../Tbrain_Insurance/training-set.csv')\n",
    "df_testing_raw = pd.read_csv('../Tbrain_Insurance/testing-set.csv')"
   ]
  },
  {
   "cell_type": "code",
   "execution_count": null,
   "metadata": {},
   "outputs": [],
   "source": [
    "df_p = df_policy_raw.copy() \n",
    "df_c = df_claim_raw.copy() \n",
    "df_train = df_training_raw.copy() \n",
    "df_test = df_testing_raw.copy() "
   ]
  },
  {
   "cell_type": "markdown",
   "metadata": {},
   "source": [
    "# Policy"
   ]
  },
  {
   "cell_type": "code",
   "execution_count": null,
   "metadata": {},
   "outputs": [],
   "source": [
    "# Policy_Number\t保單號碼 \n",
    "# Insured's_ID\t被保險人代號(替代值) \n",
    "# Prior_Policy_Number\t前保單號     看 Cancellation & drop 掉\n",
    "# Cancellation\t非繼承自前保單  補成 0 & 1\n",
    "# Vehicle_identifier\t車牌號碼               # 算完ＩＤ擁有車輛數目後drop掉\n",
    "# Vehicle_Make_and_Model1\t廠牌名稱一  # drop \n",
    "# Vehicle_Make_and_Model2\t廠牌名稱二  # drop\n",
    "# Manafactured_Year_and_Month\t製造年份  # 轉車齡\n",
    "# Engine_Displacement_(Cubic_Centimeter)\t排氣量 # drop 看重置成本\n",
    "# Imported_or_Domestic_Car\t車系代號 # dummy\n",
    "# Coding_of_Vehicle_Branding_&_Type\t廠牌車型代號 #drop\n",
    "# qpt\t乘載數量 # 保留值\n",
    "# fpt\t乘載單位  #drop\n",
    "# Main_Insurance_Coverage_Group\t險種分類  #dummy\n",
    "# Insurance_Coverage\t險種代碼 # dummy\n",
    "# Insured_Amount1\t保額一  # keep\n",
    "# Insured_Amount2\t保額二  # keep\n",
    "# Insured_Amount3\t保額三 # keep\n",
    "# Coverage_Deductible_if_applied\t自負額  # 展開成 (險種abc) x (比例, 數字) + 是否有負號, 注意percentage數值 注意是否與自付額無關的險種\n",
    "# Premium\t簽單保費 # 分三險種加總 + total 4欄,\n",
    "# Replacement_cost_of_insured_vehicle\t重置成本\n",
    "# Distribution_Channel\t主通路代號  # 用Distribution_Channel跑單率替代\n",
    "# Multiple_Products_with_TmNewa_(Yes_or_No?)\t同一車主前一年度非車險保單件數 # keep\n",
    "# lia_class\t車責本期級數  # keep\n",
    "# plia_acc\t車責賠款係數  # +1 keep\n",
    "# pdmg_acc\t車體賠款係數  # +1 keep\n",
    "# fassured\t被保險人性質 # dummy\n",
    "# ibirth\t出生日期  # 轉年齡 自然人ＫＮＮ補 自然人drop\n",
    "# fsex\t性別  # 法人model drop\n",
    "# fmarriage\t婚姻狀況 # 同上\n",
    "# aassured_zip\t郵遞區號 # drop\n",
    "# iply_area\t承保地區代號(分公司)  #dummy\n",
    "# dbirth\t要保人出生日期  # 同出生日期\n",
    "# fequipment1\t配備-音響註記  #dummy\n",
    "# fequipment2\t配備-車箱註記  #dummy\n",
    "# fequipment3\t配備-冷凍機組註記  #dummy\n",
    "# fequipment4\t配備-車框、車斗註記  # drop\n",
    "# fequipment5\t配備-昇降系統註記  #dummy\n",
    "# fequipment6\t配備-電動車電池註記 # drop\n",
    "# fequipment9\t配備-其他  #dummy\n",
    "# nequipment9\t配備-其他說明 #dummy blank->.0  not blank -> 1\n",
    "##################################### 生feature\n",
    "# Insured's_ID有幾輛車\n",
    "# Insured's_ID有張保單\n",
    "# Insured's_ID 車責 竊盜 車損 單數的 sum, mean, std\n",
    "# Main_Insurance_Coverage_Group count\n",
    "# Insurance_Coverage count\n",
    "# sum, std, mean\n",
    "# Insured_Amount1_車責 Insured_Amount1_竊盜 Insured_Amount1_車損\n",
    "# Insured_Amount2 同上\n",
    "# Insured_Amount3 同上\n",
    "# (Insured_Amount1 + Insured_Amount2 + Insured_Amount3) * 3 (Insurance_Coverage)\n",
    "# 3險種  total 保額  / total 保費\n",
    "# total保費 / 重置成本\n",
    "# Distribution_Channel 跑單率\n",
    "# lia_class 係數轉換表 (x-4) * 0.1 + 1\n",
    "# fequipment1~fequipment9, nequipment9 sum != 0\n",
    "# ibirth != dbirth"
   ]
  },
  {
   "cell_type": "code",
   "execution_count": null,
   "metadata": {},
   "outputs": [],
   "source": [
    "# df_policy.iloc[:1000,:].groupby(['Policy_Number', 'Prior_Policy_Number'])['Insured\\'s_ID'].unique()\n",
    "df_policy.iloc[:1000,:].groupby(['Policy_Number', 'Prior_Policy_Number', 'Insured\\'s_ID']).Vehicle_identifier.nunique().value_counts()"
   ]
  },
  {
   "cell_type": "code",
   "execution_count": null,
   "metadata": {},
   "outputs": [],
   "source": [
    "df_policy[df_policy.Policy_Number == '04ad40d5b2d9e743efaf5ae062f4f7a44b31982b']"
   ]
  },
  {
   "cell_type": "code",
   "execution_count": null,
   "metadata": {},
   "outputs": [],
   "source": [
    "# Policy NAN column\n",
    "# Prior_Policy_Number    328557  相當於cancellation（Y,N） , drop\n",
    "# Vehicle_identifier           513        #  drop: Insured ID算車牌個數 \n",
    "# ibirth                              317765  # 自然人KNN補  法人不補 分model補  optional: age group\n",
    "# dbirth                            258932   # 自然人KNN補  法人補成NAN 分model補  optional: age group\n",
    "# fsex                               41945 # 法人補成NAN\n",
    "# fmarriage                      41945 # 法人補成NAN\n"
   ]
  },
  {
   "cell_type": "code",
   "execution_count": null,
   "metadata": {},
   "outputs": [],
   "source": [
    "cond = (df_policy.fassured == 2) | (df_policy.fassured == 4)\n",
    "df_fa = df_policy[cond]\n",
    "df_policy[cond]['fmarriage'].value_counts(), df_policy[cond]['fmarriage'].isnull().sum()"
   ]
  },
  {
   "cell_type": "code",
   "execution_count": null,
   "metadata": {},
   "outputs": [],
   "source": [
    "df_policy[cond]['dbirth'].isnull().value_counts()"
   ]
  },
  {
   "cell_type": "code",
   "execution_count": null,
   "metadata": {},
   "outputs": [],
   "source": [
    "df_fa[pd.to_datetime(df_fa.dbirth, format='%m/%Y', errors='coerce').isnull() == False]\n",
    "df_fa_not_null = df_fa[pd.to_datetime(df_fa.dbirth, format='%m/%Y', errors='coerce').isnull() == False]\n",
    "plt.figure(figsize=(15,5))\n",
    "(2016 - pd.to_datetime(df_fa_not_null.dbirth, format='%m/%Y', errors='coerce').dt.year).value_counts().sort_index().plot.bar()"
   ]
  },
  {
   "cell_type": "code",
   "execution_count": null,
   "metadata": {},
   "outputs": [],
   "source": [
    "df_fa_not_null[['Premium', 'dbirth']]\n",
    "df_policy['dbirth'] = (2016 - pd.to_datetime(df_fa_not_null.dbirth, format='%m/%Y', errors='coerce').dt.year)\n",
    "# df_policy[df_policy.dbirth.isnull() == False][['Premium', 'dbirth']]\n",
    "df_policy[['Premium', 'dbirth']]"
   ]
  },
  {
   "cell_type": "code",
   "execution_count": null,
   "metadata": {},
   "outputs": [],
   "source": [
    "df_p = df_p.drop(columns=['Prior_Policy_Number', 'Vehicle_Make_and_Model1', 'Vehicle_Make_and_Model2', \n",
    "                          'Engine_Displacement_(Cubic_Centimeter)', 'Coding_of_Vehicle_Branding_&_Type', 'fpt', 'aassured_zip', 'fequipment4', 'fequipment6'])"
   ]
  },
  {
   "cell_type": "code",
   "execution_count": null,
   "metadata": {},
   "outputs": [],
   "source": [
    "df_p.Cancellation = df_p.Cancellation.replace(' ', 'N')"
   ]
  },
  {
   "cell_type": "code",
   "execution_count": null,
   "metadata": {},
   "outputs": [],
   "source": [
    "# get dummy\n",
    "df_p = pd.get_dummies(df_p, drop_first=True, columns=['Cancellation', \n",
    "                                                      'Imported_or_Domestic_Car', \n",
    "                                                      'Main_Insurance_Coverage_Group', \n",
    "                                                      'Insurance_Coverage', \n",
    "                                                      'fassured', \n",
    "                                                      'fsex', \n",
    "                                                      'fmarriage', 'iply_area',\n",
    "                                                     'fequipment1', 'fequipment2', 'fequipment3', 'fequipment5', 'fequipment9'])"
   ]
  },
  {
   "cell_type": "code",
   "execution_count": null,
   "metadata": {},
   "outputs": [],
   "source": [
    "df_p['Premium_車責'], df_p['Premium_車損'], df_p['Premium_竊盜'], df_p['Premium_total'] = 0, 0, 0, df_p['Premium']\n"
   ]
  },
  {
   "cell_type": "code",
   "execution_count": null,
   "metadata": {},
   "outputs": [],
   "source": [
    "df_p.loc[df_p.Main_Insurance_Coverage_Group == '車責', 'Premium_車責'] = df_p['Premium']\n",
    "df_p.loc[df_p.Main_Insurance_Coverage_Group == '車損', 'Premium_車損'] = df_p['Premium']\n",
    "df_p.loc[df_p.Main_Insurance_Coverage_Group == '竊盜', 'Premium_竊盜'] = df_p['Premium']"
   ]
  },
  {
   "cell_type": "code",
   "execution_count": null,
   "metadata": {},
   "outputs": [],
   "source": [
    "# 暫時不用營業處 (有些testing data 營業處不能算烙跑率)\n",
    "# distribution channel nunique:   total: train: test = 875\n",
    "# # distribution channel v.s. prioir policy number / next premium = 0 ( 看有沒有很爛的營業處）\n",
    "# df_temp = pd.DataFrame(columns=['is0', 'total'])\n",
    "\n",
    "# distribution_cannels = df_p.Distribution_Channel.unique()\n",
    "# for distribution_cannel in distribution_cannels:\n",
    "#     policy_no = df_p[df_p.Distribution_Channel ==distribution_cannel].Policy_Number.unique()\n",
    "#     policy_count = len(policy_no)\n",
    "#     next_premium_0_count = df_train[(df_train['Policy_Number'].isin(policy_no)) & (df_train.Next_Premium == 0)].Policy_Number.count()\n",
    "#     df_temp = df_temp.append(pd.Series({'is0': next_premium_0_count, 'total': policy_count}, name=distribution_cannel))\n",
    "# df_temp['escape_proportion'] = df_temp['is0'] / df_temp.total\n",
    "# df_p.Distribution_Channel\n",
    "# df_p['distribution_channel_escape_proportion'] = df_temp.loc[df_p.Distribution_Channel].escape_proportion.values"
   ]
  },
  {
   "cell_type": "code",
   "execution_count": null,
   "metadata": {},
   "outputs": [],
   "source": [
    "df_p.plia_acc = df_p.plia_acc + 1"
   ]
  },
  {
   "cell_type": "code",
   "execution_count": null,
   "metadata": {},
   "outputs": [],
   "source": [
    "df_p.pdmg_acc = df_p.pdmg_acc + 1"
   ]
  },
  {
   "cell_type": "code",
   "execution_count": null,
   "metadata": {},
   "outputs": [],
   "source": [
    "def check_space(x):\n",
    "    if x.isspace():\n",
    "        return 0\n",
    "    else:\n",
    "        return 1\n",
    "df_p.nequipment9 = df_p.nequipment9.map(check_space)"
   ]
  },
  {
   "cell_type": "code",
   "execution_count": null,
   "metadata": {},
   "outputs": [],
   "source": [
    "# 保人擁有車輛數\n",
    "df_p['InsuredID_car_count'] =df_p['Insured\\'s_ID'].map(df_p.groupby('Insured\\'s_ID').Vehicle_identifier.nunique())"
   ]
  },
  {
   "cell_type": "code",
   "execution_count": null,
   "metadata": {},
   "outputs": [],
   "source": [
    "# 保人保單數\n",
    "df_p['InsuredID_policy_count'] = df_p['Insured\\'s_ID'].map(df_p.groupby('Insured\\'s_ID').Policy_Number.nunique())"
   ]
  }
 ],
 "metadata": {
  "kernelspec": {
   "display_name": "Python 3",
   "language": "python",
   "name": "python3"
  },
  "language_info": {
   "codemirror_mode": {
    "name": "ipython",
    "version": 3
   },
   "file_extension": ".py",
   "mimetype": "text/x-python",
   "name": "python",
   "nbconvert_exporter": "python",
   "pygments_lexer": "ipython3",
   "version": "3.6.4"
  }
 },
 "nbformat": 4,
 "nbformat_minor": 2
}
