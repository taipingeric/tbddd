{
 "cells": [
  {
   "cell_type": "code",
   "execution_count": 2,
   "metadata": {
    "collapsed": true
   },
   "outputs": [],
   "source": [
    "import pandas as pd\n",
    "import numpy as np\n",
    "df_policy = pd.read_csv('../Tbrain_Insurance/policy_claim/policy_0702.csv')\n",
    "df_claim = pd.read_csv('../Tbrain_Insurance/policy_claim/claim_0702.csv')\n",
    "df_training = pd.read_csv('../Tbrain_Insurance/training-set.csv')\n",
    "df_testing = pd.read_csv('../Tbrain_Insurance/testing-set.csv')"
   ]
  },
  {
   "cell_type": "markdown",
   "metadata": {},
   "source": [
    "## 0. Read Files"
   ]
  },
  {
   "cell_type": "markdown",
   "metadata": {},
   "source": [
    "### policy"
   ]
  },
  {
   "cell_type": "code",
   "execution_count": 3,
   "metadata": {
    "collapsed": true
   },
   "outputs": [],
   "source": [
    "# df_policy = pd.read_csv('../Tbrain_Insurance/policy_claim/policy_0702.csv')"
   ]
  },
  {
   "cell_type": "code",
   "execution_count": 4,
   "metadata": {},
   "outputs": [
    {
     "name": "stdout",
     "output_type": "stream",
     "text": [
      "(1747942, 41)\n",
      "unique: 351273\n"
     ]
    },
    {
     "data": {
      "text/html": [
       "<div>\n",
       "<style>\n",
       "    .dataframe thead tr:only-child th {\n",
       "        text-align: right;\n",
       "    }\n",
       "\n",
       "    .dataframe thead th {\n",
       "        text-align: left;\n",
       "    }\n",
       "\n",
       "    .dataframe tbody tr th {\n",
       "        vertical-align: top;\n",
       "    }\n",
       "</style>\n",
       "<table border=\"1\" class=\"dataframe\">\n",
       "  <thead>\n",
       "    <tr style=\"text-align: right;\">\n",
       "      <th></th>\n",
       "      <th>Policy_Number</th>\n",
       "      <th>Insured's_ID</th>\n",
       "      <th>Prior_Policy_Number</th>\n",
       "      <th>Cancellation</th>\n",
       "      <th>Vehicle_identifier</th>\n",
       "      <th>Vehicle_Make_and_Model1</th>\n",
       "      <th>Vehicle_Make_and_Model2</th>\n",
       "      <th>Manafactured_Year_and_Month</th>\n",
       "      <th>Engine_Displacement_(Cubic_Centimeter)</th>\n",
       "      <th>Imported_or_Domestic_Car</th>\n",
       "      <th>Coding_of_Vehicle_Branding_&amp;_Type</th>\n",
       "      <th>qpt</th>\n",
       "      <th>fpt</th>\n",
       "      <th>Main_Insurance_Coverage_Group</th>\n",
       "      <th>Insurance_Coverage</th>\n",
       "      <th>Insured_Amount1</th>\n",
       "      <th>Insured_Amount2</th>\n",
       "      <th>Insured_Amount3</th>\n",
       "      <th>Coverage_Deductible_if_applied</th>\n",
       "      <th>Premium</th>\n",
       "      <th>Replacement_cost_of_insured_vehicle</th>\n",
       "      <th>Distribution_Channel</th>\n",
       "      <th>Multiple_Products_with_TmNewa_(Yes_or_No?)</th>\n",
       "      <th>lia_class</th>\n",
       "      <th>plia_acc</th>\n",
       "      <th>pdmg_acc</th>\n",
       "      <th>fassured</th>\n",
       "      <th>ibirth</th>\n",
       "      <th>fsex</th>\n",
       "      <th>fmarriage</th>\n",
       "      <th>aassured_zip</th>\n",
       "      <th>iply_area</th>\n",
       "      <th>dbirth</th>\n",
       "      <th>fequipment1</th>\n",
       "      <th>fequipment2</th>\n",
       "      <th>fequipment3</th>\n",
       "      <th>fequipment4</th>\n",
       "      <th>fequipment5</th>\n",
       "      <th>fequipment6</th>\n",
       "      <th>fequipment9</th>\n",
       "      <th>nequipment9</th>\n",
       "    </tr>\n",
       "  </thead>\n",
       "  <tbody>\n",
       "    <tr>\n",
       "      <th>1415973</th>\n",
       "      <td>6fa654dce3560c224c8baba82bb7e2d4a622a1b3</td>\n",
       "      <td>Rcffa60f4fc2a1487ece1101d8c5645ed39eaa79f</td>\n",
       "      <td>9fd85df2c8cc398997e712803d6f1083f751cac8</td>\n",
       "      <td></td>\n",
       "      <td>9756e8c05b667ce12ae27e5e1b7d5a2f625c8afb</td>\n",
       "      <td>960d139497003852038c328303d92f423e6854c4</td>\n",
       "      <td>65b9eecbca77db0367f8e512d754539b639d8845</td>\n",
       "      <td>2010</td>\n",
       "      <td>1584</td>\n",
       "      <td>10</td>\n",
       "      <td>4ace0f973c737af82b3f323581abf2c23fda880d</td>\n",
       "      <td>5.0</td>\n",
       "      <td>P</td>\n",
       "      <td>車責</td>\n",
       "      <td>16P</td>\n",
       "      <td>0</td>\n",
       "      <td>0</td>\n",
       "      <td>300000</td>\n",
       "      <td>0</td>\n",
       "      <td>977</td>\n",
       "      <td>58.9</td>\n",
       "      <td>203a03713ea29019ee5f67352dd76c5337df78d1</td>\n",
       "      <td>0.0</td>\n",
       "      <td>-1</td>\n",
       "      <td>-0.38</td>\n",
       "      <td>0.0</td>\n",
       "      <td>1</td>\n",
       "      <td>10/1957</td>\n",
       "      <td>2</td>\n",
       "      <td>1</td>\n",
       "      <td>db667d12a4034fedb3d483274955503ca4a361e2</td>\n",
       "      <td>511a418e72591eb7e33f703f04c3fa16df6c90bd</td>\n",
       "      <td>10/1957</td>\n",
       "      <td>0</td>\n",
       "      <td>0</td>\n",
       "      <td>0</td>\n",
       "      <td>0</td>\n",
       "      <td>0</td>\n",
       "      <td>0</td>\n",
       "      <td>0</td>\n",
       "      <td></td>\n",
       "    </tr>\n",
       "    <tr>\n",
       "      <th>709094</th>\n",
       "      <td>d07659bf6621679535971469762bb8436d7e27c1</td>\n",
       "      <td>29f893e8aa28da4feb4483d61f286675cc0c2efa7</td>\n",
       "      <td>a1685ddcddffd1331f3375211657de8da92c7d53</td>\n",
       "      <td></td>\n",
       "      <td>2961818761de5d63cd489f17354468845014d3d8</td>\n",
       "      <td>635588edd41d4e3796268a7c0c582d0a8414896a</td>\n",
       "      <td>f355d714f3df7824c434f9f50c391ae725321243</td>\n",
       "      <td>2006</td>\n",
       "      <td>3000</td>\n",
       "      <td>10</td>\n",
       "      <td>a1c83e8cda4343a12fe526f59ab403647741e267</td>\n",
       "      <td>3.0</td>\n",
       "      <td>P</td>\n",
       "      <td>車責</td>\n",
       "      <td>29B</td>\n",
       "      <td>0</td>\n",
       "      <td>3000000</td>\n",
       "      <td>6000000</td>\n",
       "      <td>0</td>\n",
       "      <td>541</td>\n",
       "      <td>69.9</td>\n",
       "      <td>315b39a0fc19fb45d146c17b813d46c7acb0b872</td>\n",
       "      <td>0.0</td>\n",
       "      <td>5</td>\n",
       "      <td>0.10</td>\n",
       "      <td>-0.6</td>\n",
       "      <td>2</td>\n",
       "      <td>NaN</td>\n",
       "      <td></td>\n",
       "      <td></td>\n",
       "      <td>01ec40215edd21ed26d1bedde644afcfa4ccd665</td>\n",
       "      <td>bd307a3ec329e10a2cff8fb87480823da114f8f4</td>\n",
       "      <td>NaN</td>\n",
       "      <td>0</td>\n",
       "      <td>0</td>\n",
       "      <td>0</td>\n",
       "      <td>0</td>\n",
       "      <td>0</td>\n",
       "      <td>0</td>\n",
       "      <td>0</td>\n",
       "      <td></td>\n",
       "    </tr>\n",
       "    <tr>\n",
       "      <th>1744671</th>\n",
       "      <td>261822c0ae629115bf70f1b6ae138857a709859d</td>\n",
       "      <td>D1f23d1c9e19e058154d526d0f8207bcf054e3011</td>\n",
       "      <td>f4bb17010f89ac9bb7b258c54020e7036ed1d7a6</td>\n",
       "      <td></td>\n",
       "      <td>8686fce8dd9f51fe75bd2f3d749a45dd9c03b31b</td>\n",
       "      <td>39c771f004e24270d32b95b3f1bb5e40e0a145cb</td>\n",
       "      <td>d5f827056391af716a7b27ec234e85e035103773</td>\n",
       "      <td>2006</td>\n",
       "      <td>1600</td>\n",
       "      <td>40</td>\n",
       "      <td>c8b4d6e4b65ef0440fac9ffbc9b5caa154326128</td>\n",
       "      <td>5.0</td>\n",
       "      <td>P</td>\n",
       "      <td>車責</td>\n",
       "      <td>29K</td>\n",
       "      <td>0</td>\n",
       "      <td>0</td>\n",
       "      <td>3000000</td>\n",
       "      <td>0</td>\n",
       "      <td>484</td>\n",
       "      <td>62.8</td>\n",
       "      <td>39005d92752d56310b3a357f42b57f304621689a</td>\n",
       "      <td>0.0</td>\n",
       "      <td>-1</td>\n",
       "      <td>-0.38</td>\n",
       "      <td>-0.6</td>\n",
       "      <td>1</td>\n",
       "      <td>12/1979</td>\n",
       "      <td>2</td>\n",
       "      <td>2</td>\n",
       "      <td>0b7f5ada6bdd5e4844b1dc6da915ace79a38c463</td>\n",
       "      <td>c1dfd96eea8cc2b62785275bca38ac261256e278</td>\n",
       "      <td>12/1979</td>\n",
       "      <td>0</td>\n",
       "      <td>0</td>\n",
       "      <td>0</td>\n",
       "      <td>0</td>\n",
       "      <td>0</td>\n",
       "      <td>0</td>\n",
       "      <td>0</td>\n",
       "      <td></td>\n",
       "    </tr>\n",
       "    <tr>\n",
       "      <th>417402</th>\n",
       "      <td>c67887b8f60ee9b80007c046dfe1f010cc148fa6</td>\n",
       "      <td>E354c09d25bedc913411ffa0f9a436b3618488571</td>\n",
       "      <td>4a83986f370de8d1a67732939a57f13353b6ac00</td>\n",
       "      <td></td>\n",
       "      <td>842ec839c38440c421728a5c127fec7db65cef2f</td>\n",
       "      <td>dfa36897d0d79626c26c3a60bbf710ce93f678ec</td>\n",
       "      <td>6d3aca9020fa7c33f55ca4c79fb1a5b1a1e60ace</td>\n",
       "      <td>2012</td>\n",
       "      <td>1995</td>\n",
       "      <td>30</td>\n",
       "      <td>91f3d5db9c148ff5ad6d5b61cd5f7724c84b5932</td>\n",
       "      <td>5.0</td>\n",
       "      <td>P</td>\n",
       "      <td>車責</td>\n",
       "      <td>15O</td>\n",
       "      <td>0</td>\n",
       "      <td>0</td>\n",
       "      <td>20000000</td>\n",
       "      <td>1</td>\n",
       "      <td>2925</td>\n",
       "      <td>237.0</td>\n",
       "      <td>5037717f120cf25bbeea6a42e62676bc5c911b12</td>\n",
       "      <td>0.0</td>\n",
       "      <td>-1</td>\n",
       "      <td>-0.38</td>\n",
       "      <td>0.0</td>\n",
       "      <td>1</td>\n",
       "      <td>06/1973</td>\n",
       "      <td>2</td>\n",
       "      <td>1</td>\n",
       "      <td>e26973e6ee8ab9cd8cb3f207d1b90f00d2669eff</td>\n",
       "      <td>fa35e192121eabf3dabf9f5ea6abdbcbc107ac3b</td>\n",
       "      <td>06/1973</td>\n",
       "      <td>0</td>\n",
       "      <td>0</td>\n",
       "      <td>0</td>\n",
       "      <td>0</td>\n",
       "      <td>0</td>\n",
       "      <td>0</td>\n",
       "      <td>0</td>\n",
       "      <td></td>\n",
       "    </tr>\n",
       "    <tr>\n",
       "      <th>627041</th>\n",
       "      <td>6b737efde4c20499477538e348c4346eeb885e12</td>\n",
       "      <td>2ba38aaea4446c470b7223425dadf150524573a1d</td>\n",
       "      <td>cc58c0369d03daae9ee655dad72637cbc031d65c</td>\n",
       "      <td></td>\n",
       "      <td>c482f0f79de112e6b3a6797a35e5677cf522862e</td>\n",
       "      <td>960d139497003852038c328303d92f423e6854c4</td>\n",
       "      <td>0dd517411b7fe7128669bc69e7d48ecb8cdbdc99</td>\n",
       "      <td>2004</td>\n",
       "      <td>2400</td>\n",
       "      <td>10</td>\n",
       "      <td>cd4543c4afdac0f4334958b0d2444d95d8648533</td>\n",
       "      <td>8.0</td>\n",
       "      <td>P</td>\n",
       "      <td>車責</td>\n",
       "      <td>29B</td>\n",
       "      <td>0</td>\n",
       "      <td>3000000</td>\n",
       "      <td>21000000</td>\n",
       "      <td>0</td>\n",
       "      <td>1893</td>\n",
       "      <td>78.9</td>\n",
       "      <td>39005d92752d56310b3a357f42b57f304621689a</td>\n",
       "      <td>0.0</td>\n",
       "      <td>3</td>\n",
       "      <td>-0.10</td>\n",
       "      <td>0.0</td>\n",
       "      <td>2</td>\n",
       "      <td>NaN</td>\n",
       "      <td></td>\n",
       "      <td></td>\n",
       "      <td>5e796e48332af4142b10ca0f86e65d9bfdb05884</td>\n",
       "      <td>356a192b7913b04c54574d18c28d46e6395428ab</td>\n",
       "      <td>NaN</td>\n",
       "      <td>0</td>\n",
       "      <td>0</td>\n",
       "      <td>0</td>\n",
       "      <td>0</td>\n",
       "      <td>0</td>\n",
       "      <td>0</td>\n",
       "      <td>0</td>\n",
       "      <td></td>\n",
       "    </tr>\n",
       "    <tr>\n",
       "      <th>1506288</th>\n",
       "      <td>ee502b0d7916c679926cb8214cb29af1b6c02445</td>\n",
       "      <td>26dc579a784b3c42098732774741512af8fa992ab</td>\n",
       "      <td>NaN</td>\n",
       "      <td>Y</td>\n",
       "      <td>bf8fd9776f06a6f617a8fe61d302d1aaf4d046a3</td>\n",
       "      <td>dfa36897d0d79626c26c3a60bbf710ce93f678ec</td>\n",
       "      <td>8637ef3c3cf918c19f115a27ef0d42dfba9d6d6e</td>\n",
       "      <td>2010</td>\n",
       "      <td>1995</td>\n",
       "      <td>30</td>\n",
       "      <td>ea13f3c0e57b8dd2b6724f5539120c27c4a8e43b</td>\n",
       "      <td>5.0</td>\n",
       "      <td>P</td>\n",
       "      <td>車損</td>\n",
       "      <td>20K</td>\n",
       "      <td>10000</td>\n",
       "      <td>0</td>\n",
       "      <td>50000</td>\n",
       "      <td>0</td>\n",
       "      <td>26</td>\n",
       "      <td>173.0</td>\n",
       "      <td>315b39a0fc19fb45d146c17b813d46c7acb0b872</td>\n",
       "      <td>26.0</td>\n",
       "      <td>0</td>\n",
       "      <td>-0.35</td>\n",
       "      <td>0.2</td>\n",
       "      <td>2</td>\n",
       "      <td>NaN</td>\n",
       "      <td>NaN</td>\n",
       "      <td>NaN</td>\n",
       "      <td>fbbf192d8343f1afa97f7a91d44cac3057f6a46f</td>\n",
       "      <td>c66c65175fecc3103b3b587be9b5b230889c8628</td>\n",
       "      <td>NaN</td>\n",
       "      <td>0</td>\n",
       "      <td>0</td>\n",
       "      <td>0</td>\n",
       "      <td>0</td>\n",
       "      <td>0</td>\n",
       "      <td>0</td>\n",
       "      <td>0</td>\n",
       "      <td></td>\n",
       "    </tr>\n",
       "    <tr>\n",
       "      <th>1156935</th>\n",
       "      <td>041c793e6ee42c3ea60f0edb437893e5347cd709</td>\n",
       "      <td>B592614343af27dd0bfa0e79d3aa3c35a96077952</td>\n",
       "      <td>2baa45e2235408fffd2846ad744080ca29696109</td>\n",
       "      <td></td>\n",
       "      <td>9eca8fbc874bda23ca50f1a9b5d57d4e53b5477c</td>\n",
       "      <td>fd106b090e326f4fbaa267d00a03dc2f53954288</td>\n",
       "      <td>e375043ad15455552e1f40126cb1ceed758db950</td>\n",
       "      <td>2003</td>\n",
       "      <td>3200</td>\n",
       "      <td>10</td>\n",
       "      <td>aee83263b2888946054bac73945d10bbefb919d0</td>\n",
       "      <td>3.0</td>\n",
       "      <td>P</td>\n",
       "      <td>車責</td>\n",
       "      <td>16P</td>\n",
       "      <td>0</td>\n",
       "      <td>0</td>\n",
       "      <td>600000</td>\n",
       "      <td>0</td>\n",
       "      <td>2262</td>\n",
       "      <td>58.8</td>\n",
       "      <td>24bd615ecc396df4ec03f4dd75a98604d720bdca</td>\n",
       "      <td>0.0</td>\n",
       "      <td>2</td>\n",
       "      <td>-0.20</td>\n",
       "      <td>0.0</td>\n",
       "      <td>1</td>\n",
       "      <td>03/1975</td>\n",
       "      <td>1</td>\n",
       "      <td>1</td>\n",
       "      <td>e6de89674d9f1d7968a70dad4f41b844965b4fdc</td>\n",
       "      <td>761f22b2c1593d0bb87e0b606f990ba4974706de</td>\n",
       "      <td>03/1975</td>\n",
       "      <td>0</td>\n",
       "      <td>0</td>\n",
       "      <td>0</td>\n",
       "      <td>0</td>\n",
       "      <td>0</td>\n",
       "      <td>0</td>\n",
       "      <td>0</td>\n",
       "      <td></td>\n",
       "    </tr>\n",
       "    <tr>\n",
       "      <th>443035</th>\n",
       "      <td>e3ca5f36a03661de8647898319cceea0fcbc7d76</td>\n",
       "      <td>H594e086e96365d16faa1dfb4ceeb3b7622cceed7</td>\n",
       "      <td>5dce533130e07c364012a3cb534957b725ac4da5</td>\n",
       "      <td></td>\n",
       "      <td>399535b50db66042c3762d20841783eb4b2c5a9a</td>\n",
       "      <td>960d139497003852038c328303d92f423e6854c4</td>\n",
       "      <td>6475c1548b12804d8d0f41af039f7aed4cf7c952</td>\n",
       "      <td>2013</td>\n",
       "      <td>2359</td>\n",
       "      <td>10</td>\n",
       "      <td>d130f32246f8342541a526c4aac7f56d1e440e7f</td>\n",
       "      <td>5.0</td>\n",
       "      <td>P</td>\n",
       "      <td>車責</td>\n",
       "      <td>16G</td>\n",
       "      <td>2000000</td>\n",
       "      <td>0</td>\n",
       "      <td>4000000</td>\n",
       "      <td>0</td>\n",
       "      <td>1400</td>\n",
       "      <td>90.9</td>\n",
       "      <td>b00be344804d9f045f4422b3f7609619af7854b6</td>\n",
       "      <td>2.0</td>\n",
       "      <td>1</td>\n",
       "      <td>-0.30</td>\n",
       "      <td>-0.2</td>\n",
       "      <td>1</td>\n",
       "      <td>12/1968</td>\n",
       "      <td>2</td>\n",
       "      <td>1</td>\n",
       "      <td>7fdec83a2662ffe53af456402cbaeafa380b15b4</td>\n",
       "      <td>bd307a3ec329e10a2cff8fb87480823da114f8f4</td>\n",
       "      <td>12/1968</td>\n",
       "      <td>0</td>\n",
       "      <td>0</td>\n",
       "      <td>0</td>\n",
       "      <td>0</td>\n",
       "      <td>0</td>\n",
       "      <td>0</td>\n",
       "      <td>0</td>\n",
       "      <td></td>\n",
       "    </tr>\n",
       "    <tr>\n",
       "      <th>674177</th>\n",
       "      <td>558c3456e9aeb0fcfd756668320bfc0973cc1916</td>\n",
       "      <td>H178d08d9f7064a5cde8d758d55472b8bca18288b</td>\n",
       "      <td>b2ea06f10c5d68dce06ca79f5459d24c3069487d</td>\n",
       "      <td></td>\n",
       "      <td>d9b494619d5fa6f788efd1e5a1f3bfd83cd597b3</td>\n",
       "      <td>960d139497003852038c328303d92f423e6854c4</td>\n",
       "      <td>c3e6a418ab7d75ef7b9b5c225bef6033323268b4</td>\n",
       "      <td>2003</td>\n",
       "      <td>2350</td>\n",
       "      <td>10</td>\n",
       "      <td>3de437ac38026ab264e58bdca3556779019f711f</td>\n",
       "      <td>7.0</td>\n",
       "      <td>P</td>\n",
       "      <td>車責</td>\n",
       "      <td>18@</td>\n",
       "      <td>5000</td>\n",
       "      <td>50000</td>\n",
       "      <td>100000</td>\n",
       "      <td>0</td>\n",
       "      <td>101</td>\n",
       "      <td>84.8</td>\n",
       "      <td>39005d92752d56310b3a357f42b57f304621689a</td>\n",
       "      <td>0.0</td>\n",
       "      <td>-1</td>\n",
       "      <td>-0.38</td>\n",
       "      <td>0.0</td>\n",
       "      <td>1</td>\n",
       "      <td>10/1957</td>\n",
       "      <td>1</td>\n",
       "      <td>1</td>\n",
       "      <td>a609bb8ab05a0d13db9eb1d0d3b1383d1703c17d</td>\n",
       "      <td>bd307a3ec329e10a2cff8fb87480823da114f8f4</td>\n",
       "      <td>10/1957</td>\n",
       "      <td>0</td>\n",
       "      <td>0</td>\n",
       "      <td>0</td>\n",
       "      <td>0</td>\n",
       "      <td>0</td>\n",
       "      <td>0</td>\n",
       "      <td>0</td>\n",
       "      <td></td>\n",
       "    </tr>\n",
       "    <tr>\n",
       "      <th>1462748</th>\n",
       "      <td>edd1c40ab3a420efa0e6cf579fa3c92f30fe0bf0</td>\n",
       "      <td>R94207e1129f28792973d371781e2e7c0985da71a</td>\n",
       "      <td>NaN</td>\n",
       "      <td>Y</td>\n",
       "      <td>9454a7785f48bec8a7bfbbcd62676f13a8edb61f</td>\n",
       "      <td>9e1816a8c2a63b7f96a82ce6487b2d43222750db</td>\n",
       "      <td>6bf0ae22034a9ebbc8379381b4051d32d00d5b33</td>\n",
       "      <td>2014</td>\n",
       "      <td>1800</td>\n",
       "      <td>10</td>\n",
       "      <td>9eb4f98b90af8bdb0cf379712394d1a1756fd7df</td>\n",
       "      <td>5.0</td>\n",
       "      <td>P</td>\n",
       "      <td>竊盜</td>\n",
       "      <td>09@</td>\n",
       "      <td>0</td>\n",
       "      <td>0</td>\n",
       "      <td>551000</td>\n",
       "      <td>0</td>\n",
       "      <td>355</td>\n",
       "      <td>68.9</td>\n",
       "      <td>39005d92752d56310b3a357f42b57f304621689a</td>\n",
       "      <td>0.0</td>\n",
       "      <td>-1</td>\n",
       "      <td>-0.38</td>\n",
       "      <td>-0.2</td>\n",
       "      <td>1</td>\n",
       "      <td>12/1966</td>\n",
       "      <td>2</td>\n",
       "      <td>1</td>\n",
       "      <td>9170981d59d0f8d3f003ef0f289394ded6a00696</td>\n",
       "      <td>511a418e72591eb7e33f703f04c3fa16df6c90bd</td>\n",
       "      <td>12/1966</td>\n",
       "      <td>0</td>\n",
       "      <td>0</td>\n",
       "      <td>0</td>\n",
       "      <td>0</td>\n",
       "      <td>0</td>\n",
       "      <td>0</td>\n",
       "      <td>0</td>\n",
       "      <td></td>\n",
       "    </tr>\n",
       "  </tbody>\n",
       "</table>\n",
       "</div>"
      ],
      "text/plain": [
       "                                    Policy_Number  \\\n",
       "1415973  6fa654dce3560c224c8baba82bb7e2d4a622a1b3   \n",
       "709094   d07659bf6621679535971469762bb8436d7e27c1   \n",
       "1744671  261822c0ae629115bf70f1b6ae138857a709859d   \n",
       "417402   c67887b8f60ee9b80007c046dfe1f010cc148fa6   \n",
       "627041   6b737efde4c20499477538e348c4346eeb885e12   \n",
       "1506288  ee502b0d7916c679926cb8214cb29af1b6c02445   \n",
       "1156935  041c793e6ee42c3ea60f0edb437893e5347cd709   \n",
       "443035   e3ca5f36a03661de8647898319cceea0fcbc7d76   \n",
       "674177   558c3456e9aeb0fcfd756668320bfc0973cc1916   \n",
       "1462748  edd1c40ab3a420efa0e6cf579fa3c92f30fe0bf0   \n",
       "\n",
       "                                      Insured's_ID  \\\n",
       "1415973  Rcffa60f4fc2a1487ece1101d8c5645ed39eaa79f   \n",
       "709094   29f893e8aa28da4feb4483d61f286675cc0c2efa7   \n",
       "1744671  D1f23d1c9e19e058154d526d0f8207bcf054e3011   \n",
       "417402   E354c09d25bedc913411ffa0f9a436b3618488571   \n",
       "627041   2ba38aaea4446c470b7223425dadf150524573a1d   \n",
       "1506288  26dc579a784b3c42098732774741512af8fa992ab   \n",
       "1156935  B592614343af27dd0bfa0e79d3aa3c35a96077952   \n",
       "443035   H594e086e96365d16faa1dfb4ceeb3b7622cceed7   \n",
       "674177   H178d08d9f7064a5cde8d758d55472b8bca18288b   \n",
       "1462748  R94207e1129f28792973d371781e2e7c0985da71a   \n",
       "\n",
       "                              Prior_Policy_Number Cancellation  \\\n",
       "1415973  9fd85df2c8cc398997e712803d6f1083f751cac8                \n",
       "709094   a1685ddcddffd1331f3375211657de8da92c7d53                \n",
       "1744671  f4bb17010f89ac9bb7b258c54020e7036ed1d7a6                \n",
       "417402   4a83986f370de8d1a67732939a57f13353b6ac00                \n",
       "627041   cc58c0369d03daae9ee655dad72637cbc031d65c                \n",
       "1506288                                       NaN            Y   \n",
       "1156935  2baa45e2235408fffd2846ad744080ca29696109                \n",
       "443035   5dce533130e07c364012a3cb534957b725ac4da5                \n",
       "674177   b2ea06f10c5d68dce06ca79f5459d24c3069487d                \n",
       "1462748                                       NaN            Y   \n",
       "\n",
       "                               Vehicle_identifier  \\\n",
       "1415973  9756e8c05b667ce12ae27e5e1b7d5a2f625c8afb   \n",
       "709094   2961818761de5d63cd489f17354468845014d3d8   \n",
       "1744671  8686fce8dd9f51fe75bd2f3d749a45dd9c03b31b   \n",
       "417402   842ec839c38440c421728a5c127fec7db65cef2f   \n",
       "627041   c482f0f79de112e6b3a6797a35e5677cf522862e   \n",
       "1506288  bf8fd9776f06a6f617a8fe61d302d1aaf4d046a3   \n",
       "1156935  9eca8fbc874bda23ca50f1a9b5d57d4e53b5477c   \n",
       "443035   399535b50db66042c3762d20841783eb4b2c5a9a   \n",
       "674177   d9b494619d5fa6f788efd1e5a1f3bfd83cd597b3   \n",
       "1462748  9454a7785f48bec8a7bfbbcd62676f13a8edb61f   \n",
       "\n",
       "                          Vehicle_Make_and_Model1  \\\n",
       "1415973  960d139497003852038c328303d92f423e6854c4   \n",
       "709094   635588edd41d4e3796268a7c0c582d0a8414896a   \n",
       "1744671  39c771f004e24270d32b95b3f1bb5e40e0a145cb   \n",
       "417402   dfa36897d0d79626c26c3a60bbf710ce93f678ec   \n",
       "627041   960d139497003852038c328303d92f423e6854c4   \n",
       "1506288  dfa36897d0d79626c26c3a60bbf710ce93f678ec   \n",
       "1156935  fd106b090e326f4fbaa267d00a03dc2f53954288   \n",
       "443035   960d139497003852038c328303d92f423e6854c4   \n",
       "674177   960d139497003852038c328303d92f423e6854c4   \n",
       "1462748  9e1816a8c2a63b7f96a82ce6487b2d43222750db   \n",
       "\n",
       "                          Vehicle_Make_and_Model2  \\\n",
       "1415973  65b9eecbca77db0367f8e512d754539b639d8845   \n",
       "709094   f355d714f3df7824c434f9f50c391ae725321243   \n",
       "1744671  d5f827056391af716a7b27ec234e85e035103773   \n",
       "417402   6d3aca9020fa7c33f55ca4c79fb1a5b1a1e60ace   \n",
       "627041   0dd517411b7fe7128669bc69e7d48ecb8cdbdc99   \n",
       "1506288  8637ef3c3cf918c19f115a27ef0d42dfba9d6d6e   \n",
       "1156935  e375043ad15455552e1f40126cb1ceed758db950   \n",
       "443035   6475c1548b12804d8d0f41af039f7aed4cf7c952   \n",
       "674177   c3e6a418ab7d75ef7b9b5c225bef6033323268b4   \n",
       "1462748  6bf0ae22034a9ebbc8379381b4051d32d00d5b33   \n",
       "\n",
       "         Manafactured_Year_and_Month  Engine_Displacement_(Cubic_Centimeter)  \\\n",
       "1415973                         2010                                    1584   \n",
       "709094                          2006                                    3000   \n",
       "1744671                         2006                                    1600   \n",
       "417402                          2012                                    1995   \n",
       "627041                          2004                                    2400   \n",
       "1506288                         2010                                    1995   \n",
       "1156935                         2003                                    3200   \n",
       "443035                          2013                                    2359   \n",
       "674177                          2003                                    2350   \n",
       "1462748                         2014                                    1800   \n",
       "\n",
       "         Imported_or_Domestic_Car         Coding_of_Vehicle_Branding_&_Type  \\\n",
       "1415973                        10  4ace0f973c737af82b3f323581abf2c23fda880d   \n",
       "709094                         10  a1c83e8cda4343a12fe526f59ab403647741e267   \n",
       "1744671                        40  c8b4d6e4b65ef0440fac9ffbc9b5caa154326128   \n",
       "417402                         30  91f3d5db9c148ff5ad6d5b61cd5f7724c84b5932   \n",
       "627041                         10  cd4543c4afdac0f4334958b0d2444d95d8648533   \n",
       "1506288                        30  ea13f3c0e57b8dd2b6724f5539120c27c4a8e43b   \n",
       "1156935                        10  aee83263b2888946054bac73945d10bbefb919d0   \n",
       "443035                         10  d130f32246f8342541a526c4aac7f56d1e440e7f   \n",
       "674177                         10  3de437ac38026ab264e58bdca3556779019f711f   \n",
       "1462748                        10  9eb4f98b90af8bdb0cf379712394d1a1756fd7df   \n",
       "\n",
       "         qpt fpt Main_Insurance_Coverage_Group Insurance_Coverage  \\\n",
       "1415973  5.0   P                            車責                16P   \n",
       "709094   3.0   P                            車責                29B   \n",
       "1744671  5.0   P                            車責                29K   \n",
       "417402   5.0   P                            車責                15O   \n",
       "627041   8.0   P                            車責                29B   \n",
       "1506288  5.0   P                            車損                20K   \n",
       "1156935  3.0   P                            車責                16P   \n",
       "443035   5.0   P                            車責                16G   \n",
       "674177   7.0   P                            車責                18@   \n",
       "1462748  5.0   P                            竊盜                09@   \n",
       "\n",
       "         Insured_Amount1  Insured_Amount2  Insured_Amount3  \\\n",
       "1415973                0                0           300000   \n",
       "709094                 0          3000000          6000000   \n",
       "1744671                0                0          3000000   \n",
       "417402                 0                0         20000000   \n",
       "627041                 0          3000000         21000000   \n",
       "1506288            10000                0            50000   \n",
       "1156935                0                0           600000   \n",
       "443035           2000000                0          4000000   \n",
       "674177              5000            50000           100000   \n",
       "1462748                0                0           551000   \n",
       "\n",
       "         Coverage_Deductible_if_applied  Premium  \\\n",
       "1415973                               0      977   \n",
       "709094                                0      541   \n",
       "1744671                               0      484   \n",
       "417402                                1     2925   \n",
       "627041                                0     1893   \n",
       "1506288                               0       26   \n",
       "1156935                               0     2262   \n",
       "443035                                0     1400   \n",
       "674177                                0      101   \n",
       "1462748                               0      355   \n",
       "\n",
       "         Replacement_cost_of_insured_vehicle  \\\n",
       "1415973                                 58.9   \n",
       "709094                                  69.9   \n",
       "1744671                                 62.8   \n",
       "417402                                 237.0   \n",
       "627041                                  78.9   \n",
       "1506288                                173.0   \n",
       "1156935                                 58.8   \n",
       "443035                                  90.9   \n",
       "674177                                  84.8   \n",
       "1462748                                 68.9   \n",
       "\n",
       "                             Distribution_Channel  \\\n",
       "1415973  203a03713ea29019ee5f67352dd76c5337df78d1   \n",
       "709094   315b39a0fc19fb45d146c17b813d46c7acb0b872   \n",
       "1744671  39005d92752d56310b3a357f42b57f304621689a   \n",
       "417402   5037717f120cf25bbeea6a42e62676bc5c911b12   \n",
       "627041   39005d92752d56310b3a357f42b57f304621689a   \n",
       "1506288  315b39a0fc19fb45d146c17b813d46c7acb0b872   \n",
       "1156935  24bd615ecc396df4ec03f4dd75a98604d720bdca   \n",
       "443035   b00be344804d9f045f4422b3f7609619af7854b6   \n",
       "674177   39005d92752d56310b3a357f42b57f304621689a   \n",
       "1462748  39005d92752d56310b3a357f42b57f304621689a   \n",
       "\n",
       "         Multiple_Products_with_TmNewa_(Yes_or_No?)  lia_class  plia_acc  \\\n",
       "1415973                                         0.0         -1     -0.38   \n",
       "709094                                          0.0          5      0.10   \n",
       "1744671                                         0.0         -1     -0.38   \n",
       "417402                                          0.0         -1     -0.38   \n",
       "627041                                          0.0          3     -0.10   \n",
       "1506288                                        26.0          0     -0.35   \n",
       "1156935                                         0.0          2     -0.20   \n",
       "443035                                          2.0          1     -0.30   \n",
       "674177                                          0.0         -1     -0.38   \n",
       "1462748                                         0.0         -1     -0.38   \n",
       "\n",
       "         pdmg_acc  fassured   ibirth fsex fmarriage  \\\n",
       "1415973       0.0         1  10/1957    2         1   \n",
       "709094       -0.6         2      NaN                  \n",
       "1744671      -0.6         1  12/1979    2         2   \n",
       "417402        0.0         1  06/1973    2         1   \n",
       "627041        0.0         2      NaN                  \n",
       "1506288       0.2         2      NaN  NaN       NaN   \n",
       "1156935       0.0         1  03/1975    1         1   \n",
       "443035       -0.2         1  12/1968    2         1   \n",
       "674177        0.0         1  10/1957    1         1   \n",
       "1462748      -0.2         1  12/1966    2         1   \n",
       "\n",
       "                                     aassured_zip  \\\n",
       "1415973  db667d12a4034fedb3d483274955503ca4a361e2   \n",
       "709094   01ec40215edd21ed26d1bedde644afcfa4ccd665   \n",
       "1744671  0b7f5ada6bdd5e4844b1dc6da915ace79a38c463   \n",
       "417402   e26973e6ee8ab9cd8cb3f207d1b90f00d2669eff   \n",
       "627041   5e796e48332af4142b10ca0f86e65d9bfdb05884   \n",
       "1506288  fbbf192d8343f1afa97f7a91d44cac3057f6a46f   \n",
       "1156935  e6de89674d9f1d7968a70dad4f41b844965b4fdc   \n",
       "443035   7fdec83a2662ffe53af456402cbaeafa380b15b4   \n",
       "674177   a609bb8ab05a0d13db9eb1d0d3b1383d1703c17d   \n",
       "1462748  9170981d59d0f8d3f003ef0f289394ded6a00696   \n",
       "\n",
       "                                        iply_area   dbirth  fequipment1  \\\n",
       "1415973  511a418e72591eb7e33f703f04c3fa16df6c90bd  10/1957            0   \n",
       "709094   bd307a3ec329e10a2cff8fb87480823da114f8f4      NaN            0   \n",
       "1744671  c1dfd96eea8cc2b62785275bca38ac261256e278  12/1979            0   \n",
       "417402   fa35e192121eabf3dabf9f5ea6abdbcbc107ac3b  06/1973            0   \n",
       "627041   356a192b7913b04c54574d18c28d46e6395428ab      NaN            0   \n",
       "1506288  c66c65175fecc3103b3b587be9b5b230889c8628      NaN            0   \n",
       "1156935  761f22b2c1593d0bb87e0b606f990ba4974706de  03/1975            0   \n",
       "443035   bd307a3ec329e10a2cff8fb87480823da114f8f4  12/1968            0   \n",
       "674177   bd307a3ec329e10a2cff8fb87480823da114f8f4  10/1957            0   \n",
       "1462748  511a418e72591eb7e33f703f04c3fa16df6c90bd  12/1966            0   \n",
       "\n",
       "         fequipment2  fequipment3  fequipment4  fequipment5  fequipment6  \\\n",
       "1415973            0            0            0            0            0   \n",
       "709094             0            0            0            0            0   \n",
       "1744671            0            0            0            0            0   \n",
       "417402             0            0            0            0            0   \n",
       "627041             0            0            0            0            0   \n",
       "1506288            0            0            0            0            0   \n",
       "1156935            0            0            0            0            0   \n",
       "443035             0            0            0            0            0   \n",
       "674177             0            0            0            0            0   \n",
       "1462748            0            0            0            0            0   \n",
       "\n",
       "         fequipment9 nequipment9  \n",
       "1415973            0              \n",
       "709094             0              \n",
       "1744671            0              \n",
       "417402             0              \n",
       "627041             0              \n",
       "1506288            0              \n",
       "1156935            0              \n",
       "443035             0              \n",
       "674177             0              \n",
       "1462748            0              "
      ]
     },
     "execution_count": 4,
     "metadata": {},
     "output_type": "execute_result"
    }
   ],
   "source": [
    "print(df_policy.shape) # 41 items  (1,747,942, 41)\n",
    "print('unique:',df_policy['Policy_Number'].nunique()) #351,273 unique Policy Number\n",
    "pd.set_option('display.max_columns', None)\n",
    "df_policy.sample(10)   "
   ]
  },
  {
   "cell_type": "code",
   "execution_count": 5,
   "metadata": {},
   "outputs": [
    {
     "name": "stdout",
     "output_type": "stream",
     "text": [
      "Index(['Policy_Number', 'Insured's_ID', 'Prior_Policy_Number', 'Cancellation',\n",
      "       'Vehicle_identifier', 'Vehicle_Make_and_Model1',\n",
      "       'Vehicle_Make_and_Model2', 'Manafactured_Year_and_Month',\n",
      "       'Engine_Displacement_(Cubic_Centimeter)', 'Imported_or_Domestic_Car',\n",
      "       'Coding_of_Vehicle_Branding_&_Type', 'qpt', 'fpt',\n",
      "       'Main_Insurance_Coverage_Group', 'Insurance_Coverage',\n",
      "       'Insured_Amount1', 'Insured_Amount2', 'Insured_Amount3',\n",
      "       'Coverage_Deductible_if_applied', 'Premium',\n",
      "       'Replacement_cost_of_insured_vehicle', 'Distribution_Channel',\n",
      "       'Multiple_Products_with_TmNewa_(Yes_or_No?)', 'lia_class', 'plia_acc',\n",
      "       'pdmg_acc', 'fassured', 'ibirth', 'fsex', 'fmarriage', 'aassured_zip',\n",
      "       'iply_area', 'dbirth', 'fequipment1', 'fequipment2', 'fequipment3',\n",
      "       'fequipment4', 'fequipment5', 'fequipment6', 'fequipment9',\n",
      "       'nequipment9'],\n",
      "      dtype='object')\n"
     ]
    }
   ],
   "source": [
    "'''Policy_Number\t保單號碼 Insured's_ID\t被保險人代號(替代值) Prior_Policy_Number\t前保單號 Cancellation\t非繼承自前保單 \n",
    "Vehicle_identifier\t車牌號碼 Vehicle_Make_and_Model1\t廠牌名稱一 Vehicle_Make_and_Model2\t廠牌名稱二\n",
    "Manafactured_Year_and_Month\t製造年份 Engine_Displacement_(Cubic_Centimeter)\t排氣量 Imported_or_Domestic_Car\t車系代號\n",
    "Coding_of_Vehicle_Branding_&_Type\t廠牌車型代號\n",
    "qpt\t乘載數量 fpt\t乘載單位 Main_Insurance_Coverage_Group\t險種分類 Insurance_Coverage\t險種代碼\n",
    "Insured_Amount1\t保額一 Insured_Amount2\t保額二 Insured_Amount3\t保額三\n",
    "Coverage_Deductible_if_applied\t自負額 Premium\t簽單保費 Replacement_cost_of_insured_vehicle\t重置成本\n",
    "Distribution_Channel\t主通路代號 Multiple_Products_with_TmNewa_(Yes_or_No?)\t同一車主前一年度非車險保單件數\n",
    "lia_class\t車責本期級數 plia_acc\t車責賠款係數 pdmg_acc\t車體賠款係數 fassured\t被保險人性質\n",
    "ibirth\t出生日期 fsex\t性別 fmarriage\t婚姻狀況 aassured_zip\t郵遞區號\n",
    "iply_area\t承保地區代號(分公司) dbirth\t要保人出生日期 fequipment1\t配備-音響註記 fequipment2\t配備-車箱註記 \n",
    "fequipment3\t配備-冷凍機組註記 fequipment4\t配備-車框、車斗註記 fequipment5\t配備-昇降系統註記 fequipment6\t配備-電動車電池註記\n",
    "fequipment9\t配備-其他 nequipment9\t配備-其他說明\n",
    "'''\n",
    "print(df_policy.columns)"
   ]
  },
  {
   "cell_type": "code",
   "execution_count": null,
   "metadata": {
    "collapsed": true
   },
   "outputs": [],
   "source": [
    "# group by Policy_Number\n",
    "df_policy_grouped = df_policy.groupby(['Policy_Number'])\n",
    "df_policy_grouped_count = df_policy.groupby(['Policy_Number']).count()\n",
    "df_policy_grouped_count.head()"
   ]
  },
  {
   "cell_type": "code",
   "execution_count": null,
   "metadata": {},
   "outputs": [],
   "source": [
    "df_policy_grouped=df_policy_grouped.reset_index()"
   ]
  },
  {
   "cell_type": "code",
   "execution_count": null,
   "metadata": {},
   "outputs": [],
   "source": [
    "np.max(df_policy_grouped_count['Prior_Policy_Number'])"
   ]
  },
  {
   "cell_type": "code",
   "execution_count": null,
   "metadata": {},
   "outputs": [],
   "source": [
    "df_policy_grouped_count[df_policy_grouped_count['Prior_Policy_Number']==18]"
   ]
  },
  {
   "cell_type": "code",
   "execution_count": null,
   "metadata": {},
   "outputs": [],
   "source": [
    "df_policy[df_policy['Policy_Number']=='1ba69ae26d09693bd4ce0ae7deb373bdf427dafd']"
   ]
  },
  {
   "cell_type": "code",
   "execution_count": null,
   "metadata": {},
   "outputs": [],
   "source": [
    "df_policy.nunique()  # unique Policy Number > unique Insured's ID"
   ]
  },
  {
   "cell_type": "code",
   "execution_count": null,
   "metadata": {},
   "outputs": [],
   "source": [
    "# check missing percentage:\n",
    "df_policy.isnull().sum()/df_policy.shape[0] # prior_Policy_Number "
   ]
  },
  {
   "cell_type": "code",
   "execution_count": null,
   "metadata": {
    "collapsed": true
   },
   "outputs": [],
   "source": [
    "same_cols=[\"Insured's_ID\", 'Prior_Policy_Number', 'Cancellation',\n",
    "       'Vehicle_identifier', 'Vehicle_Make_and_Model1',\n",
    "       'Vehicle_Make_and_Model2', 'Manafactured_Year_and_Month',\n",
    "       'Engine_Displacement_(Cubic_Centimeter)', 'Imported_or_Domestic_Car',\n",
    "       'Coding_of_Vehicle_Branding_&_Type', 'qpt', 'fpt',\n",
    "       'Replacement_cost_of_insured_vehicle', 'Distribution_Channel',\n",
    "       'Multiple_Products_with_TmNewa_(Yes_or_No?)', 'lia_class', 'plia_acc',\n",
    "       'pdmg_acc', 'fassured', 'ibirth', 'fsex', 'fmarriage', 'aassured_zip',\n",
    "       'iply_area', 'dbirth', 'fequipment1', 'fequipment2', 'fequipment3',\n",
    "       'fequipment4', 'fequipment5', 'fequipment6', 'fequipment9',\n",
    "       'nequipment9']\n",
    "\n",
    "diff_cols=['Main_Insurance_Coverage_Group', 'Insurance_Coverage',\n",
    "       'Insured_Amount1', 'Insured_Amount2', 'Insured_Amount3','Coverage_Deductible_if_applied', 'Premium']"
   ]
  },
  {
   "cell_type": "code",
   "execution_count": null,
   "metadata": {},
   "outputs": [],
   "source": [
    "# Convert 'Main_Insurance_Coverage_Group', 'Insurance_Coverage' to values, \n",
    "# so we can create features from diff_cols afterwards\n",
    "\n",
    "# get dummy on Main_Insurance_Coverage_Group & Insurance_Coverage\n",
    "df = df_policy\n",
    "segment=['Main_Insurance_Coverage_Group','Insurance_Coverage']\n",
    "df_dummy = pd.get_dummies(df, columns=segment)\n",
    "print(df_dummy.shape)\n",
    "df_dummy.head()"
   ]
  },
  {
   "cell_type": "code",
   "execution_count": null,
   "metadata": {},
   "outputs": [],
   "source": [
    "print(len(set(df_dummy['Coverage_Deductible_if_applied'])))\n",
    "set(df_dummy['Coverage_Deductible_if_applied'])"
   ]
  },
  {
   "cell_type": "code",
   "execution_count": null,
   "metadata": {},
   "outputs": [],
   "source": [
    "col=df_dummy.columns[42]\n",
    "sel_col=['Coverage_Deductible_if_applied',col]\n",
    "df_temp = df_dummy[sel_col][df_dummy[col]!=0]\n",
    "print(set(df_temp['Coverage_Deductible_if_applied']))\n",
    "df_temp.sample(5)"
   ]
  },
  {
   "cell_type": "code",
   "execution_count": null,
   "metadata": {},
   "outputs": [],
   "source": [
    "for idx in range(42,102):\n",
    "    col=df_dummy.columns[idx]\n",
    "    sel_col=['Coverage_Deductible_if_applied',col]\n",
    "    df_temp = df_dummy[sel_col][df_dummy[col]!=0]\n",
    "    print(col, set(df_temp['Coverage_Deductible_if_applied']))"
   ]
  },
  {
   "cell_type": "markdown",
   "metadata": {},
   "source": [
    "## ~ deal with the coverage later"
   ]
  },
  {
   "cell_type": "markdown",
   "metadata": {},
   "source": [
    "## Create Features from diff_cols"
   ]
  },
  {
   "cell_type": "code",
   "execution_count": null,
   "metadata": {
    "collapsed": true
   },
   "outputs": [],
   "source": [
    "# Main_Insurance_Coverage_Group\t險種分類 Insurance_Coverage\t險種代碼 Insured_Amount1\t保額一 Insured_Amount2\t保額二 \n",
    "# Insured_Amount3\t保額三 Coverage_Deductible_if_applied\t自負額 Premium\t簽單保費"
   ]
  },
  {
   "cell_type": "code",
   "execution_count": null,
   "metadata": {},
   "outputs": [],
   "source": [
    "# replace diff_col with new columns name (after get dummy) \n",
    "#diff_col = df_dummy.columns[39:] # ++ ['Coverage_Deductible_if_applied', 'Premium']\n",
    "count_cols = ['Prior_Policy_Number']\n",
    "\n",
    "sum_cols=['Main_Insurance_Coverage_Group_竊盜', 'Main_Insurance_Coverage_Group_車損',\n",
    "       'Main_Insurance_Coverage_Group_車責', 'Insurance_Coverage_00I',\n",
    "       'Insurance_Coverage_01A', 'Insurance_Coverage_01J',\n",
    "       'Insurance_Coverage_02K', 'Insurance_Coverage_03L',\n",
    "       'Insurance_Coverage_04M', 'Insurance_Coverage_05E',\n",
    "       'Insurance_Coverage_05N', 'Insurance_Coverage_06F',\n",
    "       'Insurance_Coverage_07P', 'Insurance_Coverage_08H',\n",
    "       'Insurance_Coverage_09@', 'Insurance_Coverage_09I',\n",
    "       'Insurance_Coverage_10A', 'Insurance_Coverage_12L',\n",
    "       'Insurance_Coverage_14E', 'Insurance_Coverage_14N',\n",
    "       'Insurance_Coverage_15F', 'Insurance_Coverage_15O',\n",
    "       'Insurance_Coverage_16G', 'Insurance_Coverage_16P',\n",
    "       'Insurance_Coverage_18@', 'Insurance_Coverage_18I',\n",
    "       'Insurance_Coverage_20B', 'Insurance_Coverage_20K',\n",
    "       'Insurance_Coverage_25G', 'Insurance_Coverage_26H',\n",
    "       'Insurance_Coverage_27I', 'Insurance_Coverage_29B',\n",
    "       'Insurance_Coverage_29K', 'Insurance_Coverage_32N',\n",
    "       'Insurance_Coverage_33F', 'Insurance_Coverage_33O',\n",
    "       'Insurance_Coverage_34P', 'Insurance_Coverage_35H',\n",
    "       'Insurance_Coverage_36I', 'Insurance_Coverage_37J',\n",
    "       'Insurance_Coverage_40M', 'Insurance_Coverage_41E',\n",
    "       'Insurance_Coverage_41N', 'Insurance_Coverage_42F',\n",
    "       'Insurance_Coverage_45@', 'Insurance_Coverage_46A',\n",
    "       'Insurance_Coverage_47B', 'Insurance_Coverage_51O',\n",
    "       'Insurance_Coverage_55J', 'Insurance_Coverage_56B',\n",
    "       'Insurance_Coverage_56K', 'Insurance_Coverage_57C',\n",
    "       'Insurance_Coverage_57L', 'Insurance_Coverage_65K',\n",
    "       'Insurance_Coverage_66C', 'Insurance_Coverage_66L',\n",
    "       'Insurance_Coverage_67D', 'Insurance_Coverage_68E',\n",
    "       'Insurance_Coverage_68N', 'Insurance_Coverage_70G',\n",
    "       'Insurance_Coverage_70P', 'Insurance_Coverage_71H',\n",
    "       'Insurance_Coverage_72@','Premium']"
   ]
  },
  {
   "cell_type": "code",
   "execution_count": null,
   "metadata": {},
   "outputs": [],
   "source": [
    "# group by Policy Number & apply count to count_cols\n",
    "df_policy_grouped = df_dummy.groupby(['Policy_Number']).reset_index()\n",
    "df_policy_grouped_count = df_dummy.groupby(['Policy_Number'])[count_cols].reset_index().count()"
   ]
  },
  {
   "cell_type": "code",
   "execution_count": null,
   "metadata": {
    "collapsed": true
   },
   "outputs": [],
   "source": [
    "## Examine data: find same and diff cols\n",
    "# df_policy_grouped_count[df_policy_grouped_count['Main_Insurance_Coverage_Group_竊盜']==18]\n",
    "# # check 自然人  policy\n",
    "# df_policy[df_policy['Policy_Number']=='1ba69ae26d09693bd4ce0ae7deb373bdf427dafd']\n",
    "# df_policy[df_policy['Policy_Number']=='81208dfe578ee4bc89774c16d24799924e78f0e0'].nunique()\n",
    "# # check 法人  policy\n",
    "# df_policy[df_policy['Policy_Number']=='17ccb5ec55e642270298b3bbc959ff7c0ecfa6b1']"
   ]
  },
  {
   "cell_type": "code",
   "execution_count": null,
   "metadata": {},
   "outputs": [],
   "source": [
    "print('unique:',df_policy['Policy_Number'].nunique()) \n",
    "print(df_policy_grouped_count.shape)  # == 351,273 unique Policy Number\n",
    "df_policy_grouped_count.head()"
   ]
  },
  {
   "cell_type": "code",
   "execution_count": null,
   "metadata": {},
   "outputs": [],
   "source": [
    "# group by Policy Number & apply sum to sum_cols\n",
    "df_policy_grouped_sum = df_dummy.groupby(['Policy_Number'])[sum_cols].reset_index().sum()\n",
    "print('unique:',df_policy['Policy_Number'].nunique()) \n",
    "print(df_policy_grouped_sum.shape) \n",
    "df_policy_grouped_sum.head()"
   ]
  },
  {
   "cell_type": "markdown",
   "metadata": {},
   "source": [
    "## features from dates"
   ]
  },
  {
   "cell_type": "code",
   "execution_count": null,
   "metadata": {},
   "outputs": [],
   "source": [
    "### examine Drivers\n",
    "driver = df_policy[['ibirth' , 'dbirth']]\n",
    "print(driver.shape[0])\n",
    "driver.head()"
   ]
  },
  {
   "cell_type": "code",
   "execution_count": null,
   "metadata": {},
   "outputs": [],
   "source": [
    "condition1 = driver['ibirth'].isnull()    # 18.2 %\n",
    "condition2 = driver['dbirth'].isnull()    # 14.8 %\n",
    "\n",
    "condition3 = driver['ibirth'].notnull()   \n",
    "condition4 = driver['dbirth'].notnull()   \n",
    "\n",
    "\n",
    "driver_0N= driver[condition3&condition4]  # both have values  (81.5%)\n",
    "driver_1N= driver[condition1^condition2]  # missing one (3.9%)\n",
    "driver_2N= driver[condition1|condition2]  # missing both (18.4%)\n",
    "\n",
    "print(driver_0N.shape[0]/driver.shape[0])\n",
    "print(driver_1N.shape[0]/driver.shape[0]) \n",
    "print(driver_2N.shape[0]/driver.shape[0])"
   ]
  },
  {
   "cell_type": "code",
   "execution_count": null,
   "metadata": {},
   "outputs": [],
   "source": [
    "# check indiff. in 0N\n",
    "\n",
    "indiff = driver_0N[driver_0N['ibirth']!=driver_0N['dbirth']]\n",
    "print(indiff.shape[0])\n",
    "indiff.sample(10)"
   ]
  },
  {
   "cell_type": "code",
   "execution_count": null,
   "metadata": {},
   "outputs": [],
   "source": [
    "### dbirth has some weird date\n",
    "### check non-null data & sort\n",
    "print(driver['dbirth'].notnull().sum())\n",
    "import datetime\n",
    "a = df_policy[driver['dbirth'].notnull()]['dbirth']\n",
    "b = sorted(a, key=lambda x: datetime.datetime.strptime(x, '%m/%Y'), reverse = True)"
   ]
  },
  {
   "cell_type": "code",
   "execution_count": null,
   "metadata": {},
   "outputs": [],
   "source": [
    "replace_date = {\n",
    "    '09/2658',\n",
    " '09/2658',\n",
    " '09/2658',\n",
    " '09/2658',\n",
    " '10/2622',\n",
    " '10/2622',\n",
    " '10/2622',\n",
    " '10/2622',\n",
    " '02/2611',\n",
    " '02/2611',\n",
    " '02/2611',\n",
    " '02/2611',\n",
    " '02/2611',\n",
    " '02/2611',\n",
    " '11/2602',\n",
    " '11/2602',\n",
    " '11/2602',\n",
    " '11/2602',\n",
    " '11/2602',\n",
    " '11/2602',\n",
    " '11/2602',\n",
    " '11/2602',\n",
    " '10/2582',\n",
    " '10/2582',\n",
    " '10/2582',\n",
    " '10/2582',\n",
    " '10/2581',\n",
    " '10/2581',\n",
    " '04/2579',\n",
    " '04/2579',\n",
    " '04/2579',\n",
    " '04/2579',\n",
    " '04/2579',\n",
    " '04/2579',\n",
    " '04/2579',\n",
    " '04/2579',\n",
    " '04/2579',\n",
    " '08/2569',\n",
    " '08/2569',\n",
    " '08/2569',\n",
    " '08/2569',\n",
    " '08/2569',\n",
    " '10/2521',\n",
    " '11/2512',\n",
    " '11/2512',\n",
    " '11/2512',\n",
    " '11/2512',\n",
    " '11/2512',\n",
    " '01/2512',\n",
    " '01/2512',\n",
    " '01/2512',\n",
    " '01/2512',\n",
    " '01/2512',\n",
    " '10/2472',\n",
    " '10/2472',\n",
    " '08/2471',\n",
    " '08/2471',\n",
    " '08/2471',\n",
    " '08/2471',\n",
    " '08/2471',\n",
    " '11/2464',\n",
    " '11/2464',\n",
    " '11/2464',\n",
    " '03/2464',\n",
    " '03/2464',\n",
    " '12/2453',\n",
    " '12/2453',\n",
    " '12/2453',\n",
    " '12/2453',\n",
    " '01/2442',\n",
    " '01/2442',\n",
    " '01/2442',\n",
    " '01/2442',\n",
    " '01/2442',\n",
    " '01/2442',\n",
    " '07/2280',\n",
    " '07/2280',\n",
    " '07/2280',\n",
    " '07/2280',\n",
    " '07/2280',\n",
    " '07/2280',\n",
    " '07/2280',\n",
    " '07/2280',\n",
    " '02/2152',\n",
    " '02/2152',\n",
    " '02/2152',\n",
    " '02/2152',\n",
    " '02/2152',\n",
    " '02/2152',\n",
    " '02/2152',\n",
    " '02/2152',\n",
    " '02/2152'}\n",
    "len(replace_date)"
   ]
  },
  {
   "cell_type": "code",
   "execution_count": null,
   "metadata": {},
   "outputs": [],
   "source": [
    "replace_date_set = set(replace_date)\n",
    "len(replace_date_set)"
   ]
  },
  {
   "cell_type": "code",
   "execution_count": null,
   "metadata": {},
   "outputs": [],
   "source": [
    "date_switch = df_policy.apply(lambda row: True if row['dbirth'] in replace_date_set else False, axis = 1)\n",
    "df_policy_selected = df_policy[date_switch]\n",
    "print(df_policy_selected.shape[0])\n",
    "df_policy_selected.head()"
   ]
  },
  {
   "cell_type": "code",
   "execution_count": null,
   "metadata": {},
   "outputs": [],
   "source": [
    "selected_idx = df_policy_selected.index.values\n",
    "selected_idx"
   ]
  },
  {
   "cell_type": "code",
   "execution_count": null,
   "metadata": {},
   "outputs": [],
   "source": [
    "df_policy_selected_date = df_policy[['ibirth', 'dbirth','fassured']].loc[df_policy_selected.index]\n",
    "# \"1:國內自然人 2:國內法人 3:國外自然人 4:國外法人 5:自然人ID有誤 6:法人ID有誤\"\n",
    "df1 = df_policy_selected_date[df_policy_selected_date['fassured']==1]\n",
    "df2 = df_policy_selected_date[df_policy_selected_date['fassured']==2]\n",
    "print(df1.shape[0])\n",
    "print(df2.shape[0])"
   ]
  },
  {
   "cell_type": "code",
   "execution_count": null,
   "metadata": {},
   "outputs": [],
   "source": [
    "df2.head() ## replace as NaN  (as ibirth)"
   ]
  },
  {
   "cell_type": "code",
   "execution_count": null,
   "metadata": {},
   "outputs": [],
   "source": [
    "df1.head() ## replace as ibirth"
   ]
  },
  {
   "cell_type": "code",
   "execution_count": null,
   "metadata": {},
   "outputs": [],
   "source": [
    "df_policy['ID']=df_policy.index   # create ID column for ref.\n",
    "df_policy.head()"
   ]
  },
  {
   "cell_type": "code",
   "execution_count": null,
   "metadata": {
    "collapsed": true
   },
   "outputs": [],
   "source": [
    "### replace weird date as ibirth\n",
    "df_policy['dbirth_new'] = df_policy.apply(lambda row: row['ibirth'] if row['ID'] in selected_idx \n",
    "                                          else row['dbirth'], axis = 1)"
   ]
  },
  {
   "cell_type": "code",
   "execution_count": null,
   "metadata": {},
   "outputs": [],
   "source": [
    "df_policy[['ibirth', 'dbirth', 'fassured','dbirth_new']].loc[selected_idx].sample(10)"
   ]
  },
  {
   "cell_type": "code",
   "execution_count": null,
   "metadata": {},
   "outputs": [],
   "source": [
    "df_policy['dbirth'] = df_policy['dbirth_new']\n",
    "df_policy = df_policy.drop(['dbirth_new','ID'], axis =1)\n",
    "df_policy.head()"
   ]
  },
  {
   "cell_type": "code",
   "execution_count": null,
   "metadata": {},
   "outputs": [],
   "source": [
    "print(df_policy.shape)"
   ]
  },
  {
   "cell_type": "markdown",
   "metadata": {},
   "source": [
    "# ~create features from these datetime columns later...."
   ]
  },
  {
   "cell_type": "markdown",
   "metadata": {},
   "source": [
    "### Claim"
   ]
  },
  {
   "cell_type": "code",
   "execution_count": null,
   "metadata": {
    "collapsed": true
   },
   "outputs": [],
   "source": [
    "#df_claim = pd.read_csv('../Tbrain_Insurance/policy_claim/claim_0702.csv')"
   ]
  },
  {
   "cell_type": "code",
   "execution_count": null,
   "metadata": {},
   "outputs": [],
   "source": [
    "print(df_claim.shape)  # 20 items\n",
    "print('unique:',df_claim['Policy_Number'].nunique()) #35895 unique Policy Number\n",
    "pd.set_option('display.max_columns', None)  ## show all columns\n",
    "df_claim.head()"
   ]
  },
  {
   "cell_type": "code",
   "execution_count": null,
   "metadata": {},
   "outputs": [],
   "source": [
    "print(df_claim.columns)"
   ]
  },
  {
   "cell_type": "code",
   "execution_count": null,
   "metadata": {},
   "outputs": [],
   "source": [
    "df_claim.nunique()              \n",
    "# shape(69613, 20)\n",
    "# unique Policy_Number: 35895 "
   ]
  },
  {
   "cell_type": "code",
   "execution_count": null,
   "metadata": {},
   "outputs": [],
   "source": [
    "df_claim_grouped = df_claim.groupby(['Policy_Number']).reset_index()\n",
    "df_claim_grouped_count = df_claim.groupby(['Policy_Number']).reset_index().count()\n",
    "df_claim_grouped_count[df_claim_grouped_count['Nature_of_the_claim']==12].head()"
   ]
  },
  {
   "cell_type": "code",
   "execution_count": null,
   "metadata": {},
   "outputs": [],
   "source": [
    "df_claim[df_claim['Policy_Number']=='4cd5fd8a86f0f5cd10fa8b416eba56582d20b573']\n",
    "# Nature_of_the_claim\t1.賠付 2.追償\n",
    "# Salvage_or_Subrogation? 追償金額 (Nature_of_the_claim 才有值)\n",
    "# Driver's_Replationship_with_Insured \"1:被保險人本人 2:被保險人親友 3:被保險人員工 4:租用被保險車輛 5:其他, 6:配偶, 7:子女\""
   ]
  },
  {
   "cell_type": "code",
   "execution_count": null,
   "metadata": {},
   "outputs": [],
   "source": [
    "# Segment these: so we can create features for this\n",
    "segment=['Nature_of_the_claim',\"Driver's_Gender\",\"Driver's_Relationship_with_Insured\",'Marital_Status_of_Driver',\n",
    "'Cause_of_Loss','Coverage','Claim_Status_(close,_open,_reopen_etc)','Accident_Time']\n",
    "\n",
    "# get dummy on these columns (for those annon id columns, convert to label first (one-hot))\n",
    "print('Shape of data before one-hot : {}'.format(df.shape))\n",
    "# 1. one-hot encode:\n",
    "df = df_claim\n",
    "cols = ['Cause_of_Loss']\n",
    "# process columns, apply LabelEncoder to categorical features\n",
    "from sklearn.preprocessing import LabelEncoder\n",
    "for c in cols:\n",
    "    lbl = LabelEncoder() \n",
    "    lbl.fit(list(df[c].values)) \n",
    "    df[c] = lbl.transform(list(df[c].values))    \n",
    "print('Shape of data after one-hot : {}'.format(df.shape))\n",
    "\n",
    "# 2. get dummy :\n",
    "df = df\n",
    "df_dummy = pd.get_dummies(df, columns=segment)\n",
    "print('Shape of data after get dummy : {}'.format(df_dummy.shape))\n",
    "df_dummy.head()"
   ]
  },
  {
   "cell_type": "code",
   "execution_count": null,
   "metadata": {
    "collapsed": true
   },
   "outputs": [],
   "source": [
    "df_claim = df_dummy "
   ]
  },
  {
   "cell_type": "code",
   "execution_count": null,
   "metadata": {},
   "outputs": [],
   "source": [
    "# print(df_claim.columns[30:110])"
   ]
  },
  {
   "cell_type": "code",
   "execution_count": null,
   "metadata": {},
   "outputs": [],
   "source": [
    "df_claim_grouped = df_claim.groupby(['Policy_Number'])\n",
    "df_claim_grouped_count = df_claim.groupby(['Policy_Number']).count()\n",
    "df_claim_grouped_count.head()"
   ]
  },
  {
   "cell_type": "code",
   "execution_count": null,
   "metadata": {},
   "outputs": [],
   "source": [
    "print('unique:',df_claim['Policy_Number'].nunique()) #35895 unique Policy Number\n",
    "print(len(df_claim_grouped))"
   ]
  },
  {
   "cell_type": "code",
   "execution_count": null,
   "metadata": {
    "collapsed": true
   },
   "outputs": [],
   "source": [
    "# setting cols\n",
    "index_cols = ['Policy_Number']\n",
    "count_cols = ['Claim_Number']\n",
    "\n",
    "sum_cols = ['Paid_Loss_Amount','paid_Expenses_Amount','Salvage_or_Subrogation?', \n",
    "           'Deductible', 'number_of_claimants',\"Driver's_Relationship_with_Insured_1\", \"Driver's_Relationship_with_Insured_2\",\n",
    "              \"Driver's_Relationship_with_Insured_3\",\"Driver's_Relationship_with_Insured_4\",\n",
    "              \"Driver's_Relationship_with_Insured_5\",\"Driver's_Relationship_with_Insured_6\",\n",
    "              \"Driver's_Relationship_with_Insured_7\", 'Coverage_00I',\n",
    "           'Coverage_01A', 'Coverage_02K', 'Coverage_03L','Coverage_04M', 'Coverage_05E', 'Coverage_05N', 'Coverage_06F',\n",
    "       'Coverage_07P', 'Coverage_08H', 'Coverage_09@', 'Coverage_10A',\n",
    "       'Coverage_12L', 'Coverage_14E', 'Coverage_14N', 'Coverage_15F',\n",
    "       'Coverage_15O', 'Coverage_16G', 'Coverage_16P', 'Coverage_18@',\n",
    "       'Coverage_18I', 'Coverage_20B', 'Coverage_20K', 'Coverage_25G',\n",
    "       'Coverage_26H', 'Coverage_29B', 'Coverage_29K', 'Coverage_32N',\n",
    "       'Coverage_33F', 'Coverage_33O', 'Coverage_34P', 'Coverage_35H',\n",
    "       'Coverage_36I', 'Coverage_40M', 'Coverage_41E', 'Coverage_41N',\n",
    "       'Coverage_42F', 'Coverage_45@', 'Coverage_46A', 'Coverage_51O',\n",
    "       'Coverage_55J', 'Coverage_56B', 'Coverage_56K', 'Coverage_57C',\n",
    "       'Coverage_57L', 'Coverage_66L', 'Coverage_70G', 'Coverage_70P',\n",
    "             'Cause_of_Loss_0', 'Cause_of_Loss_1','Cause_of_Loss_2', 'Cause_of_Loss_3', 'Cause_of_Loss_4',\n",
    "       'Cause_of_Loss_5', 'Cause_of_Loss_6', 'Cause_of_Loss_7',\n",
    "       'Cause_of_Loss_8', 'Cause_of_Loss_9', 'Cause_of_Loss_10',\n",
    "       'Cause_of_Loss_11', 'Cause_of_Loss_12', 'Cause_of_Loss_13',\n",
    "       'Cause_of_Loss_14', 'Cause_of_Loss_15', 'Cause_of_Loss_16',\n",
    "            'Accident_Time_00:00', 'Accident_Time_01:00', 'Accident_Time_02:00', 'Accident_Time_03:00',\n",
    "       'Accident_Time_04:00', 'Accident_Time_05:00', 'Accident_Time_06:00',\n",
    "       'Accident_Time_07:00', 'Accident_Time_08:00', 'Accident_Time_09:00',\n",
    "       'Accident_Time_09:22', 'Accident_Time_09:52', 'Accident_Time_10:00',\n",
    "       'Accident_Time_11:00', 'Accident_Time_11:53', 'Accident_Time_12:00',\n",
    "       'Accident_Time_12:02', 'Accident_Time_12:50', 'Accident_Time_13:00',\n",
    "       'Accident_Time_13:12', 'Accident_Time_14:00', 'Accident_Time_14:06',\n",
    "       'Accident_Time_15:00', 'Accident_Time_15:14', 'Accident_Time_15:15',\n",
    "       'Accident_Time_16:00', 'Accident_Time_16:48', 'Accident_Time_17:00',\n",
    "       'Accident_Time_17:30', 'Accident_Time_17:38', 'Accident_Time_17:43',\n",
    "       'Accident_Time_18:00', 'Accident_Time_18:01', 'Accident_Time_18:32',\n",
    "       'Accident_Time_19:00', 'Accident_Time_20:00', 'Accident_Time_21:00',\n",
    "       'Accident_Time_22:00', 'Accident_Time_23:00','Nature_of_the_claim_1',\n",
    "       'Nature_of_the_claim_2','Claim_Status_(close,_open,_reopen_etc)_0','Claim_Status_(close,_open,_reopen_etc)_1']\n",
    "\n",
    "mean_cols = ['At_Fault?','Paid_Loss_Amount','paid_Expenses_Amount','Salvage_or_Subrogation?', \n",
    "           'Deductible', 'number_of_claimants','number_of_claimants',\n",
    "             'Marital_Status_of_Driver_1','Marital_Status_of_Driver_2',\n",
    "             \"Driver's_Gender_1\", \"Driver's_Gender_2\"]\n",
    "\n",
    "date_cols =['DOB_of_Driver','Accident_Date']"
   ]
  },
  {
   "cell_type": "code",
   "execution_count": null,
   "metadata": {},
   "outputs": [],
   "source": [
    "df_claim_grouped_count = df_claim_grouped[count_cols].count()\n",
    "df_claim_grouped_count.head()"
   ]
  },
  {
   "cell_type": "code",
   "execution_count": null,
   "metadata": {},
   "outputs": [],
   "source": [
    "df_claim_grouped_sum = df_claim_grouped[sum_cols].sum()\n",
    "print(df_claim_grouped_sum.shape)\n",
    "df_claim_grouped_sum.head()"
   ]
  },
  {
   "cell_type": "code",
   "execution_count": null,
   "metadata": {},
   "outputs": [],
   "source": [
    "df_claim_grouped_mean = df_claim_grouped[mean_cols].mean()\n",
    "print(df_claim_grouped_mean.shape)\n",
    "df_claim_grouped_mean.head()"
   ]
  },
  {
   "cell_type": "markdown",
   "metadata": {},
   "source": [
    "# ~create features from these datetime columns later...."
   ]
  },
  {
   "cell_type": "markdown",
   "metadata": {},
   "source": [
    "### training & testing"
   ]
  },
  {
   "cell_type": "code",
   "execution_count": null,
   "metadata": {},
   "outputs": [],
   "source": [
    "print(df_training.shape)\n",
    "print('unique:',df_training['Policy_Number'].nunique()) #210763 unique Policy Number\n",
    "df_training.head()"
   ]
  },
  {
   "cell_type": "code",
   "execution_count": null,
   "metadata": {},
   "outputs": [],
   "source": [
    "df_training[df_training['Next_Premium']==100]  # if Next_Premium = 100 -> testing_set"
   ]
  },
  {
   "cell_type": "code",
   "execution_count": null,
   "metadata": {},
   "outputs": [],
   "source": [
    "print(df_testing.shape)\n",
    "print('unique:',df_testing['Policy_Number'].nunique()) #140510 unique Policy Number\n",
    "df_testing.head()"
   ]
  },
  {
   "cell_type": "code",
   "execution_count": null,
   "metadata": {},
   "outputs": [],
   "source": [
    "a=df_training['Policy_Number'].nunique()/df_policy['Policy_Number'].nunique()*100\n",
    "b=df_testing['Policy_Number'].nunique()/df_policy['Policy_Number'].nunique()*100\n",
    "print('training set (pct)  %f '%a)\n",
    "print('testing set (pct)  %f '%b)"
   ]
  },
  {
   "cell_type": "markdown",
   "metadata": {},
   "source": [
    "## 1. Combine policy & claim & training & testing"
   ]
  },
  {
   "cell_type": "code",
   "execution_count": null,
   "metadata": {},
   "outputs": [],
   "source": [
    "df_all= pd.concat([df_training, df_testing])\n",
    "print('unique:',df_policy['Policy_Number'].nunique()) \n",
    "print('all data columns', df_all.columns)\n",
    "print('all data shape', df_all.shape)   #351,273 unique Policy Number"
   ]
  },
  {
   "cell_type": "markdown",
   "metadata": {},
   "source": [
    "### add features (on Policy Number )"
   ]
  },
  {
   "cell_type": "code",
   "execution_count": null,
   "metadata": {},
   "outputs": [],
   "source": [
    "df=df_policy_grouped_count\n",
    "#print(df.columns)\n",
    "print(df.shape)\n",
    "df.head()"
   ]
  },
  {
   "cell_type": "code",
   "execution_count": null,
   "metadata": {},
   "outputs": [],
   "source": [
    "df=df_policy_grouped_sum\n",
    "#print(df.columns)\n",
    "print(df.shape)\n",
    "df.head()"
   ]
  },
  {
   "cell_type": "code",
   "execution_count": null,
   "metadata": {},
   "outputs": [],
   "source": [
    "renamed_cols = ['Policy_Number', 'theft_num', 'damage_num', 'property_num', 'Insurance_Coverage_00I',\n",
    "       'Insurance_Coverage_01A', 'Insurance_Coverage_01J',\n",
    "       'Insurance_Coverage_02K', 'Insurance_Coverage_03L',\n",
    "       'Insurance_Coverage_04M', 'Insurance_Coverage_05E',\n",
    "       'Insurance_Coverage_05N', 'Insurance_Coverage_06F',\n",
    "       'Insurance_Coverage_07P', 'Insurance_Coverage_08H',\n",
    "       'Insurance_Coverage_09@', 'Insurance_Coverage_09I',\n",
    "       'Insurance_Coverage_10A', 'Insurance_Coverage_12L',\n",
    "       'Insurance_Coverage_14E', 'Insurance_Coverage_14N',\n",
    "       'Insurance_Coverage_15F', 'Insurance_Coverage_15O',\n",
    "       'Insurance_Coverage_16G', 'Insurance_Coverage_16P',\n",
    "       'Insurance_Coverage_18@', 'Insurance_Coverage_18I',\n",
    "       'Insurance_Coverage_20B', 'Insurance_Coverage_20K',\n",
    "       'Insurance_Coverage_25G', 'Insurance_Coverage_26H',\n",
    "       'Insurance_Coverage_27I', 'Insurance_Coverage_29B',\n",
    "       'Insurance_Coverage_29K', 'Insurance_Coverage_32N',\n",
    "       'Insurance_Coverage_33F', 'Insurance_Coverage_33O',\n",
    "       'Insurance_Coverage_34P', 'Insurance_Coverage_35H',\n",
    "       'Insurance_Coverage_36I', 'Insurance_Coverage_37J',\n",
    "       'Insurance_Coverage_40M', 'Insurance_Coverage_41E',\n",
    "       'Insurance_Coverage_41N', 'Insurance_Coverage_42F',\n",
    "       'Insurance_Coverage_45@', 'Insurance_Coverage_46A',\n",
    "       'Insurance_Coverage_47B', 'Insurance_Coverage_51O',\n",
    "       'Insurance_Coverage_55J', 'Insurance_Coverage_56B',\n",
    "       'Insurance_Coverage_56K', 'Insurance_Coverage_57C',\n",
    "       'Insurance_Coverage_57L', 'Insurance_Coverage_65K',\n",
    "       'Insurance_Coverage_66C', 'Insurance_Coverage_66L',\n",
    "       'Insurance_Coverage_67D', 'Insurance_Coverage_68E',\n",
    "       'Insurance_Coverage_68N', 'Insurance_Coverage_70G',\n",
    "       'Insurance_Coverage_70P', 'Insurance_Coverage_71H',\n",
    "       'Insurance_Coverage_72@', 'Premium_Sum']"
   ]
  },
  {
   "cell_type": "code",
   "execution_count": null,
   "metadata": {
    "scrolled": true
   },
   "outputs": [],
   "source": [
    "df.columns=renamed_cols\n",
    "df.head()"
   ]
  },
  {
   "cell_type": "code",
   "execution_count": null,
   "metadata": {},
   "outputs": [],
   "source": [
    "df_policy_grouped_sum=df"
   ]
  },
  {
   "cell_type": "code",
   "execution_count": null,
   "metadata": {},
   "outputs": [],
   "source": [
    "print(df_all.shape)\n",
    "df_all['Num_of_Prior_Policy'] = df_policy_grouped_count['Prior_Policy_Number']\n",
    "df_all=df_all.merge(df_policy_grouped_sum, how = 'left', on ='Policy_Number')\n",
    "print(df_all.shape)\n",
    "df_all"
   ]
  },
  {
   "cell_type": "markdown",
   "metadata": {},
   "source": [
    "### 1.1 check missing data"
   ]
  },
  {
   "cell_type": "code",
   "execution_count": null,
   "metadata": {},
   "outputs": [],
   "source": [
    "# % percentage\n",
    "df_all.isnull().sum()/df_all.shape[0]*100   # about 22.7 declaire claim"
   ]
  },
  {
   "cell_type": "code",
   "execution_count": null,
   "metadata": {
    "collapsed": true
   },
   "outputs": [],
   "source": [
    "### df_all.nunique()\n",
    "\n",
    "# '''\n",
    "# Policy_Number                                 351273  Encode\n",
    "# Insured's_ID                                  299999  Encode\n",
    "# Prior_Policy_Number                           281678  Encode\n",
    "# Cancellation                                       2  Dummy\n",
    "# Vehicle_identifier                            347882  Encode\n",
    "# Vehicle_Make_and_Model1                          136  Encode (too many...)\n",
    "# Vehicle_Make_and_Model2                         8112  Encode\n",
    "# Manafactured_Year_and_Month                       49  Datetime\n",
    "# Engine_Displacement_(Cubic_Centimeter)           768  no Change\n",
    "# Imported_or_Domestic_Car                          10  Dummy\n",
    "# Coding_of_Vehicle_Branding_&_Type               7405  Encode\n",
    "# qpt                                               19  Dummy\n",
    "# fpt                                                1  Dummy\n",
    "# Main_Insurance_Coverage_Group                      3  Dummy\n",
    "# Insurance_Coverage                                60  Dummy\n",
    "# Insured_Amount1                                  111  no Change\n",
    "# Insured_Amount2                                   89  no Change\n",
    "# Insured_Amount3                                 3071  no Change\n",
    "# Coverage_Deductible_if_applied                    53  no Change\n",
    "# Premium                                        18238  no Change\n",
    "# Replacement_cost_of_insured_vehicle             2947  no Change\n",
    "# Distribution_Channel                             875  Encode (too many...)\n",
    "# Multiple_Products_with_TmNewa_(Yes_or_No?)       179  no Change (dummy??)\n",
    "# lia_class                                         21  no Change (dummy??)\n",
    "# plia_acc                                          21  no Change (dummy??)\n",
    "# pdmg_acc                                          13  no Change (dummy??)\n",
    "# fassured                                           4  Dummy\n",
    "# ibirth                                           918  Datetime\n",
    "# fsex                                               4  Dummy\n",
    "# fmarriage                                          4  Dummy \n",
    "# aassured_zip                                    1722  Encode (too many...)                                                                       ...  \n",
    "# iply_area                                         22  Dummy\n",
    "# dbirth                                           945  Datetime\n",
    "# fequipment1                                        2  Dummy\n",
    "# fequipment2                                        2  Dummy\n",
    "# fequipment3                                        2  Dummy\n",
    "# fequipment4                                        1  Dummy\n",
    "# fequipment5                                        2  Dummy\n",
    "# fequipment6                                        1  Dummy\n",
    "# fequipment9                                        2  Dummy \n",
    "# nequipment9                                        6  Dummy\n",
    "# ============ Claim  ========\n",
    "# Claim_Number                                   41137  Encode\n",
    "# Nature_of_the_claim                                2  Dummy\n",
    "# Driver's_Gender                                    2  Dummy\n",
    "# Driver's_Relationship_with_Insured                 7  Dummy\n",
    "# DOB_of_Driver                                    799  Datetime\n",
    "# Marital_Status_of_Driver                           2  Dummy\n",
    "# Accident_Date                                     25  Datetime\n",
    "# Cause_of_Loss                                     17  Dummy\n",
    "# Paid_Loss_Amount                               17229  no Change \n",
    "# paid_Expenses_Amount                             799  no Change\n",
    "# Salvage_or_Subrogation?                         2056  no Change\n",
    "# Coverage                                          48  Encode (same as Insurance_Coverage!)\n",
    "# Vehicle_identifier_Claim                       35714  Encode (same as Vehicle_identifier if applicable!)\n",
    "# At_Fault?                                         23  no Change (dummy??)\n",
    "# Claim_Status_(close,_open,_reopen_etc)             2  Dummy\n",
    "# Deductible                                        67  no Change \n",
    "# Accident_area                                     22  Dummy  (same as aassured_zip?)\n",
    "# number_of_claimants                               14  no Change (dummy??)\n",
    "# Accident_Time                                     39  dummy (24hr)\n",
    "# Next_Premium                                   22817  no Change\n",
    "# '''"
   ]
  },
  {
   "cell_type": "code",
   "execution_count": null,
   "metadata": {},
   "outputs": [],
   "source": [
    "## fill na as 0 (Check explaination document, those 0 doesn't mean anything)\n",
    "\n",
    "df= df_all\n",
    "cols = ['Prior_Policy_Number','Vehicle_identifier','fsex','fmarriage','Claim_Number','Nature_of_the_claim','Policy_Number',\n",
    "        \"Driver's_Gender\",\"Driver's_Relationship_with_Insured\",'Marital_Status_of_Driver',\n",
    "        'Cause_of_Loss','number_of_claimants']\n",
    "for col in cols:\n",
    "    df[col]=df[col].fillna(0)\n",
    "    print(col, df[col].isnull().sum())\n"
   ]
  },
  {
   "cell_type": "code",
   "execution_count": null,
   "metadata": {
    "collapsed": true
   },
   "outputs": [],
   "source": [
    "df_all = df"
   ]
  },
  {
   "cell_type": "code",
   "execution_count": null,
   "metadata": {},
   "outputs": [],
   "source": [
    "## fill na as -1 ( becasue 0 means something else)\n",
    "\n",
    "df= df_all\n",
    "cols = ['Paid_Loss_Amount','paid_Expenses_Amount','Salvage_or_Subrogation?', 'At_Fault?', \n",
    "        'Claim_Status_(close,_open,_reopen_etc)', 'Deductible']\n",
    "for col in cols:\n",
    "    df[col]=df[col].fillna(-1)\n",
    "    print(col, df[col].isnull().sum())\n",
    "\n"
   ]
  },
  {
   "cell_type": "code",
   "execution_count": null,
   "metadata": {
    "collapsed": true
   },
   "outputs": [],
   "source": [
    "df_all = df"
   ]
  },
  {
   "cell_type": "code",
   "execution_count": null,
   "metadata": {},
   "outputs": [],
   "source": [
    "##### Verify and drop \n",
    "df = df_all\n",
    "### verify if 'Vehicle_identifier' = 'Vehicle_identifier_Claim'  (YES)\n",
    "df_temp=df[['Policy_Number','Vehicle_identifier','Vehicle_identifier_Claim']]\n",
    "df_temp2 = df_temp[df_temp['Vehicle_identifier_Claim'].notnull()] \n",
    "print(df_temp2.shape)\n",
    "df_temp2[df_temp2['Vehicle_identifier']==df_temp2['Vehicle_identifier_Claim']]\n",
    "print(df_temp2.shape)     \n",
    "\n",
    "### verify if 'Insurance_Coverage'=='Coverage'    (YES)\n",
    "df_temp=df[['Policy_Number','Insurance_Coverage','Coverage']]\n",
    "df_temp2 = df_temp[df_temp['Coverage'].notnull()] \n",
    "print(df_temp2.shape)\n",
    "df_temp2.head()\n",
    "df_temp2[df_temp2['Insurance_Coverage']==df_temp2['Coverage']]\n",
    "print(df_temp2.shape)  # 'Insurance_Coverage'=='Coverage' if there is value\n",
    "\n",
    "### verify if 'Accident_area'=='iply_area'      (YES)\n",
    "df_temp=df[['Policy_Number','Accident_area','iply_area']]\n",
    "df_temp2 = df_temp[df_temp['Accident_area'].notnull()] \n",
    "print(df_temp2.shape)\n",
    "df_temp2.head()\n",
    "df_temp2[df_temp2['iply_area']==df_temp2['Accident_area']]\n",
    "print(df_temp2.shape)  # 'Accident_area'=='iply_area'' if there is value"
   ]
  },
  {
   "cell_type": "code",
   "execution_count": null,
   "metadata": {},
   "outputs": [],
   "source": [
    "## drop 'Coverage' & 'Vehicle_identifier_Claim' & 'Accident_area\n",
    "df= df_all\n",
    "df = df.drop(['Coverage','Vehicle_identifier_Claim','Accident_area'], axis=1)\n",
    "df.shape"
   ]
  },
  {
   "cell_type": "code",
   "execution_count": null,
   "metadata": {
    "collapsed": true
   },
   "outputs": [],
   "source": [
    "df_all = df"
   ]
  },
  {
   "cell_type": "code",
   "execution_count": null,
   "metadata": {
    "collapsed": true
   },
   "outputs": [],
   "source": [
    "### fill NaN as (today)\n",
    "\n",
    "# df= df_all\n",
    "# cols = ['ibirth','dbirth','DOB_of_Driver','Accident_Date','Accident_Time']\n",
    "# for col in cols:\n",
    "#     df[col]=df[col].fillna(0)\n",
    "#     print(col, df[col].isnull().sum())"
   ]
  },
  {
   "cell_type": "code",
   "execution_count": null,
   "metadata": {
    "collapsed": true
   },
   "outputs": [],
   "source": [
    "df_all = df"
   ]
  },
  {
   "cell_type": "code",
   "execution_count": null,
   "metadata": {
    "collapsed": true
   },
   "outputs": [],
   "source": [
    "# df_all.isnull().sum()   "
   ]
  },
  {
   "cell_type": "code",
   "execution_count": null,
   "metadata": {},
   "outputs": [],
   "source": [
    "df = df_all\n",
    "df[df.columns[41:]].nunique()"
   ]
  },
  {
   "cell_type": "markdown",
   "metadata": {},
   "source": [
    "### 1.2 Label Encoder: convert anon id to No."
   ]
  },
  {
   "cell_type": "code",
   "execution_count": null,
   "metadata": {},
   "outputs": [],
   "source": [
    "pd.set_option('display.max_columns', None)  ## show all columns\n",
    "print(df_all.shape)\n",
    "df_all.head()"
   ]
  },
  {
   "cell_type": "code",
   "execution_count": null,
   "metadata": {},
   "outputs": [],
   "source": [
    "'''\n",
    "encoded columns:\n",
    "\n",
    "Policy_Number\t保單號碼\n",
    "Insured's_ID\t被保險人代號(替代值)\n",
    "Prior_Policy_Number\t前保單號\n",
    "Vehicle_identifier\t車牌號碼                               ## same as vehicle_identifier\n",
    "Vehicle_Make_and_Model1\t廠牌名稱一                   \n",
    "Vehicle_Make_and_Model2\t廠牌名稱二\n",
    "Coding_of_Vehicle_Branding_&_Type\t廠牌車型代號\n",
    "Distribution_Channel\t主通路代號\n",
    "aassured_zip\t郵遞區號                            \n",
    "Claim_Number\t賠案號碼\n",
    "Vehicle_identifier_Claim\t車牌                           ## same as vehicle_identifier (already drop)\n",
    "\n",
    "'''"
   ]
  },
  {
   "cell_type": "code",
   "execution_count": null,
   "metadata": {},
   "outputs": [],
   "source": [
    "df = df_all\n",
    "\n",
    "## do not include:  Vehicle_identifier_Claim\t車牌  (map to Vehicle_identifier)\n",
    "cols = ('Policy_Number',\"Insured's_ID\",'Prior_Policy_Number','Vehicle_identifier', 'Vehicle_Make_and_Model1',\n",
    "       'Vehicle_Make_and_Model2','Coding_of_Vehicle_Branding_&_Type','Distribution_Channel','aassured_zip',\n",
    "        'Distribution_Channel','aassured_zip','Claim_Number')\n",
    "\n",
    "\n",
    "# process columns, apply LabelEncoder to categorical features\n",
    "from sklearn.preprocessing import LabelEncoder\n",
    "for c in cols:\n",
    "    lbl = LabelEncoder() \n",
    "    lbl.fit(list(df[c].values)) \n",
    "    df[c] = lbl.transform(list(df[c].values))\n",
    "\n",
    "# shape        \n",
    "print('Shape of data: {}'.format(df.shape))\n",
    "df.head()"
   ]
  },
  {
   "cell_type": "code",
   "execution_count": null,
   "metadata": {
    "collapsed": true
   },
   "outputs": [],
   "source": [
    "### Already dropped\n",
    "### encode 'Vehicle_identifier_Claim' (NaN: NaN, not NaN: 'Vehicle_identifier' )\n",
    "# df = df_all\n",
    "# condition1 = df['Vehicle_identifier_Claim'].isnull()\n",
    "# condition2 = df['Vehicle_identifier_Claim'].notnull()\n",
    "\n",
    "# df['Vehicle_identifier_Claim'][condition1]=df['Vehicle_identifier_Claim']\n",
    "# df['Vehicle_identifier_Claim'][condition2]=df['Vehicle_identifier']\n",
    "\n",
    "#df[['Policy_Number','Vehicle_identifier','Vehicle_identifier_Claim']].sample(5)"
   ]
  },
  {
   "cell_type": "markdown",
   "metadata": {},
   "source": [
    "### 1.3 Get dummy"
   ]
  },
  {
   "cell_type": "code",
   "execution_count": null,
   "metadata": {},
   "outputs": [],
   "source": [
    "\n",
    "'''\n",
    "dummy columns:\n",
    "\n",
    "Cancellation                   非繼承自前保單\t類別\tY: 是 、空白: 否(N)\n",
    "Imported_or_Domestic_Car       車系代號\t類別\t參照：車系代號Sheet\n",
    "qpt                            乘載數量\t數值\n",
    "fpt                            乘載單位\t類別\tP:載客 T:噸\n",
    "Main_Insurance_Coverage_Group  險種分類\t類別\t參照:險種分類及自負額說明Sheet\n",
    "Insurance_Coverage    ####     險種代碼\t類別\t參照:險種分類及自負額說明Sheet\n",
    "fassured                       被保險人性質\t類別\t\"1:國內自然人 2:國內法人 3:國外自然人 4:國外法人 5:自然人ID有誤 6:法人ID有誤\"\n",
    "fsex                           性別\t類別\t1:男 2:女 空白:法人(0)\n",
    "fmarriage                      婚姻狀況\t類別\t1:已婚 2:未婚\n",
    "iply_area             ####     承保地區代號(分公司)\t類別\n",
    "fequipment1                    配備-音響註記\t類別\t1:是 0:否\n",
    "fequipment2                    配備-車箱註記\t類別\t1:是 0:否\n",
    "fequipment3                    配備-冷凍機組註記\t類別\t1:是 0:否\n",
    "fequipment4                    配備-車框、車斗註記\t類別\t1:是 0:否\n",
    "fequipment5                    配備-昇降系統註記\t類別\t1:是 0:否\n",
    "fequipment6                    配備-電動車電池註記\t類別\t1:是 0:否\n",
    "fequipment9                    配備-其他\t類別\t1:是 0:否\n",
    "nequipment9                    配備-其他說明\t類別\t1:是 0:否\n",
    "Nature_of_the_claim            賠案性質\t類別\t1.賠付 2.追償\n",
    "Driver's_Gender                肇事駕駛性別\t類別\t1:男 2:女 空白:法人\n",
    "Driver's_Relationship_with_Insured 與被保險人關係\t類別\t\"1:被保險人本人 2:被保險人親友 3:被保險人員工 4:租用被保險車輛 5:其他, 6:配偶, 7:子女\"\n",
    "Marital_Status_of_Driver       肇事駕駛婚姻\t類別\t1:已婚 2:未婚\n",
    "Cause_of_Loss                  出險原因\t類別\n",
    "Coverage             ###       險種代號\t類別  same as insurance_coverage (Already Dropped)\n",
    "Accident_area        ####      出險地區\t類別  same as iply (AlreadyDrop)\n",
    "'''"
   ]
  },
  {
   "cell_type": "code",
   "execution_count": null,
   "metadata": {},
   "outputs": [],
   "source": [
    "## Label cancellation from {'Y', ' '}-> {'Y', 'N'} get dummy later\n",
    "df= df_all\n",
    "print(set(df['Cancellation']))\n",
    "input1 = ' '\n",
    "replace1 = 'N'\n",
    "df['Cancellation']=df['Cancellation'].replace(input1, replace1) \n",
    "df.head()"
   ]
  },
  {
   "cell_type": "code",
   "execution_count": null,
   "metadata": {
    "collapsed": true
   },
   "outputs": [],
   "source": [
    "df_all = df"
   ]
  },
  {
   "cell_type": "code",
   "execution_count": null,
   "metadata": {
    "collapsed": true
   },
   "outputs": [],
   "source": [
    "### Getting dummy categorical features:"
   ]
  },
  {
   "cell_type": "code",
   "execution_count": null,
   "metadata": {
    "scrolled": true
   },
   "outputs": [],
   "source": [
    "df = df_all\n",
    "segment=['Cancellation','Imported_or_Domestic_Car','qpt','fpt','Main_Insurance_Coverage_Group','Insurance_Coverage',\n",
    "         'fassured', 'fsex','fmarriage','iply_area', 'fequipment1','fequipment2','fequipment3','fequipment4',\n",
    "         'fequipment5','fequipment6','fequipment9','nequipment9','Nature_of_the_claim',\"Driver's_Gender\",\n",
    "         \"Driver's_Relationship_with_Insured\", 'Marital_Status_of_Driver', 'Cause_of_Loss']\n",
    "df_dummy = pd.get_dummies(df, columns=segment)\n",
    "print(df_dummy.shape)\n",
    "df_dummy.head()"
   ]
  },
  {
   "cell_type": "markdown",
   "metadata": {},
   "source": [
    "### 1.4 convert object (date) to datetime format"
   ]
  },
  {
   "cell_type": "code",
   "execution_count": null,
   "metadata": {
    "collapsed": true
   },
   "outputs": [],
   "source": [
    "## check date format\n",
    "date_cols=['ibirth','dbirth','DOB_of_Driver','Accident_Date','Accident_Time']\n"
   ]
  },
  {
   "cell_type": "code",
   "execution_count": null,
   "metadata": {},
   "outputs": [],
   "source": [
    "df_dummy[date_cols].info()\n",
    "\"\"\"\n",
    "<class 'pandas.core.frame.DataFrame'>\n",
    "Int64Index: 1988927 entries, 0 to 1988926\n",
    "Data columns (total 5 columns):\n",
    "ibirth           object\n",
    "dbirth           object               # object... (selected index repalce with ibirth)\n",
    "DOB_of_Driver    object\n",
    "Accident_Date    object\n",
    "Accident_Time    object\n",
    "dtypes: datetime64[ns](4), object(1)\n",
    "memory usage: 91.0+ MB\n",
    "\"\"\""
   ]
  },
  {
   "cell_type": "code",
   "execution_count": null,
   "metadata": {},
   "outputs": [],
   "source": [
    "df_dummy[date_cols].sample(10)  ## 77% missing data"
   ]
  },
  {
   "cell_type": "code",
   "execution_count": null,
   "metadata": {},
   "outputs": [],
   "source": [
    "type(df_dummy['Accident_Time'][1000000])"
   ]
  },
  {
   "cell_type": "code",
   "execution_count": null,
   "metadata": {},
   "outputs": [],
   "source": [
    "### fill NaN as (2020)\n",
    "df= df_dummy\n",
    "\n",
    "cols = ['Accident_Time']\n",
    "for col in cols:\n",
    "    print(df[col].isnull().sum())\n",
    "    df[col]=df[col].fillna(str('00:00'))\n",
    "    print(col, df[col].isnull().sum())"
   ]
  },
  {
   "cell_type": "code",
   "execution_count": null,
   "metadata": {},
   "outputs": [],
   "source": [
    "type(df['Accident_Time'][1])\n",
    "df['Accident_Time'].sample(10)"
   ]
  },
  {
   "cell_type": "code",
   "execution_count": null,
   "metadata": {},
   "outputs": [],
   "source": [
    "set(df['Accident_Time'])"
   ]
  },
  {
   "cell_type": "code",
   "execution_count": null,
   "metadata": {},
   "outputs": [],
   "source": [
    "### fill NaN as (2020)\n",
    "\n",
    "cols = ['ibirth','dbirth','DOB_of_Driver']\n",
    "\n",
    "for col in cols:\n",
    "    print(df[col].isnull().sum())\n",
    "    df[col]=df[col].fillna('09/2018')\n",
    "    print(col, df[col].isnull().sum())\n",
    "\n",
    "cols = ['Accident_Date']\n",
    "for col in cols:\n",
    "    print(df[col].isnull().sum())\n",
    "    df[col]=df[col].fillna('2018/09')\n",
    "    print(col, df[col].isnull().sum())\n",
    "\n",
    "df.isnull().sum().sum()    \n",
    "df_dummy= df"
   ]
  },
  {
   "cell_type": "code",
   "execution_count": null,
   "metadata": {},
   "outputs": [],
   "source": [
    "df_dummy[date_cols].sample(10)"
   ]
  },
  {
   "cell_type": "code",
   "execution_count": null,
   "metadata": {
    "collapsed": true
   },
   "outputs": [],
   "source": [
    "df= df_dummy\n",
    "\n",
    "date_col={'ibirth','dbirth','DOB_of_Driver'}\n",
    "for col in date_col:\n",
    "    df[col] =  pd.to_datetime(df[col], format='%m/%Y', errors='ignore')  #'%Y-%m-%d %H:%M:%S'   #errors='coerce'\n",
    "\n",
    "date_col={'Accident_Date'}\n",
    "for col in date_col:\n",
    "    df[col] =  pd.to_datetime(df[col], format='%Y/%m',errors='ignore')  #'%Y-%m-%d %H:%M:%S'\n",
    "\n",
    "date_col={'Accident_Time'}\n",
    "for col in date_col:\n",
    "    df[col] =  pd.to_datetime(df[col], format='%H:%M',errors='ignore') #'%Y-%m-%d %H:%M:%S'\n",
    "\n",
    "df_dummy_date = df"
   ]
  },
  {
   "cell_type": "code",
   "execution_count": null,
   "metadata": {},
   "outputs": [],
   "source": [
    "df_dummy_date[['ibirth', 'dbirth' ,'DOB_of_Driver', 'Accident_Date', 'Accident_Time']].info(verbose= True)"
   ]
  },
  {
   "cell_type": "markdown",
   "metadata": {},
   "source": [
    "### 1.4.1 Extract Features from datetime data then drop datetime64 columns"
   ]
  },
  {
   "cell_type": "code",
   "execution_count": null,
   "metadata": {},
   "outputs": [],
   "source": [
    "Claim_year = 2016\n",
    "yearsdiff = Claim_year-df_dummy_date['Manafactured_Year_and_Month']\n",
    "df_dummy_date['V_age']=yearsdiff\n",
    "df_dummy_date['V_age'].head()"
   ]
  },
  {
   "cell_type": "code",
   "execution_count": null,
   "metadata": {},
   "outputs": [],
   "source": [
    "df_dummy_date[['ibirth', 'dbirth' ,'DOB_of_Driver', 'Accident_Date', 'Accident_Time']].loc[932405]"
   ]
  },
  {
   "cell_type": "code",
   "execution_count": null,
   "metadata": {},
   "outputs": [],
   "source": [
    "df_dummy_date[['ibirth', 'dbirth' ,'DOB_of_Driver', 'Accident_Date', 'Accident_Time']].sample(10)"
   ]
  },
  {
   "cell_type": "code",
   "execution_count": null,
   "metadata": {},
   "outputs": [],
   "source": [
    "## Today\n",
    "today = datetime.date.today()\n",
    "daysdiff = today-df_dummy_date['ibirth']\n",
    "components = daysdiff.dt.components #  https://stackoverflow.com/questions/18215317/extracting-days-from-a-numpy-timedelta64-value\n",
    "components.head()"
   ]
  },
  {
   "cell_type": "code",
   "execution_count": null,
   "metadata": {},
   "outputs": [],
   "source": [
    "years = components.days/365\n",
    "df_dummy_date['i_age'] = years\n",
    "df_dummy_date.head()"
   ]
  },
  {
   "cell_type": "code",
   "execution_count": null,
   "metadata": {},
   "outputs": [],
   "source": [
    "today = datetime.date.today()\n",
    "daysdiff = today-df_dummy_date['dbirth']\n",
    "components = daysdiff.dt.components #  https://stackoverflow.com/questions/18215317/extracting-days-from-a-numpy-timedelta64-value\n",
    "years = components.days/365\n",
    "df_dummy_date['d_age'] = years\n",
    "df_dummy_date['d_age'].head()"
   ]
  },
  {
   "cell_type": "code",
   "execution_count": null,
   "metadata": {},
   "outputs": [],
   "source": [
    "today = datetime.date.today()\n",
    "daysdiff = today-df_dummy_date['DOB_of_Driver']\n",
    "components = daysdiff.dt.components #  https://stackoverflow.com/questions/18215317/extracting-days-from-a-numpy-timedelta64-value\n",
    "components.head()\n",
    "years = components.days/365\n",
    "df_dummy_date['Dr_age'] = years\n",
    "df_dummy_date['Dr_age'].head()"
   ]
  },
  {
   "cell_type": "code",
   "execution_count": null,
   "metadata": {
    "collapsed": true
   },
   "outputs": [],
   "source": [
    "# set(df_claim['Accident_Date'])  # between 2015/01 -> 2016/12    24months"
   ]
  },
  {
   "cell_type": "code",
   "execution_count": null,
   "metadata": {},
   "outputs": [],
   "source": [
    "daysdiff = today-df_dummy_date['Accident_Date']\n",
    "components = daysdiff.dt.components #  https://stackoverflow.com/questions/18215317/extracting-days-from-a-numpy-timedelta64-value\n",
    "months = components.days/30\n",
    "df_dummy_date['Accident_Month_ago'] = months\n",
    "df_dummy_date['Accident_Month_ago'].sample(10)"
   ]
  },
  {
   "cell_type": "code",
   "execution_count": null,
   "metadata": {},
   "outputs": [],
   "source": [
    "from datetime import datetime, date\n",
    "df_dummy_date['Acc_DayOfWeek'] = df_dummy_date.apply(lambda row: row['Accident_Date'].weekday(), axis =1)\n",
    "df_dummy_date['Acc_DayOfWeek'][:5]  "
   ]
  },
  {
   "cell_type": "code",
   "execution_count": null,
   "metadata": {},
   "outputs": [],
   "source": [
    "daysdiff = today-df_dummy_date['Accident_Time']\n",
    "components = daysdiff.dt.components #  https://stackoverflow.com/questions/18215317/extracting-days-from-a-numpy-timedelta64-value\n",
    "hours = components.hours\n",
    "df_dummy_date['Accident_Hour'] = hours\n",
    "df_dummy_date['Accident_Hour'].sample(10)"
   ]
  },
  {
   "cell_type": "code",
   "execution_count": null,
   "metadata": {},
   "outputs": [],
   "source": [
    "df_dummy_date.head()"
   ]
  },
  {
   "cell_type": "code",
   "execution_count": null,
   "metadata": {},
   "outputs": [],
   "source": [
    "df_dummy_date[date_cols].head()"
   ]
  },
  {
   "cell_type": "code",
   "execution_count": null,
   "metadata": {
    "collapsed": true
   },
   "outputs": [],
   "source": [
    "drop_date_cols = ['ibirth', 'dbirth', 'DOB_of_Driver','Accident_Date', 'Accident_Time']\n",
    "df_dummy_date = df_dummy_date.drop (drop_date_cols, axis = 1)"
   ]
  },
  {
   "cell_type": "code",
   "execution_count": null,
   "metadata": {},
   "outputs": [],
   "source": [
    "print(df_dummy_date.shape)\n",
    "df_dummy_date.head()"
   ]
  },
  {
   "cell_type": "code",
   "execution_count": null,
   "metadata": {},
   "outputs": [],
   "source": [
    "df_dummy_date.info()"
   ]
  },
  {
   "cell_type": "markdown",
   "metadata": {},
   "source": [
    "### 1.5 convert object (string) to numeric"
   ]
  },
  {
   "cell_type": "code",
   "execution_count": null,
   "metadata": {
    "collapsed": true
   },
   "outputs": [],
   "source": []
  },
  {
   "cell_type": "code",
   "execution_count": null,
   "metadata": {
    "collapsed": true
   },
   "outputs": [],
   "source": [
    "# df[] = pd.to_numeric(df[], errors='coerce')"
   ]
  },
  {
   "cell_type": "markdown",
   "metadata": {
    "collapsed": true
   },
   "source": [
    "## 2. Map features to unique Policy Number"
   ]
  },
  {
   "cell_type": "code",
   "execution_count": null,
   "metadata": {
    "collapsed": true
   },
   "outputs": [],
   "source": []
  },
  {
   "cell_type": "markdown",
   "metadata": {},
   "source": [
    "## 3. Define Train, Test, Y"
   ]
  },
  {
   "cell_type": "code",
   "execution_count": null,
   "metadata": {
    "collapsed": true
   },
   "outputs": [],
   "source": [
    "#df_dummy_date.isnull().sum()"
   ]
  },
  {
   "cell_type": "code",
   "execution_count": null,
   "metadata": {
    "collapsed": true
   },
   "outputs": [],
   "source": [
    "df = df_dummy_date \n",
    "\n",
    "df_train = df[df['Next_Premium']!=100]\n",
    "print(df_train.shape)\n",
    "df_test = df[df['Next_Premium']==100]\n",
    "print(df_test.shape)\n",
    "print(df_train.shape[0]+df_test.shape[0])\n",
    "print(df.shape[0])"
   ]
  },
  {
   "cell_type": "code",
   "execution_count": null,
   "metadata": {
    "collapsed": true
   },
   "outputs": [],
   "source": [
    "df.isnull().sum().sum()"
   ]
  },
  {
   "cell_type": "code",
   "execution_count": null,
   "metadata": {
    "collapsed": true
   },
   "outputs": [],
   "source": [
    "y=df_train['Next_Premium']\n",
    "y.head()"
   ]
  },
  {
   "cell_type": "code",
   "execution_count": null,
   "metadata": {
    "collapsed": true
   },
   "outputs": [],
   "source": [
    "df_train=df_train.drop(['Next_Premium'], axis=1)\n",
    "print(df_train.shape)"
   ]
  },
  {
   "cell_type": "code",
   "execution_count": null,
   "metadata": {
    "collapsed": true
   },
   "outputs": [],
   "source": [
    "df_test=df_test.drop(['Next_Premium'], axis=1)\n",
    "print(df_test.shape)"
   ]
  },
  {
   "cell_type": "markdown",
   "metadata": {
    "collapsed": true
   },
   "source": [
    "### Modelling"
   ]
  },
  {
   "cell_type": "code",
   "execution_count": null,
   "metadata": {
    "collapsed": true
   },
   "outputs": [],
   "source": [
    "from sklearn.linear_model import ElasticNet, Lasso,  BayesianRidge, LassoLarsIC\n",
    "from sklearn.ensemble import RandomForestRegressor,  GradientBoostingRegressor\n",
    "from sklearn.kernel_ridge import KernelRidge\n",
    "from sklearn.pipeline import make_pipeline\n",
    "from sklearn.preprocessing import RobustScaler\n",
    "from sklearn.base import BaseEstimator, TransformerMixin, RegressorMixin, clone\n",
    "from sklearn.model_selection import KFold, cross_val_score, train_test_split\n",
    "from sklearn.metrics import mean_squared_error\n",
    "import xgboost as xgb\n",
    "import lightgbm as lgb"
   ]
  },
  {
   "cell_type": "code",
   "execution_count": null,
   "metadata": {
    "collapsed": true
   },
   "outputs": [],
   "source": [
    "train = df_train\n",
    "test = df_test\n",
    "y_train = y"
   ]
  },
  {
   "cell_type": "code",
   "execution_count": null,
   "metadata": {
    "collapsed": true
   },
   "outputs": [],
   "source": [
    "# ## downsampling for testing:\n",
    "# train = df_train.head(50000) # 1,212,659\n",
    "# y_train = y.head(50000)\n",
    "# ## downsampling for testing:\n",
    "# test=df_test.head(3000)   #776,268"
   ]
  },
  {
   "cell_type": "code",
   "execution_count": null,
   "metadata": {
    "collapsed": true
   },
   "outputs": [],
   "source": [
    "# train.to_csv('train.csv')\n",
    "# test.to_csv('test.csv')\n",
    "# y.to_csv('y.csv')"
   ]
  },
  {
   "cell_type": "code",
   "execution_count": null,
   "metadata": {
    "collapsed": true
   },
   "outputs": [],
   "source": [
    "#Validation function\n",
    "n_folds = 5\n",
    "\n",
    "def mae_cv(model):\n",
    "    kf = KFold(n_folds, shuffle=True, random_state=42).get_n_splits(train.values)\n",
    "    mae= np.sqrt(-cross_val_score(model, train.values, y_train.values, scoring=\"neg_mean_absolute_error\", cv = kf))\n",
    "    return(mae)"
   ]
  },
  {
   "cell_type": "code",
   "execution_count": null,
   "metadata": {
    "collapsed": true
   },
   "outputs": [],
   "source": [
    "# Base models"
   ]
  },
  {
   "cell_type": "code",
   "execution_count": null,
   "metadata": {
    "collapsed": true
   },
   "outputs": [],
   "source": [
    "# LGBM :\n",
    "model_lgb = lgb.LGBMRegressor(objective='regression',n_estimators=200)\n",
    "mae = mae_cv(model_lgb)\n",
    "print(\"lgb mae: \\n\", mae)\n",
    "print(\"lgb score: {:.4f} ({:.4f})\\n\".format(mae.mean(), mae.std()))"
   ]
  },
  {
   "cell_type": "code",
   "execution_count": null,
   "metadata": {
    "collapsed": true
   },
   "outputs": [],
   "source": [
    "model_lgb.fit(train, y)\n",
    "y_pred = model_lgb.predict(test)\n",
    "y_pred[:10]"
   ]
  },
  {
   "cell_type": "code",
   "execution_count": null,
   "metadata": {
    "collapsed": true
   },
   "outputs": [],
   "source": [
    "print(df_testing.shape)\n",
    "print(y_pred.shape)"
   ]
  },
  {
   "cell_type": "code",
   "execution_count": null,
   "metadata": {
    "collapsed": true
   },
   "outputs": [],
   "source": [
    "# df_submit=df_testing\n",
    "# df_submit[df_testing.columns[0]]=df_testing[df_testing.columns[0]]\n",
    "# df_submit[df_testing.columns[1]]=y_pred\n",
    "# df_submit.head()"
   ]
  },
  {
   "cell_type": "code",
   "execution_count": null,
   "metadata": {
    "collapsed": true
   },
   "outputs": [],
   "source": [
    "# # XGBoost :\n",
    "# model_xgb = xgb.XGBRegressor(n_estimators=200)\n",
    "# mae = mae_cv(model_xgb)\n",
    "# print(\"Xgboost mae: \\n\", mae)\n",
    "# print(\"Xgboost score: {:.4f} ({:.4f})\\n\".format(mae.mean(), mae.std()))"
   ]
  },
  {
   "cell_type": "code",
   "execution_count": null,
   "metadata": {
    "collapsed": true
   },
   "outputs": [],
   "source": [
    "# # RF :\n",
    "# model_rf=RandomForestRegressor(n_estimators=20)\n",
    "# mae = mae_cv(model_rf)\n",
    "# print(\"RandomForest mae: \\n\", mae)\n",
    "# print(\"\\nRandomForest score: {:.4f} ({:.4f})\\n\".format(mae.mean(), mae.std()))"
   ]
  },
  {
   "cell_type": "code",
   "execution_count": null,
   "metadata": {
    "collapsed": true
   },
   "outputs": [],
   "source": []
  }
 ],
 "metadata": {
  "kernelspec": {
   "display_name": "Python 3",
   "language": "python",
   "name": "python3"
  },
  "language_info": {
   "codemirror_mode": {
    "name": "ipython",
    "version": 3
   },
   "file_extension": ".py",
   "mimetype": "text/x-python",
   "name": "python",
   "nbconvert_exporter": "python",
   "pygments_lexer": "ipython3",
   "version": "3.6.3"
  }
 },
 "nbformat": 4,
 "nbformat_minor": 2
}
