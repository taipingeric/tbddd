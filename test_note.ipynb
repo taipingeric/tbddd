{
 "cells": [
  {
   "cell_type": "markdown",
   "metadata": {},
   "source": [
    "# 9/11-2  \n",
    "大部分實驗內容同下\n",
    "\n",
    "增加kmeans對自然人法人的各險種premium分群，自然人法人各分25群\n",
    "\n",
    "直接加到之前的features，分數差不多  \n",
    "取代各險種的amount123跟premium，分數變高   \n",
    "<0.5 961,954  \n",
    "大於0.5 3337,3273\n",
    "# 9/12\n",
    "單一model train: features各險種金額的展開 + Cancellation, Replacement_cost_of_insured_vehicle, lia_class, plia_acc, pdmg_acc, fassured, fsex  \n",
    "\n",
    "9/11裸測2077  \n",
    "+kmeans 2075,2029  \n",
    "拔掉total_Premium + kmeans 2168,2110  "
   ]
  },
  {
   "cell_type": "markdown",
   "metadata": {},
   "source": [
    "# 9/11\n",
    "features各險種金額的展開 + Cancellation, Replacement_cost_of_insured_vehicle, lia_class, plia_acc, pdmg_acc, fassured, fsex  \n",
    "  \n",
    "瀞姐regressor xgb  \n",
    "裸測2077  \n",
    "  \n",
    "分自然人法人：  \n",
    "自然人1838,1792\n",
    "法人3429,2806\n",
    "  \n",
    "<0.5(中位數)853,844  \n",
    "大於50 3156,3055  \n",
    "  \n",
    "<0.75 1084,1072  \n",
    "大於0.75 4554,4395  \n",
    "  \n",
    "<0.7 1028,1019  \n",
    "大於0.7 4127,3995  \n",
    "\n",
    "<0.6 993,923  \n",
    "大於0.7 3557,3448\n",
    "\n",
    "最後上傳以中位數分，tbrain分數為1824.7  \n",
    "先不討論各險種  \n",
    "<0.5重要性:　total_Premium，Replacement_cost_of_insured_vehicle，Cancellation，lia_class ，fsex_2  \n",
    "大於0.5重要性: total_Premium, Replacement_cost_of_insured_vehicle ,pdmg_acc, Cancellation,fsex_   \n",
    "  \n",
    "各險種大家最注意的就是保額跟保費的金額，有一個很特別是<0.5有**16P_Paid_mean**，大於0.5的有**00I_Paid_sum**  \n",
    "  "
   ]
  },
  {
   "cell_type": "markdown",
   "metadata": {},
   "source": [
    "mae_xgb on train: 844.0380295728588\n",
    "Feature ranking:\n",
    "1. **feature 0.: total_Premium (13.253012)**\n",
    "2. **feature 443.: Replacement_cost_of_insured_vehicle (7.228915)**\n",
    "3. feature 23.: 04M_Insured_Amount3 (6.475904)\n",
    "4. feature 83.: 16P_Insured_Amount3 (6.475904)\n",
    "5. feature 77.: 16G_Insured_Amount1 (5.120482)\n",
    "6. feature 84.: 16P_Premium (4.216867)\n",
    "7. feature 31.: 05N_Insured_Amount3 (3.614458)\n",
    "8. **feature 442.: Cancellation (3.614458)**\n",
    "9. **feature 444.: lia_class (3.313253)**\n",
    "10. feature 313.: 16P_Paid_mean (3.012048)\n",
    "11. feature 80.: 16G_Premium (3.012048)\n",
    "12. feature 71.: 15F_Insured_Amount3 (2.409638)\n",
    "13. feature 75.: 15O_Insured_Amount3 (2.108434)\n",
    "14. feature 179.: 51O_Insured_Amount3 (2.108434)\n",
    "15. **feature 453.: fsex_2 (1.957831)**\n",
    "16. feature 79.: 16G_Insured_Amount3 (1.656627)\n",
    "17. feature 119.: 29K_Insured_Amount3 (1.656627)\n",
    "18. feature 27.: 05E_Insured_Amount3 (1.656627)\n",
    "19. feature 115.: 29B_Insured_Amount3 (1.656627)\n",
    "20. **feature 435.: Paid_mean (1.506024)**"
   ]
  },
  {
   "cell_type": "markdown",
   "metadata": {},
   "source": [
    "mae_xgb on train: 3055.2456780063367\n",
    "Feature ranking:\n",
    "1. **feature 0.: total_Premium (27.846155)**\n",
    "2. feature 77.: 16G_Insured_Amount1 (4.000000)\n",
    "3. **feature 443.: Replacement_cost_of_insured_vehicle (3.846154)**\n",
    "4. feature 31.: 05N_Insured_Amount3 (3.692308)\n",
    "5. feature 28.: 05E_Premium (3.692308)\n",
    "6. feature 15.: 02K_Insured_Amount3 (3.538461)\n",
    "7. feature 183.: 55J_Insured_Amount3 (3.384615)\n",
    "8. **feature 446.: pdmg_acc (2.615385)**\n",
    "9. feature 184.: 55J_Premium (2.615385)\n",
    "10. feature 3.: 00I_Insured_Amount3 (2.615385)\n",
    "11. feature 32.: 05N_Premium (1.846154)\n",
    "12. **feature 442.: Cancellation (1.692308)**\n",
    "13. feature 80.: 16G_Premium (1.692308)\n",
    "14. **feature 451.: fsex_  (1.692308)**\n",
    "15. feature 24.: 04M_Premium (1.538462)\n",
    "16. feature 79.: 16G_Insured_Amount3 (1.538462)\n",
    "17. feature 47.: 09@_Insured_Amount3 (1.538462)\n",
    "18. feature 243.: 00I_Paid_sum (1.384615)\n",
    "19. feature 35.: 06F_Insured_Amount3 (1.384615)\n",
    "20. feature 4.: 00I_Premium (1.384615)"
   ]
  },
  {
   "cell_type": "code",
   "execution_count": null,
   "metadata": {},
   "outputs": [],
   "source": []
  }
 ],
 "metadata": {
  "kernelspec": {
   "display_name": "Python 3",
   "language": "python",
   "name": "python3"
  },
  "language_info": {
   "codemirror_mode": {
    "name": "ipython",
    "version": 3
   },
   "file_extension": ".py",
   "mimetype": "text/x-python",
   "name": "python",
   "nbconvert_exporter": "python",
   "pygments_lexer": "ipython3",
   "version": "3.6.4"
  }
 },
 "nbformat": 4,
 "nbformat_minor": 2
}
