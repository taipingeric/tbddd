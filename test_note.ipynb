{
 "cells": [
  {
   "cell_type": "markdown",
   "metadata": {},
   "source": [
    "9/11  \n",
    "features各險種金額的展開 + Cancellation, Replacement_cost_of_insured_vehicle, lia_class, plia_acc, pdmg_acc, fassured, fsex  \n",
    "  \n",
    "瀞姐regressor xgb  \n",
    "裸測2077  \n",
    "  \n",
    "分自然人法人：  \n",
    "自然人1838,1792\n",
    "法人3429,2806\n",
    "  \n",
    "<50(中位數)853,844  \n",
    "大於50 3156,3055  \n",
    "  \n",
    "<0.75 1084,1072  \n",
    "大於0.75 4554,4395  \n",
    "  \n",
    "<0.7 1028,1019  \n",
    "大於0.7 4127,3995  \n",
    "\n",
    "<0.6 993,923  \n",
    "大於0.7 3557,3448\n",
    "\n",
    "最後上傳以中位數分，tbrain分數為1824.7"
   ]
  },
  {
   "cell_type": "code",
   "execution_count": null,
   "metadata": {},
   "outputs": [],
   "source": []
  }
 ],
 "metadata": {
  "kernelspec": {
   "display_name": "Python 3",
   "language": "python",
   "name": "python3"
  },
  "language_info": {
   "codemirror_mode": {
    "name": "ipython",
    "version": 3
   },
   "file_extension": ".py",
   "mimetype": "text/x-python",
   "name": "python",
   "nbconvert_exporter": "python",
   "pygments_lexer": "ipython3",
   "version": "3.6.4"
  }
 },
 "nbformat": 4,
 "nbformat_minor": 2
}
