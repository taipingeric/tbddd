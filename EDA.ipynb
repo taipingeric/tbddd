{
 "cells": [
  {
   "cell_type": "code",
   "execution_count": 1,
   "metadata": {},
   "outputs": [],
   "source": [
    "import pandas as pd\n",
    "import numpy as np\n",
    "df_policy_raw = pd.read_csv('../Tbrain_Insurance/policy_claim/policy_0702.csv')\n",
    "df_claim_raw = pd.read_csv('../Tbrain_Insurance/policy_claim/claim_0702.csv')\n",
    "df_training_raw = pd.read_csv('../Tbrain_Insurance/training-set.csv')\n",
    "df_testing_raw = pd.read_csv('../Tbrain_Insurance/testing-set.csv')\n",
    "df_policy = df_policy_raw \n",
    "df_claim = df_claim_raw \n",
    "df_training = df_training_raw\n",
    "df_testing = df_testing_raw\n",
    "pd.set_option('display.max_columns', None)"
   ]
  },
  {
   "cell_type": "code",
   "execution_count": 5,
   "metadata": {},
   "outputs": [
    {
     "data": {
      "text/plain": [
       "351273"
      ]
     },
     "execution_count": 5,
     "metadata": {},
     "output_type": "execute_result"
    }
   ],
   "source": [
    "# Policy File\n",
    "df_policy.shape # total count  (1747942, 41)\n",
    "df_policy['Policy_Number'].nunique() # 351273 unique"
   ]
  },
  {
   "cell_type": "code",
   "execution_count": null,
   "metadata": {},
   "outputs": [],
   "source": [
    "# Policy_Number\t保單號碼 \n",
    "# Insured's_ID\t被保險人代號(替代值) \n",
    "# Prior_Policy_Number\t前保單號     almost == Cancellation =='Y'\n",
    "# Cancellation\t非繼承自前保單        almost match \"Prior_policy Number, only #12 w/o cancellation\n",
    "# Vehicle_identifier\t車牌號碼 \n",
    "# Vehicle_Make_and_Model1\t廠牌名稱一 \n",
    "# Vehicle_Make_and_Model2\t廠牌名稱二\n",
    "# Manafactured_Year_and_Month\t製造年份 \n",
    "# Engine_Displacement_(Cubic_Centimeter)\t排氣量 \n",
    "# Imported_or_Domestic_Car\t車系代號\n",
    "# Coding_of_Vehicle_Branding_&_Type\t廠牌車型代號\n",
    "# qpt\t乘載數量 \n",
    "# fpt\t乘載單位 \n",
    "# Main_Insurance_Coverage_Group\t險種分類 \n",
    "# Insurance_Coverage\t險種代碼\n",
    "# Insured_Amount1\t保額一 \n",
    "# Insured_Amount2\t保額二 \n",
    "# Insured_Amount3\t保額三\n",
    "# Coverage_Deductible_if_applied\t自負額 \n",
    "# Premium\t簽單保費 \n",
    "# Replacement_cost_of_insured_vehicle\t重置成本\n",
    "# Distribution_Channel\t主通路代號 \n",
    "# Multiple_Products_with_TmNewa_(Yes_or_No?)\t同一車主前一年度非車險保單件數\n",
    "# lia_class\t車責本期級數 \n",
    "# plia_acc\t車責賠款係數 \n",
    "# pdmg_acc\t車體賠款係數 \n",
    "# fassured\t被保險人性質\n",
    "# ibirth\t出生日期 \n",
    "# fsex\t性別 \n",
    "# fmarriage\t婚姻狀況 \n",
    "# aassured_zip\t郵遞區號\n",
    "# iply_area\t承保地區代號(分公司) \n",
    "# dbirth\t要保人出生日期 \n",
    "# fequipment1\t配備-音響註記 \n",
    "# fequipment2\t配備-車箱註記 \n",
    "# fequipment3\t配備-冷凍機組註記 \n",
    "# fequipment4\t配備-車框、車斗註記 \n",
    "# fequipment5\t配備-昇降系統註記 \n",
    "# fequipment6\t配備-電動車電池註記\n",
    "# fequipment9\t配備-其他 \n",
    "# nequipment9\t配備-其他說明"
   ]
  }
 ],
 "metadata": {
  "kernelspec": {
   "display_name": "Python 3",
   "language": "python",
   "name": "python3"
  },
  "language_info": {
   "codemirror_mode": {
    "name": "ipython",
    "version": 3
   },
   "file_extension": ".py",
   "mimetype": "text/x-python",
   "name": "python",
   "nbconvert_exporter": "python",
   "pygments_lexer": "ipython3",
   "version": "3.6.4"
  }
 },
 "nbformat": 4,
 "nbformat_minor": 2
}
