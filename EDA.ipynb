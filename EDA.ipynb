{
 "cells": [
  {
   "cell_type": "code",
   "execution_count": 2,
   "metadata": {},
   "outputs": [],
   "source": [
    "import pandas as pd\n",
    "import numpy as np\n",
    "import matplotlib\n",
    "import matplotlib.pyplot as plt\n",
    "import math\n",
    "import numpy as np\n",
    "import datetime\n",
    "%matplotlib inline\n",
    "plt.rcParams['font.family'] = ['SimHei'] #  set font for chinese in matplotlib figure"
   ]
  },
  {
   "cell_type": "code",
   "execution_count": 3,
   "metadata": {},
   "outputs": [],
   "source": [
    "df_policy_raw = pd.read_csv('../Tbrain_Insurance/policy_claim/policy_0702.csv')\n",
    "df_claim_raw = pd.read_csv('../Tbrain_Insurance/policy_claim/claim_0702.csv')\n",
    "df_training_raw = pd.read_csv('../Tbrain_Insurance/training-set.csv')\n",
    "df_testing_raw = pd.read_csv('../Tbrain_Insurance/testing-set.csv')\n",
    "df_policy = df_policy_raw \n",
    "df_claim = df_claim_raw \n",
    "df_training = df_training_raw\n",
    "df_testing = df_testing_raw\n",
    "pd.set_option('display.max_columns', None)"
   ]
  },
  {
   "cell_type": "code",
   "execution_count": null,
   "metadata": {},
   "outputs": [],
   "source": [
    "# Policy_Number\t保單號碼 \n",
    "# Insured's_ID\t被保險人代號(替代值) \n",
    "# Prior_Policy_Number\t前保單號     almost == Cancellation =='Y'\n",
    "# Cancellation\t非繼承自前保單        almost match \"Prior_policy Number, only #12 w/o cancellation\n",
    "# Vehicle_identifier\t車牌號碼 \n",
    "# Vehicle_Make_and_Model1\t廠牌名稱一 \n",
    "# Vehicle_Make_and_Model2\t廠牌名稱二\n",
    "# Manafactured_Year_and_Month\t製造年份 \n",
    "# Engine_Displacement_(Cubic_Centimeter)\t排氣量 \n",
    "# Imported_or_Domestic_Car\t車系代號\n",
    "# Coding_of_Vehicle_Branding_&_Type\t廠牌車型代號\n",
    "# qpt\t乘載數量 \n",
    "# fpt\t乘載單位 \n",
    "# Main_Insurance_Coverage_Group\t險種分類 \n",
    "# Insurance_Coverage\t險種代碼\n",
    "# Insured_Amount1\t保額一 \n",
    "# Insured_Amount2\t保額二 \n",
    "# Insured_Amount3\t保額三\n",
    "# Coverage_Deductible_if_applied\t自負額 \n",
    "# Premium\t簽單保費 \n",
    "# Replacement_cost_of_insured_vehicle\t重置成本\n",
    "# Distribution_Channel\t主通路代號 \n",
    "# Multiple_Products_with_TmNewa_(Yes_or_No?)\t同一車主前一年度非車險保單件數\n",
    "# lia_class\t車責本期級數 \n",
    "# plia_acc\t車責賠款係數 \n",
    "# pdmg_acc\t車體賠款係數 \n",
    "# fassured\t被保險人性質\n",
    "# ibirth\t出生日期 \n",
    "# fsex\t性別 \n",
    "# fmarriage\t婚姻狀況 \n",
    "# aassured_zip\t郵遞區號\n",
    "# iply_area\t承保地區代號(分公司) \n",
    "# dbirth\t要保人出生日期 \n",
    "# fequipment1\t配備-音響註記 \n",
    "# fequipment2\t配備-車箱註記 \n",
    "# fequipment3\t配備-冷凍機組註記 \n",
    "# fequipment4\t配備-車框、車斗註記 \n",
    "# fequipment5\t配備-昇降系統註記 \n",
    "# fequipment6\t配備-電動車電池註記\n",
    "# fequipment9\t配備-其他 \n",
    "# nequipment9\t配備-其他說明"
   ]
  },
  {
   "cell_type": "code",
   "execution_count": 189,
   "metadata": {},
   "outputs": [],
   "source": [
    "# check null column\n",
    "# Prior_Policy_Number    328557\n",
    "# Vehicle_identifier           513\n",
    "# ibirth                              317765\n",
    "# fsex                               41945\n",
    "# fmarriage                      41945\n",
    "# dbirth                            258932\n",
    "nan_count = df_policy.isnull().sum()\n",
    "# nan_count[nan_count > 0]"
   ]
  },
  {
   "cell_type": "code",
   "execution_count": 8,
   "metadata": {
    "scrolled": true
   },
   "outputs": [
    {
     "data": {
      "text/plain": [
       "351273"
      ]
     },
     "execution_count": 8,
     "metadata": {},
     "output_type": "execute_result"
    }
   ],
   "source": [
    "# Policy File\n",
    "df_policy.shape # total count  (1747942, 41)\n",
    "df_policy['Policy_Number'].nunique() # 351273 unique value"
   ]
  },
  {
   "cell_type": "markdown",
   "metadata": {},
   "source": [
    "## Prior_Policy_Number"
   ]
  },
  {
   "cell_type": "code",
   "execution_count": 191,
   "metadata": {},
   "outputs": [
    {
     "data": {
      "text/html": [
       "<div>\n",
       "<style scoped>\n",
       "    .dataframe tbody tr th:only-of-type {\n",
       "        vertical-align: middle;\n",
       "    }\n",
       "\n",
       "    .dataframe tbody tr th {\n",
       "        vertical-align: top;\n",
       "    }\n",
       "\n",
       "    .dataframe thead th {\n",
       "        text-align: right;\n",
       "    }\n",
       "</style>\n",
       "<table border=\"1\" class=\"dataframe\">\n",
       "  <thead>\n",
       "    <tr style=\"text-align: right;\">\n",
       "      <th></th>\n",
       "      <th>Policy_Number</th>\n",
       "      <th>Insured's_ID</th>\n",
       "      <th>Prior_Policy_Number</th>\n",
       "      <th>Cancellation</th>\n",
       "      <th>Vehicle_identifier</th>\n",
       "      <th>Vehicle_Make_and_Model1</th>\n",
       "      <th>Vehicle_Make_and_Model2</th>\n",
       "      <th>Manafactured_Year_and_Month</th>\n",
       "      <th>Engine_Displacement_(Cubic_Centimeter)</th>\n",
       "      <th>Imported_or_Domestic_Car</th>\n",
       "      <th>Coding_of_Vehicle_Branding_&amp;_Type</th>\n",
       "      <th>qpt</th>\n",
       "      <th>fpt</th>\n",
       "      <th>Main_Insurance_Coverage_Group</th>\n",
       "      <th>Insurance_Coverage</th>\n",
       "      <th>Insured_Amount1</th>\n",
       "      <th>Insured_Amount2</th>\n",
       "      <th>Insured_Amount3</th>\n",
       "      <th>Coverage_Deductible_if_applied</th>\n",
       "      <th>Premium</th>\n",
       "      <th>Replacement_cost_of_insured_vehicle</th>\n",
       "      <th>Distribution_Channel</th>\n",
       "      <th>Multiple_Products_with_TmNewa_(Yes_or_No?)</th>\n",
       "      <th>lia_class</th>\n",
       "      <th>plia_acc</th>\n",
       "      <th>pdmg_acc</th>\n",
       "      <th>fassured</th>\n",
       "      <th>ibirth</th>\n",
       "      <th>fsex</th>\n",
       "      <th>fmarriage</th>\n",
       "      <th>aassured_zip</th>\n",
       "      <th>iply_area</th>\n",
       "      <th>dbirth</th>\n",
       "      <th>fequipment1</th>\n",
       "      <th>fequipment2</th>\n",
       "      <th>fequipment3</th>\n",
       "      <th>fequipment4</th>\n",
       "      <th>fequipment5</th>\n",
       "      <th>fequipment6</th>\n",
       "      <th>fequipment9</th>\n",
       "      <th>nequipment9</th>\n",
       "      <th>car</th>\n",
       "    </tr>\n",
       "  </thead>\n",
       "  <tbody>\n",
       "    <tr>\n",
       "      <th>58</th>\n",
       "      <td>88e2fb95af950a7b40eb2c8ad8fcf45626c65364</td>\n",
       "      <td>2828bbdbc3c3b5e0dde50792160df0aca99643469</td>\n",
       "      <td>NaN</td>\n",
       "      <td>Y</td>\n",
       "      <td>d1e0be6ed3b2a2dce38d3af8a286e0a1027be3f8</td>\n",
       "      <td>9e1816a8c2a63b7f96a82ce6487b2d43222750db</td>\n",
       "      <td>69948882b05c8a1da97a765a15cf088eeb16d298</td>\n",
       "      <td>2004</td>\n",
       "      <td>1781</td>\n",
       "      <td>10</td>\n",
       "      <td>4d51510e6b630677857b6b750a2d9e6d3c6159eb</td>\n",
       "      <td>5.0</td>\n",
       "      <td>P</td>\n",
       "      <td>竊盜</td>\n",
       "      <td>05N</td>\n",
       "      <td>0</td>\n",
       "      <td>0</td>\n",
       "      <td>48000</td>\n",
       "      <td>10</td>\n",
       "      <td>90</td>\n",
       "      <td>46.0</td>\n",
       "      <td>39005d92752d56310b3a357f42b57f304621689a</td>\n",
       "      <td>23.0</td>\n",
       "      <td>-1</td>\n",
       "      <td>-0.38</td>\n",
       "      <td>0.0</td>\n",
       "      <td>2</td>\n",
       "      <td>NaN</td>\n",
       "      <td></td>\n",
       "      <td></td>\n",
       "      <td>efa6e44dfa0145249be273ecd84a97f534b04920</td>\n",
       "      <td>356a192b7913b04c54574d18c28d46e6395428ab</td>\n",
       "      <td>NaN</td>\n",
       "      <td>0</td>\n",
       "      <td>0</td>\n",
       "      <td>0</td>\n",
       "      <td>0</td>\n",
       "      <td>0</td>\n",
       "      <td>0</td>\n",
       "      <td>0</td>\n",
       "      <td></td>\n",
       "      <td>1.0</td>\n",
       "    </tr>\n",
       "    <tr>\n",
       "      <th>59</th>\n",
       "      <td>88e2fb95af950a7b40eb2c8ad8fcf45626c65364</td>\n",
       "      <td>2828bbdbc3c3b5e0dde50792160df0aca99643469</td>\n",
       "      <td>NaN</td>\n",
       "      <td>Y</td>\n",
       "      <td>d1e0be6ed3b2a2dce38d3af8a286e0a1027be3f8</td>\n",
       "      <td>9e1816a8c2a63b7f96a82ce6487b2d43222750db</td>\n",
       "      <td>69948882b05c8a1da97a765a15cf088eeb16d298</td>\n",
       "      <td>2004</td>\n",
       "      <td>1781</td>\n",
       "      <td>10</td>\n",
       "      <td>4d51510e6b630677857b6b750a2d9e6d3c6159eb</td>\n",
       "      <td>5.0</td>\n",
       "      <td>P</td>\n",
       "      <td>車責</td>\n",
       "      <td>16G</td>\n",
       "      <td>3000000</td>\n",
       "      <td>0</td>\n",
       "      <td>6000000</td>\n",
       "      <td>0</td>\n",
       "      <td>1280</td>\n",
       "      <td>46.0</td>\n",
       "      <td>39005d92752d56310b3a357f42b57f304621689a</td>\n",
       "      <td>23.0</td>\n",
       "      <td>-1</td>\n",
       "      <td>-0.38</td>\n",
       "      <td>0.0</td>\n",
       "      <td>2</td>\n",
       "      <td>NaN</td>\n",
       "      <td></td>\n",
       "      <td></td>\n",
       "      <td>efa6e44dfa0145249be273ecd84a97f534b04920</td>\n",
       "      <td>356a192b7913b04c54574d18c28d46e6395428ab</td>\n",
       "      <td>NaN</td>\n",
       "      <td>0</td>\n",
       "      <td>0</td>\n",
       "      <td>0</td>\n",
       "      <td>0</td>\n",
       "      <td>0</td>\n",
       "      <td>0</td>\n",
       "      <td>0</td>\n",
       "      <td></td>\n",
       "      <td>1.0</td>\n",
       "    </tr>\n",
       "    <tr>\n",
       "      <th>60</th>\n",
       "      <td>88e2fb95af950a7b40eb2c8ad8fcf45626c65364</td>\n",
       "      <td>2828bbdbc3c3b5e0dde50792160df0aca99643469</td>\n",
       "      <td>NaN</td>\n",
       "      <td>Y</td>\n",
       "      <td>d1e0be6ed3b2a2dce38d3af8a286e0a1027be3f8</td>\n",
       "      <td>9e1816a8c2a63b7f96a82ce6487b2d43222750db</td>\n",
       "      <td>69948882b05c8a1da97a765a15cf088eeb16d298</td>\n",
       "      <td>2004</td>\n",
       "      <td>1781</td>\n",
       "      <td>10</td>\n",
       "      <td>4d51510e6b630677857b6b750a2d9e6d3c6159eb</td>\n",
       "      <td>5.0</td>\n",
       "      <td>P</td>\n",
       "      <td>車責</td>\n",
       "      <td>16P</td>\n",
       "      <td>0</td>\n",
       "      <td>0</td>\n",
       "      <td>500000</td>\n",
       "      <td>0</td>\n",
       "      <td>973</td>\n",
       "      <td>46.0</td>\n",
       "      <td>39005d92752d56310b3a357f42b57f304621689a</td>\n",
       "      <td>23.0</td>\n",
       "      <td>-1</td>\n",
       "      <td>-0.38</td>\n",
       "      <td>0.0</td>\n",
       "      <td>2</td>\n",
       "      <td>NaN</td>\n",
       "      <td></td>\n",
       "      <td></td>\n",
       "      <td>efa6e44dfa0145249be273ecd84a97f534b04920</td>\n",
       "      <td>356a192b7913b04c54574d18c28d46e6395428ab</td>\n",
       "      <td>NaN</td>\n",
       "      <td>0</td>\n",
       "      <td>0</td>\n",
       "      <td>0</td>\n",
       "      <td>0</td>\n",
       "      <td>0</td>\n",
       "      <td>0</td>\n",
       "      <td>0</td>\n",
       "      <td></td>\n",
       "      <td>1.0</td>\n",
       "    </tr>\n",
       "    <tr>\n",
       "      <th>61</th>\n",
       "      <td>88e2fb95af950a7b40eb2c8ad8fcf45626c65364</td>\n",
       "      <td>2828bbdbc3c3b5e0dde50792160df0aca99643469</td>\n",
       "      <td>NaN</td>\n",
       "      <td>Y</td>\n",
       "      <td>d1e0be6ed3b2a2dce38d3af8a286e0a1027be3f8</td>\n",
       "      <td>9e1816a8c2a63b7f96a82ce6487b2d43222750db</td>\n",
       "      <td>69948882b05c8a1da97a765a15cf088eeb16d298</td>\n",
       "      <td>2004</td>\n",
       "      <td>1781</td>\n",
       "      <td>10</td>\n",
       "      <td>4d51510e6b630677857b6b750a2d9e6d3c6159eb</td>\n",
       "      <td>5.0</td>\n",
       "      <td>P</td>\n",
       "      <td>車責</td>\n",
       "      <td>29B</td>\n",
       "      <td>0</td>\n",
       "      <td>3000000</td>\n",
       "      <td>12000000</td>\n",
       "      <td>0</td>\n",
       "      <td>887</td>\n",
       "      <td>46.0</td>\n",
       "      <td>39005d92752d56310b3a357f42b57f304621689a</td>\n",
       "      <td>23.0</td>\n",
       "      <td>-1</td>\n",
       "      <td>-0.38</td>\n",
       "      <td>0.0</td>\n",
       "      <td>2</td>\n",
       "      <td>NaN</td>\n",
       "      <td></td>\n",
       "      <td></td>\n",
       "      <td>efa6e44dfa0145249be273ecd84a97f534b04920</td>\n",
       "      <td>356a192b7913b04c54574d18c28d46e6395428ab</td>\n",
       "      <td>NaN</td>\n",
       "      <td>0</td>\n",
       "      <td>0</td>\n",
       "      <td>0</td>\n",
       "      <td>0</td>\n",
       "      <td>0</td>\n",
       "      <td>0</td>\n",
       "      <td>0</td>\n",
       "      <td></td>\n",
       "      <td>1.0</td>\n",
       "    </tr>\n",
       "    <tr>\n",
       "      <th>62</th>\n",
       "      <td>88e2fb95af950a7b40eb2c8ad8fcf45626c65364</td>\n",
       "      <td>2828bbdbc3c3b5e0dde50792160df0aca99643469</td>\n",
       "      <td>NaN</td>\n",
       "      <td>Y</td>\n",
       "      <td>d1e0be6ed3b2a2dce38d3af8a286e0a1027be3f8</td>\n",
       "      <td>9e1816a8c2a63b7f96a82ce6487b2d43222750db</td>\n",
       "      <td>69948882b05c8a1da97a765a15cf088eeb16d298</td>\n",
       "      <td>2004</td>\n",
       "      <td>1781</td>\n",
       "      <td>10</td>\n",
       "      <td>4d51510e6b630677857b6b750a2d9e6d3c6159eb</td>\n",
       "      <td>5.0</td>\n",
       "      <td>P</td>\n",
       "      <td>車責</td>\n",
       "      <td>29K</td>\n",
       "      <td>0</td>\n",
       "      <td>0</td>\n",
       "      <td>3000000</td>\n",
       "      <td>0</td>\n",
       "      <td>475</td>\n",
       "      <td>46.0</td>\n",
       "      <td>39005d92752d56310b3a357f42b57f304621689a</td>\n",
       "      <td>23.0</td>\n",
       "      <td>-1</td>\n",
       "      <td>-0.38</td>\n",
       "      <td>0.0</td>\n",
       "      <td>2</td>\n",
       "      <td>NaN</td>\n",
       "      <td></td>\n",
       "      <td></td>\n",
       "      <td>efa6e44dfa0145249be273ecd84a97f534b04920</td>\n",
       "      <td>356a192b7913b04c54574d18c28d46e6395428ab</td>\n",
       "      <td>NaN</td>\n",
       "      <td>0</td>\n",
       "      <td>0</td>\n",
       "      <td>0</td>\n",
       "      <td>0</td>\n",
       "      <td>0</td>\n",
       "      <td>0</td>\n",
       "      <td>0</td>\n",
       "      <td></td>\n",
       "      <td>1.0</td>\n",
       "    </tr>\n",
       "  </tbody>\n",
       "</table>\n",
       "</div>"
      ],
      "text/plain": [
       "                               Policy_Number  \\\n",
       "58  88e2fb95af950a7b40eb2c8ad8fcf45626c65364   \n",
       "59  88e2fb95af950a7b40eb2c8ad8fcf45626c65364   \n",
       "60  88e2fb95af950a7b40eb2c8ad8fcf45626c65364   \n",
       "61  88e2fb95af950a7b40eb2c8ad8fcf45626c65364   \n",
       "62  88e2fb95af950a7b40eb2c8ad8fcf45626c65364   \n",
       "\n",
       "                                 Insured's_ID Prior_Policy_Number  \\\n",
       "58  2828bbdbc3c3b5e0dde50792160df0aca99643469                 NaN   \n",
       "59  2828bbdbc3c3b5e0dde50792160df0aca99643469                 NaN   \n",
       "60  2828bbdbc3c3b5e0dde50792160df0aca99643469                 NaN   \n",
       "61  2828bbdbc3c3b5e0dde50792160df0aca99643469                 NaN   \n",
       "62  2828bbdbc3c3b5e0dde50792160df0aca99643469                 NaN   \n",
       "\n",
       "   Cancellation                        Vehicle_identifier  \\\n",
       "58            Y  d1e0be6ed3b2a2dce38d3af8a286e0a1027be3f8   \n",
       "59            Y  d1e0be6ed3b2a2dce38d3af8a286e0a1027be3f8   \n",
       "60            Y  d1e0be6ed3b2a2dce38d3af8a286e0a1027be3f8   \n",
       "61            Y  d1e0be6ed3b2a2dce38d3af8a286e0a1027be3f8   \n",
       "62            Y  d1e0be6ed3b2a2dce38d3af8a286e0a1027be3f8   \n",
       "\n",
       "                     Vehicle_Make_and_Model1  \\\n",
       "58  9e1816a8c2a63b7f96a82ce6487b2d43222750db   \n",
       "59  9e1816a8c2a63b7f96a82ce6487b2d43222750db   \n",
       "60  9e1816a8c2a63b7f96a82ce6487b2d43222750db   \n",
       "61  9e1816a8c2a63b7f96a82ce6487b2d43222750db   \n",
       "62  9e1816a8c2a63b7f96a82ce6487b2d43222750db   \n",
       "\n",
       "                     Vehicle_Make_and_Model2  Manafactured_Year_and_Month  \\\n",
       "58  69948882b05c8a1da97a765a15cf088eeb16d298                         2004   \n",
       "59  69948882b05c8a1da97a765a15cf088eeb16d298                         2004   \n",
       "60  69948882b05c8a1da97a765a15cf088eeb16d298                         2004   \n",
       "61  69948882b05c8a1da97a765a15cf088eeb16d298                         2004   \n",
       "62  69948882b05c8a1da97a765a15cf088eeb16d298                         2004   \n",
       "\n",
       "    Engine_Displacement_(Cubic_Centimeter)  Imported_or_Domestic_Car  \\\n",
       "58                                    1781                        10   \n",
       "59                                    1781                        10   \n",
       "60                                    1781                        10   \n",
       "61                                    1781                        10   \n",
       "62                                    1781                        10   \n",
       "\n",
       "           Coding_of_Vehicle_Branding_&_Type  qpt fpt  \\\n",
       "58  4d51510e6b630677857b6b750a2d9e6d3c6159eb  5.0   P   \n",
       "59  4d51510e6b630677857b6b750a2d9e6d3c6159eb  5.0   P   \n",
       "60  4d51510e6b630677857b6b750a2d9e6d3c6159eb  5.0   P   \n",
       "61  4d51510e6b630677857b6b750a2d9e6d3c6159eb  5.0   P   \n",
       "62  4d51510e6b630677857b6b750a2d9e6d3c6159eb  5.0   P   \n",
       "\n",
       "   Main_Insurance_Coverage_Group Insurance_Coverage  Insured_Amount1  \\\n",
       "58                            竊盜                05N                0   \n",
       "59                            車責                16G          3000000   \n",
       "60                            車責                16P                0   \n",
       "61                            車責                29B                0   \n",
       "62                            車責                29K                0   \n",
       "\n",
       "    Insured_Amount2  Insured_Amount3  Coverage_Deductible_if_applied  Premium  \\\n",
       "58                0            48000                              10       90   \n",
       "59                0          6000000                               0     1280   \n",
       "60                0           500000                               0      973   \n",
       "61          3000000         12000000                               0      887   \n",
       "62                0          3000000                               0      475   \n",
       "\n",
       "    Replacement_cost_of_insured_vehicle  \\\n",
       "58                                 46.0   \n",
       "59                                 46.0   \n",
       "60                                 46.0   \n",
       "61                                 46.0   \n",
       "62                                 46.0   \n",
       "\n",
       "                        Distribution_Channel  \\\n",
       "58  39005d92752d56310b3a357f42b57f304621689a   \n",
       "59  39005d92752d56310b3a357f42b57f304621689a   \n",
       "60  39005d92752d56310b3a357f42b57f304621689a   \n",
       "61  39005d92752d56310b3a357f42b57f304621689a   \n",
       "62  39005d92752d56310b3a357f42b57f304621689a   \n",
       "\n",
       "    Multiple_Products_with_TmNewa_(Yes_or_No?)  lia_class  plia_acc  pdmg_acc  \\\n",
       "58                                        23.0         -1     -0.38       0.0   \n",
       "59                                        23.0         -1     -0.38       0.0   \n",
       "60                                        23.0         -1     -0.38       0.0   \n",
       "61                                        23.0         -1     -0.38       0.0   \n",
       "62                                        23.0         -1     -0.38       0.0   \n",
       "\n",
       "    fassured ibirth fsex fmarriage                              aassured_zip  \\\n",
       "58         2    NaN                 efa6e44dfa0145249be273ecd84a97f534b04920   \n",
       "59         2    NaN                 efa6e44dfa0145249be273ecd84a97f534b04920   \n",
       "60         2    NaN                 efa6e44dfa0145249be273ecd84a97f534b04920   \n",
       "61         2    NaN                 efa6e44dfa0145249be273ecd84a97f534b04920   \n",
       "62         2    NaN                 efa6e44dfa0145249be273ecd84a97f534b04920   \n",
       "\n",
       "                                   iply_area dbirth  fequipment1  fequipment2  \\\n",
       "58  356a192b7913b04c54574d18c28d46e6395428ab    NaN            0            0   \n",
       "59  356a192b7913b04c54574d18c28d46e6395428ab    NaN            0            0   \n",
       "60  356a192b7913b04c54574d18c28d46e6395428ab    NaN            0            0   \n",
       "61  356a192b7913b04c54574d18c28d46e6395428ab    NaN            0            0   \n",
       "62  356a192b7913b04c54574d18c28d46e6395428ab    NaN            0            0   \n",
       "\n",
       "    fequipment3  fequipment4  fequipment5  fequipment6  fequipment9  \\\n",
       "58            0            0            0            0            0   \n",
       "59            0            0            0            0            0   \n",
       "60            0            0            0            0            0   \n",
       "61            0            0            0            0            0   \n",
       "62            0            0            0            0            0   \n",
       "\n",
       "   nequipment9  car  \n",
       "58              1.0  \n",
       "59              1.0  \n",
       "60              1.0  \n",
       "61              1.0  \n",
       "62              1.0  "
      ]
     },
     "execution_count": 191,
     "metadata": {},
     "output_type": "execute_result"
    }
   ],
   "source": [
    "# is null: not null =  328557 : 1419385\n",
    "df_policy[df_policy['Prior_Policy_Number'].isnull()].head()"
   ]
  },
  {
   "cell_type": "code",
   "execution_count": 22,
   "metadata": {},
   "outputs": [
    {
     "data": {
      "text/html": [
       "<div>\n",
       "<style scoped>\n",
       "    .dataframe tbody tr th:only-of-type {\n",
       "        vertical-align: middle;\n",
       "    }\n",
       "\n",
       "    .dataframe tbody tr th {\n",
       "        vertical-align: top;\n",
       "    }\n",
       "\n",
       "    .dataframe thead th {\n",
       "        text-align: right;\n",
       "    }\n",
       "</style>\n",
       "<table border=\"1\" class=\"dataframe\">\n",
       "  <thead>\n",
       "    <tr style=\"text-align: right;\">\n",
       "      <th></th>\n",
       "      <th>Manafactured_Year_and_Month</th>\n",
       "      <th>Engine_Displacement_(Cubic_Centimeter)</th>\n",
       "      <th>Imported_or_Domestic_Car</th>\n",
       "      <th>qpt</th>\n",
       "      <th>Insured_Amount1</th>\n",
       "      <th>Insured_Amount2</th>\n",
       "      <th>Insured_Amount3</th>\n",
       "      <th>Coverage_Deductible_if_applied</th>\n",
       "      <th>Premium</th>\n",
       "      <th>Replacement_cost_of_insured_vehicle</th>\n",
       "      <th>Multiple_Products_with_TmNewa_(Yes_or_No?)</th>\n",
       "      <th>lia_class</th>\n",
       "      <th>plia_acc</th>\n",
       "      <th>pdmg_acc</th>\n",
       "      <th>fassured</th>\n",
       "      <th>fequipment1</th>\n",
       "      <th>fequipment2</th>\n",
       "      <th>fequipment3</th>\n",
       "      <th>fequipment4</th>\n",
       "      <th>fequipment5</th>\n",
       "      <th>fequipment6</th>\n",
       "      <th>fequipment9</th>\n",
       "    </tr>\n",
       "  </thead>\n",
       "  <tbody>\n",
       "    <tr>\n",
       "      <th>Manafactured_Year_and_Month</th>\n",
       "      <td>1.000000</td>\n",
       "      <td>0.075239</td>\n",
       "      <td>0.110571</td>\n",
       "      <td>0.041561</td>\n",
       "      <td>-0.034131</td>\n",
       "      <td>0.003810</td>\n",
       "      <td>0.000533</td>\n",
       "      <td>0.019921</td>\n",
       "      <td>0.135912</td>\n",
       "      <td>0.144311</td>\n",
       "      <td>0.042537</td>\n",
       "      <td>0.211318</td>\n",
       "      <td>0.161191</td>\n",
       "      <td>-0.311562</td>\n",
       "      <td>0.076779</td>\n",
       "      <td>0.004514</td>\n",
       "      <td>0.004544</td>\n",
       "      <td>0.005178</td>\n",
       "      <td>NaN</td>\n",
       "      <td>0.002396</td>\n",
       "      <td>NaN</td>\n",
       "      <td>0.006594</td>\n",
       "    </tr>\n",
       "    <tr>\n",
       "      <th>Engine_Displacement_(Cubic_Centimeter)</th>\n",
       "      <td>0.075239</td>\n",
       "      <td>1.000000</td>\n",
       "      <td>0.292497</td>\n",
       "      <td>0.053299</td>\n",
       "      <td>0.017445</td>\n",
       "      <td>0.029710</td>\n",
       "      <td>0.025570</td>\n",
       "      <td>0.019811</td>\n",
       "      <td>0.109574</td>\n",
       "      <td>0.622069</td>\n",
       "      <td>0.008977</td>\n",
       "      <td>0.035519</td>\n",
       "      <td>0.034800</td>\n",
       "      <td>-0.108314</td>\n",
       "      <td>0.207278</td>\n",
       "      <td>-0.000112</td>\n",
       "      <td>0.000033</td>\n",
       "      <td>0.001358</td>\n",
       "      <td>NaN</td>\n",
       "      <td>0.001669</td>\n",
       "      <td>NaN</td>\n",
       "      <td>0.005600</td>\n",
       "    </tr>\n",
       "    <tr>\n",
       "      <th>Imported_or_Domestic_Car</th>\n",
       "      <td>0.110571</td>\n",
       "      <td>0.292497</td>\n",
       "      <td>1.000000</td>\n",
       "      <td>0.015569</td>\n",
       "      <td>0.007398</td>\n",
       "      <td>0.019067</td>\n",
       "      <td>0.021343</td>\n",
       "      <td>0.020701</td>\n",
       "      <td>0.096376</td>\n",
       "      <td>0.479211</td>\n",
       "      <td>-0.005012</td>\n",
       "      <td>0.034743</td>\n",
       "      <td>0.021117</td>\n",
       "      <td>-0.091039</td>\n",
       "      <td>0.022166</td>\n",
       "      <td>0.002605</td>\n",
       "      <td>-0.002115</td>\n",
       "      <td>-0.002432</td>\n",
       "      <td>NaN</td>\n",
       "      <td>-0.001201</td>\n",
       "      <td>NaN</td>\n",
       "      <td>0.003656</td>\n",
       "    </tr>\n",
       "    <tr>\n",
       "      <th>qpt</th>\n",
       "      <td>0.041561</td>\n",
       "      <td>0.053299</td>\n",
       "      <td>0.015569</td>\n",
       "      <td>1.000000</td>\n",
       "      <td>0.001374</td>\n",
       "      <td>0.002906</td>\n",
       "      <td>0.053581</td>\n",
       "      <td>0.002230</td>\n",
       "      <td>-0.013176</td>\n",
       "      <td>0.063478</td>\n",
       "      <td>0.004466</td>\n",
       "      <td>-0.071056</td>\n",
       "      <td>-0.070872</td>\n",
       "      <td>-0.023981</td>\n",
       "      <td>-0.163526</td>\n",
       "      <td>0.000056</td>\n",
       "      <td>-0.009884</td>\n",
       "      <td>-0.010635</td>\n",
       "      <td>NaN</td>\n",
       "      <td>0.000047</td>\n",
       "      <td>NaN</td>\n",
       "      <td>-0.000571</td>\n",
       "    </tr>\n",
       "    <tr>\n",
       "      <th>Insured_Amount1</th>\n",
       "      <td>-0.034131</td>\n",
       "      <td>0.017445</td>\n",
       "      <td>0.007398</td>\n",
       "      <td>0.001374</td>\n",
       "      <td>1.000000</td>\n",
       "      <td>0.019494</td>\n",
       "      <td>0.762060</td>\n",
       "      <td>-0.014474</td>\n",
       "      <td>0.043995</td>\n",
       "      <td>0.015943</td>\n",
       "      <td>0.003557</td>\n",
       "      <td>-0.026925</td>\n",
       "      <td>-0.022692</td>\n",
       "      <td>0.051928</td>\n",
       "      <td>-0.002078</td>\n",
       "      <td>-0.000334</td>\n",
       "      <td>-0.001308</td>\n",
       "      <td>-0.001530</td>\n",
       "      <td>NaN</td>\n",
       "      <td>0.001013</td>\n",
       "      <td>NaN</td>\n",
       "      <td>-0.001056</td>\n",
       "    </tr>\n",
       "    <tr>\n",
       "      <th>Insured_Amount2</th>\n",
       "      <td>0.003810</td>\n",
       "      <td>0.029710</td>\n",
       "      <td>0.019067</td>\n",
       "      <td>0.002906</td>\n",
       "      <td>0.019494</td>\n",
       "      <td>1.000000</td>\n",
       "      <td>0.211953</td>\n",
       "      <td>-0.009431</td>\n",
       "      <td>-0.061647</td>\n",
       "      <td>0.031660</td>\n",
       "      <td>0.007028</td>\n",
       "      <td>-0.006113</td>\n",
       "      <td>-0.004798</td>\n",
       "      <td>-0.002788</td>\n",
       "      <td>0.017363</td>\n",
       "      <td>-0.000614</td>\n",
       "      <td>0.000751</td>\n",
       "      <td>0.000331</td>\n",
       "      <td>NaN</td>\n",
       "      <td>0.000834</td>\n",
       "      <td>NaN</td>\n",
       "      <td>0.000251</td>\n",
       "    </tr>\n",
       "    <tr>\n",
       "      <th>Insured_Amount3</th>\n",
       "      <td>0.000533</td>\n",
       "      <td>0.025570</td>\n",
       "      <td>0.021343</td>\n",
       "      <td>0.053581</td>\n",
       "      <td>0.762060</td>\n",
       "      <td>0.211953</td>\n",
       "      <td>1.000000</td>\n",
       "      <td>-0.003178</td>\n",
       "      <td>0.030397</td>\n",
       "      <td>0.037819</td>\n",
       "      <td>0.002679</td>\n",
       "      <td>-0.024514</td>\n",
       "      <td>-0.021902</td>\n",
       "      <td>0.027779</td>\n",
       "      <td>-0.023333</td>\n",
       "      <td>0.000014</td>\n",
       "      <td>-0.001210</td>\n",
       "      <td>-0.001586</td>\n",
       "      <td>NaN</td>\n",
       "      <td>0.001424</td>\n",
       "      <td>NaN</td>\n",
       "      <td>-0.000386</td>\n",
       "    </tr>\n",
       "    <tr>\n",
       "      <th>Coverage_Deductible_if_applied</th>\n",
       "      <td>0.019921</td>\n",
       "      <td>0.019811</td>\n",
       "      <td>0.020701</td>\n",
       "      <td>0.002230</td>\n",
       "      <td>-0.014474</td>\n",
       "      <td>-0.009431</td>\n",
       "      <td>-0.003178</td>\n",
       "      <td>1.000000</td>\n",
       "      <td>0.064318</td>\n",
       "      <td>0.031177</td>\n",
       "      <td>-0.001163</td>\n",
       "      <td>0.006615</td>\n",
       "      <td>0.004938</td>\n",
       "      <td>-0.024160</td>\n",
       "      <td>0.009804</td>\n",
       "      <td>-0.000064</td>\n",
       "      <td>-0.000119</td>\n",
       "      <td>-0.000145</td>\n",
       "      <td>NaN</td>\n",
       "      <td>-0.000080</td>\n",
       "      <td>NaN</td>\n",
       "      <td>0.001502</td>\n",
       "    </tr>\n",
       "    <tr>\n",
       "      <th>Premium</th>\n",
       "      <td>0.135912</td>\n",
       "      <td>0.109574</td>\n",
       "      <td>0.096376</td>\n",
       "      <td>-0.013176</td>\n",
       "      <td>0.043995</td>\n",
       "      <td>-0.061647</td>\n",
       "      <td>0.030397</td>\n",
       "      <td>0.064318</td>\n",
       "      <td>1.000000</td>\n",
       "      <td>0.176416</td>\n",
       "      <td>0.009897</td>\n",
       "      <td>0.110849</td>\n",
       "      <td>0.102198</td>\n",
       "      <td>-0.037466</td>\n",
       "      <td>0.076516</td>\n",
       "      <td>-0.000865</td>\n",
       "      <td>-0.000272</td>\n",
       "      <td>-0.000578</td>\n",
       "      <td>NaN</td>\n",
       "      <td>-0.000602</td>\n",
       "      <td>NaN</td>\n",
       "      <td>-0.000023</td>\n",
       "    </tr>\n",
       "    <tr>\n",
       "      <th>Replacement_cost_of_insured_vehicle</th>\n",
       "      <td>0.144311</td>\n",
       "      <td>0.622069</td>\n",
       "      <td>0.479211</td>\n",
       "      <td>0.063478</td>\n",
       "      <td>0.015943</td>\n",
       "      <td>0.031660</td>\n",
       "      <td>0.037819</td>\n",
       "      <td>0.031177</td>\n",
       "      <td>0.176416</td>\n",
       "      <td>1.000000</td>\n",
       "      <td>0.009964</td>\n",
       "      <td>0.035913</td>\n",
       "      <td>0.023165</td>\n",
       "      <td>-0.114157</td>\n",
       "      <td>0.063263</td>\n",
       "      <td>0.003803</td>\n",
       "      <td>-0.001125</td>\n",
       "      <td>-0.001146</td>\n",
       "      <td>NaN</td>\n",
       "      <td>-0.000636</td>\n",
       "      <td>NaN</td>\n",
       "      <td>0.004537</td>\n",
       "    </tr>\n",
       "    <tr>\n",
       "      <th>Multiple_Products_with_TmNewa_(Yes_or_No?)</th>\n",
       "      <td>0.042537</td>\n",
       "      <td>0.008977</td>\n",
       "      <td>-0.005012</td>\n",
       "      <td>0.004466</td>\n",
       "      <td>0.003557</td>\n",
       "      <td>0.007028</td>\n",
       "      <td>0.002679</td>\n",
       "      <td>-0.001163</td>\n",
       "      <td>0.009897</td>\n",
       "      <td>0.009964</td>\n",
       "      <td>1.000000</td>\n",
       "      <td>0.037799</td>\n",
       "      <td>0.029308</td>\n",
       "      <td>0.006517</td>\n",
       "      <td>0.099997</td>\n",
       "      <td>-0.000119</td>\n",
       "      <td>-0.000209</td>\n",
       "      <td>-0.000240</td>\n",
       "      <td>NaN</td>\n",
       "      <td>-0.000118</td>\n",
       "      <td>NaN</td>\n",
       "      <td>0.003307</td>\n",
       "    </tr>\n",
       "    <tr>\n",
       "      <th>lia_class</th>\n",
       "      <td>0.211318</td>\n",
       "      <td>0.035519</td>\n",
       "      <td>0.034743</td>\n",
       "      <td>-0.071056</td>\n",
       "      <td>-0.026925</td>\n",
       "      <td>-0.006113</td>\n",
       "      <td>-0.024514</td>\n",
       "      <td>0.006615</td>\n",
       "      <td>0.110849</td>\n",
       "      <td>0.035913</td>\n",
       "      <td>0.037799</td>\n",
       "      <td>1.000000</td>\n",
       "      <td>0.924506</td>\n",
       "      <td>0.112316</td>\n",
       "      <td>0.189203</td>\n",
       "      <td>-0.001226</td>\n",
       "      <td>0.005487</td>\n",
       "      <td>0.005922</td>\n",
       "      <td>NaN</td>\n",
       "      <td>0.002786</td>\n",
       "      <td>NaN</td>\n",
       "      <td>0.004146</td>\n",
       "    </tr>\n",
       "    <tr>\n",
       "      <th>plia_acc</th>\n",
       "      <td>0.161191</td>\n",
       "      <td>0.034800</td>\n",
       "      <td>0.021117</td>\n",
       "      <td>-0.070872</td>\n",
       "      <td>-0.022692</td>\n",
       "      <td>-0.004798</td>\n",
       "      <td>-0.021902</td>\n",
       "      <td>0.004938</td>\n",
       "      <td>0.102198</td>\n",
       "      <td>0.023165</td>\n",
       "      <td>0.029308</td>\n",
       "      <td>0.924506</td>\n",
       "      <td>1.000000</td>\n",
       "      <td>0.105027</td>\n",
       "      <td>0.159261</td>\n",
       "      <td>-0.000986</td>\n",
       "      <td>0.004107</td>\n",
       "      <td>0.004324</td>\n",
       "      <td>NaN</td>\n",
       "      <td>0.001993</td>\n",
       "      <td>NaN</td>\n",
       "      <td>0.003423</td>\n",
       "    </tr>\n",
       "    <tr>\n",
       "      <th>pdmg_acc</th>\n",
       "      <td>-0.311562</td>\n",
       "      <td>-0.108314</td>\n",
       "      <td>-0.091039</td>\n",
       "      <td>-0.023981</td>\n",
       "      <td>0.051928</td>\n",
       "      <td>-0.002788</td>\n",
       "      <td>0.027779</td>\n",
       "      <td>-0.024160</td>\n",
       "      <td>-0.037466</td>\n",
       "      <td>-0.114157</td>\n",
       "      <td>0.006517</td>\n",
       "      <td>0.112316</td>\n",
       "      <td>0.105027</td>\n",
       "      <td>1.000000</td>\n",
       "      <td>-0.087737</td>\n",
       "      <td>-0.003760</td>\n",
       "      <td>0.002672</td>\n",
       "      <td>0.003072</td>\n",
       "      <td>NaN</td>\n",
       "      <td>-0.000474</td>\n",
       "      <td>NaN</td>\n",
       "      <td>-0.000585</td>\n",
       "    </tr>\n",
       "    <tr>\n",
       "      <th>fassured</th>\n",
       "      <td>0.076779</td>\n",
       "      <td>0.207278</td>\n",
       "      <td>0.022166</td>\n",
       "      <td>-0.163526</td>\n",
       "      <td>-0.002078</td>\n",
       "      <td>0.017363</td>\n",
       "      <td>-0.023333</td>\n",
       "      <td>0.009804</td>\n",
       "      <td>0.076516</td>\n",
       "      <td>0.063263</td>\n",
       "      <td>0.099997</td>\n",
       "      <td>0.189203</td>\n",
       "      <td>0.159261</td>\n",
       "      <td>-0.087737</td>\n",
       "      <td>1.000000</td>\n",
       "      <td>-0.001334</td>\n",
       "      <td>0.001134</td>\n",
       "      <td>0.001635</td>\n",
       "      <td>NaN</td>\n",
       "      <td>0.004974</td>\n",
       "      <td>NaN</td>\n",
       "      <td>0.005901</td>\n",
       "    </tr>\n",
       "    <tr>\n",
       "      <th>fequipment1</th>\n",
       "      <td>0.004514</td>\n",
       "      <td>-0.000112</td>\n",
       "      <td>0.002605</td>\n",
       "      <td>0.000056</td>\n",
       "      <td>-0.000334</td>\n",
       "      <td>-0.000614</td>\n",
       "      <td>0.000014</td>\n",
       "      <td>-0.000064</td>\n",
       "      <td>-0.000865</td>\n",
       "      <td>0.003803</td>\n",
       "      <td>-0.000119</td>\n",
       "      <td>-0.001226</td>\n",
       "      <td>-0.000986</td>\n",
       "      <td>-0.003760</td>\n",
       "      <td>-0.001334</td>\n",
       "      <td>1.000000</td>\n",
       "      <td>-0.000012</td>\n",
       "      <td>-0.000014</td>\n",
       "      <td>NaN</td>\n",
       "      <td>-0.000007</td>\n",
       "      <td>NaN</td>\n",
       "      <td>0.489973</td>\n",
       "    </tr>\n",
       "    <tr>\n",
       "      <th>fequipment2</th>\n",
       "      <td>0.004544</td>\n",
       "      <td>0.000033</td>\n",
       "      <td>-0.002115</td>\n",
       "      <td>-0.009884</td>\n",
       "      <td>-0.001308</td>\n",
       "      <td>0.000751</td>\n",
       "      <td>-0.001210</td>\n",
       "      <td>-0.000119</td>\n",
       "      <td>-0.000272</td>\n",
       "      <td>-0.001125</td>\n",
       "      <td>-0.000209</td>\n",
       "      <td>0.005487</td>\n",
       "      <td>0.004107</td>\n",
       "      <td>0.002672</td>\n",
       "      <td>0.001134</td>\n",
       "      <td>-0.000012</td>\n",
       "      <td>1.000000</td>\n",
       "      <td>0.869536</td>\n",
       "      <td>NaN</td>\n",
       "      <td>-0.000010</td>\n",
       "      <td>NaN</td>\n",
       "      <td>0.269394</td>\n",
       "    </tr>\n",
       "    <tr>\n",
       "      <th>fequipment3</th>\n",
       "      <td>0.005178</td>\n",
       "      <td>0.001358</td>\n",
       "      <td>-0.002432</td>\n",
       "      <td>-0.010635</td>\n",
       "      <td>-0.001530</td>\n",
       "      <td>0.000331</td>\n",
       "      <td>-0.001586</td>\n",
       "      <td>-0.000145</td>\n",
       "      <td>-0.000578</td>\n",
       "      <td>-0.001146</td>\n",
       "      <td>-0.000240</td>\n",
       "      <td>0.005922</td>\n",
       "      <td>0.004324</td>\n",
       "      <td>0.003072</td>\n",
       "      <td>0.001635</td>\n",
       "      <td>-0.000014</td>\n",
       "      <td>0.869536</td>\n",
       "      <td>1.000000</td>\n",
       "      <td>NaN</td>\n",
       "      <td>-0.000012</td>\n",
       "      <td>NaN</td>\n",
       "      <td>0.234244</td>\n",
       "    </tr>\n",
       "    <tr>\n",
       "      <th>fequipment4</th>\n",
       "      <td>NaN</td>\n",
       "      <td>NaN</td>\n",
       "      <td>NaN</td>\n",
       "      <td>NaN</td>\n",
       "      <td>NaN</td>\n",
       "      <td>NaN</td>\n",
       "      <td>NaN</td>\n",
       "      <td>NaN</td>\n",
       "      <td>NaN</td>\n",
       "      <td>NaN</td>\n",
       "      <td>NaN</td>\n",
       "      <td>NaN</td>\n",
       "      <td>NaN</td>\n",
       "      <td>NaN</td>\n",
       "      <td>NaN</td>\n",
       "      <td>NaN</td>\n",
       "      <td>NaN</td>\n",
       "      <td>NaN</td>\n",
       "      <td>NaN</td>\n",
       "      <td>NaN</td>\n",
       "      <td>NaN</td>\n",
       "      <td>NaN</td>\n",
       "    </tr>\n",
       "    <tr>\n",
       "      <th>fequipment5</th>\n",
       "      <td>0.002396</td>\n",
       "      <td>0.001669</td>\n",
       "      <td>-0.001201</td>\n",
       "      <td>0.000047</td>\n",
       "      <td>0.001013</td>\n",
       "      <td>0.000834</td>\n",
       "      <td>0.001424</td>\n",
       "      <td>-0.000080</td>\n",
       "      <td>-0.000602</td>\n",
       "      <td>-0.000636</td>\n",
       "      <td>-0.000118</td>\n",
       "      <td>0.002786</td>\n",
       "      <td>0.001993</td>\n",
       "      <td>-0.000474</td>\n",
       "      <td>0.004974</td>\n",
       "      <td>-0.000007</td>\n",
       "      <td>-0.000010</td>\n",
       "      <td>-0.000012</td>\n",
       "      <td>NaN</td>\n",
       "      <td>1.000000</td>\n",
       "      <td>NaN</td>\n",
       "      <td>-0.000011</td>\n",
       "    </tr>\n",
       "    <tr>\n",
       "      <th>fequipment6</th>\n",
       "      <td>NaN</td>\n",
       "      <td>NaN</td>\n",
       "      <td>NaN</td>\n",
       "      <td>NaN</td>\n",
       "      <td>NaN</td>\n",
       "      <td>NaN</td>\n",
       "      <td>NaN</td>\n",
       "      <td>NaN</td>\n",
       "      <td>NaN</td>\n",
       "      <td>NaN</td>\n",
       "      <td>NaN</td>\n",
       "      <td>NaN</td>\n",
       "      <td>NaN</td>\n",
       "      <td>NaN</td>\n",
       "      <td>NaN</td>\n",
       "      <td>NaN</td>\n",
       "      <td>NaN</td>\n",
       "      <td>NaN</td>\n",
       "      <td>NaN</td>\n",
       "      <td>NaN</td>\n",
       "      <td>NaN</td>\n",
       "      <td>NaN</td>\n",
       "    </tr>\n",
       "    <tr>\n",
       "      <th>fequipment9</th>\n",
       "      <td>0.006594</td>\n",
       "      <td>0.005600</td>\n",
       "      <td>0.003656</td>\n",
       "      <td>-0.000571</td>\n",
       "      <td>-0.001056</td>\n",
       "      <td>0.000251</td>\n",
       "      <td>-0.000386</td>\n",
       "      <td>0.001502</td>\n",
       "      <td>-0.000023</td>\n",
       "      <td>0.004537</td>\n",
       "      <td>0.003307</td>\n",
       "      <td>0.004146</td>\n",
       "      <td>0.003423</td>\n",
       "      <td>-0.000585</td>\n",
       "      <td>0.005901</td>\n",
       "      <td>0.489973</td>\n",
       "      <td>0.269394</td>\n",
       "      <td>0.234244</td>\n",
       "      <td>NaN</td>\n",
       "      <td>-0.000011</td>\n",
       "      <td>NaN</td>\n",
       "      <td>1.000000</td>\n",
       "    </tr>\n",
       "  </tbody>\n",
       "</table>\n",
       "</div>"
      ],
      "text/plain": [
       "                                            Manafactured_Year_and_Month  \\\n",
       "Manafactured_Year_and_Month                                    1.000000   \n",
       "Engine_Displacement_(Cubic_Centimeter)                         0.075239   \n",
       "Imported_or_Domestic_Car                                       0.110571   \n",
       "qpt                                                            0.041561   \n",
       "Insured_Amount1                                               -0.034131   \n",
       "Insured_Amount2                                                0.003810   \n",
       "Insured_Amount3                                                0.000533   \n",
       "Coverage_Deductible_if_applied                                 0.019921   \n",
       "Premium                                                        0.135912   \n",
       "Replacement_cost_of_insured_vehicle                            0.144311   \n",
       "Multiple_Products_with_TmNewa_(Yes_or_No?)                     0.042537   \n",
       "lia_class                                                      0.211318   \n",
       "plia_acc                                                       0.161191   \n",
       "pdmg_acc                                                      -0.311562   \n",
       "fassured                                                       0.076779   \n",
       "fequipment1                                                    0.004514   \n",
       "fequipment2                                                    0.004544   \n",
       "fequipment3                                                    0.005178   \n",
       "fequipment4                                                         NaN   \n",
       "fequipment5                                                    0.002396   \n",
       "fequipment6                                                         NaN   \n",
       "fequipment9                                                    0.006594   \n",
       "\n",
       "                                            Engine_Displacement_(Cubic_Centimeter)  \\\n",
       "Manafactured_Year_and_Month                                               0.075239   \n",
       "Engine_Displacement_(Cubic_Centimeter)                                    1.000000   \n",
       "Imported_or_Domestic_Car                                                  0.292497   \n",
       "qpt                                                                       0.053299   \n",
       "Insured_Amount1                                                           0.017445   \n",
       "Insured_Amount2                                                           0.029710   \n",
       "Insured_Amount3                                                           0.025570   \n",
       "Coverage_Deductible_if_applied                                            0.019811   \n",
       "Premium                                                                   0.109574   \n",
       "Replacement_cost_of_insured_vehicle                                       0.622069   \n",
       "Multiple_Products_with_TmNewa_(Yes_or_No?)                                0.008977   \n",
       "lia_class                                                                 0.035519   \n",
       "plia_acc                                                                  0.034800   \n",
       "pdmg_acc                                                                 -0.108314   \n",
       "fassured                                                                  0.207278   \n",
       "fequipment1                                                              -0.000112   \n",
       "fequipment2                                                               0.000033   \n",
       "fequipment3                                                               0.001358   \n",
       "fequipment4                                                                    NaN   \n",
       "fequipment5                                                               0.001669   \n",
       "fequipment6                                                                    NaN   \n",
       "fequipment9                                                               0.005600   \n",
       "\n",
       "                                            Imported_or_Domestic_Car  \\\n",
       "Manafactured_Year_and_Month                                 0.110571   \n",
       "Engine_Displacement_(Cubic_Centimeter)                      0.292497   \n",
       "Imported_or_Domestic_Car                                    1.000000   \n",
       "qpt                                                         0.015569   \n",
       "Insured_Amount1                                             0.007398   \n",
       "Insured_Amount2                                             0.019067   \n",
       "Insured_Amount3                                             0.021343   \n",
       "Coverage_Deductible_if_applied                              0.020701   \n",
       "Premium                                                     0.096376   \n",
       "Replacement_cost_of_insured_vehicle                         0.479211   \n",
       "Multiple_Products_with_TmNewa_(Yes_or_No?)                 -0.005012   \n",
       "lia_class                                                   0.034743   \n",
       "plia_acc                                                    0.021117   \n",
       "pdmg_acc                                                   -0.091039   \n",
       "fassured                                                    0.022166   \n",
       "fequipment1                                                 0.002605   \n",
       "fequipment2                                                -0.002115   \n",
       "fequipment3                                                -0.002432   \n",
       "fequipment4                                                      NaN   \n",
       "fequipment5                                                -0.001201   \n",
       "fequipment6                                                      NaN   \n",
       "fequipment9                                                 0.003656   \n",
       "\n",
       "                                                 qpt  Insured_Amount1  \\\n",
       "Manafactured_Year_and_Month                 0.041561        -0.034131   \n",
       "Engine_Displacement_(Cubic_Centimeter)      0.053299         0.017445   \n",
       "Imported_or_Domestic_Car                    0.015569         0.007398   \n",
       "qpt                                         1.000000         0.001374   \n",
       "Insured_Amount1                             0.001374         1.000000   \n",
       "Insured_Amount2                             0.002906         0.019494   \n",
       "Insured_Amount3                             0.053581         0.762060   \n",
       "Coverage_Deductible_if_applied              0.002230        -0.014474   \n",
       "Premium                                    -0.013176         0.043995   \n",
       "Replacement_cost_of_insured_vehicle         0.063478         0.015943   \n",
       "Multiple_Products_with_TmNewa_(Yes_or_No?)  0.004466         0.003557   \n",
       "lia_class                                  -0.071056        -0.026925   \n",
       "plia_acc                                   -0.070872        -0.022692   \n",
       "pdmg_acc                                   -0.023981         0.051928   \n",
       "fassured                                   -0.163526        -0.002078   \n",
       "fequipment1                                 0.000056        -0.000334   \n",
       "fequipment2                                -0.009884        -0.001308   \n",
       "fequipment3                                -0.010635        -0.001530   \n",
       "fequipment4                                      NaN              NaN   \n",
       "fequipment5                                 0.000047         0.001013   \n",
       "fequipment6                                      NaN              NaN   \n",
       "fequipment9                                -0.000571        -0.001056   \n",
       "\n",
       "                                            Insured_Amount2  Insured_Amount3  \\\n",
       "Manafactured_Year_and_Month                        0.003810         0.000533   \n",
       "Engine_Displacement_(Cubic_Centimeter)             0.029710         0.025570   \n",
       "Imported_or_Domestic_Car                           0.019067         0.021343   \n",
       "qpt                                                0.002906         0.053581   \n",
       "Insured_Amount1                                    0.019494         0.762060   \n",
       "Insured_Amount2                                    1.000000         0.211953   \n",
       "Insured_Amount3                                    0.211953         1.000000   \n",
       "Coverage_Deductible_if_applied                    -0.009431        -0.003178   \n",
       "Premium                                           -0.061647         0.030397   \n",
       "Replacement_cost_of_insured_vehicle                0.031660         0.037819   \n",
       "Multiple_Products_with_TmNewa_(Yes_or_No?)         0.007028         0.002679   \n",
       "lia_class                                         -0.006113        -0.024514   \n",
       "plia_acc                                          -0.004798        -0.021902   \n",
       "pdmg_acc                                          -0.002788         0.027779   \n",
       "fassured                                           0.017363        -0.023333   \n",
       "fequipment1                                       -0.000614         0.000014   \n",
       "fequipment2                                        0.000751        -0.001210   \n",
       "fequipment3                                        0.000331        -0.001586   \n",
       "fequipment4                                             NaN              NaN   \n",
       "fequipment5                                        0.000834         0.001424   \n",
       "fequipment6                                             NaN              NaN   \n",
       "fequipment9                                        0.000251        -0.000386   \n",
       "\n",
       "                                            Coverage_Deductible_if_applied  \\\n",
       "Manafactured_Year_and_Month                                       0.019921   \n",
       "Engine_Displacement_(Cubic_Centimeter)                            0.019811   \n",
       "Imported_or_Domestic_Car                                          0.020701   \n",
       "qpt                                                               0.002230   \n",
       "Insured_Amount1                                                  -0.014474   \n",
       "Insured_Amount2                                                  -0.009431   \n",
       "Insured_Amount3                                                  -0.003178   \n",
       "Coverage_Deductible_if_applied                                    1.000000   \n",
       "Premium                                                           0.064318   \n",
       "Replacement_cost_of_insured_vehicle                               0.031177   \n",
       "Multiple_Products_with_TmNewa_(Yes_or_No?)                       -0.001163   \n",
       "lia_class                                                         0.006615   \n",
       "plia_acc                                                          0.004938   \n",
       "pdmg_acc                                                         -0.024160   \n",
       "fassured                                                          0.009804   \n",
       "fequipment1                                                      -0.000064   \n",
       "fequipment2                                                      -0.000119   \n",
       "fequipment3                                                      -0.000145   \n",
       "fequipment4                                                            NaN   \n",
       "fequipment5                                                      -0.000080   \n",
       "fequipment6                                                            NaN   \n",
       "fequipment9                                                       0.001502   \n",
       "\n",
       "                                             Premium  \\\n",
       "Manafactured_Year_and_Month                 0.135912   \n",
       "Engine_Displacement_(Cubic_Centimeter)      0.109574   \n",
       "Imported_or_Domestic_Car                    0.096376   \n",
       "qpt                                        -0.013176   \n",
       "Insured_Amount1                             0.043995   \n",
       "Insured_Amount2                            -0.061647   \n",
       "Insured_Amount3                             0.030397   \n",
       "Coverage_Deductible_if_applied              0.064318   \n",
       "Premium                                     1.000000   \n",
       "Replacement_cost_of_insured_vehicle         0.176416   \n",
       "Multiple_Products_with_TmNewa_(Yes_or_No?)  0.009897   \n",
       "lia_class                                   0.110849   \n",
       "plia_acc                                    0.102198   \n",
       "pdmg_acc                                   -0.037466   \n",
       "fassured                                    0.076516   \n",
       "fequipment1                                -0.000865   \n",
       "fequipment2                                -0.000272   \n",
       "fequipment3                                -0.000578   \n",
       "fequipment4                                      NaN   \n",
       "fequipment5                                -0.000602   \n",
       "fequipment6                                      NaN   \n",
       "fequipment9                                -0.000023   \n",
       "\n",
       "                                            Replacement_cost_of_insured_vehicle  \\\n",
       "Manafactured_Year_and_Month                                            0.144311   \n",
       "Engine_Displacement_(Cubic_Centimeter)                                 0.622069   \n",
       "Imported_or_Domestic_Car                                               0.479211   \n",
       "qpt                                                                    0.063478   \n",
       "Insured_Amount1                                                        0.015943   \n",
       "Insured_Amount2                                                        0.031660   \n",
       "Insured_Amount3                                                        0.037819   \n",
       "Coverage_Deductible_if_applied                                         0.031177   \n",
       "Premium                                                                0.176416   \n",
       "Replacement_cost_of_insured_vehicle                                    1.000000   \n",
       "Multiple_Products_with_TmNewa_(Yes_or_No?)                             0.009964   \n",
       "lia_class                                                              0.035913   \n",
       "plia_acc                                                               0.023165   \n",
       "pdmg_acc                                                              -0.114157   \n",
       "fassured                                                               0.063263   \n",
       "fequipment1                                                            0.003803   \n",
       "fequipment2                                                           -0.001125   \n",
       "fequipment3                                                           -0.001146   \n",
       "fequipment4                                                                 NaN   \n",
       "fequipment5                                                           -0.000636   \n",
       "fequipment6                                                                 NaN   \n",
       "fequipment9                                                            0.004537   \n",
       "\n",
       "                                            Multiple_Products_with_TmNewa_(Yes_or_No?)  \\\n",
       "Manafactured_Year_and_Month                                                   0.042537   \n",
       "Engine_Displacement_(Cubic_Centimeter)                                        0.008977   \n",
       "Imported_or_Domestic_Car                                                     -0.005012   \n",
       "qpt                                                                           0.004466   \n",
       "Insured_Amount1                                                               0.003557   \n",
       "Insured_Amount2                                                               0.007028   \n",
       "Insured_Amount3                                                               0.002679   \n",
       "Coverage_Deductible_if_applied                                               -0.001163   \n",
       "Premium                                                                       0.009897   \n",
       "Replacement_cost_of_insured_vehicle                                           0.009964   \n",
       "Multiple_Products_with_TmNewa_(Yes_or_No?)                                    1.000000   \n",
       "lia_class                                                                     0.037799   \n",
       "plia_acc                                                                      0.029308   \n",
       "pdmg_acc                                                                      0.006517   \n",
       "fassured                                                                      0.099997   \n",
       "fequipment1                                                                  -0.000119   \n",
       "fequipment2                                                                  -0.000209   \n",
       "fequipment3                                                                  -0.000240   \n",
       "fequipment4                                                                        NaN   \n",
       "fequipment5                                                                  -0.000118   \n",
       "fequipment6                                                                        NaN   \n",
       "fequipment9                                                                   0.003307   \n",
       "\n",
       "                                            lia_class  plia_acc  pdmg_acc  \\\n",
       "Manafactured_Year_and_Month                  0.211318  0.161191 -0.311562   \n",
       "Engine_Displacement_(Cubic_Centimeter)       0.035519  0.034800 -0.108314   \n",
       "Imported_or_Domestic_Car                     0.034743  0.021117 -0.091039   \n",
       "qpt                                         -0.071056 -0.070872 -0.023981   \n",
       "Insured_Amount1                             -0.026925 -0.022692  0.051928   \n",
       "Insured_Amount2                             -0.006113 -0.004798 -0.002788   \n",
       "Insured_Amount3                             -0.024514 -0.021902  0.027779   \n",
       "Coverage_Deductible_if_applied               0.006615  0.004938 -0.024160   \n",
       "Premium                                      0.110849  0.102198 -0.037466   \n",
       "Replacement_cost_of_insured_vehicle          0.035913  0.023165 -0.114157   \n",
       "Multiple_Products_with_TmNewa_(Yes_or_No?)   0.037799  0.029308  0.006517   \n",
       "lia_class                                    1.000000  0.924506  0.112316   \n",
       "plia_acc                                     0.924506  1.000000  0.105027   \n",
       "pdmg_acc                                     0.112316  0.105027  1.000000   \n",
       "fassured                                     0.189203  0.159261 -0.087737   \n",
       "fequipment1                                 -0.001226 -0.000986 -0.003760   \n",
       "fequipment2                                  0.005487  0.004107  0.002672   \n",
       "fequipment3                                  0.005922  0.004324  0.003072   \n",
       "fequipment4                                       NaN       NaN       NaN   \n",
       "fequipment5                                  0.002786  0.001993 -0.000474   \n",
       "fequipment6                                       NaN       NaN       NaN   \n",
       "fequipment9                                  0.004146  0.003423 -0.000585   \n",
       "\n",
       "                                            fassured  fequipment1  \\\n",
       "Manafactured_Year_and_Month                 0.076779     0.004514   \n",
       "Engine_Displacement_(Cubic_Centimeter)      0.207278    -0.000112   \n",
       "Imported_or_Domestic_Car                    0.022166     0.002605   \n",
       "qpt                                        -0.163526     0.000056   \n",
       "Insured_Amount1                            -0.002078    -0.000334   \n",
       "Insured_Amount2                             0.017363    -0.000614   \n",
       "Insured_Amount3                            -0.023333     0.000014   \n",
       "Coverage_Deductible_if_applied              0.009804    -0.000064   \n",
       "Premium                                     0.076516    -0.000865   \n",
       "Replacement_cost_of_insured_vehicle         0.063263     0.003803   \n",
       "Multiple_Products_with_TmNewa_(Yes_or_No?)  0.099997    -0.000119   \n",
       "lia_class                                   0.189203    -0.001226   \n",
       "plia_acc                                    0.159261    -0.000986   \n",
       "pdmg_acc                                   -0.087737    -0.003760   \n",
       "fassured                                    1.000000    -0.001334   \n",
       "fequipment1                                -0.001334     1.000000   \n",
       "fequipment2                                 0.001134    -0.000012   \n",
       "fequipment3                                 0.001635    -0.000014   \n",
       "fequipment4                                      NaN          NaN   \n",
       "fequipment5                                 0.004974    -0.000007   \n",
       "fequipment6                                      NaN          NaN   \n",
       "fequipment9                                 0.005901     0.489973   \n",
       "\n",
       "                                            fequipment2  fequipment3  \\\n",
       "Manafactured_Year_and_Month                    0.004544     0.005178   \n",
       "Engine_Displacement_(Cubic_Centimeter)         0.000033     0.001358   \n",
       "Imported_or_Domestic_Car                      -0.002115    -0.002432   \n",
       "qpt                                           -0.009884    -0.010635   \n",
       "Insured_Amount1                               -0.001308    -0.001530   \n",
       "Insured_Amount2                                0.000751     0.000331   \n",
       "Insured_Amount3                               -0.001210    -0.001586   \n",
       "Coverage_Deductible_if_applied                -0.000119    -0.000145   \n",
       "Premium                                       -0.000272    -0.000578   \n",
       "Replacement_cost_of_insured_vehicle           -0.001125    -0.001146   \n",
       "Multiple_Products_with_TmNewa_(Yes_or_No?)    -0.000209    -0.000240   \n",
       "lia_class                                      0.005487     0.005922   \n",
       "plia_acc                                       0.004107     0.004324   \n",
       "pdmg_acc                                       0.002672     0.003072   \n",
       "fassured                                       0.001134     0.001635   \n",
       "fequipment1                                   -0.000012    -0.000014   \n",
       "fequipment2                                    1.000000     0.869536   \n",
       "fequipment3                                    0.869536     1.000000   \n",
       "fequipment4                                         NaN          NaN   \n",
       "fequipment5                                   -0.000010    -0.000012   \n",
       "fequipment6                                         NaN          NaN   \n",
       "fequipment9                                    0.269394     0.234244   \n",
       "\n",
       "                                            fequipment4  fequipment5  \\\n",
       "Manafactured_Year_and_Month                         NaN     0.002396   \n",
       "Engine_Displacement_(Cubic_Centimeter)              NaN     0.001669   \n",
       "Imported_or_Domestic_Car                            NaN    -0.001201   \n",
       "qpt                                                 NaN     0.000047   \n",
       "Insured_Amount1                                     NaN     0.001013   \n",
       "Insured_Amount2                                     NaN     0.000834   \n",
       "Insured_Amount3                                     NaN     0.001424   \n",
       "Coverage_Deductible_if_applied                      NaN    -0.000080   \n",
       "Premium                                             NaN    -0.000602   \n",
       "Replacement_cost_of_insured_vehicle                 NaN    -0.000636   \n",
       "Multiple_Products_with_TmNewa_(Yes_or_No?)          NaN    -0.000118   \n",
       "lia_class                                           NaN     0.002786   \n",
       "plia_acc                                            NaN     0.001993   \n",
       "pdmg_acc                                            NaN    -0.000474   \n",
       "fassured                                            NaN     0.004974   \n",
       "fequipment1                                         NaN    -0.000007   \n",
       "fequipment2                                         NaN    -0.000010   \n",
       "fequipment3                                         NaN    -0.000012   \n",
       "fequipment4                                         NaN          NaN   \n",
       "fequipment5                                         NaN     1.000000   \n",
       "fequipment6                                         NaN          NaN   \n",
       "fequipment9                                         NaN    -0.000011   \n",
       "\n",
       "                                            fequipment6  fequipment9  \n",
       "Manafactured_Year_and_Month                         NaN     0.006594  \n",
       "Engine_Displacement_(Cubic_Centimeter)              NaN     0.005600  \n",
       "Imported_or_Domestic_Car                            NaN     0.003656  \n",
       "qpt                                                 NaN    -0.000571  \n",
       "Insured_Amount1                                     NaN    -0.001056  \n",
       "Insured_Amount2                                     NaN     0.000251  \n",
       "Insured_Amount3                                     NaN    -0.000386  \n",
       "Coverage_Deductible_if_applied                      NaN     0.001502  \n",
       "Premium                                             NaN    -0.000023  \n",
       "Replacement_cost_of_insured_vehicle                 NaN     0.004537  \n",
       "Multiple_Products_with_TmNewa_(Yes_or_No?)          NaN     0.003307  \n",
       "lia_class                                           NaN     0.004146  \n",
       "plia_acc                                            NaN     0.003423  \n",
       "pdmg_acc                                            NaN    -0.000585  \n",
       "fassured                                            NaN     0.005901  \n",
       "fequipment1                                         NaN     0.489973  \n",
       "fequipment2                                         NaN     0.269394  \n",
       "fequipment3                                         NaN     0.234244  \n",
       "fequipment4                                         NaN          NaN  \n",
       "fequipment5                                         NaN    -0.000011  \n",
       "fequipment6                                         NaN          NaN  \n",
       "fequipment9                                         NaN     1.000000  "
      ]
     },
     "execution_count": 22,
     "metadata": {},
     "output_type": "execute_result"
    }
   ],
   "source": [
    "df_policy.corr()"
   ]
  },
  {
   "cell_type": "markdown",
   "metadata": {},
   "source": [
    "## Imported_or_Domestic_Car : 車系代號"
   ]
  },
  {
   "cell_type": "code",
   "execution_count": 69,
   "metadata": {},
   "outputs": [
    {
     "data": {
      "text/plain": [
       "<Container object of 10 artists>"
      ]
     },
     "execution_count": 69,
     "metadata": {},
     "output_type": "execute_result"
    },
    {
     "data": {
      "image/png": "[encoded data removed]",
      "text/plain": [
       "<matplotlib.figure.Figure at 0x110e28ef0>"
      ]
     },
     "metadata": {},
     "output_type": "display_data"
    }
   ],
   "source": [
    "# 10\t國產車 77%\n",
    "# 20\t美國車  1%\n",
    "# 21\t福特\n",
    "# 22\t通用\n",
    "# 23\t克萊斯勒\n",
    "# 24\t美規日車 1%\n",
    "# 30\t歐洲車 12.5%\n",
    "# 40\t日本車 7.7%\n",
    "# 50\t韓國車\n",
    "# 90\t其它\n",
    "\n",
    "# counts\n",
    "# df_car.groupby('Imported_or_Domestic_Car').count()\n",
    "# 10    1346381\n",
    "# 20      15375\n",
    "# 21        858\n",
    "# 22        207\n",
    "# 23         29\n",
    "# 24      14459\n",
    "# 30     218102\n",
    "# 40     134929\n",
    "# 50      12249\n",
    "# 90       5353\n",
    "\n",
    "car_types = sorted(df_policy['Imported_or_Domestic_Car'].unique()) # [10, 20, 21, 22, 23, 24, 30, 40, 50, 90]\n",
    "\n",
    "# for b in sorted(set(df_policy['Imported_or_Domestic_Car'])):\n",
    "#     print(b, \"  \", df_policy[df_policy['Imported_or_Domestic_Car'] == b].shape[0] / df_policy.shape[0] * 100, \"%\")\n",
    "plt.bar(car_types, df_car['Imported_or_Domestic_Car'].value_counts().sort_index().values)"
   ]
  },
  {
   "cell_type": "code",
   "execution_count": 84,
   "metadata": {},
   "outputs": [
    {
     "data": {
      "text/plain": [
       "<Container object of 6 artists>"
      ]
     },
     "execution_count": 84,
     "metadata": {},
     "output_type": "execute_result"
    },
    {
     "data": {
      "image/png": "[encoded data removed]",
      "text/plain": [
       "<matplotlib.figure.Figure at 0x118fd1710>"
      ]
     },
     "metadata": {},
     "output_type": "display_data"
    }
   ],
   "source": [
    "#  Imported_or_Domestic_Car 十位數\n",
    "df_car = df_policy[['Imported_or_Domestic_Car']].copy()\n",
    "df_car['car_types'] = (df_car['Imported_or_Domestic_Car'] /10).apply(np.floor)\n",
    "df_car['car_types'].value_counts().sort_index().values\n",
    "plt.bar(sorted(df_car['car_types'].unique()), df_car['car_types'].value_counts().sort_index())"
   ]
  },
  {
   "cell_type": "markdown",
   "metadata": {},
   "source": [
    "## Coverage_Deductible_if_applied (自負額) 類別參照:險種分類及自負額說明Sheet"
   ]
  },
  {
   "cell_type": "code",
   "execution_count": 134,
   "metadata": {},
   "outputs": [
    {
     "data": {
      "text/plain": [
       "<Container object of 53 artists>"
      ]
     },
     "execution_count": 134,
     "metadata": {},
     "output_type": "execute_result"
    },
    {
     "data": {
      "image/png": "[encoded data removed]",
      "text/plain": [
       "<matplotlib.figure.Figure at 0x11c6b7f28>"
      ]
     },
     "metadata": {},
     "output_type": "display_data"
    }
   ],
   "source": [
    "# Coverage_Deductible_if_applied(自負額) value counts\n",
    "\n",
    "# 0   : 90.25%\n",
    "# 10  : 6.4%\n",
    "# 100 : 1.77%\n",
    "# ...\n",
    "# ==\n",
    "# -100000          2\n",
    "# -50000           2\n",
    "# -35000           1\n",
    "# -30000           5\n",
    "# -22455          19\n",
    "# -20000          22\n",
    "# -15000           6\n",
    "# -12455          30\n",
    "# -10000          14\n",
    "# -8000            3\n",
    "# -5000           12\n",
    "# -3000            9\n",
    "# -255            26\n",
    "# -224             1\n",
    "# -155           136\n",
    "# -124             7\n",
    "# -100          1321\n",
    "# -70              4\n",
    "# -50              4\n",
    "# -40             18\n",
    "# -24              1\n",
    "# -20             45\n",
    "# -10           3760\n",
    "# -3               1\n",
    "# -2              98\n",
    "# -1             596\n",
    "#  0         1577591  90.25%\n",
    "#  1           12463\n",
    "#  2            1554\n",
    "#  3              13\n",
    "#  10         112069\n",
    "#  20           1115\n",
    "#  24             25\n",
    "#  40            233\n",
    "#  48              9\n",
    "#  50             81\n",
    "#  70             67\n",
    "#  100         30873\n",
    "#  124           232\n",
    "#  155          2487\n",
    "#  255           192\n",
    "#  3000          276\n",
    "#  5000          318\n",
    "#  7510            7\n",
    "#  8000           54\n",
    "#  10000         384\n",
    "#  12455         939\n",
    "#  15000         304\n",
    "#  20000         204\n",
    "#  22455          78\n",
    "#  30000         216\n",
    "#  50000          12\n",
    "#  100000          3\n",
    "Coverage_Deductible_if_applied_value_counts = df_policy['Coverage_Deductible_if_applied'].value_counts().sort_index()\n",
    "plt.bar(np.arange(len(Coverage_Deductible_if_applied_value_counts)), Coverage_Deductible_if_applied_value_counts.values)"
   ]
  },
  {
   "cell_type": "markdown",
   "metadata": {},
   "source": [
    "## Insurance_Coverage 險種代碼"
   ]
  },
  {
   "cell_type": "code",
   "execution_count": 138,
   "metadata": {},
   "outputs": [
    {
     "name": "stdout",
     "output_type": "stream",
     "text": [
      "00I   {0, 1, 2, 8000, 20000, -8000, 3, 10000, 30000, 15000, -3, -1}\n",
      "01A   {0}\n",
      "01J   {0}\n",
      "02K   {0, 1, 2, 3, 10000, 15000, 20000, 100000, 30000, -50000, 8000, -8000, -35000, 50000, -30000, -20000, -100000, -15000, -10000, -1, -2}\n",
      "03L   {0}\n",
      "04M   {0, -20000, 20000, 8000, 5000, -3000, 30000, 50000, 10000, -30000, -50000, 3000, 15000, -5000}\n",
      "05E   {0}\n",
      "05N   {0, 10, -20, 20, -10}\n",
      "06F   {0}\n",
      "07P   {0}\n",
      "08H   {0}\n",
      "09@   {0}\n",
      "09I   {7510}\n",
      "10A   {0, 10, 100, -10}\n",
      "12L   {0}\n",
      "14E   {0, 1, 100, 10, 20, -10, 155, 124}\n",
      "14N   {0, 10, 20, -10}\n",
      "15F   {0, 100, 70, 40, -50, 50, -40, -70, -100}\n",
      "15O   {-224, 1, 2, -255, -124, -155, 12455, -22455, -2, 22455, -12455, 155, 124, -1, 255}\n",
      "16G   {0, 10000, 5000}\n",
      "16P   {0, 10000, -5000, 5000}\n",
      "18@   {0}\n",
      "18I   {0}\n",
      "20B   {0}\n",
      "20K   {0}\n",
      "25G   {0}\n",
      "26H   {0}\n",
      "27I   {0}\n",
      "29B   {0}\n",
      "29K   {0, 1, 10}\n",
      "32N   {0, 24, 48}\n",
      "33F   {0, 24, 48}\n",
      "33O   {0, 24, 48, -24}\n",
      "34P   {0}\n",
      "35H   {0}\n",
      "36I   {0}\n",
      "37J   {10000, 30000}\n",
      "40M   {0}\n",
      "41E   {0}\n",
      "41N   {0}\n",
      "42F   {0}\n",
      "45@   {0}\n",
      "46A   {0}\n",
      "47B   {0}\n",
      "51O   {1, 2, -2, -1}\n",
      "55J   {0}\n",
      "56B   {0}\n",
      "56K   {0, 24, 48}\n",
      "57C   {0}\n",
      "57L   {0}\n",
      "65K   {-100, 50, 100}\n",
      "66C   {0}\n",
      "66L   {0}\n",
      "67D   {0}\n",
      "68E   {10}\n",
      "68N   {0}\n",
      "70G   {0}\n",
      "70P   {0}\n",
      "71H   {0}\n",
      "72@   {0}\n"
     ]
    }
   ],
   "source": [
    "# 險種代碼對應自負額\n",
    "for c in sorted(set(df_policy['Insurance_Coverage'])):\n",
    "    print(c,\" \", set(df_policy[df_policy['Insurance_Coverage'] == c]['Coverage_Deductible_if_applied']) )"
   ]
  },
  {
   "cell_type": "markdown",
   "metadata": {},
   "source": [
    "## Main_Insurance_Coverage_Group 險種分類"
   ]
  },
  {
   "cell_type": "code",
   "execution_count": null,
   "metadata": {},
   "outputs": [],
   "source": [
    "# 車責    1253120\n",
    "# 車損     318013\n",
    "# 竊盜     176809\n",
    "Main_Insurance_Coverage_Group_value_counts = df_policy['Main_Insurance_Coverage_Group'].value_counts()\n",
    "plt.bar(['車責', '車損', '竊盜'], df_policy['Main_Insurance_Coverage_Group'].value_counts().sort_values())\n",
    "df1 = df_policy[df_policy['Main_Insurance_Coverage_Group']=='車責']\n",
    "df2 = df_policy[df_policy['Main_Insurance_Coverage_Group']=='竊盜']\n",
    "df3 = df_policy[df_policy['Main_Insurance_Coverage_Group']=='車損']\n",
    "## 'lia_class'車責本期級數   分級1-19 新戶從4開始 出險（+3) 沒有出險 (-1)  \n",
    "## -1(55%) 0(7.6%) 要怎麼解釋？  \n",
    "\n",
    "# ----->\n",
    "# 解1: -1 0 都當作 1 解2: 當成調整項 +10% x lia_class\n",
    "\n",
    "col = 'lia_class'\n",
    "print('車責',df1[col].shape) #車責 (1253120,)\n",
    "print('竊盜',df2[col].shape) #竊盜 (176809,)\n",
    "print('車損',df3[col].shape) #車損 (318013,)\n",
    "# 車責本期級數\n",
    "print('車責', sorted(set(df1[col])))\n",
    "print('竊盜', sorted(set(df2[col])))\n",
    "print('車損', sorted(set(df3[col])))"
   ]
  },
  {
   "cell_type": "code",
   "execution_count": 172,
   "metadata": {},
   "outputs": [
    {
     "data": {
      "text/plain": [
       "'\\n(%)\\n-1  54.632198033707866 \\n0   7.66486848825332 \\n1   9.491189989785495 \\n2   8.888294816138917\\n3   7.6516215526046985\\n4   8.230975485188969\\n5   1.2548678498467825\\n6   0.8911357252298264\\n7   0.6505362614913177\\n8   0.2353326098059244\\n9   0.16678370786516852\\n10  0.09847420837589378\\n11  0.04365104698672114\\n12  0.0400600102145046\\n13  0.022902834525025534\\n14  0.010852911133810011\\n15  0.009576098059244127\\n16  0.007581077630234934\\n17  0.001995020429009193\\n18  0.0040698416751787534\\n19  0.0030324310520939736\\n'"
      ]
     },
     "execution_count": 172,
     "metadata": {},
     "output_type": "execute_result"
    },
    {
     "data": {
      "image/png": "[encoded data removed]",
      "text/plain": [
       "<matplotlib.figure.Figure at 0x122039780>"
      ]
     },
     "metadata": {},
     "output_type": "display_data"
    }
   ],
   "source": [
    "# 車責本期級數 in 險種分類\n",
    "lia_classes = ['車責', '車損', '竊盜']\n",
    "plt.figure(figsize=(10,5))\n",
    "for index, lia_class in enumerate(lia_classes):\n",
    "    lia_class_value_count = df_policy.loc[df_policy['Main_Insurance_Coverage_Group'] == lia_class, 'lia_class'].value_counts().sort_index()\n",
    "    plt.subplot(1,3,index+1)\n",
    "    plt.title(lia_class)\n",
    "    plt.bar(np.arange(len(lia_class_value_count)), lia_class_value_count)\n",
    "    \n",
    "#     for x in sorted(set(df1[col])):\n",
    "#         print(x, df1[df1['lia_class']== x].shape[0]/df1.shape[0]*100)  \n",
    "'''\n",
    "(%)\n",
    "-1  54.632198033707866 \n",
    "0   7.66486848825332 \n",
    "1   9.491189989785495 \n",
    "2   8.888294816138917\n",
    "3   7.6516215526046985\n",
    "4   8.230975485188969\n",
    "5   1.2548678498467825\n",
    "6   0.8911357252298264\n",
    "7   0.6505362614913177\n",
    "8   0.2353326098059244\n",
    "9   0.16678370786516852\n",
    "10  0.09847420837589378\n",
    "11  0.04365104698672114\n",
    "12  0.0400600102145046\n",
    "13  0.022902834525025534\n",
    "14  0.010852911133810011\n",
    "15  0.009576098059244127\n",
    "16  0.007581077630234934\n",
    "17  0.001995020429009193\n",
    "18  0.0040698416751787534\n",
    "19  0.0030324310520939736\n",
    "'''"
   ]
  },
  {
   "cell_type": "markdown",
   "metadata": {},
   "source": [
    "## pdmg_acc 車體賠款係數"
   ]
  },
  {
   "cell_type": "code",
   "execution_count": 176,
   "metadata": {},
   "outputs": [],
   "source": [
    "col = 'pdmg_acc'\n",
    "# print('車責', sorted(set(df1[col])))\n",
    "# print('竊盜', sorted(set(df2[col])))\n",
    "# print('車損', sorted(set(df3[col])))\n",
    "# 車責 [-0.6, -0.4, -0.2, 0.0, 0.2, 0.4, 0.6, 0.8, 1.0, 1.2, 1.6, 2.0, 4.0]\n",
    "# 竊盜 [-0.6, -0.4, -0.2, 0.0, 0.2, 0.4, 0.6, 0.8, 1.0, 1.2, 2.0, 4.0]\n",
    "# 車損 [-0.6, -0.4, -0.2, 0.0, 0.2, 0.4, 0.6, 0.8, 1.0, 1.2, 1.6, 2.0, 4.0]\n",
    "# 竊盜 無 1.6"
   ]
  },
  {
   "cell_type": "markdown",
   "metadata": {},
   "source": [
    "## lia_class 車責本期級數"
   ]
  },
  {
   "cell_type": "code",
   "execution_count": 143,
   "metadata": {},
   "outputs": [
    {
     "data": {
      "text/plain": [
       "<Container object of 21 artists>"
      ]
     },
     "execution_count": 143,
     "metadata": {},
     "output_type": "execute_result"
    },
    {
     "data": {
      "image/png": "[encoded data removed]",
      "text/plain": [
       "<matplotlib.figure.Figure at 0x119a978d0>"
      ]
     },
     "metadata": {},
     "output_type": "display_data"
    }
   ],
   "source": [
    "lia_class_value_count = df_policy['lia_class'].value_counts().sort_index()\n",
    "plt.bar(np.arange(len(lia_class_value_count)), lia_class_value_count)"
   ]
  },
  {
   "cell_type": "code",
   "execution_count": 177,
   "metadata": {},
   "outputs": [],
   "source": [
    "## Summary: \n",
    "# '''\n",
    "# 'Insured_Amount1'                             : all postive - >negative\n",
    "# 'Insured_Amount2'                             : all postive - >negative\n",
    "# 'Insured_Amount3'                             : all postive - >negative\n",
    "# 'Coverage_Deductible_if_applied'              : -100000 ~ 10000 -> take abs(Positive)\n",
    "# 'Premium'                                     : all postive - > remain\n",
    "# 'Replacement_cost_of_insured_vehicle'         : 1 ~ 8915  -> negative\n",
    "# 'lia_class'                                   : set {-1, 0, 1, 2, 3, 4, 5, 6, 7, 8, 9, 10, \n",
    "#                                                 11, 12, 13, 14, 15, 16, 17, 18, 19} >10 only 0.16%\n",
    "#                                                 convert to 1+ (x * 10%)\n",
    "\n",
    "# 'plia_acc'                                   : set [-0.38, -0.35, -0.3, -0.2, -0.1, 0.0, 0.1, 0.3, 0.5, 0.7, 0.9, \n",
    "#                                                     1.2, 1.5, 1.8, 2.1, 2.4, 2.8, 3.2, 3.7, 4.2, 4.7]\n",
    "#                                                convert to (1+x)%\n",
    "                                               \n",
    "# 'pdmg_acc'                                   : set {-0.6, -0.4, -0.2, 0, 0.2, 0.4, 0.6, 0.8, 1.0, 1.2, 1.6, 2.0, 4.0}\n",
    "#                                                  convert to (1+x)%                                            \n",
    "                                                \n",
    "# '''"
   ]
  },
  {
   "cell_type": "markdown",
   "metadata": {},
   "source": [
    "## ibirth 出生日期,  dbirth 要保人出生日期"
   ]
  },
  {
   "cell_type": "code",
   "execution_count": 193,
   "metadata": {},
   "outputs": [
    {
     "name": "stdout",
     "output_type": "stream",
     "text": [
      "0.8152427254451234\n",
      "0.039585409584528546\n",
      "0.18475727455487653\n"
     ]
    }
   ],
   "source": [
    "# null count\n",
    "# ibirth                              317765\n",
    "# dbirth                            258932\n",
    "driver = df_policy[['ibirth' , 'dbirth']]\n",
    "condition1 = driver['ibirth'].isnull()    # 18.2 %\n",
    "condition2 = driver['dbirth'].isnull()    # 14.8 %\n",
    "\n",
    "condition3 = driver['ibirth'].notnull()   \n",
    "condition4 = driver['dbirth'].notnull()   \n",
    "\n",
    "\n",
    "driver_0N= driver[condition3&condition4]  # both have values  (81.5%)\n",
    "driver_1N= driver[condition1^condition2]  # missing one (3.9%)\n",
    "driver_2N= driver[condition1|condition2]  # missing both (18.4%)\n",
    "\n",
    "# print(driver_0N.shape[0]/driver.shape[0])\n",
    "# print(driver_1N.shape[0]/driver.shape[0]) \n",
    "# print(driver_2N.shape[0]/driver.shape[0])"
   ]
  },
  {
   "cell_type": "code",
   "execution_count": 206,
   "metadata": {
    "scrolled": true
   },
   "outputs": [
    {
     "name": "stdout",
     "output_type": "stream",
     "text": [
      "ibirth    75794\n",
      "dbirth    75794\n",
      "dtype: int64\n"
     ]
    }
   ],
   "source": [
    "# ibirth != dbirth\n",
    "indiff = driver_0N[driver_0N['ibirth'] != driver_0N['dbirth']]\n",
    "print(indiff.count()) #75794"
   ]
  },
  {
   "cell_type": "code",
   "execution_count": 1,
   "metadata": {},
   "outputs": [],
   "source": [
    "# weired dates\n",
    "# 可參考 Accident_Date：出險日期\n",
    "# https://tbrain.trendmicro.com.tw/Discussion/Forum/4\n",
    "### dbirth has some weird date\n",
    "### check non-null data & sort\n",
    "\n",
    "# print(driver['dbirth'].notnull().sum()) # 1489010\n",
    "\n",
    "# a = df_policy[driver['dbirth'].notnull()]['dbirth']\n",
    "# b = sorted(a, key=lambda x: datetime.datetime.strptime(x, '%m/%Y'), reverse = True)\n",
    "# driver_0N.loc[:,'ibirth_date'] = driver_0N.loc[:,'ibirth'].apply(lambda x: datetime.datetime.strptime(x, '%m/%Y'))\n",
    "# driver_0N.loc[:,'dbirth_date'] = driver_0N.loc[:,'dbirth'].apply(lambda x: datetime.datetime.strptime(x, '%m/%Y'))"
   ]
  },
  {
   "cell_type": "code",
   "execution_count": 247,
   "metadata": {},
   "outputs": [
    {
     "data": {
      "text/plain": [
       "0"
      ]
     },
     "execution_count": 247,
     "metadata": {},
     "output_type": "execute_result"
    }
   ],
   "source": [
    "# len(driver_0N.loc[driver_0N['ibirth_date'] > datetime.datetime.now()]) # 0\n",
    "# len(driver_0N.loc[driver_0N['dbirth_date'] > datetime.datetime.now()]) # 60"
   ]
  },
  {
   "cell_type": "code",
   "execution_count": 241,
   "metadata": {
    "scrolled": true
   },
   "outputs": [
    {
     "data": {
      "text/plain": [
       "(datetime.datetime(2658, 9, 1, 0, 0), datetime.datetime(1912, 2, 1, 0, 0))"
      ]
     },
     "execution_count": 241,
     "metadata": {},
     "output_type": "execute_result"
    }
   ],
   "source": [
    "driver_0N['dbirth_date'].max(), driver_0N['dbirth_date'].min()  # max: 2658/9/1, min: 1912/2/1"
   ]
  },
  {
   "cell_type": "markdown",
   "metadata": {},
   "source": [
    "## fassured 被保險人性質\n",
    "1:國內自然人     1427579\n",
    "2:國內法人        317771\n",
    "3:國外自然人     2586\n",
    "4:國外法人\n",
    "5:自然人ID有誤 \n",
    "6:法人ID有誤       6"
   ]
  },
  {
   "cell_type": "code",
   "execution_count": 43,
   "metadata": {},
   "outputs": [
    {
     "data": {
      "text/plain": [
       "<matplotlib.axes._subplots.AxesSubplot at 0x116906358>"
      ]
     },
     "execution_count": 43,
     "metadata": {},
     "output_type": "execute_result"
    },
    {
     "data": {
      "image/png": "[encoded data removed]",
      "text/plain": [
       "<matplotlib.figure.Figure at 0x123f0f8d0>"
      ]
     },
     "metadata": {},
     "output_type": "display_data"
    }
   ],
   "source": [
    "df_policy['fassured'].value_counts().plot(kind='bar')"
   ]
  },
  {
   "attachments": {},
   "cell_type": "markdown",
   "metadata": {},
   "source": [
    "# Claim File\n",
    "\n",
    "(69613, 20)\n",
    "\n",
    "Claim_Number\t賠案號碼\n",
    "\n",
    "Nature_of_the_claim\t賠案性質\n",
    "\n",
    "Policy_Number\t保單號碼\n",
    "\n",
    "Driver's_Gender\t肇事駕駛性別\n",
    "\n",
    "Driver's_Relationship_with_Insured\t與被保險人關係\n",
    "\n",
    "DOB_of_Driver\t肇事駕駛出生日\n",
    "\n",
    "Marital_Status_of_Driver\t肇事駕駛婚姻\n",
    "\n",
    "Accident_Date\t出險日期\n",
    "\n",
    "Cause_of_Loss\t出險原因\n",
    "\n",
    "Paid_Loss_Amount\t已決賠款\n",
    "\n",
    "paid_Expenses_Amount\t已決費用\n",
    "\n",
    "Salvage_or_Subrogation?\t追償金額\n",
    "\n",
    "Coverage\t險種代號\n",
    "\n",
    "Vehicle_identifier\t車牌\n",
    "\n",
    "At_Fault?\t肇責比例\n",
    "\n",
    "Claim_Status_(close,_open,_reopen_etc)\t單一險種CLOSE\n",
    "\n",
    "Deductible\t自負額\n",
    "\n",
    "Accident_area\t出險地區\n",
    "\n",
    "number_of_claimants\t事故關係人人數\n",
    "\n",
    "Accident_Time\t出險時間"
   ]
  },
  {
   "cell_type": "markdown",
   "metadata": {},
   "source": [
    "# check Claim NAN"
   ]
  },
  {
   "cell_type": "code",
   "execution_count": 49,
   "metadata": {},
   "outputs": [],
   "source": [
    "df_claim.isnull().sum()\n",
    "# Vehicle_identifier: 298\n",
    "# At_Fault?: 39"
   ]
  },
  {
   "cell_type": "markdown",
   "metadata": {},
   "source": [
    "## Nature_of_the_claim 賠案性質"
   ]
  },
  {
   "cell_type": "code",
   "execution_count": 52,
   "metadata": {},
   "outputs": [
    {
     "data": {
      "text/plain": [
       "<matplotlib.axes._subplots.AxesSubplot at 0x124bca7f0>"
      ]
     },
     "execution_count": 52,
     "metadata": {},
     "output_type": "execute_result"
    },
    {
     "data": {
      "image/png": "[encoded data removed]",
      "text/plain": [
       "<matplotlib.figure.Figure at 0x124976978>"
      ]
     },
     "metadata": {},
     "output_type": "display_data"
    }
   ],
   "source": [
    "# 1: 賠償 63389\n",
    "# 2: 追償 6224\n",
    "df_claim['Nature_of_the_claim'].value_counts().plot(kind='bar')"
   ]
  },
  {
   "cell_type": "markdown",
   "metadata": {},
   "source": [
    "## Driver's_Gender 肇事駕駛性別"
   ]
  },
  {
   "cell_type": "code",
   "execution_count": 55,
   "metadata": {},
   "outputs": [
    {
     "data": {
      "text/plain": [
       "<matplotlib.axes._subplots.AxesSubplot at 0x124de9c88>"
      ]
     },
     "execution_count": 55,
     "metadata": {},
     "output_type": "execute_result"
    },
    {
     "data": {
      "image/png": "[encoded data removed]",
      "text/plain": [
       "<matplotlib.figure.Figure at 0x124e07cc0>"
      ]
     },
     "metadata": {},
     "output_type": "display_data"
    }
   ],
   "source": [
    "# 1: 男 49698\n",
    "# 2: 女 19915\n",
    "df_claim['Driver\\'s_Gender'].value_counts().plot(kind='bar')"
   ]
  },
  {
   "cell_type": "markdown",
   "metadata": {},
   "source": [
    "# Driver's_Relationship_with_Insured 與被保險人關係\n",
    "1:被保險人本人  30134\n",
    "2:被保險人親友 15074\n",
    "3:被保險人員工  8231\n",
    "4:租用被保險車輛  78\n",
    "5:其他,  10130\n",
    "6:配偶, 4654\n",
    "7:子女 1312"
   ]
  },
  {
   "cell_type": "code",
   "execution_count": 66,
   "metadata": {},
   "outputs": [
    {
     "data": {
      "text/plain": [
       "<matplotlib.axes._subplots.AxesSubplot at 0x125361be0>"
      ]
     },
     "execution_count": 66,
     "metadata": {},
     "output_type": "execute_result"
    },
    {
     "data": {
      "image/png": "[encoded data removed]",
      "text/plain": [
       "<matplotlib.figure.Figure at 0x12535bba8>"
      ]
     },
     "metadata": {},
     "output_type": "display_data"
    }
   ],
   "source": [
    "df_claim['Driver\\'s_Relationship_with_Insured'].value_counts().plot(kind='bar')"
   ]
  },
  {
   "cell_type": "markdown",
   "metadata": {},
   "source": [
    "# DOB_of_Driver 肇事駕駛生日"
   ]
  },
  {
   "cell_type": "code",
   "execution_count": 11,
   "metadata": {},
   "outputs": [
    {
     "data": {
      "text/plain": [
       "<matplotlib.axes._subplots.AxesSubplot at 0x11509fa20>"
      ]
     },
     "execution_count": 11,
     "metadata": {},
     "output_type": "execute_result"
    },
    {
     "data": {
      "image/png": "[encoded data removed]",
      "text/plain": [
       "<matplotlib.figure.Figure at 0x1150b86a0>"
      ]
     },
     "metadata": {},
     "output_type": "display_data"
    }
   ],
   "source": [
    "# 年紀分佈\n",
    "(2018 - df_claim['DOB_of_Driver'].apply(lambda x: datetime.datetime.strptime(x, '%m/%Y')).dt.year).value_counts().sort_index().plot(kind='bar')"
   ]
  },
  {
   "cell_type": "markdown",
   "metadata": {},
   "source": [
    "# Marital_Status_of_Driver 肇事駕駛婚姻\n",
    "1: 已婚 52481\n",
    "2: 未婚 17132"
   ]
  },
  {
   "cell_type": "code",
   "execution_count": 14,
   "metadata": {},
   "outputs": [
    {
     "data": {
      "text/plain": [
       "<matplotlib.axes._subplots.AxesSubplot at 0x11548c828>"
      ]
     },
     "execution_count": 14,
     "metadata": {},
     "output_type": "execute_result"
    },
    {
     "data": {
      "image/png": "[encoded data removed]",
      "text/plain": [
       "<matplotlib.figure.Figure at 0x11547d400>"
      ]
     },
     "metadata": {},
     "output_type": "display_data"
    }
   ],
   "source": [
    "df_claim['Marital_Status_of_Driver'].value_counts().plot(kind='bar')"
   ]
  },
  {
   "cell_type": "markdown",
   "metadata": {},
   "source": [
    "##  Accident_Date 出險日期"
   ]
  },
  {
   "cell_type": "code",
   "execution_count": 24,
   "metadata": {},
   "outputs": [
    {
     "data": {
      "text/plain": [
       "<matplotlib.axes._subplots.AxesSubplot at 0x115d00a58>"
      ]
     },
     "execution_count": 24,
     "metadata": {},
     "output_type": "execute_result"
    },
    {
     "data": {
      "image/png": "[encoded data removed]",
      "text/plain": [
       "<matplotlib.figure.Figure at 0x115c92668>"
      ]
     },
     "metadata": {},
     "output_type": "display_data"
    }
   ],
   "source": [
    "# 出險日期分佈 近<->遠\n",
    "((datetime.datetime.now() - df_claim['Accident_Date'].apply(lambda x: datetime.datetime.strptime(x, '%Y/%m'))) / np.timedelta64(1, 'M')).value_counts().sort_index().plot(kind='bar')"
   ]
  },
  {
   "cell_type": "markdown",
   "metadata": {},
   "source": [
    "## Cause_of_Loss 出險原因\n",
    "17 kinds"
   ]
  },
  {
   "cell_type": "code",
   "execution_count": null,
   "metadata": {},
   "outputs": [],
   "source": []
  },
  {
   "cell_type": "code",
   "execution_count": 27,
   "metadata": {},
   "outputs": [
    {
     "data": {
      "text/plain": [
       "<matplotlib.axes._subplots.AxesSubplot at 0x117459e48>"
      ]
     },
     "execution_count": 27,
     "metadata": {},
     "output_type": "execute_result"
    },
    {
     "data": {
      "image/png": "[encoded data removed]",
      "text/plain": [
       "<matplotlib.figure.Figure at 0x115503048>"
      ]
     },
     "metadata": {},
     "output_type": "display_data"
    }
   ],
   "source": [
    "df_claim['Cause_of_Loss'].value_counts().plot(kind='bar')"
   ]
  },
  {
   "cell_type": "markdown",
   "metadata": {},
   "source": [
    "# Paid_Loss_Amount 已決賠款"
   ]
  },
  {
   "cell_type": "code",
   "execution_count": 94,
   "metadata": {},
   "outputs": [
    {
     "data": {
      "text/plain": [
       "<matplotlib.axes._subplots.AxesSubplot at 0x15940c320>"
      ]
     },
     "execution_count": 94,
     "metadata": {},
     "output_type": "execute_result"
    },
    {
     "data": {
      "image/png": "[encoded data removed]",
      "text/plain": [
       "<matplotlib.figure.Figure at 0x159371320>"
      ]
     },
     "metadata": {},
     "output_type": "display_data"
    }
   ],
   "source": [
    "plt.subplot(1,2,1)\n",
    "df_claim['Paid_Loss_Amount'].hist()\n",
    "plt.subplot(1,2,2)\n",
    "df_claim[df_claim['Paid_Loss_Amount'] >= 1000000]['Paid_Loss_Amount'].hist()"
   ]
  },
  {
   "cell_type": "code",
   "execution_count": 95,
   "metadata": {},
   "outputs": [
    {
     "data": {
      "text/plain": [
       "<matplotlib.axes._subplots.AxesSubplot at 0x15d278a90>"
      ]
     },
     "execution_count": 95,
     "metadata": {},
     "output_type": "execute_result"
    },
    {
     "data": {
      "image/png": "[encoded data removed]",
      "text/plain": [
       "<matplotlib.figure.Figure at 0x1591f04e0>"
      ]
     },
     "metadata": {},
     "output_type": "display_data"
    }
   ],
   "source": [
    "# log(x+1)\n",
    "np.log(df_claim['Paid_Loss_Amount'] + 1).hist()"
   ]
  },
  {
   "cell_type": "markdown",
   "metadata": {},
   "source": [
    "# paid_Expenses_Amount 已決費用"
   ]
  },
  {
   "cell_type": "code",
   "execution_count": 99,
   "metadata": {},
   "outputs": [
    {
     "data": {
      "text/plain": [
       "<matplotlib.axes._subplots.AxesSubplot at 0x15d7767f0>"
      ]
     },
     "execution_count": 99,
     "metadata": {},
     "output_type": "execute_result"
    },
    {
     "data": {
      "image/png": "[encoded data removed]",
      "text/plain": [
       "<matplotlib.figure.Figure at 0x15d5e4d68>"
      ]
     },
     "metadata": {},
     "output_type": "display_data"
    }
   ],
   "source": [
    "plt.subplot(121)\n",
    "df_claim['paid_Expenses_Amount'].hist()\n",
    "plt.subplot(122)\n",
    "np.log(df_claim['paid_Expenses_Amount'] +1).hist() # log(x+1)"
   ]
  },
  {
   "cell_type": "code",
   "execution_count": 100,
   "metadata": {},
   "outputs": [
    {
     "data": {
      "text/plain": [
       "<matplotlib.axes._subplots.AxesSubplot at 0x15d8c7e48>"
      ]
     },
     "execution_count": 100,
     "metadata": {},
     "output_type": "execute_result"
    },
    {
     "data": {
      "image/png": "[encoded data removed]",
      "text/plain": [
       "<matplotlib.figure.Figure at 0x15d79d5c0>"
      ]
     },
     "metadata": {},
     "output_type": "display_data"
    }
   ],
   "source": [
    "# Salvage_or_Subrogation? 追償金額\n",
    "plt.subplot(121)\n",
    "df_claim['Salvage_or_Subrogation?'].hist()\n",
    "plt.subplot(122)\n",
    "np.log(df_claim['Salvage_or_Subrogation?'] +1).hist() # log(x+1)"
   ]
  },
  {
   "cell_type": "code",
   "execution_count": 104,
   "metadata": {},
   "outputs": [
    {
     "data": {
      "text/html": [
       "<div>\n",
       "<style scoped>\n",
       "    .dataframe tbody tr th:only-of-type {\n",
       "        vertical-align: middle;\n",
       "    }\n",
       "\n",
       "    .dataframe tbody tr th {\n",
       "        vertical-align: top;\n",
       "    }\n",
       "\n",
       "    .dataframe thead th {\n",
       "        text-align: right;\n",
       "    }\n",
       "</style>\n",
       "<table border=\"1\" class=\"dataframe\">\n",
       "  <thead>\n",
       "    <tr style=\"text-align: right;\">\n",
       "      <th></th>\n",
       "      <th>Paid_Loss_Amount</th>\n",
       "      <th>paid_Expenses_Amount</th>\n",
       "      <th>Salvage_or_Subrogation?</th>\n",
       "    </tr>\n",
       "  </thead>\n",
       "  <tbody>\n",
       "    <tr>\n",
       "      <th>0</th>\n",
       "      <td>56705</td>\n",
       "      <td>0</td>\n",
       "      <td>0</td>\n",
       "    </tr>\n",
       "    <tr>\n",
       "      <th>1</th>\n",
       "      <td>30000</td>\n",
       "      <td>700</td>\n",
       "      <td>0</td>\n",
       "    </tr>\n",
       "    <tr>\n",
       "      <th>2</th>\n",
       "      <td>1100</td>\n",
       "      <td>0</td>\n",
       "      <td>0</td>\n",
       "    </tr>\n",
       "    <tr>\n",
       "      <th>3</th>\n",
       "      <td>151795</td>\n",
       "      <td>700</td>\n",
       "      <td>0</td>\n",
       "    </tr>\n",
       "    <tr>\n",
       "      <th>4</th>\n",
       "      <td>0</td>\n",
       "      <td>0</td>\n",
       "      <td>0</td>\n",
       "    </tr>\n",
       "  </tbody>\n",
       "</table>\n",
       "</div>"
      ],
      "text/plain": [
       "   Paid_Loss_Amount  paid_Expenses_Amount  Salvage_or_Subrogation?\n",
       "0             56705                     0                        0\n",
       "1             30000                   700                        0\n",
       "2              1100                     0                        0\n",
       "3            151795                   700                        0\n",
       "4                 0                     0                        0"
      ]
     },
     "execution_count": 104,
     "metadata": {},
     "output_type": "execute_result"
    }
   ],
   "source": [
    "#已決賠款 已決費用 追償金額 \n",
    "#關係？\n",
    "df_claim[['Paid_Loss_Amount','paid_Expenses_Amount', 'Salvage_or_Subrogation?']].head()"
   ]
  },
  {
   "cell_type": "markdown",
   "metadata": {},
   "source": [
    "# Coverage 險種代號"
   ]
  },
  {
   "cell_type": "code",
   "execution_count": 111,
   "metadata": {},
   "outputs": [
    {
     "data": {
      "text/plain": [
       "<matplotlib.axes._subplots.AxesSubplot at 0x15dd8ac50>"
      ]
     },
     "execution_count": 111,
     "metadata": {},
     "output_type": "execute_result"
    },
    {
     "data": {
      "image/png": "[encoded data removed]",
      "text/plain": [
       "<matplotlib.figure.Figure at 0x15de4be80>"
      ]
     },
     "metadata": {},
     "output_type": "display_data"
    }
   ],
   "source": [
    "df_claim['Coverage'].value_counts().plot(kind='bar')"
   ]
  },
  {
   "cell_type": "markdown",
   "metadata": {},
   "source": [
    "# Vehicle_identifier 車牌"
   ]
  },
  {
   "cell_type": "code",
   "execution_count": 15,
   "metadata": {},
   "outputs": [
    {
     "data": {
      "text/plain": [
       "<matplotlib.axes._subplots.AxesSubplot at 0x1239646d8>"
      ]
     },
     "execution_count": 15,
     "metadata": {},
     "output_type": "execute_result"
    },
    {
     "data": {
      "image/png": "[encoded data removed]",
      "text/plain": [
       "<matplotlib.figure.Figure at 0x123986048>"
      ]
     },
     "metadata": {},
     "output_type": "display_data"
    }
   ],
   "source": [
    "# 車牌事故數 次數分佈\n",
    "df_claim['Vehicle_identifier'].value_counts().value_counts().plot(kind='bar')"
   ]
  },
  {
   "cell_type": "markdown",
   "metadata": {},
   "source": [
    "# At_Fault? 肇責比例"
   ]
  },
  {
   "cell_type": "code",
   "execution_count": 19,
   "metadata": {},
   "outputs": [
    {
     "data": {
      "text/plain": [
       "<matplotlib.axes._subplots.AxesSubplot at 0x123e79748>"
      ]
     },
     "execution_count": 19,
     "metadata": {},
     "output_type": "execute_result"
    },
    {
     "data": {
      "image/png": "[encoded data removed]",
      "text/plain": [
       "<matplotlib.figure.Figure at 0x123a05ef0>"
      ]
     },
     "metadata": {},
     "output_type": "display_data"
    }
   ],
   "source": [
    "# 肇事比例分佈\n",
    "df_claim['At_Fault?'].value_counts().plot(kind='bar')"
   ]
  },
  {
   "cell_type": "markdown",
   "metadata": {},
   "source": [
    "# Claim_Status_(close,_open,_reopen_etc) 單一險種CLOSE\n",
    "1.已經全部結案: 69604\n",
    "\n",
    "0.尚未全部結案: 9"
   ]
  },
  {
   "cell_type": "code",
   "execution_count": 24,
   "metadata": {},
   "outputs": [
    {
     "data": {
      "text/plain": [
       "1    69604\n",
       "0        9\n",
       "Name: Claim_Status_(close,_open,_reopen_etc), dtype: int64"
      ]
     },
     "execution_count": 24,
     "metadata": {},
     "output_type": "execute_result"
    }
   ],
   "source": [
    "df_claim['Claim_Status_(close,_open,_reopen_etc)'].value_counts()"
   ]
  },
  {
   "cell_type": "markdown",
   "metadata": {},
   "source": [
    "# Deductible 自負額\n",
    "0: 69163筆"
   ]
  },
  {
   "cell_type": "code",
   "execution_count": 63,
   "metadata": {},
   "outputs": [
    {
     "data": {
      "text/plain": [
       "<matplotlib.axes._subplots.AxesSubplot at 0x126696b70>"
      ]
     },
     "execution_count": 63,
     "metadata": {},
     "output_type": "execute_result"
    },
    {
     "data": {
      "image/png": "[encoded data removed]",
      "text/plain": [
       "<matplotlib.figure.Figure at 0x126b87470>"
      ]
     },
     "metadata": {},
     "output_type": "display_data"
    }
   ],
   "source": [
    "plt.subplot(1,3,1)\n",
    "df_claim['Deductible'].hist(bins=100)\n",
    "plt.subplot(1,3,2)\n",
    "df_claim[df_claim['Deductible'] > 0]['Deductible'].hist(bins=100)\n",
    "plt.subplot(1,3,3)\n",
    "np.log(df_claim[df_claim['Deductible'] > 0]['Deductible']).hist(bins=100)"
   ]
  },
  {
   "cell_type": "code",
   "execution_count": 46,
   "metadata": {},
   "outputs": [
    {
     "data": {
      "text/plain": [
       "count     69613.000000\n",
       "mean         53.604197\n",
       "std        1472.570564\n",
       "min           0.000000\n",
       "25%           0.000000\n",
       "50%           0.000000\n",
       "75%           0.000000\n",
       "max      209610.000000\n",
       "Name: Deductible, dtype: float64"
      ]
     },
     "execution_count": 46,
     "metadata": {},
     "output_type": "execute_result"
    }
   ],
   "source": [
    "df_claim['Deductible'].describe()"
   ]
  },
  {
   "cell_type": "markdown",
   "metadata": {},
   "source": [
    "# Accident_area 出險地區"
   ]
  },
  {
   "cell_type": "code",
   "execution_count": 66,
   "metadata": {},
   "outputs": [
    {
     "data": {
      "text/plain": [
       "<matplotlib.axes._subplots.AxesSubplot at 0x126e03240>"
      ]
     },
     "execution_count": 66,
     "metadata": {},
     "output_type": "execute_result"
    },
    {
     "data": {
      "image/png": "[encoded data removed]",
      "text/plain": [
       "<matplotlib.figure.Figure at 0x126651ba8>"
      ]
     },
     "metadata": {},
     "output_type": "display_data"
    }
   ],
   "source": [
    "df_claim['Accident_area'].value_counts().plot(kind='bar')"
   ]
  },
  {
   "cell_type": "markdown",
   "metadata": {},
   "source": [
    "# number_of_claimants 事故關係人人數"
   ]
  },
  {
   "cell_type": "code",
   "execution_count": 82,
   "metadata": {},
   "outputs": [
    {
     "data": {
      "text/plain": [
       "[<matplotlib.lines.Line2D at 0x12a3383c8>]"
      ]
     },
     "execution_count": 82,
     "metadata": {},
     "output_type": "execute_result"
    },
    {
     "data": {
      "image/png": "[encoded data removed]",
      "text/plain": [
       "<matplotlib.figure.Figure at 0x12a230390>"
      ]
     },
     "metadata": {},
     "output_type": "display_data"
    }
   ],
   "source": [
    "plt.subplot(121)\n",
    "df_claim['number_of_claimants'].value_counts().sort_index().plot(kind='bar') # value distribution\n",
    "plt.subplot(122)\n",
    "plt.plot(df_claim['number_of_claimants'].value_counts().sort_index().index.values) # y: raw number of claimants"
   ]
  },
  {
   "cell_type": "code",
   "execution_count": null,
   "metadata": {},
   "outputs": [],
   "source": [
    "# Accident_Time 出險時間"
   ]
  },
  {
   "cell_type": "code",
   "execution_count": 86,
   "metadata": {},
   "outputs": [
    {
     "data": {
      "text/plain": [
       "<matplotlib.axes._subplots.AxesSubplot at 0x1280d7860>"
      ]
     },
     "execution_count": 86,
     "metadata": {},
     "output_type": "execute_result"
    },
    {
     "data": {
      "image/png": "[encoded data removed]",
      "text/plain": [
       "<matplotlib.figure.Figure at 0x129fbc940>"
      ]
     },
     "metadata": {},
     "output_type": "display_data"
    }
   ],
   "source": [
    "# .apply(lambda x: datetime.datetime.strptime(x, '%m/%Y'))\n",
    "plt\n",
    "df_claim['Accident_Time'].value_counts().sort_index().plot(kind='bar')"
   ]
  },
  {
   "cell_type": "code",
   "execution_count": null,
   "metadata": {},
   "outputs": [],
   "source": []
  }
 ],
 "metadata": {
  "kernelspec": {
   "display_name": "Python 3",
   "language": "python",
   "name": "python3"
  },
  "language_info": {
   "codemirror_mode": {
    "name": "ipython",
    "version": 3
   },
   "file_extension": ".py",
   "mimetype": "text/x-python",
   "name": "python",
   "nbconvert_exporter": "python",
   "pygments_lexer": "ipython3",
   "version": "3.6.4"
  }
 },
 "nbformat": 4,
 "nbformat_minor": 2
}
